{
 "cells": [
  {
   "cell_type": "markdown",
   "metadata": {
    "collapsed": true,
    "pycharm": {
     "name": "#%% md\n"
    }
   },
   "source": []
  },
  {
   "cell_type": "code",
   "execution_count": 170,
   "outputs": [],
   "source": [
    "import pandas as pd\n",
    "import numpy as np\n",
    "from matplotlib import pyplot as plt\n",
    "from sklearn.metrics import accuracy_score, confusion_matrix\n",
    "\n",
    "import gd as gd\n",
    "import math\n",
    "from random import randint\n",
    "from sklearn.ensemble import IsolationForest\n",
    "from sklearn.model_selection import train_test_split\n",
    "from scipy.io.arff import loadarff"
   ],
   "metadata": {
    "collapsed": false,
    "pycharm": {
     "name": "#%%\n"
    }
   }
  },
  {
   "cell_type": "markdown",
   "source": [],
   "metadata": {
    "collapsed": false,
    "pycharm": {
     "name": "#%% md\n"
    }
   }
  },
  {
   "cell_type": "code",
   "execution_count": 171,
   "outputs": [
    {
     "data": {
      "text/plain": "         A        B\n0  46.7651  32.1584\n1  49.6412  22.0491\n2  51.9133  40.4464\n3  19.9650  54.7373\n4  84.7261  28.6361",
      "text/html": "<div>\n<style scoped>\n    .dataframe tbody tr th:only-of-type {\n        vertical-align: middle;\n    }\n\n    .dataframe tbody tr th {\n        vertical-align: top;\n    }\n\n    .dataframe thead th {\n        text-align: right;\n    }\n</style>\n<table border=\"1\" class=\"dataframe\">\n  <thead>\n    <tr style=\"text-align: right;\">\n      <th></th>\n      <th>A</th>\n      <th>B</th>\n    </tr>\n  </thead>\n  <tbody>\n    <tr>\n      <th>0</th>\n      <td>46.7651</td>\n      <td>32.1584</td>\n    </tr>\n    <tr>\n      <th>1</th>\n      <td>49.6412</td>\n      <td>22.0491</td>\n    </tr>\n    <tr>\n      <th>2</th>\n      <td>51.9133</td>\n      <td>40.4464</td>\n    </tr>\n    <tr>\n      <th>3</th>\n      <td>19.9650</td>\n      <td>54.7373</td>\n    </tr>\n    <tr>\n      <th>4</th>\n      <td>84.7261</td>\n      <td>28.6361</td>\n    </tr>\n  </tbody>\n</table>\n</div>"
     },
     "execution_count": 171,
     "metadata": {},
     "output_type": "execute_result"
    }
   ],
   "source": [
    "DEVIATION_BITS = 2\n",
    "DATA = \"data/Glass/Glass_withoutdupl_norm.arff\"\n",
    "COLUMNS = ['A', 'B']\n",
    "SAMPLE_SIZE = 100\n",
    "MULTIPLIER = 100\n",
    "MAX_ERROR_MARGIN = 0\n",
    "\n",
    "data = loadarff(DATA)\n",
    "df = pd.DataFrame(data[0])\n",
    "df = df.rename(columns={'var_0000': 'A', 'var_0001': 'B', 'var_0002': 'C', 'var_0003': 'D', 'var_0004': 'E', 'var_0005': 'F', 'var_0006': 'G'})\n",
    "\n",
    "y = pd.Series(np.where(df.outlier.values == b'yes', -1, 1),\n",
    "          df.index)\n",
    "X = df[COLUMNS]\n",
    "X_int = X * MULTIPLIER\n",
    "X_int.head()"
   ],
   "metadata": {
    "collapsed": false,
    "pycharm": {
     "name": "#%%\n"
    }
   }
  },
  {
   "cell_type": "markdown",
   "source": [
    "## Perform Generalized Deduplication"
   ],
   "metadata": {
    "collapsed": false
   }
  },
  {
   "cell_type": "code",
   "execution_count": 172,
   "outputs": [
    {
     "data": {
      "text/plain": "<AxesSubplot:ylabel='Density'>"
     },
     "execution_count": 172,
     "metadata": {},
     "output_type": "execute_result"
    },
    {
     "data": {
      "text/plain": "<Figure size 432x288 with 1 Axes>",
      "image/png": "[encoded data removed]"
     },
     "metadata": {
      "needs_background": "light"
     },
     "output_type": "display_data"
    }
   ],
   "source": [
    "X_bases = X_int.apply(lambda x: gd.compress_int_array(x, deviation_bits=DEVIATION_BITS, output=\"integer\"), axis = 1)\n",
    "X_bases = pd.DataFrame(pd.DataFrame(X_bases)[0].to_list(), columns=COLUMNS)\n",
    "X_bases.plot.density()"
   ],
   "metadata": {
    "collapsed": false,
    "pycharm": {
     "name": "#%%\n"
    }
   }
  },
  {
   "cell_type": "markdown",
   "source": [
    "## Isolation Forest"
   ],
   "metadata": {
    "collapsed": false,
    "pycharm": {
     "name": "#%% md\n"
    }
   }
  },
  {
   "cell_type": "code",
   "execution_count": 173,
   "outputs": [
    {
     "data": {
      "text/plain": "      0   1         0\n0    40  28  0.064409\n1    48  40  0.135980\n2    48  36  0.131780\n3    64  60 -0.025713\n4    48  48  0.085843\n..   ..  ..       ...\n138  48  36  0.131780\n139  52  36  0.089972\n140  56  36  0.047334\n141  32  56  0.006541\n142  80  88 -0.221895\n\n[143 rows x 3 columns]",
      "text/html": "<div>\n<style scoped>\n    .dataframe tbody tr th:only-of-type {\n        vertical-align: middle;\n    }\n\n    .dataframe tbody tr th {\n        vertical-align: top;\n    }\n\n    .dataframe thead th {\n        text-align: right;\n    }\n</style>\n<table border=\"1\" class=\"dataframe\">\n  <thead>\n    <tr style=\"text-align: right;\">\n      <th></th>\n      <th>0</th>\n      <th>1</th>\n      <th>0</th>\n    </tr>\n  </thead>\n  <tbody>\n    <tr>\n      <th>0</th>\n      <td>40</td>\n      <td>28</td>\n      <td>0.064409</td>\n    </tr>\n    <tr>\n      <th>1</th>\n      <td>48</td>\n      <td>40</td>\n      <td>0.135980</td>\n    </tr>\n    <tr>\n      <th>2</th>\n      <td>48</td>\n      <td>36</td>\n      <td>0.131780</td>\n    </tr>\n    <tr>\n      <th>3</th>\n      <td>64</td>\n      <td>60</td>\n      <td>-0.025713</td>\n    </tr>\n    <tr>\n      <th>4</th>\n      <td>48</td>\n      <td>48</td>\n      <td>0.085843</td>\n    </tr>\n    <tr>\n      <th>...</th>\n      <td>...</td>\n      <td>...</td>\n      <td>...</td>\n    </tr>\n    <tr>\n      <th>138</th>\n      <td>48</td>\n      <td>36</td>\n      <td>0.131780</td>\n    </tr>\n    <tr>\n      <th>139</th>\n      <td>52</td>\n      <td>36</td>\n      <td>0.089972</td>\n    </tr>\n    <tr>\n      <th>140</th>\n      <td>56</td>\n      <td>36</td>\n      <td>0.047334</td>\n    </tr>\n    <tr>\n      <th>141</th>\n      <td>32</td>\n      <td>56</td>\n      <td>0.006541</td>\n    </tr>\n    <tr>\n      <th>142</th>\n      <td>80</td>\n      <td>88</td>\n      <td>-0.221895</td>\n    </tr>\n  </tbody>\n</table>\n<p>143 rows × 3 columns</p>\n</div>"
     },
     "execution_count": 173,
     "metadata": {},
     "output_type": "execute_result"
    }
   ],
   "source": [
    "rng = np.random.RandomState(42)\n",
    "\n",
    "outliers = y.where(lambda x: x == -1).dropna()\n",
    "outlier_indices = outliers.index\n",
    "X_outliers = X_bases.filter(items=outlier_indices, axis=0)\n",
    "X_outliers = np.array(X_outliers)\n",
    "\n",
    "X = np.array(X_bases)\n",
    "y = np.array(y)\n",
    "\n",
    "X_train, X_test, y_train, y_test = train_test_split(X, y, test_size=0.33, random_state=rng)\n",
    "\n",
    "clf = IsolationForest(max_samples=100, random_state=rng)\n",
    "clf.fit(X_train)\n",
    "dec_function = clf.decision_function(X_train)\n",
    "pd.concat([pd.DataFrame(X_train),pd.DataFrame(dec_function)], axis=1)"
   ],
   "metadata": {
    "collapsed": false,
    "pycharm": {
     "name": "#%%\n"
    }
   }
  },
  {
   "cell_type": "code",
   "execution_count": 174,
   "outputs": [
    {
     "data": {
      "text/plain": "array([[ 0,  1],\n       [18, 52]])"
     },
     "execution_count": 174,
     "metadata": {},
     "output_type": "execute_result"
    }
   ],
   "source": [
    "y_pred_train = clf.predict(X_train)\n",
    "y_pred_test = clf.predict(X_test)\n",
    "confusion_matrix(y_test, y_pred_test)"
   ],
   "metadata": {
    "collapsed": false,
    "pycharm": {
     "name": "#%%\n"
    }
   }
  },
  {
   "cell_type": "code",
   "execution_count": 175,
   "outputs": [
    {
     "data": {
      "text/plain": "<Figure size 432x288 with 1 Axes>",
      "image/png": "[encoded data removed]"
     },
     "metadata": {
      "needs_background": "light"
     },
     "output_type": "display_data"
    }
   ],
   "source": [
    "\n",
    "# plot the line, the samples, and the nearest vectors to the plane\n",
    "xx, yy = np.meshgrid(np.linspace(0, 100, 50), np.linspace(0, 100, 50))\n",
    "Z = clf.decision_function(np.c_[xx.ravel(), yy.ravel()])\n",
    "Z = Z.reshape(xx.shape)\n",
    "\n",
    "plt.title(\"IsolationForest\")\n",
    "plt.contourf(xx, yy, Z, cmap=plt.cm.Blues_r)\n",
    "\n",
    "b1 = plt.scatter(X_train[:, 0], X_train[:, 1], c=\"white\", s=20, edgecolor=\"k\")\n",
    "b2 = plt.scatter(X_test[:, 0], X_test[:, 1], c=\"green\", s=20, edgecolor=\"k\")\n",
    "c = plt.scatter(X_outliers[:, 0], X_outliers[:, 1], c=\"red\", s=20, edgecolor=\"k\")\n",
    "\n",
    "plt.axis(\"tight\")\n",
    "plt.xlim((-5, 125))\n",
    "plt.ylim((-5, 125))\n",
    "plt.legend(\n",
    "    [b1, b2, c],\n",
    "    [\"training observations\", \"test observations\", \"outliers\"],\n",
    "    loc=\"upper left\",)\n",
    "plt.show()"
   ],
   "metadata": {
    "collapsed": false,
    "pycharm": {
     "name": "#%%\n"
    }
   }
  },
  {
   "cell_type": "code",
   "execution_count": 175,
   "outputs": [],
   "source": [],
   "metadata": {
    "collapsed": false,
    "pycharm": {
     "name": "#%%\n"
    }
   }
  },
  {
   "cell_type": "code",
   "execution_count": 175,
   "outputs": [],
   "source": [],
   "metadata": {
    "collapsed": false,
    "pycharm": {
     "name": "#%%\n"
    }
   }
  }
 ],
 "metadata": {
  "kernelspec": {
   "display_name": "Python 3",
   "language": "python",
   "name": "python3"
  },
  "language_info": {
   "codemirror_mode": {
    "name": "ipython",
    "version": 2
   },
   "file_extension": ".py",
   "mimetype": "text/x-python",
   "name": "python",
   "nbconvert_exporter": "python",
   "pygments_lexer": "ipython2",
   "version": "2.7.6"
  }
 },
 "nbformat": 4,
 "nbformat_minor": 0
}