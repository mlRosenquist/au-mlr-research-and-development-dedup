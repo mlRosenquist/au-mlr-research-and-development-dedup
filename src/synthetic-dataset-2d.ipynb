{
 "cells": [
  {
   "cell_type": "markdown",
   "metadata": {
    "collapsed": false,
    "pycharm": {
     "name": "#%% md\n"
    }
   },
   "source": [
    "# Setup"
   ]
  },
  {
   "cell_type": "markdown",
   "source": [
    "## Imports"
   ],
   "metadata": {
    "collapsed": false,
    "pycharm": {
     "name": "#%% md\n"
    }
   }
  },
  {
   "cell_type": "code",
   "execution_count": 323,
   "metadata": {
    "collapsed": false,
    "pycharm": {
     "name": "#%%\n"
    }
   },
   "outputs": [],
   "source": [
    "import time\n",
    "\n",
    "import pandas as pd\n",
    "import numpy as np\n",
    "from matplotlib import pyplot as plt\n",
    "from sklearn.metrics import accuracy_score, confusion_matrix, precision_score, f1_score\n",
    "\n",
    "import gd as gd\n",
    "import math\n",
    "from random import randint\n",
    "from sklearn.ensemble import IsolationForest\n",
    "import seaborn as sns"
   ]
  },
  {
   "cell_type": "markdown",
   "metadata": {
    "collapsed": false,
    "pycharm": {
     "name": "#%% md\n"
    }
   },
   "source": [
    "## Constants"
   ]
  },
  {
   "cell_type": "code",
   "execution_count": 324,
   "metadata": {
    "collapsed": false,
    "pycharm": {
     "name": "#%%\n"
    }
   },
   "outputs": [],
   "source": [
    "# Data generation\n",
    "SAMPLE_TRAIN_SIZE = 100\n",
    "SAMPLE_TEST_SIZE = 50\n",
    "SAMPLE_OUTLIER_SIZE = 20\n",
    "sigma = 2\n",
    "\n",
    "# Generalized Deduplication\n",
    "DEVIATION_BITS = 2\n",
    "\n",
    "# Isolation Forest\n",
    "rng = np.random.RandomState(42)\n",
    "\n",
    "# Performance\n",
    "time_no_iterations = 100\n",
    "time_no_outliers_removed = 5"
   ]
  },
  {
   "cell_type": "markdown",
   "metadata": {
    "collapsed": true,
    "pycharm": {
     "name": "#%% md\n"
    }
   },
   "source": [
    "# Load Data"
   ]
  },
  {
   "cell_type": "markdown",
   "source": [
    "## Generate data"
   ],
   "metadata": {
    "collapsed": false,
    "pycharm": {
     "name": "#%% md\n"
    }
   }
  },
  {
   "cell_type": "code",
   "execution_count": 325,
   "metadata": {
    "collapsed": false,
    "pycharm": {
     "name": "#%%\n"
    }
   },
   "outputs": [],
   "source": [
    "# Generate train data\n",
    "def generate_data(cluster_size, sigma, no_clusters):\n",
    "    train_data = []\n",
    "    test_data = []\n",
    "    outlier_data = []\n",
    "    if no_clusters == 1:\n",
    "        train_data = np.r_[(\n",
    "            np.c_[((sigma * rng.randn(cluster_size, 1)).astype(int) + 50, (sigma * rng.randn(cluster_size, 1)).astype(int) + 50)],\n",
    "            )]\n",
    "        test_data = np.r_[(\n",
    "                    np.c_[((sigma * rng.randn(cluster_size, 1)).astype(int) + 50, (sigma * rng.randn(cluster_size, 1)).astype(int) + 50)],\n",
    "                )]\n",
    "        outlier_data = np.r_[\n",
    "            (np.c_[(rng.uniform(low=40, high=60, size=(2, 1))), (rng.uniform(low=70, high=85, size=(2, 1)))],\n",
    "             )].astype(int)\n",
    "    elif no_clusters == 3:\n",
    "        train_data = np.r_[(\n",
    "            np.c_[((sigma * rng.randn(cluster_size, 1)).astype(int) + 60, (sigma * rng.randn(cluster_size, 1)).astype(int) + 50)],\n",
    "            np.c_[((sigma * rng.randn(cluster_size, 1)).astype(int) + 50, (sigma * rng.randn(cluster_size, 1)).astype(int) + 100)],\n",
    "            np.c_[((sigma * rng.randn(cluster_size, 1)).astype(int) + 100, (sigma * rng.randn(cluster_size, 1)).astype(int) + 100)]\n",
    "            )]\n",
    "        test_data = np.r_[(\n",
    "                    np.c_[((sigma * rng.randn(SAMPLE_TEST_SIZE, 1)).astype(int) + 60, (sigma * rng.randn(SAMPLE_TEST_SIZE, 1)).astype(int) + 50)],\n",
    "                    np.c_[((sigma * rng.randn(SAMPLE_TEST_SIZE, 1)).astype(int) + 50, (sigma * rng.randn(SAMPLE_TEST_SIZE, 1)).astype(int) + 100)],\n",
    "                    np.c_[((sigma * rng.randn(SAMPLE_TEST_SIZE, 1)).astype(int) + 100, (sigma * rng.randn(SAMPLE_TEST_SIZE, 1)).astype(int) + 100)]\n",
    "                )]\n",
    "        outlier_data = np.r_[\n",
    "            (np.c_[(rng.uniform(low=40, high=60, size=(int(SAMPLE_OUTLIER_SIZE/2), 1))), (rng.uniform(low=70, high=85, size=(int(SAMPLE_OUTLIER_SIZE/2), 1)))],\n",
    "             np.c_[(rng.uniform(low=65, high=120, size=(int(SAMPLE_OUTLIER_SIZE/2), 1))), (rng.uniform(low=60, high=85, size=(int(SAMPLE_OUTLIER_SIZE/2), 1)))]\n",
    "             )].astype(int)\n",
    "\n",
    "    return train_data, test_data, outlier_data\n",
    "\n",
    "X_train, X_test, X_outliers = generate_data(100, 2, 3)\n",
    "\n",
    "y_train = np.ones(len(X_train))\n",
    "y_test = np.ones(len(X_test))\n",
    "y_outlier = np.ones(len(X_outliers)) * - 1"
   ]
  },
  {
   "cell_type": "markdown",
   "metadata": {
    "collapsed": false,
    "pycharm": {
     "name": "#%% md\n"
    }
   },
   "source": [
    "## Perform Generalized Deduplication"
   ]
  },
  {
   "cell_type": "code",
   "execution_count": 326,
   "metadata": {
    "collapsed": false,
    "pycharm": {
     "name": "#%%\n"
    }
   },
   "outputs": [],
   "source": [
    "vectorized_func = np.vectorize(gd.compress_int)\n",
    "\n",
    "X_train_bases = vectorized_func(X_train, deviation_bits=DEVIATION_BITS, output=\"integer\")\n",
    "\n",
    "X_test_bases = vectorized_func(X_test, deviation_bits=DEVIATION_BITS, output=\"integer\")\n",
    "\n",
    "X_outliers_bases = vectorized_func(X_outliers, deviation_bits=DEVIATION_BITS, output=\"integer\")\n"
   ]
  },
  {
   "cell_type": "markdown",
   "source": [
    "# Model Training"
   ],
   "metadata": {
    "collapsed": false,
    "pycharm": {
     "name": "#%% md\n"
    }
   }
  },
  {
   "cell_type": "markdown",
   "source": [
    "## Setup"
   ],
   "metadata": {
    "collapsed": false,
    "pycharm": {
     "name": "#%% md\n"
    }
   }
  },
  {
   "cell_type": "code",
   "execution_count": 327,
   "outputs": [],
   "source": [
    "gd_df_results = pd.DataFrame()\n",
    "gd_ext_df_results = pd.DataFrame()\n",
    "org_df_results = pd.DataFrame()\n",
    "performance = pd.DataFrame(columns=['name', 'train_accuracy_score', 'test_accuracy_score', 'outlier_accuracy_score', 'train_precision_score', 'test_precision_score', 'outlier_precision_score','train_f1_score', 'test_f1_score', 'outlier_f1_score', 'train_recall_score', 'test_recall_score', 'outlier_recall_score', 'training_time', 'prediction_time'])\n",
    "\n",
    "\n",
    "def create_performance_object(name, y_pred_train, y_pred_test, y_pred_outlier, training_time, prediction_time):\n",
    "    return {\n",
    "        'name': name,\n",
    "    'train_accuracy_score': accuracy_score(y_train, y_pred_train),\n",
    "    'test_accuracy_score': accuracy_score(y_test, y_pred_test),\n",
    "    'outlier_accuracy_score': accuracy_score(y_outlier, y_pred_outlier),\n",
    "    'train_precision_score': precision_score(y_train, y_pred_train),\n",
    "    'test_precision_score': precision_score(y_test, y_pred_test),\n",
    "    'outlier_precision_score': precision_score(y_outlier, y_pred_outlier),\n",
    "    'train_f1_score': f1_score(y_train, y_pred_train),\n",
    "    'test_f1_score': f1_score(y_test, y_pred_test),\n",
    "    'outlier_f1_score': f1_score(y_outlier, y_pred_outlier),\n",
    "    'train_recall_score': f1_score(y_train, y_pred_train),\n",
    "    'test_recall_score': f1_score(y_test, y_pred_test),\n",
    "    'outlier_recall_score': f1_score(y_outlier, y_pred_outlier),\n",
    "    'training_time': training_time,\n",
    "    'prediction_time': prediction_time\n",
    "    }"
   ],
   "metadata": {
    "collapsed": false,
    "pycharm": {
     "name": "#%%\n"
    }
   }
  },
  {
   "cell_type": "markdown",
   "metadata": {
    "collapsed": false,
    "pycharm": {
     "name": "#%% md\n"
    }
   },
   "source": [
    "## Isolation Forest - Bases"
   ]
  },
  {
   "cell_type": "code",
   "execution_count": 328,
   "metadata": {
    "collapsed": false,
    "pycharm": {
     "name": "#%%\n"
    }
   },
   "outputs": [
    {
     "name": "stderr",
     "output_type": "stream",
     "text": [
      "/home/mlrosenquist/PycharmProjects/scikit-learn/sklearn/metrics/_classification.py:1327: UndefinedMetricWarning: Precision is ill-defined and being set to 0.0 due to no predicted samples. Use `zero_division` parameter to control this behavior.\n",
      "  _warn_prf(average, modifier, msg_start, len(result))\n",
      "/home/mlrosenquist/PycharmProjects/scikit-learn/sklearn/metrics/_classification.py:1592: UndefinedMetricWarning: F-score is ill-defined and being set to 0.0 due to no true nor predicted samples. Use `zero_division` parameter to control this behavior.\n",
      "  _warn_prf(average, \"true nor predicted\", \"F-score is\", len(true_sum))\n",
      "/home/mlrosenquist/PycharmProjects/scikit-learn/sklearn/metrics/_classification.py:1592: UndefinedMetricWarning: F-score is ill-defined and being set to 0.0 due to no true nor predicted samples. Use `zero_division` parameter to control this behavior.\n",
      "  _warn_prf(average, \"true nor predicted\", \"F-score is\", len(true_sum))\n",
      "/tmp/ipykernel_16432/3075131341.py:25: FutureWarning: The frame.append method is deprecated and will be removed from pandas in a future version. Use pandas.concat instead.\n",
      "  performance = performance.append(create_performance_object('Isolation Forest Bases', y_pred_train, y_pred_test, y_pred_outliers, training_times[0].mean(), prediction_times[0].mean()), ignore_index=True)\n"
     ]
    },
    {
     "data": {
      "text/plain": "   gd_X  gd_Y  gd_score  gd_anomaly\n0    60    48  0.054901           1\n1    60    48  0.054901           1\n2    60    48  0.054901           1\n3    60    48  0.054901           1\n4    60    48  0.054901           1",
      "text/html": "<div>\n<style scoped>\n    .dataframe tbody tr th:only-of-type {\n        vertical-align: middle;\n    }\n\n    .dataframe tbody tr th {\n        vertical-align: top;\n    }\n\n    .dataframe thead th {\n        text-align: right;\n    }\n</style>\n<table border=\"1\" class=\"dataframe\">\n  <thead>\n    <tr style=\"text-align: right;\">\n      <th></th>\n      <th>gd_X</th>\n      <th>gd_Y</th>\n      <th>gd_score</th>\n      <th>gd_anomaly</th>\n    </tr>\n  </thead>\n  <tbody>\n    <tr>\n      <th>0</th>\n      <td>60</td>\n      <td>48</td>\n      <td>0.054901</td>\n      <td>1</td>\n    </tr>\n    <tr>\n      <th>1</th>\n      <td>60</td>\n      <td>48</td>\n      <td>0.054901</td>\n      <td>1</td>\n    </tr>\n    <tr>\n      <th>2</th>\n      <td>60</td>\n      <td>48</td>\n      <td>0.054901</td>\n      <td>1</td>\n    </tr>\n    <tr>\n      <th>3</th>\n      <td>60</td>\n      <td>48</td>\n      <td>0.054901</td>\n      <td>1</td>\n    </tr>\n    <tr>\n      <th>4</th>\n      <td>60</td>\n      <td>48</td>\n      <td>0.054901</td>\n      <td>1</td>\n    </tr>\n  </tbody>\n</table>\n</div>"
     },
     "execution_count": 328,
     "metadata": {},
     "output_type": "execute_result"
    }
   ],
   "source": [
    "training_times = []\n",
    "prediction_times = []\n",
    "for i in range(0, time_no_iterations):\n",
    "    gd_clf = IsolationForest(random_state=rng)\n",
    "    start_time = time.time()\n",
    "    gd_clf.fit(X_train_bases)\n",
    "    end_time = time.time()\n",
    "    training_time = end_time - start_time\n",
    "    training_times.append(training_time)\n",
    "\n",
    "    start_time = time.time()\n",
    "    y_pred_train = gd_clf.predict(X_train_bases)\n",
    "    y_pred_test = gd_clf.predict(X_test_bases)\n",
    "    y_pred_outliers = gd_clf.predict(X_outliers_bases)\n",
    "    end_time = time.time()\n",
    "    prediction_time = end_time - start_time\n",
    "    prediction_times.append(prediction_time)\n",
    "\n",
    "training_times = pd.DataFrame(training_times)\n",
    "prediction_times = pd.DataFrame(prediction_times)\n",
    "training_times = training_times.drop(training_times.nsmallest(time_no_outliers_removed, 0).index).drop(training_times.nlargest(time_no_outliers_removed, 0).index)\n",
    "prediction_times = prediction_times.drop(prediction_times.nsmallest(time_no_outliers_removed, 0).index).drop(prediction_times.nlargest(time_no_outliers_removed, 0).index)\n",
    "\n",
    "\n",
    "performance = performance.append(create_performance_object('Isolation Forest Bases', y_pred_train, y_pred_test, y_pred_outliers, training_times[0].mean(), prediction_times[0].mean()), ignore_index=True)\n",
    "\n",
    "gd_df_results['gd_X'] = X_train_bases[:,0]\n",
    "gd_df_results['gd_Y'] = X_train_bases[:,1]\n",
    "gd_df_results['gd_score'] = gd_clf.decision_function(X_train_bases)\n",
    "gd_df_results['gd_anomaly'] = gd_clf.predict(X_train_bases)\n",
    "gd_df_results.head()"
   ]
  },
  {
   "cell_type": "markdown",
   "source": [
    "## Isolation Forest - Bases - Extended"
   ],
   "metadata": {
    "collapsed": false,
    "pycharm": {
     "name": "#%% md\n"
    }
   }
  },
  {
   "cell_type": "code",
   "execution_count": 329,
   "outputs": [
    {
     "name": "stderr",
     "output_type": "stream",
     "text": [
      "/home/mlrosenquist/PycharmProjects/scikit-learn/sklearn/metrics/_classification.py:1327: UndefinedMetricWarning: Precision is ill-defined and being set to 0.0 due to no predicted samples. Use `zero_division` parameter to control this behavior.\n",
      "  _warn_prf(average, modifier, msg_start, len(result))\n",
      "/home/mlrosenquist/PycharmProjects/scikit-learn/sklearn/metrics/_classification.py:1592: UndefinedMetricWarning: F-score is ill-defined and being set to 0.0 due to no true nor predicted samples. Use `zero_division` parameter to control this behavior.\n",
      "  _warn_prf(average, \"true nor predicted\", \"F-score is\", len(true_sum))\n",
      "/home/mlrosenquist/PycharmProjects/scikit-learn/sklearn/metrics/_classification.py:1592: UndefinedMetricWarning: F-score is ill-defined and being set to 0.0 due to no true nor predicted samples. Use `zero_division` parameter to control this behavior.\n",
      "  _warn_prf(average, \"true nor predicted\", \"F-score is\", len(true_sum))\n",
      "/tmp/ipykernel_16432/771419984.py:25: FutureWarning: The frame.append method is deprecated and will be removed from pandas in a future version. Use pandas.concat instead.\n",
      "  performance = performance.append(create_performance_object('Isolation Forest Bases - extended', y_pred_train, y_pred_test, y_pred_outliers, training_times[0].mean(), prediction_times[0].mean()), ignore_index=True)\n"
     ]
    },
    {
     "data": {
      "text/plain": "   gd_X  gd_Y  gd_score  gd_anomaly\n0    60    48  0.198059           1\n1    60    48  0.198059           1\n2    60    48  0.198059           1\n3    60    48  0.198059           1\n4    60    48  0.198059           1",
      "text/html": "<div>\n<style scoped>\n    .dataframe tbody tr th:only-of-type {\n        vertical-align: middle;\n    }\n\n    .dataframe tbody tr th {\n        vertical-align: top;\n    }\n\n    .dataframe thead th {\n        text-align: right;\n    }\n</style>\n<table border=\"1\" class=\"dataframe\">\n  <thead>\n    <tr style=\"text-align: right;\">\n      <th></th>\n      <th>gd_X</th>\n      <th>gd_Y</th>\n      <th>gd_score</th>\n      <th>gd_anomaly</th>\n    </tr>\n  </thead>\n  <tbody>\n    <tr>\n      <th>0</th>\n      <td>60</td>\n      <td>48</td>\n      <td>0.198059</td>\n      <td>1</td>\n    </tr>\n    <tr>\n      <th>1</th>\n      <td>60</td>\n      <td>48</td>\n      <td>0.198059</td>\n      <td>1</td>\n    </tr>\n    <tr>\n      <th>2</th>\n      <td>60</td>\n      <td>48</td>\n      <td>0.198059</td>\n      <td>1</td>\n    </tr>\n    <tr>\n      <th>3</th>\n      <td>60</td>\n      <td>48</td>\n      <td>0.198059</td>\n      <td>1</td>\n    </tr>\n    <tr>\n      <th>4</th>\n      <td>60</td>\n      <td>48</td>\n      <td>0.198059</td>\n      <td>1</td>\n    </tr>\n  </tbody>\n</table>\n</div>"
     },
     "execution_count": 329,
     "metadata": {},
     "output_type": "execute_result"
    }
   ],
   "source": [
    "training_times = []\n",
    "prediction_times = []\n",
    "for i in range(0, time_no_iterations):\n",
    "    gd_ext_clf = IsolationForest(random_state=rng)\n",
    "    start_time = time.time()\n",
    "    gd_ext_clf.fit_extended(X_train_bases)\n",
    "    end_time = time.time()\n",
    "    training_time = end_time - start_time\n",
    "    training_times.append(training_time)\n",
    "\n",
    "    start_time = time.time()\n",
    "    y_pred_train = gd_ext_clf.predict_extended(X_train_bases)\n",
    "    y_pred_test = gd_ext_clf.predict_extended(X_test_bases)\n",
    "    y_pred_outliers = gd_ext_clf.predict_extended(X_outliers_bases)\n",
    "    end_time = time.time()\n",
    "    prediction_time = end_time - start_time\n",
    "    prediction_times.append(prediction_time)\n",
    "\n",
    "training_times = pd.DataFrame(training_times)\n",
    "prediction_times = pd.DataFrame(prediction_times)\n",
    "training_times = training_times.drop(training_times.nsmallest(time_no_outliers_removed, 0).index).drop(training_times.nlargest(time_no_outliers_removed, 0).index)\n",
    "prediction_times = prediction_times.drop(prediction_times.nsmallest(time_no_outliers_removed, 0).index).drop(prediction_times.nlargest(time_no_outliers_removed, 0).index)\n",
    "\n",
    "\n",
    "performance = performance.append(create_performance_object('Isolation Forest Bases - extended', y_pred_train, y_pred_test, y_pred_outliers, training_times[0].mean(), prediction_times[0].mean()), ignore_index=True)\n",
    "\n",
    "gd_ext_df_results['gd_X'] = X_train_bases[:,0]\n",
    "gd_ext_df_results['gd_Y'] = X_train_bases[:,1]\n",
    "gd_ext_df_results['gd_score'] = gd_ext_clf.decision_function_extended(X_train_bases)\n",
    "gd_ext_df_results['gd_anomaly'] = y_pred_train\n",
    "gd_ext_df_results.head()"
   ],
   "metadata": {
    "collapsed": false,
    "pycharm": {
     "name": "#%%\n"
    }
   }
  },
  {
   "cell_type": "markdown",
   "source": [
    "## Isolation Forest - Original Data"
   ],
   "metadata": {
    "collapsed": false,
    "pycharm": {
     "name": "#%% md\n"
    }
   }
  },
  {
   "cell_type": "code",
   "execution_count": 330,
   "metadata": {
    "collapsed": false,
    "pycharm": {
     "name": "#%%\n"
    }
   },
   "outputs": [
    {
     "name": "stderr",
     "output_type": "stream",
     "text": [
      "/home/mlrosenquist/PycharmProjects/scikit-learn/sklearn/metrics/_classification.py:1327: UndefinedMetricWarning: Precision is ill-defined and being set to 0.0 due to no predicted samples. Use `zero_division` parameter to control this behavior.\n",
      "  _warn_prf(average, modifier, msg_start, len(result))\n",
      "/home/mlrosenquist/PycharmProjects/scikit-learn/sklearn/metrics/_classification.py:1592: UndefinedMetricWarning: F-score is ill-defined and being set to 0.0 due to no true nor predicted samples. Use `zero_division` parameter to control this behavior.\n",
      "  _warn_prf(average, \"true nor predicted\", \"F-score is\", len(true_sum))\n",
      "/home/mlrosenquist/PycharmProjects/scikit-learn/sklearn/metrics/_classification.py:1592: UndefinedMetricWarning: F-score is ill-defined and being set to 0.0 due to no true nor predicted samples. Use `zero_division` parameter to control this behavior.\n",
      "  _warn_prf(average, \"true nor predicted\", \"F-score is\", len(true_sum))\n",
      "/tmp/ipykernel_16432/113089721.py:24: FutureWarning: The frame.append method is deprecated and will be removed from pandas in a future version. Use pandas.concat instead.\n",
      "  performance = performance.append(create_performance_object('Isolation Forest Original', y_pred_train, y_pred_test, y_pred_outliers, training_times[0].mean(), prediction_times[0].mean()), ignore_index=True)\n"
     ]
    },
    {
     "data": {
      "text/plain": "   org_X  org_Y  org_score  org_anomaly\n0     60     48   0.027845            1\n1     60     50   0.094474            1\n2     61     50   0.039181            1\n3     63     49  -0.107756           -1\n4     60     50   0.094474            1",
      "text/html": "<div>\n<style scoped>\n    .dataframe tbody tr th:only-of-type {\n        vertical-align: middle;\n    }\n\n    .dataframe tbody tr th {\n        vertical-align: top;\n    }\n\n    .dataframe thead th {\n        text-align: right;\n    }\n</style>\n<table border=\"1\" class=\"dataframe\">\n  <thead>\n    <tr style=\"text-align: right;\">\n      <th></th>\n      <th>org_X</th>\n      <th>org_Y</th>\n      <th>org_score</th>\n      <th>org_anomaly</th>\n    </tr>\n  </thead>\n  <tbody>\n    <tr>\n      <th>0</th>\n      <td>60</td>\n      <td>48</td>\n      <td>0.027845</td>\n      <td>1</td>\n    </tr>\n    <tr>\n      <th>1</th>\n      <td>60</td>\n      <td>50</td>\n      <td>0.094474</td>\n      <td>1</td>\n    </tr>\n    <tr>\n      <th>2</th>\n      <td>61</td>\n      <td>50</td>\n      <td>0.039181</td>\n      <td>1</td>\n    </tr>\n    <tr>\n      <th>3</th>\n      <td>63</td>\n      <td>49</td>\n      <td>-0.107756</td>\n      <td>-1</td>\n    </tr>\n    <tr>\n      <th>4</th>\n      <td>60</td>\n      <td>50</td>\n      <td>0.094474</td>\n      <td>1</td>\n    </tr>\n  </tbody>\n</table>\n</div>"
     },
     "execution_count": 330,
     "metadata": {},
     "output_type": "execute_result"
    }
   ],
   "source": [
    "training_times = []\n",
    "prediction_times = []\n",
    "for i in range(0, time_no_iterations):\n",
    "    org_clf = IsolationForest(random_state=rng)\n",
    "    start_time = time.time()\n",
    "    org_clf.fit(X_train)\n",
    "    end_time = time.time()\n",
    "    training_time = end_time - start_time\n",
    "    training_times.append(training_time)\n",
    "\n",
    "    start_time = time.time()\n",
    "    y_pred_train = org_clf.predict(X_train)\n",
    "    y_pred_test = org_clf.predict(X_test)\n",
    "    y_pred_outliers = org_clf.predict(X_outliers)\n",
    "    end_time = time.time()\n",
    "    prediction_time = end_time - start_time\n",
    "    prediction_times.append(prediction_time)\n",
    "\n",
    "training_times = pd.DataFrame(training_times)\n",
    "prediction_times = pd.DataFrame(prediction_times)\n",
    "training_times = training_times.drop(training_times.nsmallest(time_no_outliers_removed, 0).index).drop(training_times.nlargest(time_no_outliers_removed, 0).index)\n",
    "prediction_times = prediction_times.drop(prediction_times.nsmallest(time_no_outliers_removed, 0).index).drop(prediction_times.nlargest(time_no_outliers_removed, 0).index)\n",
    "\n",
    "performance = performance.append(create_performance_object('Isolation Forest Original', y_pred_train, y_pred_test, y_pred_outliers, training_times[0].mean(), prediction_times[0].mean()), ignore_index=True)\n",
    "\n",
    "org_df_results['org_X'] = X_train[:,0]\n",
    "org_df_results['org_Y'] = X_train[:,1]\n",
    "org_df_results['org_score'] = org_clf.decision_function(X_train)\n",
    "org_df_results['org_anomaly'] = org_clf.predict(X_train)\n",
    "org_df_results.head()"
   ]
  },
  {
   "cell_type": "markdown",
   "metadata": {
    "collapsed": false,
    "pycharm": {
     "name": "#%% md\n"
    }
   },
   "source": [
    "# Calculations"
   ]
  },
  {
   "cell_type": "markdown",
   "metadata": {
    "collapsed": false,
    "pycharm": {
     "name": "#%% md\n"
    }
   },
   "source": [
    "### Count amount of base occurences"
   ]
  },
  {
   "cell_type": "code",
   "execution_count": 331,
   "metadata": {
    "collapsed": false,
    "pycharm": {
     "name": "#%%\n"
    }
   },
   "outputs": [
    {
     "data": {
      "text/plain": "   gd_X  gd_Y  gd_counts  gd_org_idx\n0    44    96          1         136\n1    44   100          4         121\n2    44   104          1         123\n3    48    96         24         100\n4    48   100         52         104",
      "text/html": "<div>\n<style scoped>\n    .dataframe tbody tr th:only-of-type {\n        vertical-align: middle;\n    }\n\n    .dataframe tbody tr th {\n        vertical-align: top;\n    }\n\n    .dataframe thead th {\n        text-align: right;\n    }\n</style>\n<table border=\"1\" class=\"dataframe\">\n  <thead>\n    <tr style=\"text-align: right;\">\n      <th></th>\n      <th>gd_X</th>\n      <th>gd_Y</th>\n      <th>gd_counts</th>\n      <th>gd_org_idx</th>\n    </tr>\n  </thead>\n  <tbody>\n    <tr>\n      <th>0</th>\n      <td>44</td>\n      <td>96</td>\n      <td>1</td>\n      <td>136</td>\n    </tr>\n    <tr>\n      <th>1</th>\n      <td>44</td>\n      <td>100</td>\n      <td>4</td>\n      <td>121</td>\n    </tr>\n    <tr>\n      <th>2</th>\n      <td>44</td>\n      <td>104</td>\n      <td>1</td>\n      <td>123</td>\n    </tr>\n    <tr>\n      <th>3</th>\n      <td>48</td>\n      <td>96</td>\n      <td>24</td>\n      <td>100</td>\n    </tr>\n    <tr>\n      <th>4</th>\n      <td>48</td>\n      <td>100</td>\n      <td>52</td>\n      <td>104</td>\n    </tr>\n  </tbody>\n</table>\n</div>"
     },
     "execution_count": 331,
     "metadata": {},
     "output_type": "execute_result"
    }
   ],
   "source": [
    "array = X_train_bases\n",
    "new_array = [tuple(row) for row in array]\n",
    "unique, idx, counts = np.unique(new_array, axis=0, return_index=True, return_counts=True)\n",
    "\n",
    "df_unique = pd.DataFrame()\n",
    "df_unique['gd_X'] = unique[:,0]\n",
    "df_unique['gd_Y'] = unique[:,1]\n",
    "df_unique['gd_counts'] = counts\n",
    "df_unique['gd_org_idx'] = idx\n",
    "df_unique.head()"
   ]
  },
  {
   "cell_type": "markdown",
   "metadata": {
    "collapsed": false,
    "pycharm": {
     "name": "#%% md\n"
    }
   },
   "source": [
    "### Prepare data for calculation"
   ]
  },
  {
   "cell_type": "code",
   "execution_count": 332,
   "metadata": {
    "collapsed": false,
    "pycharm": {
     "name": "#%%\n"
    }
   },
   "outputs": [
    {
     "data": {
      "text/plain": "     org_X  gd_X  org_Y  gd_Y  org_score  gd_score  org_score_converted  \\\n0       60    60     48    48   0.027845  0.054901             0.472155   \n1       60    60     50    48   0.094474  0.054901             0.405526   \n2       61    60     50    48   0.039181  0.054901             0.460819   \n3       63    60     49    48  -0.107756  0.054901             0.607756   \n4       60    60     50    48   0.094474  0.054901             0.405526   \n..     ...   ...    ...   ...        ...       ...                  ...   \n295    101   100     99    96   0.052371  0.005736             0.447629   \n296     98    96    100   100   0.062330  0.005857             0.437670   \n297    100   100     99    96   0.070063  0.005736             0.429937   \n298     99    96    100   100   0.088085  0.005857             0.411915   \n299     98    96    100   100   0.062330  0.005857             0.437670   \n\n     gd_score_converted  org_anomaly  gd_anomaly  \n0              0.445099            1           1  \n1              0.445099            1           1  \n2              0.445099            1           1  \n3              0.445099           -1           1  \n4              0.445099            1           1  \n..                  ...          ...         ...  \n295            0.494264            1           1  \n296            0.494143            1           1  \n297            0.494264            1           1  \n298            0.494143            1           1  \n299            0.494143            1           1  \n\n[300 rows x 10 columns]",
      "text/html": "<div>\n<style scoped>\n    .dataframe tbody tr th:only-of-type {\n        vertical-align: middle;\n    }\n\n    .dataframe tbody tr th {\n        vertical-align: top;\n    }\n\n    .dataframe thead th {\n        text-align: right;\n    }\n</style>\n<table border=\"1\" class=\"dataframe\">\n  <thead>\n    <tr style=\"text-align: right;\">\n      <th></th>\n      <th>org_X</th>\n      <th>gd_X</th>\n      <th>org_Y</th>\n      <th>gd_Y</th>\n      <th>org_score</th>\n      <th>gd_score</th>\n      <th>org_score_converted</th>\n      <th>gd_score_converted</th>\n      <th>org_anomaly</th>\n      <th>gd_anomaly</th>\n    </tr>\n  </thead>\n  <tbody>\n    <tr>\n      <th>0</th>\n      <td>60</td>\n      <td>60</td>\n      <td>48</td>\n      <td>48</td>\n      <td>0.027845</td>\n      <td>0.054901</td>\n      <td>0.472155</td>\n      <td>0.445099</td>\n      <td>1</td>\n      <td>1</td>\n    </tr>\n    <tr>\n      <th>1</th>\n      <td>60</td>\n      <td>60</td>\n      <td>50</td>\n      <td>48</td>\n      <td>0.094474</td>\n      <td>0.054901</td>\n      <td>0.405526</td>\n      <td>0.445099</td>\n      <td>1</td>\n      <td>1</td>\n    </tr>\n    <tr>\n      <th>2</th>\n      <td>61</td>\n      <td>60</td>\n      <td>50</td>\n      <td>48</td>\n      <td>0.039181</td>\n      <td>0.054901</td>\n      <td>0.460819</td>\n      <td>0.445099</td>\n      <td>1</td>\n      <td>1</td>\n    </tr>\n    <tr>\n      <th>3</th>\n      <td>63</td>\n      <td>60</td>\n      <td>49</td>\n      <td>48</td>\n      <td>-0.107756</td>\n      <td>0.054901</td>\n      <td>0.607756</td>\n      <td>0.445099</td>\n      <td>-1</td>\n      <td>1</td>\n    </tr>\n    <tr>\n      <th>4</th>\n      <td>60</td>\n      <td>60</td>\n      <td>50</td>\n      <td>48</td>\n      <td>0.094474</td>\n      <td>0.054901</td>\n      <td>0.405526</td>\n      <td>0.445099</td>\n      <td>1</td>\n      <td>1</td>\n    </tr>\n    <tr>\n      <th>...</th>\n      <td>...</td>\n      <td>...</td>\n      <td>...</td>\n      <td>...</td>\n      <td>...</td>\n      <td>...</td>\n      <td>...</td>\n      <td>...</td>\n      <td>...</td>\n      <td>...</td>\n    </tr>\n    <tr>\n      <th>295</th>\n      <td>101</td>\n      <td>100</td>\n      <td>99</td>\n      <td>96</td>\n      <td>0.052371</td>\n      <td>0.005736</td>\n      <td>0.447629</td>\n      <td>0.494264</td>\n      <td>1</td>\n      <td>1</td>\n    </tr>\n    <tr>\n      <th>296</th>\n      <td>98</td>\n      <td>96</td>\n      <td>100</td>\n      <td>100</td>\n      <td>0.062330</td>\n      <td>0.005857</td>\n      <td>0.437670</td>\n      <td>0.494143</td>\n      <td>1</td>\n      <td>1</td>\n    </tr>\n    <tr>\n      <th>297</th>\n      <td>100</td>\n      <td>100</td>\n      <td>99</td>\n      <td>96</td>\n      <td>0.070063</td>\n      <td>0.005736</td>\n      <td>0.429937</td>\n      <td>0.494264</td>\n      <td>1</td>\n      <td>1</td>\n    </tr>\n    <tr>\n      <th>298</th>\n      <td>99</td>\n      <td>96</td>\n      <td>100</td>\n      <td>100</td>\n      <td>0.088085</td>\n      <td>0.005857</td>\n      <td>0.411915</td>\n      <td>0.494143</td>\n      <td>1</td>\n      <td>1</td>\n    </tr>\n    <tr>\n      <th>299</th>\n      <td>98</td>\n      <td>96</td>\n      <td>100</td>\n      <td>100</td>\n      <td>0.062330</td>\n      <td>0.005857</td>\n      <td>0.437670</td>\n      <td>0.494143</td>\n      <td>1</td>\n      <td>1</td>\n    </tr>\n  </tbody>\n</table>\n<p>300 rows × 10 columns</p>\n</div>"
     },
     "execution_count": 332,
     "metadata": {},
     "output_type": "execute_result"
    }
   ],
   "source": [
    "# Merge gd results and original results in single dataframe\n",
    "df_results = pd.DataFrame()\n",
    "df_results['org_X'] = org_df_results['org_X']\n",
    "df_results['gd_X'] = gd_df_results['gd_X']\n",
    "df_results['org_Y'] = org_df_results['org_Y']\n",
    "df_results['gd_Y'] = gd_df_results['gd_Y']\n",
    "df_results['org_score'] = org_df_results['org_score']\n",
    "df_results['gd_score'] = gd_df_results['gd_score']\n",
    "df_results['org_score_converted'] = df_results['org_score'].sub(0.5).mul(-1) # Convert sklearn score range to paper score range [-0.5;0.5] -> [0;1]\n",
    "df_results['gd_score_converted'] = df_results['gd_score'].sub(0.5).mul(-1) # Convert sklearn score range to paper score range [-0.5;0.5] -> [0;1]\n",
    "df_results['org_anomaly'] = org_df_results['org_anomaly']\n",
    "df_results['gd_anomaly'] = gd_df_results['gd_anomaly']\n",
    "\n",
    "df_results"
   ]
  },
  {
   "cell_type": "code",
   "execution_count": 333,
   "metadata": {
    "collapsed": false,
    "pycharm": {
     "name": "#%%\n"
    }
   },
   "outputs": [
    {
     "data": {
      "text/plain": "   gd_X  gd_Y  gd_counts  gd_org_idx  gd_anomaly  gd_score  gd_score_converted\n0    44    96          1         136        -1.0 -0.189282            0.689282\n1    44   100          4         121        -1.0 -0.132704            0.632704\n2    44   104          1         123        -1.0 -0.240281            0.740281\n3    48    96         24         100         1.0  0.022833            0.477167\n4    48   100         52         104         1.0  0.088430            0.411570",
      "text/html": "<div>\n<style scoped>\n    .dataframe tbody tr th:only-of-type {\n        vertical-align: middle;\n    }\n\n    .dataframe tbody tr th {\n        vertical-align: top;\n    }\n\n    .dataframe thead th {\n        text-align: right;\n    }\n</style>\n<table border=\"1\" class=\"dataframe\">\n  <thead>\n    <tr style=\"text-align: right;\">\n      <th></th>\n      <th>gd_X</th>\n      <th>gd_Y</th>\n      <th>gd_counts</th>\n      <th>gd_org_idx</th>\n      <th>gd_anomaly</th>\n      <th>gd_score</th>\n      <th>gd_score_converted</th>\n    </tr>\n  </thead>\n  <tbody>\n    <tr>\n      <th>0</th>\n      <td>44</td>\n      <td>96</td>\n      <td>1</td>\n      <td>136</td>\n      <td>-1.0</td>\n      <td>-0.189282</td>\n      <td>0.689282</td>\n    </tr>\n    <tr>\n      <th>1</th>\n      <td>44</td>\n      <td>100</td>\n      <td>4</td>\n      <td>121</td>\n      <td>-1.0</td>\n      <td>-0.132704</td>\n      <td>0.632704</td>\n    </tr>\n    <tr>\n      <th>2</th>\n      <td>44</td>\n      <td>104</td>\n      <td>1</td>\n      <td>123</td>\n      <td>-1.0</td>\n      <td>-0.240281</td>\n      <td>0.740281</td>\n    </tr>\n    <tr>\n      <th>3</th>\n      <td>48</td>\n      <td>96</td>\n      <td>24</td>\n      <td>100</td>\n      <td>1.0</td>\n      <td>0.022833</td>\n      <td>0.477167</td>\n    </tr>\n    <tr>\n      <th>4</th>\n      <td>48</td>\n      <td>100</td>\n      <td>52</td>\n      <td>104</td>\n      <td>1.0</td>\n      <td>0.088430</td>\n      <td>0.411570</td>\n    </tr>\n  </tbody>\n</table>\n</div>"
     },
     "execution_count": 333,
     "metadata": {},
     "output_type": "execute_result"
    }
   ],
   "source": [
    "\n",
    "# Add score and anomaly to df_uniques\n",
    "scores = []\n",
    "scores_converted = []\n",
    "anomaly = []\n",
    "for index, row in df_unique.iterrows():\n",
    "    result = df_results[(df_results.gd_X == row.gd_X) & (df_results.gd_Y == row.gd_Y)].iloc[0]\n",
    "    scores.append(result.gd_score)\n",
    "    scores_converted.append(result.gd_score_converted)\n",
    "    anomaly.append(result.gd_anomaly)\n",
    "\n",
    "df_unique['gd_anomaly'] = anomaly\n",
    "df_unique['gd_score'] = scores\n",
    "df_unique['gd_score_converted'] = scores_converted\n",
    "\n",
    "# Define constants\n",
    "n_samples = len(df_results)\n",
    "n_uniques = len(df_unique)\n",
    "df_unique.head()"
   ]
  },
  {
   "cell_type": "markdown",
   "metadata": {
    "collapsed": false,
    "pycharm": {
     "name": "#%% md\n"
    }
   },
   "source": [
    "### Perform calculation"
   ]
  },
  {
   "cell_type": "code",
   "execution_count": 334,
   "metadata": {
    "collapsed": false,
    "pycharm": {
     "name": "#%%\n"
    }
   },
   "outputs": [],
   "source": [
    "def H(i):\n",
    "    return np.log(i) + 0.5772156649 # euler's constant\n",
    "\n",
    "def c(n):\n",
    "    return 2*H(n-1) - ((2*(n-1))/n)"
   ]
  },
  {
   "cell_type": "markdown",
   "metadata": {
    "collapsed": false,
    "pycharm": {
     "name": "#%% md\n"
    }
   },
   "source": [
    "Calculation 1:  $\\log_2(s(x,n)) \\cdot c(n) = E(h(x))$"
   ]
  },
  {
   "cell_type": "code",
   "execution_count": 335,
   "metadata": {
    "collapsed": false,
    "pycharm": {
     "name": "#%%\n"
    }
   },
   "outputs": [
    {
     "data": {
      "text/plain": "   gd_X  gd_Y  gd_counts  gd_org_idx  gd_anomaly  gd_score  \\\n0    44    96          1         136        -1.0 -0.189282   \n1    44   100          4         121        -1.0 -0.132704   \n2    44   104          1         123        -1.0 -0.240281   \n3    48    96         24         100         1.0  0.022833   \n4    48   100         52         104         1.0  0.088430   \n\n   gd_score_converted  E[H(x)]+log_2[count(x)]  \n0            0.689282                 5.670032  \n1            0.632704                 8.975117  \n2            0.740281                 4.582363  \n3            0.477167                15.859181  \n4            0.411570                19.228116  ",
      "text/html": "<div>\n<style scoped>\n    .dataframe tbody tr th:only-of-type {\n        vertical-align: middle;\n    }\n\n    .dataframe tbody tr th {\n        vertical-align: top;\n    }\n\n    .dataframe thead th {\n        text-align: right;\n    }\n</style>\n<table border=\"1\" class=\"dataframe\">\n  <thead>\n    <tr style=\"text-align: right;\">\n      <th></th>\n      <th>gd_X</th>\n      <th>gd_Y</th>\n      <th>gd_counts</th>\n      <th>gd_org_idx</th>\n      <th>gd_anomaly</th>\n      <th>gd_score</th>\n      <th>gd_score_converted</th>\n      <th>E[H(x)]+log_2[count(x)]</th>\n    </tr>\n  </thead>\n  <tbody>\n    <tr>\n      <th>0</th>\n      <td>44</td>\n      <td>96</td>\n      <td>1</td>\n      <td>136</td>\n      <td>-1.0</td>\n      <td>-0.189282</td>\n      <td>0.689282</td>\n      <td>5.670032</td>\n    </tr>\n    <tr>\n      <th>1</th>\n      <td>44</td>\n      <td>100</td>\n      <td>4</td>\n      <td>121</td>\n      <td>-1.0</td>\n      <td>-0.132704</td>\n      <td>0.632704</td>\n      <td>8.975117</td>\n    </tr>\n    <tr>\n      <th>2</th>\n      <td>44</td>\n      <td>104</td>\n      <td>1</td>\n      <td>123</td>\n      <td>-1.0</td>\n      <td>-0.240281</td>\n      <td>0.740281</td>\n      <td>4.582363</td>\n    </tr>\n    <tr>\n      <th>3</th>\n      <td>48</td>\n      <td>96</td>\n      <td>24</td>\n      <td>100</td>\n      <td>1.0</td>\n      <td>0.022833</td>\n      <td>0.477167</td>\n      <td>15.859181</td>\n    </tr>\n    <tr>\n      <th>4</th>\n      <td>48</td>\n      <td>100</td>\n      <td>52</td>\n      <td>104</td>\n      <td>1.0</td>\n      <td>0.088430</td>\n      <td>0.411570</td>\n      <td>19.228116</td>\n    </tr>\n  </tbody>\n</table>\n</div>"
     },
     "execution_count": 335,
     "metadata": {},
     "output_type": "execute_result"
    }
   ],
   "source": [
    "result = []\n",
    "for index, row in df_unique.iterrows():\n",
    "    res = -(np.log2(row.gd_score_converted) * c(n_samples)) + np.log2(row.gd_counts)\n",
    "    result.append(res)\n",
    "df_unique['E[H(x)]+log_2[count(x)]'] = result\n",
    "df_unique.head()"
   ]
  },
  {
   "cell_type": "markdown",
   "metadata": {
    "collapsed": false,
    "pycharm": {
     "name": "#%% md\n"
    }
   },
   "source": [
    "Calculation 2: $S(x, n_{samples})=2^{-\\frac{E(h(x))}{c(n_{samples})}}$"
   ]
  },
  {
   "cell_type": "code",
   "execution_count": 336,
   "metadata": {
    "collapsed": false,
    "pycharm": {
     "name": "#%%\n"
    }
   },
   "outputs": [
    {
     "data": {
      "text/plain": "    gd_X  gd_Y  gd_counts  gd_org_idx  gd_anomaly  gd_score  \\\n0     44    96          1         136        -1.0 -0.189282   \n1     44   100          4         121        -1.0 -0.132704   \n2     44   104          1         123        -1.0 -0.240281   \n3     48    96         24         100         1.0  0.022833   \n4     48   100         52         104         1.0  0.088430   \n5     48   104          2         174        -1.0 -0.187407   \n6     52    48          1          74        -1.0 -0.217303   \n7     52    96          4         125        -1.0 -0.119755   \n8     52   100         11         102        -1.0 -0.011946   \n9     56    44          1          30        -1.0 -0.209893   \n10    56    48         23          14         1.0  0.011758   \n11    56    52          6          13        -1.0 -0.115689   \n12    56   100          1         109        -1.0 -0.163178   \n13    60    44          3          10        -1.0 -0.199200   \n14    60    48         60           0         1.0  0.054901   \n15    60    52          6           6        -1.0 -0.128207   \n16    96    96          8         206        -1.0 -0.092348   \n17    96   100         30         200         1.0  0.005857   \n18   100    96         22         202         1.0  0.005736   \n19   100   100         36         203         1.0  0.031826   \n20   100   104          2         261        -1.0 -0.235950   \n21   104    96          2         220        -1.0 -0.212003   \n\n    gd_score_converted  E[H(x)]+log_2[count(x)]  S(x,n_samples)  \n0             0.689282                 5.670032        0.689282  \n1             0.632704                 8.975117        0.554878  \n2             0.740281                 4.582363        0.740281  \n3             0.477167                15.859181        0.353178  \n4             0.411570                19.228116        0.283122  \n5             0.687407                 6.711538        0.643743  \n6             0.717303                 5.062844        0.717303  \n7             0.619755                 9.290194        0.543523  \n8             0.511946                13.661646        0.407968  \n9             0.709893                 5.221065        0.709893  \n10            0.488242                15.448170        0.362834  \n11            0.615689                 9.975473        0.519621  \n12            0.663178                 6.258304        0.663178  \n13            0.699200                 7.037299        0.630127  \n14            0.445099                18.241182        0.302067  \n15            0.628207                 9.668754        0.530186  \n16            0.592348                10.979398        0.486489  \n17            0.494143                15.648440        0.358096  \n18            0.494264                15.197240        0.368858  \n19            0.468174                16.734078        0.333471  \n20            0.735950                 5.671775        0.689203  \n21            0.712003                 6.175854        0.666777  ",
      "text/html": "<div>\n<style scoped>\n    .dataframe tbody tr th:only-of-type {\n        vertical-align: middle;\n    }\n\n    .dataframe tbody tr th {\n        vertical-align: top;\n    }\n\n    .dataframe thead th {\n        text-align: right;\n    }\n</style>\n<table border=\"1\" class=\"dataframe\">\n  <thead>\n    <tr style=\"text-align: right;\">\n      <th></th>\n      <th>gd_X</th>\n      <th>gd_Y</th>\n      <th>gd_counts</th>\n      <th>gd_org_idx</th>\n      <th>gd_anomaly</th>\n      <th>gd_score</th>\n      <th>gd_score_converted</th>\n      <th>E[H(x)]+log_2[count(x)]</th>\n      <th>S(x,n_samples)</th>\n    </tr>\n  </thead>\n  <tbody>\n    <tr>\n      <th>0</th>\n      <td>44</td>\n      <td>96</td>\n      <td>1</td>\n      <td>136</td>\n      <td>-1.0</td>\n      <td>-0.189282</td>\n      <td>0.689282</td>\n      <td>5.670032</td>\n      <td>0.689282</td>\n    </tr>\n    <tr>\n      <th>1</th>\n      <td>44</td>\n      <td>100</td>\n      <td>4</td>\n      <td>121</td>\n      <td>-1.0</td>\n      <td>-0.132704</td>\n      <td>0.632704</td>\n      <td>8.975117</td>\n      <td>0.554878</td>\n    </tr>\n    <tr>\n      <th>2</th>\n      <td>44</td>\n      <td>104</td>\n      <td>1</td>\n      <td>123</td>\n      <td>-1.0</td>\n      <td>-0.240281</td>\n      <td>0.740281</td>\n      <td>4.582363</td>\n      <td>0.740281</td>\n    </tr>\n    <tr>\n      <th>3</th>\n      <td>48</td>\n      <td>96</td>\n      <td>24</td>\n      <td>100</td>\n      <td>1.0</td>\n      <td>0.022833</td>\n      <td>0.477167</td>\n      <td>15.859181</td>\n      <td>0.353178</td>\n    </tr>\n    <tr>\n      <th>4</th>\n      <td>48</td>\n      <td>100</td>\n      <td>52</td>\n      <td>104</td>\n      <td>1.0</td>\n      <td>0.088430</td>\n      <td>0.411570</td>\n      <td>19.228116</td>\n      <td>0.283122</td>\n    </tr>\n    <tr>\n      <th>5</th>\n      <td>48</td>\n      <td>104</td>\n      <td>2</td>\n      <td>174</td>\n      <td>-1.0</td>\n      <td>-0.187407</td>\n      <td>0.687407</td>\n      <td>6.711538</td>\n      <td>0.643743</td>\n    </tr>\n    <tr>\n      <th>6</th>\n      <td>52</td>\n      <td>48</td>\n      <td>1</td>\n      <td>74</td>\n      <td>-1.0</td>\n      <td>-0.217303</td>\n      <td>0.717303</td>\n      <td>5.062844</td>\n      <td>0.717303</td>\n    </tr>\n    <tr>\n      <th>7</th>\n      <td>52</td>\n      <td>96</td>\n      <td>4</td>\n      <td>125</td>\n      <td>-1.0</td>\n      <td>-0.119755</td>\n      <td>0.619755</td>\n      <td>9.290194</td>\n      <td>0.543523</td>\n    </tr>\n    <tr>\n      <th>8</th>\n      <td>52</td>\n      <td>100</td>\n      <td>11</td>\n      <td>102</td>\n      <td>-1.0</td>\n      <td>-0.011946</td>\n      <td>0.511946</td>\n      <td>13.661646</td>\n      <td>0.407968</td>\n    </tr>\n    <tr>\n      <th>9</th>\n      <td>56</td>\n      <td>44</td>\n      <td>1</td>\n      <td>30</td>\n      <td>-1.0</td>\n      <td>-0.209893</td>\n      <td>0.709893</td>\n      <td>5.221065</td>\n      <td>0.709893</td>\n    </tr>\n    <tr>\n      <th>10</th>\n      <td>56</td>\n      <td>48</td>\n      <td>23</td>\n      <td>14</td>\n      <td>1.0</td>\n      <td>0.011758</td>\n      <td>0.488242</td>\n      <td>15.448170</td>\n      <td>0.362834</td>\n    </tr>\n    <tr>\n      <th>11</th>\n      <td>56</td>\n      <td>52</td>\n      <td>6</td>\n      <td>13</td>\n      <td>-1.0</td>\n      <td>-0.115689</td>\n      <td>0.615689</td>\n      <td>9.975473</td>\n      <td>0.519621</td>\n    </tr>\n    <tr>\n      <th>12</th>\n      <td>56</td>\n      <td>100</td>\n      <td>1</td>\n      <td>109</td>\n      <td>-1.0</td>\n      <td>-0.163178</td>\n      <td>0.663178</td>\n      <td>6.258304</td>\n      <td>0.663178</td>\n    </tr>\n    <tr>\n      <th>13</th>\n      <td>60</td>\n      <td>44</td>\n      <td>3</td>\n      <td>10</td>\n      <td>-1.0</td>\n      <td>-0.199200</td>\n      <td>0.699200</td>\n      <td>7.037299</td>\n      <td>0.630127</td>\n    </tr>\n    <tr>\n      <th>14</th>\n      <td>60</td>\n      <td>48</td>\n      <td>60</td>\n      <td>0</td>\n      <td>1.0</td>\n      <td>0.054901</td>\n      <td>0.445099</td>\n      <td>18.241182</td>\n      <td>0.302067</td>\n    </tr>\n    <tr>\n      <th>15</th>\n      <td>60</td>\n      <td>52</td>\n      <td>6</td>\n      <td>6</td>\n      <td>-1.0</td>\n      <td>-0.128207</td>\n      <td>0.628207</td>\n      <td>9.668754</td>\n      <td>0.530186</td>\n    </tr>\n    <tr>\n      <th>16</th>\n      <td>96</td>\n      <td>96</td>\n      <td>8</td>\n      <td>206</td>\n      <td>-1.0</td>\n      <td>-0.092348</td>\n      <td>0.592348</td>\n      <td>10.979398</td>\n      <td>0.486489</td>\n    </tr>\n    <tr>\n      <th>17</th>\n      <td>96</td>\n      <td>100</td>\n      <td>30</td>\n      <td>200</td>\n      <td>1.0</td>\n      <td>0.005857</td>\n      <td>0.494143</td>\n      <td>15.648440</td>\n      <td>0.358096</td>\n    </tr>\n    <tr>\n      <th>18</th>\n      <td>100</td>\n      <td>96</td>\n      <td>22</td>\n      <td>202</td>\n      <td>1.0</td>\n      <td>0.005736</td>\n      <td>0.494264</td>\n      <td>15.197240</td>\n      <td>0.368858</td>\n    </tr>\n    <tr>\n      <th>19</th>\n      <td>100</td>\n      <td>100</td>\n      <td>36</td>\n      <td>203</td>\n      <td>1.0</td>\n      <td>0.031826</td>\n      <td>0.468174</td>\n      <td>16.734078</td>\n      <td>0.333471</td>\n    </tr>\n    <tr>\n      <th>20</th>\n      <td>100</td>\n      <td>104</td>\n      <td>2</td>\n      <td>261</td>\n      <td>-1.0</td>\n      <td>-0.235950</td>\n      <td>0.735950</td>\n      <td>5.671775</td>\n      <td>0.689203</td>\n    </tr>\n    <tr>\n      <th>21</th>\n      <td>104</td>\n      <td>96</td>\n      <td>2</td>\n      <td>220</td>\n      <td>-1.0</td>\n      <td>-0.212003</td>\n      <td>0.712003</td>\n      <td>6.175854</td>\n      <td>0.666777</td>\n    </tr>\n  </tbody>\n</table>\n</div>"
     },
     "execution_count": 336,
     "metadata": {},
     "output_type": "execute_result"
    }
   ],
   "source": [
    "result = []\n",
    "for index, row in df_unique.iterrows():\n",
    "    res = 2 ** - (row['E[H(x)]+log_2[count(x)]'] / c(n_samples))\n",
    "    result.append(res)\n",
    "df_unique['S(x,n_samples)'] = result\n",
    "df_unique"
   ]
  },
  {
   "cell_type": "markdown",
   "source": [
    "# Performance evaluation"
   ],
   "metadata": {
    "collapsed": false,
    "pycharm": {
     "name": "#%% md\n"
    }
   }
  },
  {
   "cell_type": "markdown",
   "source": [
    "## Overview"
   ],
   "metadata": {
    "collapsed": false,
    "pycharm": {
     "name": "#%% md\n"
    }
   }
  },
  {
   "cell_type": "markdown",
   "source": [],
   "metadata": {
    "collapsed": false
   }
  },
  {
   "cell_type": "code",
   "execution_count": 337,
   "outputs": [
    {
     "data": {
      "text/plain": "                                name train_accuracy_score test_accuracy_score  \\\n0             Isolation Forest Bases             0.823333                0.78   \n1  Isolation Forest Bases - extended             0.886667            0.826667   \n2          Isolation Forest Original                 0.65            0.533333   \n\n  outlier_accuracy_score train_precision_score test_precision_score  \\\n0                    1.0                   1.0                  1.0   \n1                    1.0                   1.0                  1.0   \n2                    1.0                   1.0                  1.0   \n\n  outlier_precision_score train_f1_score test_f1_score outlier_f1_score  \\\n0                     0.0       0.903108      0.876404              0.0   \n1                     0.0       0.939929      0.905109              0.0   \n2                     0.0       0.787879      0.695652              0.0   \n\n  train_recall_score test_recall_score outlier_recall_score training_time  \\\n0           0.903108          0.876404                  0.0      0.151159   \n1           0.939929          0.905109                  0.0      0.198229   \n2           0.787879          0.695652                  0.0      0.150134   \n\n  prediction_time  \n0        0.119923  \n1        0.842809  \n2        0.121734  ",
      "text/html": "<div>\n<style scoped>\n    .dataframe tbody tr th:only-of-type {\n        vertical-align: middle;\n    }\n\n    .dataframe tbody tr th {\n        vertical-align: top;\n    }\n\n    .dataframe thead th {\n        text-align: right;\n    }\n</style>\n<table border=\"1\" class=\"dataframe\">\n  <thead>\n    <tr style=\"text-align: right;\">\n      <th></th>\n      <th>name</th>\n      <th>train_accuracy_score</th>\n      <th>test_accuracy_score</th>\n      <th>outlier_accuracy_score</th>\n      <th>train_precision_score</th>\n      <th>test_precision_score</th>\n      <th>outlier_precision_score</th>\n      <th>train_f1_score</th>\n      <th>test_f1_score</th>\n      <th>outlier_f1_score</th>\n      <th>train_recall_score</th>\n      <th>test_recall_score</th>\n      <th>outlier_recall_score</th>\n      <th>training_time</th>\n      <th>prediction_time</th>\n    </tr>\n  </thead>\n  <tbody>\n    <tr>\n      <th>0</th>\n      <td>Isolation Forest Bases</td>\n      <td>0.823333</td>\n      <td>0.78</td>\n      <td>1.0</td>\n      <td>1.0</td>\n      <td>1.0</td>\n      <td>0.0</td>\n      <td>0.903108</td>\n      <td>0.876404</td>\n      <td>0.0</td>\n      <td>0.903108</td>\n      <td>0.876404</td>\n      <td>0.0</td>\n      <td>0.151159</td>\n      <td>0.119923</td>\n    </tr>\n    <tr>\n      <th>1</th>\n      <td>Isolation Forest Bases - extended</td>\n      <td>0.886667</td>\n      <td>0.826667</td>\n      <td>1.0</td>\n      <td>1.0</td>\n      <td>1.0</td>\n      <td>0.0</td>\n      <td>0.939929</td>\n      <td>0.905109</td>\n      <td>0.0</td>\n      <td>0.939929</td>\n      <td>0.905109</td>\n      <td>0.0</td>\n      <td>0.198229</td>\n      <td>0.842809</td>\n    </tr>\n    <tr>\n      <th>2</th>\n      <td>Isolation Forest Original</td>\n      <td>0.65</td>\n      <td>0.533333</td>\n      <td>1.0</td>\n      <td>1.0</td>\n      <td>1.0</td>\n      <td>0.0</td>\n      <td>0.787879</td>\n      <td>0.695652</td>\n      <td>0.0</td>\n      <td>0.787879</td>\n      <td>0.695652</td>\n      <td>0.0</td>\n      <td>0.150134</td>\n      <td>0.121734</td>\n    </tr>\n  </tbody>\n</table>\n</div>"
     },
     "execution_count": 337,
     "metadata": {},
     "output_type": "execute_result"
    }
   ],
   "source": [
    "performance"
   ],
   "metadata": {
    "collapsed": false,
    "pycharm": {
     "name": "#%%\n"
    }
   }
  },
  {
   "cell_type": "markdown",
   "source": [
    "## Confusion Matrices"
   ],
   "metadata": {
    "collapsed": false,
    "pycharm": {
     "name": "#%% md\n"
    }
   }
  },
  {
   "cell_type": "code",
   "execution_count": 338,
   "outputs": [
    {
     "name": "stderr",
     "output_type": "stream",
     "text": [
      "/tmp/ipykernel_16432/1268824301.py:20: UserWarning: Matplotlib is currently using module://matplotlib_inline.backend_inline, which is a non-GUI backend, so cannot show the figure.\n",
      "  fig.show()\n",
      "/tmp/ipykernel_16432/1268824301.py:37: UserWarning: Matplotlib is currently using module://matplotlib_inline.backend_inline, which is a non-GUI backend, so cannot show the figure.\n",
      "  fig.show()\n",
      "/tmp/ipykernel_16432/1268824301.py:53: UserWarning: Matplotlib is currently using module://matplotlib_inline.backend_inline, which is a non-GUI backend, so cannot show the figure.\n",
      "  fig.show()\n"
     ]
    },
    {
     "data": {
      "text/plain": "<Figure size 432x288 with 6 Axes>",
      "image/png": "[encoded data removed]"
     },
     "metadata": {
      "needs_background": "light"
     },
     "output_type": "display_data"
    },
    {
     "data": {
      "text/plain": "<Figure size 432x288 with 6 Axes>",
      "image/png": "[encoded data removed]"
     },
     "metadata": {
      "needs_background": "light"
     },
     "output_type": "display_data"
    },
    {
     "data": {
      "text/plain": "<Figure size 432x288 with 6 Axes>",
      "image/png": "[encoded data removed]"
     },
     "metadata": {
      "needs_background": "light"
     },
     "output_type": "display_data"
    }
   ],
   "source": [
    "\n",
    "y_train = y_train.clip(min=0)\n",
    "y_test = y_test.clip(min=0)\n",
    "y_outlier = y_outlier.clip(min=0)\n",
    "\n",
    "# Original\n",
    "fig, (ax1, ax2, ax3) = plt.subplots(1, 3)\n",
    "fig.suptitle(\"Original\")\n",
    "\n",
    "y_train_pred =  org_clf.predict(X_train).clip(min=0)\n",
    "cf_matrix = confusion_matrix(y_train, y_train_pred)\n",
    "sns.heatmap(cf_matrix, annot=True, ax=ax1)\n",
    "\n",
    "y_test_pred =  org_clf.predict(X_test).clip(min=0)\n",
    "cf_matrix = confusion_matrix(y_test, y_test_pred)\n",
    "sns.heatmap(cf_matrix, annot=True, ax=ax2)\n",
    "\n",
    "y_outlier_pred =  org_clf.predict(X_outliers).clip(min=0)\n",
    "cf_matrix = confusion_matrix(y_outlier, y_outlier_pred)\n",
    "sns.heatmap(cf_matrix, annot=True, ax=ax3)\n",
    "fig.show()\n",
    "\n",
    "# GD\n",
    "fig, (ax1, ax2, ax3) = plt.subplots(1, 3)\n",
    "fig.suptitle(\"Bases\")\n",
    "\n",
    "y_train_pred =  gd_clf.predict(X_train_bases).clip(min=0)\n",
    "cf_matrix = confusion_matrix(y_train, y_train_pred)\n",
    "sns.heatmap(cf_matrix, annot=True, ax=ax1)\n",
    "\n",
    "y_test_pred =  gd_clf.predict(X_test_bases).clip(min=0)\n",
    "cf_matrix = confusion_matrix(y_test, y_test_pred)\n",
    "sns.heatmap(cf_matrix, annot=True, ax=ax2)\n",
    "\n",
    "y_outlier_pred =  gd_clf.predict(X_outliers_bases).clip(min=0)\n",
    "cf_matrix = confusion_matrix(y_outlier, y_outlier_pred)\n",
    "sns.heatmap(cf_matrix, annot=True, ax=ax3)\n",
    "fig.show()\n",
    "\n",
    "# GD Extended\n",
    "fig, (ax1, ax2, ax3) = plt.subplots(1, 3)\n",
    "fig.suptitle(\"Bases - extended\")\n",
    "y_train_pred =  gd_ext_clf.predict_extended(X_train_bases).clip(min=0)\n",
    "cf_matrix = confusion_matrix(y_train, y_train_pred)\n",
    "sns.heatmap(cf_matrix, annot=True, ax=ax1)\n",
    "\n",
    "y_test_pred =  gd_ext_clf.predict_extended(X_test_bases).clip(min=0)\n",
    "cf_matrix = confusion_matrix(y_test, y_test_pred)\n",
    "sns.heatmap(cf_matrix, annot=True, ax=ax2)\n",
    "\n",
    "y_outlier_pred =  gd_ext_clf.predict_extended(X_outliers_bases).clip(min=0)\n",
    "cf_matrix = confusion_matrix(y_outlier, y_outlier_pred)\n",
    "sns.heatmap(cf_matrix, annot=True, ax=ax3)\n",
    "fig.show()"
   ],
   "metadata": {
    "collapsed": false,
    "pycharm": {
     "name": "#%%\n"
    }
   }
  },
  {
   "cell_type": "markdown",
   "metadata": {
    "collapsed": false,
    "pycharm": {
     "name": "#%% md\n"
    }
   },
   "source": [
    "# Data Visualization"
   ]
  },
  {
   "cell_type": "markdown",
   "source": [
    "## Decision function (Original, bases, extended) - single cluster"
   ],
   "metadata": {
    "collapsed": false,
    "pycharm": {
     "name": "#%% md\n"
    }
   }
  },
  {
   "cell_type": "code",
   "execution_count": 339,
   "outputs": [
    {
     "data": {
      "text/plain": "<Figure size 432x288 with 3 Axes>",
      "image/png": "[encoded data removed]"
     },
     "metadata": {
      "needs_background": "light"
     },
     "output_type": "display_data"
    }
   ],
   "source": [
    "X_train_2, X_test_2, X_outliers_2 = generate_data(100, 3, 1)\n",
    "\n",
    "vectorized_func = np.vectorize(gd.compress_int)\n",
    "\n",
    "X_train_bases_2 = vectorized_func(X_train_2, deviation_bits=DEVIATION_BITS, output=\"integer\")\n",
    "\n",
    "X_test_bases_2 = vectorized_func(X_test_2, deviation_bits=DEVIATION_BITS, output=\"integer\")\n",
    "\n",
    "X_outliers_bases_2 = vectorized_func(X_outliers_2, deviation_bits=DEVIATION_BITS, output=\"integer\")\n",
    "\n",
    "y_train = np.ones(len(X_train_2))\n",
    "y_test = np.ones(len(X_test_2))\n",
    "y_outlier = np.ones(len(X_outliers_2)) * - 1\n",
    "\n",
    "org_clf_2 = IsolationForest(random_state=rng)\n",
    "org_clf_2.fit(X_train_2)\n",
    "\n",
    "gd_clf_2 = IsolationForest(random_state=rng)\n",
    "gd_clf_2.fit(X_train_bases_2)\n",
    "\n",
    "gd_ext_clf_2 = IsolationForest(random_state=rng)\n",
    "gd_ext_clf_2.fit_extended(X_train_bases_2)\n",
    "\n",
    "xx, yy = np.meshgrid(np.linspace(0, 100, 50), np.linspace(0, 100, 50))\n",
    "\n",
    "fig, (ax1, ax2, ax3) = plt.subplots(3, 1)\n",
    "\n",
    "#Original\n",
    "Z = org_clf_2.decision_function(np.c_[xx.ravel(), yy.ravel()])\n",
    "Z = Z.reshape(xx.shape)\n",
    "ax1.contourf(xx, yy, Z, cmap=plt.cm.Blues_r)\n",
    "\n",
    "ax1.scatter(X_train_2[:, 0], X_train_2[:, 1], c=\"white\", s=20, edgecolor=\"k\")\n",
    "\n",
    "# Bases\n",
    "Z = gd_clf_2.decision_function(np.c_[xx.ravel(), yy.ravel()])\n",
    "Z = Z.reshape(xx.shape)\n",
    "ax2.contourf(xx, yy, Z, cmap=plt.cm.Blues_r)\n",
    "\n",
    "ax2.scatter(X_train_bases_2[:, 0], X_train_bases_2[:, 1], c=\"white\", s=20, edgecolor=\"k\")\n",
    "\n",
    "# Bases - extended\n",
    "Z = gd_ext_clf_2.decision_function_extended(np.c_[xx.ravel(), yy.ravel()])\n",
    "Z = Z.reshape(xx.shape)\n",
    "ax3.contourf(xx, yy, Z, cmap=plt.cm.Blues_r)\n",
    "\n",
    "ax3.scatter(X_train_bases_2[:, 0], X_train_bases_2[:, 1], c=\"white\", s=20, edgecolor=\"k\")\n",
    "\n",
    "# Plot settings\n",
    "ax1.set_title(\"Original Data\")\n",
    "ax2.set_title(\"Bases Data\")\n",
    "ax3.set_title(\"Bases Data - Extended\")\n",
    "\n",
    "ax1.set_xlim([0,100])\n",
    "ax2.set_xlim([0,100])\n",
    "ax3.set_xlim([0,100])\n",
    "\n",
    "ax1.set_ylim([0,100])\n",
    "ax2.set_ylim([0,100])\n",
    "ax3.set_ylim([0,100])\n",
    "\n",
    "ax1.set_xticklabels([])\n",
    "ax2.set_xticklabels([])\n",
    "\n",
    "ax1.set_ylabel('Y')\n",
    "ax2.set_ylabel('Y')\n",
    "ax2.set_xlabel('X')\n",
    "\n",
    "\n",
    "plt.show()"
   ],
   "metadata": {
    "collapsed": false,
    "pycharm": {
     "name": "#%%\n"
    }
   }
  },
  {
   "cell_type": "markdown",
   "source": [
    "## Data before and after gd - scatter"
   ],
   "metadata": {
    "collapsed": false,
    "pycharm": {
     "name": "#%% md\n"
    }
   }
  },
  {
   "cell_type": "code",
   "execution_count": 340,
   "outputs": [
    {
     "data": {
      "text/plain": "<Figure size 432x288 with 2 Axes>",
      "image/png": "[encoded data removed]"
     },
     "metadata": {
      "needs_background": "light"
     },
     "output_type": "display_data"
    }
   ],
   "source": [
    "fig, (ax1, ax2) = plt.subplots(2, 1)\n",
    "\n",
    "b1 = ax1.scatter(X_train[:, 0], X_train[:, 1], c=\"white\", s=20, edgecolor=\"k\")\n",
    "b2 = ax1.scatter(X_test[:, 0], X_test[:, 1], c=\"green\", s=20, edgecolor=\"k\")\n",
    "c = ax1.scatter(X_outliers[:, 0], X_outliers[:, 1], c=\"red\", s=20, edgecolor=\"k\")\n",
    "ax1.set_title(\"Original Data\")\n",
    "\n",
    "b1 = ax2.scatter(X_train_bases[:, 0], X_train_bases[:, 1], c=\"white\", s=20, edgecolor=\"k\")\n",
    "b2 = ax2.scatter(X_test_bases[:, 0], X_test_bases[:, 1], c=\"green\", s=20, edgecolor=\"k\")\n",
    "c = ax2.scatter(X_outliers_bases[:, 0], X_outliers_bases[:, 1], c=\"red\", s=20, edgecolor=\"k\")\n",
    "ax1.set_title(\"Original Data\")\n",
    "ax2.set_title(\"Bases Data\")\n",
    "\n",
    "ax1.set_xlim([30,120])\n",
    "ax2.set_xlim([30,120])\n",
    "\n",
    "ax1.set_ylim([30,120])\n",
    "ax2.set_ylim([30,120])\n",
    "\n",
    "ax1.set_xticklabels([])\n",
    "\n",
    "ax1.set_ylabel('Y')\n",
    "ax2.set_ylabel('Y')\n",
    "ax2.set_xlabel('X')\n",
    "plt.show()"
   ],
   "metadata": {
    "collapsed": false,
    "pycharm": {
     "name": "#%%\n"
    }
   }
  },
  {
   "cell_type": "markdown",
   "source": [],
   "metadata": {
    "collapsed": false,
    "pycharm": {
     "name": "#%% md\n"
    }
   }
  },
  {
   "cell_type": "markdown",
   "source": [
    "## Decision Function - scatter/contour"
   ],
   "metadata": {
    "collapsed": false,
    "pycharm": {
     "name": "#%% md\n"
    }
   }
  },
  {
   "cell_type": "code",
   "execution_count": 341,
   "outputs": [
    {
     "data": {
      "text/plain": "<Figure size 432x288 with 3 Axes>",
      "image/png": "[encoded data removed]"
     },
     "metadata": {
      "needs_background": "light"
     },
     "output_type": "display_data"
    }
   ],
   "source": [
    "xx, yy = np.meshgrid(np.linspace(30, 120, 50), np.linspace(30, 120, 50))\n",
    "\n",
    "fig, (ax1, ax2, ax3) = plt.subplots(3, 1)\n",
    "\n",
    "#Original\n",
    "Z = org_clf.decision_function(np.c_[xx.ravel(), yy.ravel()])\n",
    "Z = Z.reshape(xx.shape)\n",
    "ax1.contourf(xx, yy, Z, cmap=plt.cm.Blues_r)\n",
    "\n",
    "ax1.scatter(X_train[:, 0], X_train[:, 1], c=\"white\", s=20, edgecolor=\"k\")\n",
    "ax1.scatter(X_test[:, 0], X_test[:, 1], c=\"green\", s=20, edgecolor=\"k\")\n",
    "ax1.scatter(X_outliers[:, 0], X_outliers[:, 1], c=\"red\", s=20, edgecolor=\"k\")\n",
    "\n",
    "# Bases\n",
    "Z = gd_clf.decision_function(np.c_[xx.ravel(), yy.ravel()])\n",
    "Z = Z.reshape(xx.shape)\n",
    "ax2.contourf(xx, yy, Z, cmap=plt.cm.Blues_r)\n",
    "\n",
    "ax2.scatter(X_train_bases[:, 0], X_train_bases[:, 1], c=\"white\", s=20, edgecolor=\"k\")\n",
    "ax2.scatter(X_test_bases[:, 0], X_test_bases[:, 1], c=\"green\", s=20, edgecolor=\"k\")\n",
    "ax2.scatter(X_outliers_bases[:, 0], X_outliers_bases[:, 1], c=\"red\", s=20, edgecolor=\"k\")\n",
    "\n",
    "# Bases\n",
    "Z = gd_ext_clf.decision_function_extended(np.c_[xx.ravel(), yy.ravel()])\n",
    "Z = Z.reshape(xx.shape)\n",
    "ax3.contourf(xx, yy, Z, cmap=plt.cm.Blues_r)\n",
    "\n",
    "ax3.scatter(X_train_bases[:, 0], X_train_bases[:, 1], c=\"white\", s=20, edgecolor=\"k\")\n",
    "ax3.scatter(X_test_bases[:, 0], X_test_bases[:, 1], c=\"green\", s=20, edgecolor=\"k\")\n",
    "ax3.scatter(X_outliers_bases[:, 0], X_outliers_bases[:, 1], c=\"red\", s=20, edgecolor=\"k\")\n",
    "\n",
    "# Plot settings\n",
    "ax1.set_title(\"Original Data\")\n",
    "ax2.set_title(\"Bases Data\")\n",
    "ax3.set_title(\"Bases Data - extended\")\n",
    "\n",
    "ax1.set_xlim([30,120])\n",
    "ax2.set_xlim([30,120])\n",
    "ax3.set_xlim([30,120])\n",
    "\n",
    "ax1.set_ylim([30,120])\n",
    "ax2.set_ylim([30,120])\n",
    "ax3.set_ylim([30,120])\n",
    "\n",
    "ax1.set_xticklabels([])\n",
    "ax2.set_xticklabels([])\n",
    "\n",
    "ax1.set_ylabel('Y')\n",
    "ax2.set_ylabel('Y')\n",
    "ax3.set_ylabel('Y')\n",
    "ax3.set_xlabel('X')\n",
    "\n",
    "\n",
    "plt.show()"
   ],
   "metadata": {
    "collapsed": false,
    "pycharm": {
     "name": "#%%\n"
    }
   }
  },
  {
   "cell_type": "markdown",
   "source": [
    "## Bases - density"
   ],
   "metadata": {
    "collapsed": false,
    "pycharm": {
     "name": "#%% md\n"
    }
   }
  },
  {
   "cell_type": "code",
   "execution_count": 342,
   "outputs": [
    {
     "data": {
      "text/plain": "<Figure size 432x288 with 3 Axes>",
      "image/png": "[encoded data removed]"
     },
     "metadata": {
      "needs_background": "light"
     },
     "output_type": "display_data"
    }
   ],
   "source": [
    "fig, axes = plt.subplots(nrows=3, ncols=1)\n",
    "pd.DataFrame(X_train_bases).plot.density(ax=axes[0])\n",
    "pd.DataFrame(X_test_bases).plot.density(ax=axes[1])\n",
    "pd.DataFrame(X_outliers_bases).plot.density(ax=axes[2])\n",
    "plt.show()"
   ],
   "metadata": {
    "collapsed": false,
    "pycharm": {
     "name": "#%%\n"
    }
   }
  },
  {
   "cell_type": "markdown",
   "metadata": {
    "collapsed": false,
    "pycharm": {
     "name": "#%% md\n"
    }
   },
   "source": [
    "## Calculation - scatter"
   ]
  },
  {
   "cell_type": "code",
   "execution_count": 343,
   "metadata": {
    "collapsed": false,
    "pycharm": {
     "name": "#%%\n"
    }
   },
   "outputs": [
    {
     "data": {
      "text/plain": "<Figure size 432x288 with 8 Axes>",
      "image/png": "[encoded data removed]"
     },
     "metadata": {
      "needs_background": "light"
     },
     "output_type": "display_data"
    }
   ],
   "source": [
    "fig, axs = plt.subplots(2, 2)\n",
    "ax1 = axs[0,0]\n",
    "ax2 = axs[0,1]\n",
    "ax3 = axs[1,0]\n",
    "ax4 = axs[1,1]\n",
    "\n",
    "points = ax1.scatter(df_unique.gd_X, df_unique.gd_Y, c=df_unique.gd_score_converted,cmap=\"jet\", lw=0)\n",
    "plt.colorbar(points,ax=ax1)\n",
    "ax1.set_title(\"Score Scatter\")\n",
    "\n",
    "points = ax2.scatter(df_unique.gd_X, df_unique.gd_Y, c=df_unique.gd_score_converted,cmap=\"jet\", lw=0)\n",
    "plt.colorbar(points,ax=ax2)\n",
    "ax2.set_title(\"Score Scatter\")\n",
    "\n",
    "points = ax3.scatter(df_unique.gd_X, df_unique.gd_Y, c=df_unique['E[H(x)]+log_2[count(x)]'],cmap=\"jet\", lw=0)\n",
    "plt.colorbar(points,ax=ax3)\n",
    "ax3.set_title(\"E[H(x)]+log_2[count(x)]\")\n",
    "\n",
    "points = ax4.scatter(df_unique.gd_X, df_unique.gd_Y, c=df_unique['S(x,n_samples)'],cmap=\"jet\", lw=0)\n",
    "plt.colorbar(points,ax=ax4)\n",
    "ax4.set_title(\"S(x,n_samples)\")\n",
    "\n",
    "ax1.set_xticklabels([])\n",
    "ax2.set_xticklabels([])\n",
    "\n",
    "ax2.set_yticklabels([])\n",
    "ax4.set_yticklabels([])\n",
    "\n",
    "ax3.set_ylabel('Y')\n",
    "ax1.set_ylabel('Y')\n",
    "plt.show()"
   ]
  },
  {
   "cell_type": "markdown",
   "metadata": {
    "collapsed": false,
    "pycharm": {
     "name": "#%% md\n"
    }
   },
   "source": []
  },
  {
   "cell_type": "markdown",
   "source": [
    "# Formulas"
   ],
   "metadata": {
    "collapsed": false,
    "pycharm": {
     "name": "#%% md\n"
    }
   }
  },
  {
   "cell_type": "markdown",
   "metadata": {
    "collapsed": false,
    "pycharm": {
     "name": "#%% md\n"
    }
   },
   "source": [
    "## Definitions\n",
    "\n",
    "$n$: number of samples\n",
    "\n",
    "$c(n)$: average path length of unsuccessfull search - constant given n\n",
    "\n",
    "$H(i)$: harmonic number - estimated by $ln(i) + e$\n",
    "\n",
    "$h(x)$: path length - number of edges x traverses an itree from the root node\n",
    "\n",
    "$n$: amount of instances/nodes - amount of bases in our situation\n",
    "\n",
    "$s$: anomaly score -\n",
    "$s(x,n)=2^{\\frac{-E(h(x))}{c(n)}}$\n",
    "\n",
    "$E(h(x))$: average of $h(x)$ from a collection of isolation trees.\n",
    "\n",
    "$f_{base}=\\log_2(n_{base})$\n",
    "\n",
    "---\n",
    "\n",
    "## Deriving equations\n",
    "1:\n",
    "\n",
    "$\\log_2(s) \\cdot c(n)=-E(h(x))$\n",
    "\n",
    "2:\n",
    "\n",
    "$\\log_2(s)=-\\frac{E(h(x))+\\log_2(f_{base})}{c(n_{samples})}$\n",
    "\n",
    "3:\n",
    "\n",
    "$\\log_2(s) \\cdot c(n) = -E(h(x))$\n",
    "\n",
    "4:\n",
    "\n",
    "$\\log_2(s) = -\\frac{E(h(x))+\\log_2(f_{base})}{c(n_{samples})}$\n",
    "\n",
    "\n",
    "---\n",
    "\n",
    "\n"
   ]
  }
 ],
 "metadata": {
  "kernelspec": {
   "display_name": "Python 3",
   "language": "python",
   "name": "python3"
  },
  "language_info": {
   "codemirror_mode": {
    "name": "ipython",
    "version": 2
   },
   "file_extension": ".py",
   "mimetype": "text/x-python",
   "name": "python",
   "nbconvert_exporter": "python",
   "pygments_lexer": "ipython2",
   "version": "2.7.6"
  }
 },
 "nbformat": 4,
 "nbformat_minor": 0
}