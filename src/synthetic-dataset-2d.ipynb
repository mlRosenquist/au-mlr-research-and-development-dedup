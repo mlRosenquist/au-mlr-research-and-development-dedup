{
 "cells": [
  {
   "cell_type": "markdown",
   "metadata": {
    "collapsed": false
   },
   "source": [
    "# Setup"
   ]
  },
  {
   "cell_type": "markdown",
   "source": [
    "## Imports"
   ],
   "metadata": {
    "collapsed": false
   }
  },
  {
   "cell_type": "code",
   "execution_count": 741,
   "metadata": {
    "collapsed": false,
    "pycharm": {
     "name": "#%%\n"
    }
   },
   "outputs": [],
   "source": [
    "import time\n",
    "\n",
    "import pandas as pd\n",
    "import numpy as np\n",
    "from matplotlib import pyplot as plt\n",
    "from sklearn.metrics import accuracy_score\n",
    "\n",
    "import gd as gd\n",
    "import math\n",
    "from random import randint\n",
    "from sklearn.ensemble import IsolationForest"
   ]
  },
  {
   "cell_type": "markdown",
   "metadata": {
    "collapsed": false
   },
   "source": [
    "## Constants"
   ]
  },
  {
   "cell_type": "code",
   "execution_count": 742,
   "metadata": {
    "collapsed": false,
    "pycharm": {
     "name": "#%%\n"
    }
   },
   "outputs": [],
   "source": [
    "# Data generation\n",
    "SAMPLE_TRAIN_SIZE = 100\n",
    "SAMPLE_TEST_SIZE = 30\n",
    "SAMPLE_OUTLIER_SIZE = 20\n",
    "sigma = 2\n",
    "\n",
    "# Generalized Deduplication\n",
    "DEVIATION_BITS = 2\n",
    "\n",
    "\n",
    "rng = np.random.RandomState(42)"
   ]
  },
  {
   "cell_type": "markdown",
   "metadata": {
    "collapsed": true,
    "pycharm": {
     "name": "#%% md\n"
    }
   },
   "source": [
    "# Load Data"
   ]
  },
  {
   "cell_type": "markdown",
   "source": [
    "## Generate data"
   ],
   "metadata": {
    "collapsed": false
   }
  },
  {
   "cell_type": "code",
   "execution_count": 743,
   "metadata": {
    "collapsed": false,
    "pycharm": {
     "name": "#%%\n"
    }
   },
   "outputs": [],
   "source": [
    "# Generate train data\n",
    "X_train = np.r_[(\n",
    "    np.c_[((sigma * rng.randn(SAMPLE_TRAIN_SIZE, 1)).astype(int) + 60, (sigma * rng.randn(SAMPLE_TRAIN_SIZE, 1)).astype(int) + 50)],\n",
    "    np.c_[((sigma * rng.randn(SAMPLE_TRAIN_SIZE, 1)).astype(int) + 50, (sigma * rng.randn(SAMPLE_TRAIN_SIZE, 1)).astype(int) + 100)],\n",
    "    np.c_[((sigma * rng.randn(SAMPLE_TRAIN_SIZE, 1)).astype(int) + 100, (sigma * rng.randn(SAMPLE_TRAIN_SIZE, 1)).astype(int) + 100)]\n",
    ")]\n",
    "\n",
    "# Generate test data\n",
    "X_test = np.r_[(\n",
    "    np.c_[((sigma * rng.randn(SAMPLE_TEST_SIZE, 1)).astype(int) + 60, (sigma * rng.randn(SAMPLE_TEST_SIZE, 1)).astype(int) + 50)],\n",
    "    np.c_[((sigma * rng.randn(SAMPLE_TEST_SIZE, 1)).astype(int) + 50, (sigma * rng.randn(SAMPLE_TEST_SIZE, 1)).astype(int) + 100)],\n",
    "    np.c_[((sigma * rng.randn(SAMPLE_TEST_SIZE, 1)).astype(int) + 100, (sigma * rng.randn(SAMPLE_TEST_SIZE, 1)).astype(int) + 100)]\n",
    ")]\n",
    "\n",
    "# Generate outliers\n",
    "X_outliers = np.r_[\n",
    "    (np.c_[(rng.uniform(low=40, high=60, size=(int(SAMPLE_OUTLIER_SIZE/2), 1))), (rng.uniform(low=70, high=85, size=(int(SAMPLE_OUTLIER_SIZE/2), 1)))],\n",
    "     np.c_[(rng.uniform(low=65, high=120, size=(int(SAMPLE_OUTLIER_SIZE/2), 1))), (rng.uniform(low=60, high=85, size=(int(SAMPLE_OUTLIER_SIZE/2), 1)))]\n",
    "     )]\n",
    "X_outliers = X_outliers.astype(int)"
   ]
  },
  {
   "cell_type": "markdown",
   "metadata": {
    "collapsed": false
   },
   "source": [
    "## Perform Generalized Deduplication"
   ]
  },
  {
   "cell_type": "code",
   "execution_count": 744,
   "metadata": {
    "collapsed": false,
    "pycharm": {
     "name": "#%%\n"
    }
   },
   "outputs": [],
   "source": [
    "vectorized_func = np.vectorize(gd.compress_int)\n",
    "\n",
    "X_train_bases = vectorized_func(X_train, deviation_bits=DEVIATION_BITS, output=\"integer\")\n",
    "\n",
    "X_test_bases = vectorized_func(X_test, deviation_bits=DEVIATION_BITS, output=\"integer\")\n",
    "\n",
    "X_outliers_bases = vectorized_func(X_outliers, deviation_bits=DEVIATION_BITS, output=\"integer\")\n"
   ]
  },
  {
   "cell_type": "markdown",
   "source": [
    "# Model Training"
   ],
   "metadata": {
    "collapsed": false
   }
  },
  {
   "cell_type": "markdown",
   "source": [
    "## Setup"
   ],
   "metadata": {
    "collapsed": false
   }
  },
  {
   "cell_type": "code",
   "execution_count": 745,
   "outputs": [],
   "source": [
    "gd_df_results = pd.DataFrame()\n",
    "org_df_results = pd.DataFrame()\n",
    "performance = pd.DataFrame(columns=['name', 'train_score', 'test_score', 'outlier_score', 'training_time', 'prediction_time'])"
   ],
   "metadata": {
    "collapsed": false,
    "pycharm": {
     "name": "#%%\n"
    }
   }
  },
  {
   "cell_type": "markdown",
   "metadata": {
    "collapsed": false
   },
   "source": [
    "## Isolation Forest - Bases"
   ]
  },
  {
   "cell_type": "code",
   "execution_count": 746,
   "metadata": {
    "collapsed": false,
    "pycharm": {
     "name": "#%%\n"
    }
   },
   "outputs": [
    {
     "name": "stderr",
     "output_type": "stream",
     "text": [
      "/tmp/ipykernel_219014/4255873519.py:19: FutureWarning: The frame.append method is deprecated and will be removed from pandas in a future version. Use pandas.concat instead.\n",
      "  performance = performance.append({\n"
     ]
    },
    {
     "data": {
      "text/plain": "   gd_X  gd_Y  gd_score  gd_anomaly\n0    60    48  0.052802           1\n1    60    48  0.052802           1\n2    60    48  0.052802           1\n3    60    48  0.052802           1\n4    60    48  0.052802           1",
      "text/html": "<div>\n<style scoped>\n    .dataframe tbody tr th:only-of-type {\n        vertical-align: middle;\n    }\n\n    .dataframe tbody tr th {\n        vertical-align: top;\n    }\n\n    .dataframe thead th {\n        text-align: right;\n    }\n</style>\n<table border=\"1\" class=\"dataframe\">\n  <thead>\n    <tr style=\"text-align: right;\">\n      <th></th>\n      <th>gd_X</th>\n      <th>gd_Y</th>\n      <th>gd_score</th>\n      <th>gd_anomaly</th>\n    </tr>\n  </thead>\n  <tbody>\n    <tr>\n      <th>0</th>\n      <td>60</td>\n      <td>48</td>\n      <td>0.052802</td>\n      <td>1</td>\n    </tr>\n    <tr>\n      <th>1</th>\n      <td>60</td>\n      <td>48</td>\n      <td>0.052802</td>\n      <td>1</td>\n    </tr>\n    <tr>\n      <th>2</th>\n      <td>60</td>\n      <td>48</td>\n      <td>0.052802</td>\n      <td>1</td>\n    </tr>\n    <tr>\n      <th>3</th>\n      <td>60</td>\n      <td>48</td>\n      <td>0.052802</td>\n      <td>1</td>\n    </tr>\n    <tr>\n      <th>4</th>\n      <td>60</td>\n      <td>48</td>\n      <td>0.052802</td>\n      <td>1</td>\n    </tr>\n  </tbody>\n</table>\n</div>"
     },
     "execution_count": 746,
     "metadata": {},
     "output_type": "execute_result"
    }
   ],
   "source": [
    "gd_clf = IsolationForest(random_state=rng)\n",
    "\n",
    "start_time = time.time()\n",
    "gd_clf.fit(X_train_bases)\n",
    "end_time = time.time()\n",
    "training_time = end_time - start_time\n",
    "\n",
    "start_time = time.time()\n",
    "y_pred_train = gd_clf.predict(X_train_bases)\n",
    "y_pred_test = gd_clf.predict(X_test_bases)\n",
    "y_pred_outliers = gd_clf.predict(X_outliers_bases)\n",
    "end_time = time.time()\n",
    "prediction_time = end_time - start_time\n",
    "\n",
    "train_score = accuracy_score(np.ones(SAMPLE_TRAIN_SIZE*3), y_pred_train)\n",
    "test_score = accuracy_score(np.ones(SAMPLE_TEST_SIZE*3), y_pred_test)\n",
    "outlier_score = accuracy_score(np.ones(SAMPLE_OUTLIER_SIZE - SAMPLE_OUTLIER_SIZE % 2 ) * - 1, y_pred_outliers)\n",
    "\n",
    "performance = performance.append({\n",
    "    'name': 'Isolation Forest Bases',\n",
    "    'train_score': train_score,\n",
    "    'test_score': test_score,\n",
    "    'outlier_score': outlier_score,\n",
    "    'training_time': training_time,\n",
    "    'prediction_time': prediction_time\n",
    "}, ignore_index=True)\n",
    "\n",
    "gd_df_results['gd_X'] = X_train_bases[:,0]\n",
    "gd_df_results['gd_Y'] = X_train_bases[:,1]\n",
    "gd_df_results['gd_score'] = gd_clf.decision_function(X_train_bases)\n",
    "gd_df_results['gd_anomaly'] = gd_clf.predict(X_train_bases)\n",
    "gd_df_results.head()"
   ]
  },
  {
   "cell_type": "markdown",
   "source": [
    "## Isolation Forest - Original Data"
   ],
   "metadata": {
    "collapsed": false
   }
  },
  {
   "cell_type": "code",
   "execution_count": 747,
   "metadata": {
    "collapsed": false,
    "pycharm": {
     "name": "#%%\n"
    }
   },
   "outputs": [
    {
     "name": "stderr",
     "output_type": "stream",
     "text": [
      "/tmp/ipykernel_219014/192467859.py:19: FutureWarning: The frame.append method is deprecated and will be removed from pandas in a future version. Use pandas.concat instead.\n",
      "  performance = performance.append({\n"
     ]
    },
    {
     "data": {
      "text/plain": "   org_X  org_Y  org_score  org_anomaly\n0     60     48   0.053970            1\n1     60     50  -0.028182           -1\n2     61     50  -0.028182           -1\n3     63     49   0.008819            1\n4     60     50  -0.028182           -1",
      "text/html": "<div>\n<style scoped>\n    .dataframe tbody tr th:only-of-type {\n        vertical-align: middle;\n    }\n\n    .dataframe tbody tr th {\n        vertical-align: top;\n    }\n\n    .dataframe thead th {\n        text-align: right;\n    }\n</style>\n<table border=\"1\" class=\"dataframe\">\n  <thead>\n    <tr style=\"text-align: right;\">\n      <th></th>\n      <th>org_X</th>\n      <th>org_Y</th>\n      <th>org_score</th>\n      <th>org_anomaly</th>\n    </tr>\n  </thead>\n  <tbody>\n    <tr>\n      <th>0</th>\n      <td>60</td>\n      <td>48</td>\n      <td>0.053970</td>\n      <td>1</td>\n    </tr>\n    <tr>\n      <th>1</th>\n      <td>60</td>\n      <td>50</td>\n      <td>-0.028182</td>\n      <td>-1</td>\n    </tr>\n    <tr>\n      <th>2</th>\n      <td>61</td>\n      <td>50</td>\n      <td>-0.028182</td>\n      <td>-1</td>\n    </tr>\n    <tr>\n      <th>3</th>\n      <td>63</td>\n      <td>49</td>\n      <td>0.008819</td>\n      <td>1</td>\n    </tr>\n    <tr>\n      <th>4</th>\n      <td>60</td>\n      <td>50</td>\n      <td>-0.028182</td>\n      <td>-1</td>\n    </tr>\n  </tbody>\n</table>\n</div>"
     },
     "execution_count": 747,
     "metadata": {},
     "output_type": "execute_result"
    }
   ],
   "source": [
    "org_clf = IsolationForest(random_state=rng)\n",
    "\n",
    "start_time = time.time()\n",
    "org_clf.fit(X_train_bases)\n",
    "end_time = time.time()\n",
    "training_time = end_time - start_time\n",
    "\n",
    "start_time = time.time()\n",
    "y_pred_train = org_clf.predict(X_train)\n",
    "y_pred_test = org_clf.predict(X_test)\n",
    "y_pred_outliers = org_clf.predict(X_outliers)\n",
    "end_time = time.time()\n",
    "prediction_time = end_time - start_time\n",
    "\n",
    "train_score = accuracy_score(np.ones(SAMPLE_TRAIN_SIZE*3), y_pred_train)\n",
    "test_score = accuracy_score(np.ones(SAMPLE_TEST_SIZE*3), y_pred_test)\n",
    "outlier_score = accuracy_score(np.ones(SAMPLE_OUTLIER_SIZE - SAMPLE_OUTLIER_SIZE % 2 ) * - 1, y_pred_outliers)\n",
    "\n",
    "performance = performance.append({\n",
    "    'name': 'Isolation Forest Original',\n",
    "    'train_score': train_score,\n",
    "    'test_score': test_score,\n",
    "    'outlier_score': outlier_score,\n",
    "    'training_time': training_time,\n",
    "    'prediction_time': prediction_time\n",
    "}, ignore_index=True)\n",
    "\n",
    "org_df_results['org_X'] = X_train[:,0]\n",
    "org_df_results['org_Y'] = X_train[:,1]\n",
    "org_df_results['org_score'] = org_clf.decision_function(X_train)\n",
    "org_df_results['org_anomaly'] = org_clf.predict(X_train)\n",
    "org_df_results.head()"
   ]
  },
  {
   "cell_type": "markdown",
   "metadata": {
    "collapsed": false
   },
   "source": [
    "# Calculations"
   ]
  },
  {
   "cell_type": "markdown",
   "metadata": {
    "collapsed": false
   },
   "source": [
    "### Count amount of base occurences"
   ]
  },
  {
   "cell_type": "code",
   "execution_count": 748,
   "metadata": {
    "collapsed": false,
    "pycharm": {
     "name": "#%%\n"
    }
   },
   "outputs": [
    {
     "data": {
      "text/plain": "   gd_X  gd_Y  gd_counts  gd_org_idx\n0    44    96          1         136\n1    44   100          4         121\n2    44   104          1         123\n3    48    96         24         100\n4    48   100         52         104",
      "text/html": "<div>\n<style scoped>\n    .dataframe tbody tr th:only-of-type {\n        vertical-align: middle;\n    }\n\n    .dataframe tbody tr th {\n        vertical-align: top;\n    }\n\n    .dataframe thead th {\n        text-align: right;\n    }\n</style>\n<table border=\"1\" class=\"dataframe\">\n  <thead>\n    <tr style=\"text-align: right;\">\n      <th></th>\n      <th>gd_X</th>\n      <th>gd_Y</th>\n      <th>gd_counts</th>\n      <th>gd_org_idx</th>\n    </tr>\n  </thead>\n  <tbody>\n    <tr>\n      <th>0</th>\n      <td>44</td>\n      <td>96</td>\n      <td>1</td>\n      <td>136</td>\n    </tr>\n    <tr>\n      <th>1</th>\n      <td>44</td>\n      <td>100</td>\n      <td>4</td>\n      <td>121</td>\n    </tr>\n    <tr>\n      <th>2</th>\n      <td>44</td>\n      <td>104</td>\n      <td>1</td>\n      <td>123</td>\n    </tr>\n    <tr>\n      <th>3</th>\n      <td>48</td>\n      <td>96</td>\n      <td>24</td>\n      <td>100</td>\n    </tr>\n    <tr>\n      <th>4</th>\n      <td>48</td>\n      <td>100</td>\n      <td>52</td>\n      <td>104</td>\n    </tr>\n  </tbody>\n</table>\n</div>"
     },
     "execution_count": 748,
     "metadata": {},
     "output_type": "execute_result"
    }
   ],
   "source": [
    "array = X_train_bases#your numpy array of lists\n",
    "new_array = [tuple(row) for row in array]\n",
    "unique, idx, counts = np.unique(new_array, axis=0, return_index=True, return_counts=True)\n",
    "\n",
    "df_unique = pd.DataFrame()\n",
    "df_unique['gd_X'] = unique[:,0]\n",
    "df_unique['gd_Y'] = unique[:,1]\n",
    "df_unique['gd_counts'] = counts\n",
    "df_unique['gd_org_idx'] = idx\n",
    "df_unique.head()"
   ]
  },
  {
   "cell_type": "markdown",
   "metadata": {
    "collapsed": false
   },
   "source": [
    "### Prepare data for calculation"
   ]
  },
  {
   "cell_type": "code",
   "execution_count": 749,
   "metadata": {
    "collapsed": false,
    "pycharm": {
     "name": "#%%\n"
    }
   },
   "outputs": [
    {
     "data": {
      "text/plain": "     org_X  gd_X  org_Y  gd_Y  org_score  gd_score  org_score_converted  \\\n0       60    60     48    48   0.053970  0.052802             0.446030   \n1       60    60     50    48  -0.028182  0.052802             0.528182   \n2       61    60     50    48  -0.028182  0.052802             0.528182   \n3       63    60     49    48   0.008819  0.052802             0.491181   \n4       60    60     50    48  -0.028182  0.052802             0.528182   \n..     ...   ...    ...   ...        ...       ...                  ...   \n295    101   100     99    96  -0.013361  0.001353             0.513361   \n296     98    96    100   100   0.016164  0.005860             0.483836   \n297    100   100     99    96   0.021509  0.001353             0.478491   \n298     99    96    100   100   0.024379  0.005860             0.475621   \n299     98    96    100   100   0.016164  0.005860             0.483836   \n\n     gd_score_converted  org_anomaly  gd_anomaly  \n0              0.447198            1           1  \n1              0.447198           -1           1  \n2              0.447198           -1           1  \n3              0.447198            1           1  \n4              0.447198           -1           1  \n..                  ...          ...         ...  \n295            0.498647           -1           1  \n296            0.494140            1           1  \n297            0.498647            1           1  \n298            0.494140            1           1  \n299            0.494140            1           1  \n\n[300 rows x 10 columns]",
      "text/html": "<div>\n<style scoped>\n    .dataframe tbody tr th:only-of-type {\n        vertical-align: middle;\n    }\n\n    .dataframe tbody tr th {\n        vertical-align: top;\n    }\n\n    .dataframe thead th {\n        text-align: right;\n    }\n</style>\n<table border=\"1\" class=\"dataframe\">\n  <thead>\n    <tr style=\"text-align: right;\">\n      <th></th>\n      <th>org_X</th>\n      <th>gd_X</th>\n      <th>org_Y</th>\n      <th>gd_Y</th>\n      <th>org_score</th>\n      <th>gd_score</th>\n      <th>org_score_converted</th>\n      <th>gd_score_converted</th>\n      <th>org_anomaly</th>\n      <th>gd_anomaly</th>\n    </tr>\n  </thead>\n  <tbody>\n    <tr>\n      <th>0</th>\n      <td>60</td>\n      <td>60</td>\n      <td>48</td>\n      <td>48</td>\n      <td>0.053970</td>\n      <td>0.052802</td>\n      <td>0.446030</td>\n      <td>0.447198</td>\n      <td>1</td>\n      <td>1</td>\n    </tr>\n    <tr>\n      <th>1</th>\n      <td>60</td>\n      <td>60</td>\n      <td>50</td>\n      <td>48</td>\n      <td>-0.028182</td>\n      <td>0.052802</td>\n      <td>0.528182</td>\n      <td>0.447198</td>\n      <td>-1</td>\n      <td>1</td>\n    </tr>\n    <tr>\n      <th>2</th>\n      <td>61</td>\n      <td>60</td>\n      <td>50</td>\n      <td>48</td>\n      <td>-0.028182</td>\n      <td>0.052802</td>\n      <td>0.528182</td>\n      <td>0.447198</td>\n      <td>-1</td>\n      <td>1</td>\n    </tr>\n    <tr>\n      <th>3</th>\n      <td>63</td>\n      <td>60</td>\n      <td>49</td>\n      <td>48</td>\n      <td>0.008819</td>\n      <td>0.052802</td>\n      <td>0.491181</td>\n      <td>0.447198</td>\n      <td>1</td>\n      <td>1</td>\n    </tr>\n    <tr>\n      <th>4</th>\n      <td>60</td>\n      <td>60</td>\n      <td>50</td>\n      <td>48</td>\n      <td>-0.028182</td>\n      <td>0.052802</td>\n      <td>0.528182</td>\n      <td>0.447198</td>\n      <td>-1</td>\n      <td>1</td>\n    </tr>\n    <tr>\n      <th>...</th>\n      <td>...</td>\n      <td>...</td>\n      <td>...</td>\n      <td>...</td>\n      <td>...</td>\n      <td>...</td>\n      <td>...</td>\n      <td>...</td>\n      <td>...</td>\n      <td>...</td>\n    </tr>\n    <tr>\n      <th>295</th>\n      <td>101</td>\n      <td>100</td>\n      <td>99</td>\n      <td>96</td>\n      <td>-0.013361</td>\n      <td>0.001353</td>\n      <td>0.513361</td>\n      <td>0.498647</td>\n      <td>-1</td>\n      <td>1</td>\n    </tr>\n    <tr>\n      <th>296</th>\n      <td>98</td>\n      <td>96</td>\n      <td>100</td>\n      <td>100</td>\n      <td>0.016164</td>\n      <td>0.005860</td>\n      <td>0.483836</td>\n      <td>0.494140</td>\n      <td>1</td>\n      <td>1</td>\n    </tr>\n    <tr>\n      <th>297</th>\n      <td>100</td>\n      <td>100</td>\n      <td>99</td>\n      <td>96</td>\n      <td>0.021509</td>\n      <td>0.001353</td>\n      <td>0.478491</td>\n      <td>0.498647</td>\n      <td>1</td>\n      <td>1</td>\n    </tr>\n    <tr>\n      <th>298</th>\n      <td>99</td>\n      <td>96</td>\n      <td>100</td>\n      <td>100</td>\n      <td>0.024379</td>\n      <td>0.005860</td>\n      <td>0.475621</td>\n      <td>0.494140</td>\n      <td>1</td>\n      <td>1</td>\n    </tr>\n    <tr>\n      <th>299</th>\n      <td>98</td>\n      <td>96</td>\n      <td>100</td>\n      <td>100</td>\n      <td>0.016164</td>\n      <td>0.005860</td>\n      <td>0.483836</td>\n      <td>0.494140</td>\n      <td>1</td>\n      <td>1</td>\n    </tr>\n  </tbody>\n</table>\n<p>300 rows × 10 columns</p>\n</div>"
     },
     "execution_count": 749,
     "metadata": {},
     "output_type": "execute_result"
    }
   ],
   "source": [
    "# Merge gd results and original results in single dataframe\n",
    "df_results = pd.DataFrame()\n",
    "df_results['org_X'] = org_df_results['org_X']\n",
    "df_results['gd_X'] = gd_df_results['gd_X']\n",
    "df_results['org_Y'] = org_df_results['org_Y']\n",
    "df_results['gd_Y'] = gd_df_results['gd_Y']\n",
    "df_results['org_score'] = org_df_results['org_score']\n",
    "df_results['gd_score'] = gd_df_results['gd_score']\n",
    "df_results['org_score_converted'] = df_results['org_score'].sub(0.5).mul(-1) # Convert sklearn score range to paper score range [-0.5;0.5] -> [0;1]\n",
    "df_results['gd_score_converted'] = df_results['gd_score'].sub(0.5).mul(-1) # Convert sklearn score range to paper score range [-0.5;0.5] -> [0;1]\n",
    "df_results['org_anomaly'] = org_df_results['org_anomaly']\n",
    "df_results['gd_anomaly'] = gd_df_results['gd_anomaly']\n",
    "\n",
    "df_results"
   ]
  },
  {
   "cell_type": "code",
   "execution_count": 750,
   "metadata": {
    "collapsed": false,
    "pycharm": {
     "name": "#%%\n"
    }
   },
   "outputs": [
    {
     "data": {
      "text/plain": "   gd_X  gd_Y  gd_counts  gd_org_idx  gd_anomaly  gd_score  gd_score_converted\n0    44    96          1         136        -1.0 -0.192527            0.692527\n1    44   100          4         121        -1.0 -0.125937            0.625937\n2    44   104          1         123        -1.0 -0.231467            0.731467\n3    48    96         24         100         1.0  0.017720            0.482280\n4    48   100         52         104         1.0  0.087970            0.412030",
      "text/html": "<div>\n<style scoped>\n    .dataframe tbody tr th:only-of-type {\n        vertical-align: middle;\n    }\n\n    .dataframe tbody tr th {\n        vertical-align: top;\n    }\n\n    .dataframe thead th {\n        text-align: right;\n    }\n</style>\n<table border=\"1\" class=\"dataframe\">\n  <thead>\n    <tr style=\"text-align: right;\">\n      <th></th>\n      <th>gd_X</th>\n      <th>gd_Y</th>\n      <th>gd_counts</th>\n      <th>gd_org_idx</th>\n      <th>gd_anomaly</th>\n      <th>gd_score</th>\n      <th>gd_score_converted</th>\n    </tr>\n  </thead>\n  <tbody>\n    <tr>\n      <th>0</th>\n      <td>44</td>\n      <td>96</td>\n      <td>1</td>\n      <td>136</td>\n      <td>-1.0</td>\n      <td>-0.192527</td>\n      <td>0.692527</td>\n    </tr>\n    <tr>\n      <th>1</th>\n      <td>44</td>\n      <td>100</td>\n      <td>4</td>\n      <td>121</td>\n      <td>-1.0</td>\n      <td>-0.125937</td>\n      <td>0.625937</td>\n    </tr>\n    <tr>\n      <th>2</th>\n      <td>44</td>\n      <td>104</td>\n      <td>1</td>\n      <td>123</td>\n      <td>-1.0</td>\n      <td>-0.231467</td>\n      <td>0.731467</td>\n    </tr>\n    <tr>\n      <th>3</th>\n      <td>48</td>\n      <td>96</td>\n      <td>24</td>\n      <td>100</td>\n      <td>1.0</td>\n      <td>0.017720</td>\n      <td>0.482280</td>\n    </tr>\n    <tr>\n      <th>4</th>\n      <td>48</td>\n      <td>100</td>\n      <td>52</td>\n      <td>104</td>\n      <td>1.0</td>\n      <td>0.087970</td>\n      <td>0.412030</td>\n    </tr>\n  </tbody>\n</table>\n</div>"
     },
     "execution_count": 750,
     "metadata": {},
     "output_type": "execute_result"
    }
   ],
   "source": [
    "\n",
    "# Add score and anomaly to df_uniques\n",
    "scores = []\n",
    "scores_converted = []\n",
    "anomaly = []\n",
    "for index, row in df_unique.iterrows():\n",
    "    result = df_results[(df_results.gd_X == row.gd_X) & (df_results.gd_Y == row.gd_Y)].iloc[0]\n",
    "    scores.append(result.gd_score)\n",
    "    scores_converted.append(result.gd_score_converted)\n",
    "    anomaly.append(result.gd_anomaly)\n",
    "\n",
    "df_unique['gd_anomaly'] = anomaly\n",
    "df_unique['gd_score'] = scores\n",
    "df_unique['gd_score_converted'] = scores_converted\n",
    "\n",
    "# Define constants\n",
    "n_samples = len(df_results)\n",
    "n_uniques = len(df_unique)\n",
    "df_unique.head()"
   ]
  },
  {
   "cell_type": "markdown",
   "metadata": {
    "collapsed": false
   },
   "source": [
    "### Perform calculation"
   ]
  },
  {
   "cell_type": "code",
   "execution_count": 751,
   "metadata": {
    "collapsed": false,
    "pycharm": {
     "name": "#%%\n"
    }
   },
   "outputs": [],
   "source": [
    "def H(i):\n",
    "    return np.log(i) + 0.5772156649 # euler's constant\n",
    "\n",
    "def c(n):\n",
    "    return 2*H(n-1) - ((2*(n-1))/n)"
   ]
  },
  {
   "cell_type": "markdown",
   "metadata": {
    "collapsed": false
   },
   "source": [
    "Calculation 1:  $\\log_2(s(x,n)) \\cdot c(n) = E(h(x))$"
   ]
  },
  {
   "cell_type": "code",
   "execution_count": 752,
   "metadata": {
    "collapsed": false,
    "pycharm": {
     "name": "#%%\n"
    }
   },
   "outputs": [
    {
     "data": {
      "text/plain": "   gd_X  gd_Y  gd_counts  gd_org_idx  gd_anomaly  gd_score  \\\n0    44    96          1         136        -1.0 -0.192527   \n1    44   100          4         121        -1.0 -0.125937   \n2    44   104          1         123        -1.0 -0.231467   \n3    48    96         24         100         1.0  0.017720   \n4    48   100         52         104         1.0  0.087970   \n\n   gd_score_converted  E[H(x)]+log_2[count(x)]  \n0            0.692527                 5.598471  \n1            0.625937                 9.138955  \n2            0.731467                 4.764878  \n3            0.482280                15.696789  \n4            0.412030                19.211089  ",
      "text/html": "<div>\n<style scoped>\n    .dataframe tbody tr th:only-of-type {\n        vertical-align: middle;\n    }\n\n    .dataframe tbody tr th {\n        vertical-align: top;\n    }\n\n    .dataframe thead th {\n        text-align: right;\n    }\n</style>\n<table border=\"1\" class=\"dataframe\">\n  <thead>\n    <tr style=\"text-align: right;\">\n      <th></th>\n      <th>gd_X</th>\n      <th>gd_Y</th>\n      <th>gd_counts</th>\n      <th>gd_org_idx</th>\n      <th>gd_anomaly</th>\n      <th>gd_score</th>\n      <th>gd_score_converted</th>\n      <th>E[H(x)]+log_2[count(x)]</th>\n    </tr>\n  </thead>\n  <tbody>\n    <tr>\n      <th>0</th>\n      <td>44</td>\n      <td>96</td>\n      <td>1</td>\n      <td>136</td>\n      <td>-1.0</td>\n      <td>-0.192527</td>\n      <td>0.692527</td>\n      <td>5.598471</td>\n    </tr>\n    <tr>\n      <th>1</th>\n      <td>44</td>\n      <td>100</td>\n      <td>4</td>\n      <td>121</td>\n      <td>-1.0</td>\n      <td>-0.125937</td>\n      <td>0.625937</td>\n      <td>9.138955</td>\n    </tr>\n    <tr>\n      <th>2</th>\n      <td>44</td>\n      <td>104</td>\n      <td>1</td>\n      <td>123</td>\n      <td>-1.0</td>\n      <td>-0.231467</td>\n      <td>0.731467</td>\n      <td>4.764878</td>\n    </tr>\n    <tr>\n      <th>3</th>\n      <td>48</td>\n      <td>96</td>\n      <td>24</td>\n      <td>100</td>\n      <td>1.0</td>\n      <td>0.017720</td>\n      <td>0.482280</td>\n      <td>15.696789</td>\n    </tr>\n    <tr>\n      <th>4</th>\n      <td>48</td>\n      <td>100</td>\n      <td>52</td>\n      <td>104</td>\n      <td>1.0</td>\n      <td>0.087970</td>\n      <td>0.412030</td>\n      <td>19.211089</td>\n    </tr>\n  </tbody>\n</table>\n</div>"
     },
     "execution_count": 752,
     "metadata": {},
     "output_type": "execute_result"
    }
   ],
   "source": [
    "result = []\n",
    "for index, row in df_unique.iterrows():\n",
    "    res = -(np.log2(row.gd_score_converted) * c(n_samples)) + np.log2(row.gd_counts)\n",
    "    result.append(res)\n",
    "df_unique['E[H(x)]+log_2[count(x)]'] = result\n",
    "df_unique.head()"
   ]
  },
  {
   "cell_type": "markdown",
   "metadata": {
    "collapsed": false
   },
   "source": [
    "Calculation 2: $S(x, n_{samples})=2^{-\\frac{E(h(x))}{c(n_{samples})}}$"
   ]
  },
  {
   "cell_type": "code",
   "execution_count": 753,
   "metadata": {
    "collapsed": false,
    "pycharm": {
     "name": "#%%\n"
    }
   },
   "outputs": [
    {
     "data": {
      "text/plain": "   gd_X  gd_Y  gd_counts  gd_org_idx  gd_anomaly  gd_score  \\\n0    44    96          1         136        -1.0 -0.192527   \n1    44   100          4         121        -1.0 -0.125937   \n2    44   104          1         123        -1.0 -0.231467   \n3    48    96         24         100         1.0  0.017720   \n4    48   100         52         104         1.0  0.087970   \n\n   gd_score_converted  E[H(x)]+log_2[count(x)]  S(x,n_samples)  \n0            0.692527                 5.598471        0.692527  \n1            0.625937                 9.138955        0.548944  \n2            0.731467                 4.764878        0.731467  \n3            0.482280                15.696789        0.356962  \n4            0.412030                19.211089        0.283439  ",
      "text/html": "<div>\n<style scoped>\n    .dataframe tbody tr th:only-of-type {\n        vertical-align: middle;\n    }\n\n    .dataframe tbody tr th {\n        vertical-align: top;\n    }\n\n    .dataframe thead th {\n        text-align: right;\n    }\n</style>\n<table border=\"1\" class=\"dataframe\">\n  <thead>\n    <tr style=\"text-align: right;\">\n      <th></th>\n      <th>gd_X</th>\n      <th>gd_Y</th>\n      <th>gd_counts</th>\n      <th>gd_org_idx</th>\n      <th>gd_anomaly</th>\n      <th>gd_score</th>\n      <th>gd_score_converted</th>\n      <th>E[H(x)]+log_2[count(x)]</th>\n      <th>S(x,n_samples)</th>\n    </tr>\n  </thead>\n  <tbody>\n    <tr>\n      <th>0</th>\n      <td>44</td>\n      <td>96</td>\n      <td>1</td>\n      <td>136</td>\n      <td>-1.0</td>\n      <td>-0.192527</td>\n      <td>0.692527</td>\n      <td>5.598471</td>\n      <td>0.692527</td>\n    </tr>\n    <tr>\n      <th>1</th>\n      <td>44</td>\n      <td>100</td>\n      <td>4</td>\n      <td>121</td>\n      <td>-1.0</td>\n      <td>-0.125937</td>\n      <td>0.625937</td>\n      <td>9.138955</td>\n      <td>0.548944</td>\n    </tr>\n    <tr>\n      <th>2</th>\n      <td>44</td>\n      <td>104</td>\n      <td>1</td>\n      <td>123</td>\n      <td>-1.0</td>\n      <td>-0.231467</td>\n      <td>0.731467</td>\n      <td>4.764878</td>\n      <td>0.731467</td>\n    </tr>\n    <tr>\n      <th>3</th>\n      <td>48</td>\n      <td>96</td>\n      <td>24</td>\n      <td>100</td>\n      <td>1.0</td>\n      <td>0.017720</td>\n      <td>0.482280</td>\n      <td>15.696789</td>\n      <td>0.356962</td>\n    </tr>\n    <tr>\n      <th>4</th>\n      <td>48</td>\n      <td>100</td>\n      <td>52</td>\n      <td>104</td>\n      <td>1.0</td>\n      <td>0.087970</td>\n      <td>0.412030</td>\n      <td>19.211089</td>\n      <td>0.283439</td>\n    </tr>\n  </tbody>\n</table>\n</div>"
     },
     "execution_count": 753,
     "metadata": {},
     "output_type": "execute_result"
    }
   ],
   "source": [
    "result = []\n",
    "for index, row in df_unique.iterrows():\n",
    "    res = 2 ** - (row['E[H(x)]+log_2[count(x)]'] / c(n_samples))\n",
    "    result.append(res)\n",
    "df_unique['S(x,n_samples)'] = result\n",
    "df_unique.head()"
   ]
  },
  {
   "cell_type": "markdown",
   "source": [
    "# Performance evaluation"
   ],
   "metadata": {
    "collapsed": false
   }
  },
  {
   "cell_type": "code",
   "execution_count": 754,
   "outputs": [
    {
     "data": {
      "text/plain": "                        name train_score test_score outlier_score  \\\n0     Isolation Forest Bases    0.823333   0.744444           1.0   \n1  Isolation Forest Original    0.406667        0.4           1.0   \n\n  training_time prediction_time  \n0      0.114354        0.069966  \n1      0.110049         0.07331  ",
      "text/html": "<div>\n<style scoped>\n    .dataframe tbody tr th:only-of-type {\n        vertical-align: middle;\n    }\n\n    .dataframe tbody tr th {\n        vertical-align: top;\n    }\n\n    .dataframe thead th {\n        text-align: right;\n    }\n</style>\n<table border=\"1\" class=\"dataframe\">\n  <thead>\n    <tr style=\"text-align: right;\">\n      <th></th>\n      <th>name</th>\n      <th>train_score</th>\n      <th>test_score</th>\n      <th>outlier_score</th>\n      <th>training_time</th>\n      <th>prediction_time</th>\n    </tr>\n  </thead>\n  <tbody>\n    <tr>\n      <th>0</th>\n      <td>Isolation Forest Bases</td>\n      <td>0.823333</td>\n      <td>0.744444</td>\n      <td>1.0</td>\n      <td>0.114354</td>\n      <td>0.069966</td>\n    </tr>\n    <tr>\n      <th>1</th>\n      <td>Isolation Forest Original</td>\n      <td>0.406667</td>\n      <td>0.4</td>\n      <td>1.0</td>\n      <td>0.110049</td>\n      <td>0.07331</td>\n    </tr>\n  </tbody>\n</table>\n</div>"
     },
     "execution_count": 754,
     "metadata": {},
     "output_type": "execute_result"
    }
   ],
   "source": [
    "performance"
   ],
   "metadata": {
    "collapsed": false,
    "pycharm": {
     "name": "#%%\n"
    }
   }
  },
  {
   "cell_type": "markdown",
   "metadata": {
    "collapsed": false
   },
   "source": [
    "# Data Visualization"
   ]
  },
  {
   "cell_type": "markdown",
   "source": [
    "## Data before and after gd - scatter"
   ],
   "metadata": {
    "collapsed": false
   }
  },
  {
   "cell_type": "code",
   "execution_count": 755,
   "outputs": [
    {
     "data": {
      "text/plain": "<Figure size 432x288 with 2 Axes>",
      "image/png": "[encoded data removed]"
     },
     "metadata": {
      "needs_background": "light"
     },
     "output_type": "display_data"
    }
   ],
   "source": [
    "fig, (ax1, ax2) = plt.subplots(2, 1)\n",
    "\n",
    "b1 = ax1.scatter(X_train[:, 0], X_train[:, 1], c=\"white\", s=20, edgecolor=\"k\")\n",
    "b2 = ax1.scatter(X_test[:, 0], X_test[:, 1], c=\"green\", s=20, edgecolor=\"k\")\n",
    "c = ax1.scatter(X_outliers[:, 0], X_outliers[:, 1], c=\"red\", s=20, edgecolor=\"k\")\n",
    "ax1.set_title(\"Original Data\")\n",
    "\n",
    "b1 = ax2.scatter(X_train_bases[:, 0], X_train_bases[:, 1], c=\"white\", s=20, edgecolor=\"k\")\n",
    "b2 = ax2.scatter(X_test_bases[:, 0], X_test_bases[:, 1], c=\"green\", s=20, edgecolor=\"k\")\n",
    "c = ax2.scatter(X_outliers_bases[:, 0], X_outliers_bases[:, 1], c=\"red\", s=20, edgecolor=\"k\")\n",
    "ax1.set_title(\"Original Data\")\n",
    "ax2.set_title(\"Bases Data\")\n",
    "\n",
    "ax1.set_xlim([30,120])\n",
    "ax2.set_xlim([30,120])\n",
    "\n",
    "ax1.set_ylim([30,120])\n",
    "ax2.set_ylim([30,120])\n",
    "\n",
    "ax1.set_xticklabels([])\n",
    "\n",
    "ax1.set_ylabel('Y')\n",
    "ax2.set_ylabel('Y')\n",
    "ax2.set_xlabel('X')\n",
    "plt.show()"
   ],
   "metadata": {
    "collapsed": false,
    "pycharm": {
     "name": "#%%\n"
    }
   }
  },
  {
   "cell_type": "markdown",
   "source": [],
   "metadata": {
    "collapsed": false
   }
  },
  {
   "cell_type": "markdown",
   "source": [
    "## Decision Function - scatter/contour"
   ],
   "metadata": {
    "collapsed": false
   }
  },
  {
   "cell_type": "code",
   "execution_count": 756,
   "outputs": [
    {
     "data": {
      "text/plain": "<Figure size 432x288 with 2 Axes>",
      "image/png": "[encoded data removed]"
     },
     "metadata": {
      "needs_background": "light"
     },
     "output_type": "display_data"
    }
   ],
   "source": [
    "xx, yy = np.meshgrid(np.linspace(30, 120, 50), np.linspace(30, 120, 50))\n",
    "\n",
    "fig, (ax1, ax2) = plt.subplots(2, 1)\n",
    "\n",
    "#Original\n",
    "Z = org_clf.decision_function(np.c_[xx.ravel(), yy.ravel()])\n",
    "Z = Z.reshape(xx.shape)\n",
    "ax1.contourf(xx, yy, Z, cmap=plt.cm.Blues_r)\n",
    "\n",
    "ax1.scatter(X_train[:, 0], X_train[:, 1], c=\"white\", s=20, edgecolor=\"k\")\n",
    "ax1.scatter(X_test[:, 0], X_test[:, 1], c=\"green\", s=20, edgecolor=\"k\")\n",
    "ax1.scatter(X_outliers[:, 0], X_outliers[:, 1], c=\"red\", s=20, edgecolor=\"k\")\n",
    "\n",
    "# Bases\n",
    "Z = gd_clf.decision_function(np.c_[xx.ravel(), yy.ravel()])\n",
    "Z = Z.reshape(xx.shape)\n",
    "ax2.contourf(xx, yy, Z, cmap=plt.cm.Blues_r)\n",
    "\n",
    "ax2.scatter(X_train_bases[:, 0], X_train_bases[:, 1], c=\"white\", s=20, edgecolor=\"k\")\n",
    "ax2.scatter(X_test_bases[:, 0], X_test_bases[:, 1], c=\"green\", s=20, edgecolor=\"k\")\n",
    "ax2.scatter(X_outliers_bases[:, 0], X_outliers_bases[:, 1], c=\"red\", s=20, edgecolor=\"k\")\n",
    "\n",
    "# Plot settings\n",
    "ax1.set_title(\"Original Data\")\n",
    "ax2.set_title(\"Bases Data\")\n",
    "\n",
    "ax1.set_xlim([30,120])\n",
    "ax2.set_xlim([30,120])\n",
    "\n",
    "ax1.set_ylim([30,120])\n",
    "ax2.set_ylim([30,120])\n",
    "\n",
    "ax1.set_xticklabels([])\n",
    "\n",
    "ax1.set_ylabel('Y')\n",
    "ax2.set_ylabel('Y')\n",
    "ax2.set_xlabel('X')\n",
    "\n",
    "\n",
    "plt.show()"
   ],
   "metadata": {
    "collapsed": false,
    "pycharm": {
     "name": "#%%\n"
    }
   }
  },
  {
   "cell_type": "markdown",
   "source": [
    "## Bases - density"
   ],
   "metadata": {
    "collapsed": false
   }
  },
  {
   "cell_type": "code",
   "execution_count": 757,
   "outputs": [
    {
     "data": {
      "text/plain": "<Figure size 432x288 with 3 Axes>",
      "image/png": "[encoded data removed]"
     },
     "metadata": {
      "needs_background": "light"
     },
     "output_type": "display_data"
    }
   ],
   "source": [
    "fig, axes = plt.subplots(nrows=3, ncols=1)\n",
    "pd.DataFrame(X_train_bases).plot.density(ax=axes[0])\n",
    "pd.DataFrame(X_test_bases).plot.density(ax=axes[1])\n",
    "pd.DataFrame(X_outliers_bases).plot.density(ax=axes[2])\n",
    "plt.show()"
   ],
   "metadata": {
    "collapsed": false,
    "pycharm": {
     "name": "#%%\n"
    }
   }
  },
  {
   "cell_type": "markdown",
   "metadata": {
    "collapsed": false
   },
   "source": [
    "## Calculation - scatter"
   ]
  },
  {
   "cell_type": "code",
   "execution_count": 758,
   "metadata": {
    "collapsed": false,
    "pycharm": {
     "name": "#%%\n"
    }
   },
   "outputs": [
    {
     "data": {
      "text/plain": "<Figure size 432x288 with 8 Axes>",
      "image/png": "[encoded data removed]"
     },
     "metadata": {
      "needs_background": "light"
     },
     "output_type": "display_data"
    }
   ],
   "source": [
    "fig, axs = plt.subplots(2, 2)\n",
    "ax1 = axs[0,0]\n",
    "ax2 = axs[0,1]\n",
    "ax3 = axs[1,0]\n",
    "ax4 = axs[1,1]\n",
    "\n",
    "points = ax1.scatter(df_unique.gd_X, df_unique.gd_Y, c=df_unique.gd_score_converted,cmap=\"jet\", lw=0)\n",
    "plt.colorbar(points,ax=ax1)\n",
    "ax1.set_title(\"Score Scatter\")\n",
    "\n",
    "points = ax2.scatter(df_unique.gd_X, df_unique.gd_Y, c=df_unique.gd_score_converted,cmap=\"jet\", lw=0)\n",
    "plt.colorbar(points,ax=ax2)\n",
    "ax2.set_title(\"Score Scatter\")\n",
    "\n",
    "points = ax3.scatter(df_unique.gd_X, df_unique.gd_Y, c=df_unique['E[H(x)]+log_2[count(x)]'],cmap=\"jet\", lw=0)\n",
    "plt.colorbar(points,ax=ax3)\n",
    "ax3.set_title(\"E[H(x)]+log_2[count(x)]\")\n",
    "\n",
    "points = ax4.scatter(df_unique.gd_X, df_unique.gd_Y, c=df_unique['S(x,n_samples)'],cmap=\"jet\", lw=0)\n",
    "plt.colorbar(points,ax=ax4)\n",
    "ax4.set_title(\"S(x,n_samples)\")\n",
    "\n",
    "ax1.set_xticklabels([])\n",
    "ax2.set_xticklabels([])\n",
    "\n",
    "ax2.set_yticklabels([])\n",
    "ax4.set_yticklabels([])\n",
    "\n",
    "ax3.set_ylabel('Y')\n",
    "ax1.set_ylabel('Y')\n",
    "plt.show()"
   ]
  },
  {
   "cell_type": "markdown",
   "metadata": {
    "collapsed": false
   },
   "source": []
  },
  {
   "cell_type": "markdown",
   "source": [
    "# Formulas"
   ],
   "metadata": {
    "collapsed": false
   }
  },
  {
   "cell_type": "markdown",
   "metadata": {
    "collapsed": false,
    "pycharm": {
     "name": "#%% md\n"
    }
   },
   "source": [
    "## Definitions\n",
    "\n",
    "$n$: number of samples\n",
    "\n",
    "$c(n)$: average path length of unsuccessfull search - constant given n\n",
    "\n",
    "$H(i)$: harmonic number - estimated by $ln(i) + e$\n",
    "\n",
    "$h(x)$: path length - number of edges x traverses an itree from the root node\n",
    "\n",
    "$n$: amount of instances/nodes - amount of bases in our situation\n",
    "\n",
    "$s$: anomaly score -\n",
    "$s(x,n)=2^{\\frac{-E(h(x))}{c(n)}}$\n",
    "\n",
    "$E(h(x))$: average of $h(x)$ from a collection of isolation trees.\n",
    "\n",
    "$f_{base}=\\log_2(n_{base})$\n",
    "\n",
    "---\n",
    "\n",
    "## Deriving equations\n",
    "1:\n",
    "\n",
    "$\\log_2(s) \\cdot c(n)=-E(h(x))$\n",
    "\n",
    "2:\n",
    "\n",
    "$\\log_2(s)=-\\frac{E(h(x))+\\log_2(f_{base})}{c(n_{samples})}$\n",
    "\n",
    "3:\n",
    "\n",
    "$\\log_2(s) \\cdot c(n) = -E(h(x))$\n",
    "\n",
    "4:\n",
    "\n",
    "$\\log_2(s) = -\\frac{E(h(x))+\\log_2(f_{base})}{c(n_{samples})}$\n",
    "\n",
    "\n",
    "---\n",
    "\n",
    "\n"
   ]
  }
 ],
 "metadata": {
  "kernelspec": {
   "display_name": "Python 3",
   "language": "python",
   "name": "python3"
  },
  "language_info": {
   "codemirror_mode": {
    "name": "ipython",
    "version": 2
   },
   "file_extension": ".py",
   "mimetype": "text/x-python",
   "name": "python",
   "nbconvert_exporter": "python",
   "pygments_lexer": "ipython2",
   "version": "2.7.6"
  }
 },
 "nbformat": 4,
 "nbformat_minor": 0
}