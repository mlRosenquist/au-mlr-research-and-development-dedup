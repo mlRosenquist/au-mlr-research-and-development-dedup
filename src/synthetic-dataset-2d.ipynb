{
 "cells": [
  {
   "cell_type": "markdown",
   "metadata": {
    "collapsed": false,
    "pycharm": {
     "name": "#%% md\n"
    }
   },
   "source": [
    "# Setup"
   ]
  },
  {
   "cell_type": "markdown",
   "source": [
    "## Imports"
   ],
   "metadata": {
    "collapsed": false,
    "pycharm": {
     "name": "#%% md\n"
    }
   }
  },
  {
   "cell_type": "code",
   "execution_count": 1,
   "metadata": {
    "collapsed": false,
    "pycharm": {
     "name": "#%%\n"
    }
   },
   "outputs": [],
   "source": [
    "import time\n",
    "\n",
    "import pandas as pd\n",
    "import numpy as np\n",
    "from matplotlib import pyplot as plt\n",
    "from sklearn.metrics import accuracy_score, confusion_matrix, precision_score, f1_score\n",
    "\n",
    "import gd as gd\n",
    "import math\n",
    "from random import randint\n",
    "from sklearn.ensemble import IsolationForest\n",
    "import seaborn as sns"
   ]
  },
  {
   "cell_type": "markdown",
   "metadata": {
    "collapsed": false,
    "pycharm": {
     "name": "#%% md\n"
    }
   },
   "source": [
    "## Constants"
   ]
  },
  {
   "cell_type": "code",
   "execution_count": 2,
   "metadata": {
    "collapsed": false,
    "pycharm": {
     "name": "#%%\n"
    }
   },
   "outputs": [],
   "source": [
    "# Data generation\n",
    "SAMPLE_TRAIN_SIZE = 100\n",
    "SAMPLE_TEST_SIZE = 50\n",
    "SAMPLE_OUTLIER_SIZE = 20\n",
    "sigma = 2\n",
    "\n",
    "# Generalized Deduplication\n",
    "DEVIATION_BITS = 2\n",
    "\n",
    "# Isolation Forest\n",
    "rng = np.random.RandomState(42)\n",
    "\n",
    "# Performance\n",
    "time_no_iterations = 1\n",
    "time_no_outliers_removed = 0"
   ]
  },
  {
   "cell_type": "markdown",
   "metadata": {
    "collapsed": true,
    "pycharm": {
     "name": "#%% md\n"
    }
   },
   "source": [
    "# Load Data"
   ]
  },
  {
   "cell_type": "markdown",
   "source": [
    "## Generate data"
   ],
   "metadata": {
    "collapsed": false,
    "pycharm": {
     "name": "#%% md\n"
    }
   }
  },
  {
   "cell_type": "code",
   "execution_count": 3,
   "metadata": {
    "collapsed": false,
    "pycharm": {
     "name": "#%%\n"
    }
   },
   "outputs": [],
   "source": [
    "# Generate train data\n",
    "def generate_data(cluster_size, sigma, no_clusters):\n",
    "    train_data = []\n",
    "    test_data = []\n",
    "    outlier_data = []\n",
    "    if no_clusters == 1:\n",
    "        train_data = np.r_[(\n",
    "            np.c_[((sigma * rng.randn(cluster_size, 1)).astype(int) + 50, (sigma * rng.randn(cluster_size, 1)).astype(int) + 50)],\n",
    "            )]\n",
    "        test_data = np.r_[(\n",
    "                    np.c_[((sigma * rng.randn(cluster_size, 1)).astype(int) + 50, (sigma * rng.randn(cluster_size, 1)).astype(int) + 50)],\n",
    "                )]\n",
    "        outlier_data = np.r_[\n",
    "            (np.c_[(rng.uniform(low=40, high=60, size=(2, 1))), (rng.uniform(low=70, high=85, size=(2, 1)))],\n",
    "             )].astype(int)\n",
    "    elif no_clusters == 3:\n",
    "        train_data = np.r_[(\n",
    "            np.c_[((sigma * rng.randn(cluster_size, 1)).astype(int) + 60, (sigma * rng.randn(cluster_size, 1)).astype(int) + 50)],\n",
    "            np.c_[((sigma * rng.randn(cluster_size, 1)).astype(int) + 50, (sigma * rng.randn(cluster_size, 1)).astype(int) + 100)],\n",
    "            np.c_[((sigma * rng.randn(cluster_size, 1)).astype(int) + 100, (sigma * rng.randn(cluster_size, 1)).astype(int) + 100)]\n",
    "            )]\n",
    "        test_data = np.r_[(\n",
    "                    np.c_[((sigma * rng.randn(SAMPLE_TEST_SIZE, 1)).astype(int) + 60, (sigma * rng.randn(SAMPLE_TEST_SIZE, 1)).astype(int) + 50)],\n",
    "                    np.c_[((sigma * rng.randn(SAMPLE_TEST_SIZE, 1)).astype(int) + 50, (sigma * rng.randn(SAMPLE_TEST_SIZE, 1)).astype(int) + 100)],\n",
    "                    np.c_[((sigma * rng.randn(SAMPLE_TEST_SIZE, 1)).astype(int) + 100, (sigma * rng.randn(SAMPLE_TEST_SIZE, 1)).astype(int) + 100)]\n",
    "                )]\n",
    "        outlier_data = np.r_[\n",
    "            (np.c_[(rng.uniform(low=40, high=60, size=(int(SAMPLE_OUTLIER_SIZE/2), 1))), (rng.uniform(low=70, high=85, size=(int(SAMPLE_OUTLIER_SIZE/2), 1)))],\n",
    "             np.c_[(rng.uniform(low=65, high=120, size=(int(SAMPLE_OUTLIER_SIZE/2), 1))), (rng.uniform(low=60, high=85, size=(int(SAMPLE_OUTLIER_SIZE/2), 1)))]\n",
    "             )].astype(int)\n",
    "\n",
    "    return train_data, test_data, outlier_data, np.ones(len(train_data)), np.ones(len(test_data)), np.ones(len(outlier_data)) * - 1\n",
    "\n",
    "X_train, X_test, X_outliers, y_train, y_test, y_outlier = generate_data(100, 2, 3)"
   ]
  },
  {
   "cell_type": "markdown",
   "metadata": {
    "collapsed": false,
    "pycharm": {
     "name": "#%% md\n"
    }
   },
   "source": [
    "## Perform Generalized Deduplication"
   ]
  },
  {
   "cell_type": "code",
   "execution_count": null,
   "metadata": {
    "collapsed": false,
    "pycharm": {
     "name": "#%%\n",
     "is_executing": true
    }
   },
   "outputs": [],
   "source": [
    "vectorized_func = np.vectorize(gd.compress_int)\n",
    "\n",
    "X_train_bases = vectorized_func(X_train, deviation_bits=DEVIATION_BITS, output=\"integer\")\n",
    "X_test_bases = vectorized_func(X_test, deviation_bits=DEVIATION_BITS, output=\"integer\")\n",
    "X_outliers_bases = vectorized_func(X_outliers, deviation_bits=DEVIATION_BITS, output=\"integer\")"
   ]
  },
  {
   "cell_type": "markdown",
   "source": [
    "# Model Training"
   ],
   "metadata": {
    "collapsed": false,
    "pycharm": {
     "name": "#%% md\n"
    }
   }
  },
  {
   "cell_type": "markdown",
   "source": [
    "## Setup"
   ],
   "metadata": {
    "collapsed": false,
    "pycharm": {
     "name": "#%% md\n"
    }
   }
  },
  {
   "cell_type": "code",
   "execution_count": 5,
   "outputs": [],
   "source": [
    "gd_df_results = pd.DataFrame()\n",
    "gd_ext_df_results = pd.DataFrame()\n",
    "org_df_results = pd.DataFrame()\n",
    "performance = pd.DataFrame(columns=['name', 'deviation_bits', 'train_accuracy_score', 'test_accuracy_score', 'outlier_accuracy_score', 'train_precision_score', 'test_precision_score', 'outlier_precision_score','train_f1_score', 'test_f1_score', 'outlier_f1_score', 'train_recall_score', 'test_recall_score', 'outlier_recall_score', 'training_time', 'prediction_time'])\n",
    "\n",
    "\n",
    "def create_performance_object(name, deviation_bits, y_pred_train, y_pred_test, y_pred_outlier, training_time, prediction_time):\n",
    "    return {\n",
    "    'name': name,\n",
    "    'deviation_bits': deviation_bits,\n",
    "    'train_accuracy_score': accuracy_score(y_train, y_pred_train),\n",
    "    'test_accuracy_score': accuracy_score(y_test, y_pred_test),\n",
    "    'outlier_accuracy_score': accuracy_score(y_outlier, y_pred_outlier),\n",
    "    'train_precision_score': precision_score(y_train, y_pred_train),\n",
    "    'test_precision_score': precision_score(y_test, y_pred_test),\n",
    "    'outlier_precision_score': precision_score(y_outlier, y_pred_outlier),\n",
    "    'train_f1_score': f1_score(y_train, y_pred_train),\n",
    "    'test_f1_score': f1_score(y_test, y_pred_test),\n",
    "    'outlier_f1_score': f1_score(y_outlier, y_pred_outlier),\n",
    "    'train_recall_score': f1_score(y_train, y_pred_train),\n",
    "    'test_recall_score': f1_score(y_test, y_pred_test),\n",
    "    'outlier_recall_score': f1_score(y_outlier, y_pred_outlier),\n",
    "    'training_time': training_time,\n",
    "    'prediction_time': prediction_time,\n",
    "    }"
   ],
   "metadata": {
    "collapsed": false,
    "pycharm": {
     "name": "#%%\n"
    }
   }
  },
  {
   "cell_type": "markdown",
   "metadata": {
    "collapsed": false,
    "pycharm": {
     "name": "#%% md\n"
    }
   },
   "source": [
    "## Isolation Forest - Bases"
   ]
  },
  {
   "cell_type": "code",
   "execution_count": 6,
   "metadata": {
    "collapsed": false,
    "pycharm": {
     "name": "#%%\n"
    }
   },
   "outputs": [
    {
     "name": "stderr",
     "output_type": "stream",
     "text": [
      "/home/mlrosenquist/PycharmProjects/scikit-learn/sklearn/metrics/_classification.py:1327: UndefinedMetricWarning: Precision is ill-defined and being set to 0.0 due to no predicted samples. Use `zero_division` parameter to control this behavior.\n",
      "  _warn_prf(average, modifier, msg_start, len(result))\n",
      "/home/mlrosenquist/PycharmProjects/scikit-learn/sklearn/metrics/_classification.py:1592: UndefinedMetricWarning: F-score is ill-defined and being set to 0.0 due to no true nor predicted samples. Use `zero_division` parameter to control this behavior.\n",
      "  _warn_prf(average, \"true nor predicted\", \"F-score is\", len(true_sum))\n",
      "/home/mlrosenquist/PycharmProjects/scikit-learn/sklearn/metrics/_classification.py:1592: UndefinedMetricWarning: F-score is ill-defined and being set to 0.0 due to no true nor predicted samples. Use `zero_division` parameter to control this behavior.\n",
      "  _warn_prf(average, \"true nor predicted\", \"F-score is\", len(true_sum))\n",
      "/tmp/ipykernel_18159/3500199423.py:25: FutureWarning: The frame.append method is deprecated and will be removed from pandas in a future version. Use pandas.concat instead.\n",
      "  performance = performance.append(create_performance_object('Isolation Forest Bases', DEVIATION_BITS, y_pred_train, y_pred_test, y_pred_outliers, training_times[0].mean(), prediction_times[0].mean()), ignore_index=True)\n"
     ]
    },
    {
     "data": {
      "text/plain": "   gd_X  gd_Y  gd_score  gd_anomaly\n0    60    48  0.057226           1\n1    60    48  0.057226           1\n2    60    48  0.057226           1\n3    60    48  0.057226           1\n4    60    48  0.057226           1",
      "text/html": "<div>\n<style scoped>\n    .dataframe tbody tr th:only-of-type {\n        vertical-align: middle;\n    }\n\n    .dataframe tbody tr th {\n        vertical-align: top;\n    }\n\n    .dataframe thead th {\n        text-align: right;\n    }\n</style>\n<table border=\"1\" class=\"dataframe\">\n  <thead>\n    <tr style=\"text-align: right;\">\n      <th></th>\n      <th>gd_X</th>\n      <th>gd_Y</th>\n      <th>gd_score</th>\n      <th>gd_anomaly</th>\n    </tr>\n  </thead>\n  <tbody>\n    <tr>\n      <th>0</th>\n      <td>60</td>\n      <td>48</td>\n      <td>0.057226</td>\n      <td>1</td>\n    </tr>\n    <tr>\n      <th>1</th>\n      <td>60</td>\n      <td>48</td>\n      <td>0.057226</td>\n      <td>1</td>\n    </tr>\n    <tr>\n      <th>2</th>\n      <td>60</td>\n      <td>48</td>\n      <td>0.057226</td>\n      <td>1</td>\n    </tr>\n    <tr>\n      <th>3</th>\n      <td>60</td>\n      <td>48</td>\n      <td>0.057226</td>\n      <td>1</td>\n    </tr>\n    <tr>\n      <th>4</th>\n      <td>60</td>\n      <td>48</td>\n      <td>0.057226</td>\n      <td>1</td>\n    </tr>\n  </tbody>\n</table>\n</div>"
     },
     "execution_count": 6,
     "metadata": {},
     "output_type": "execute_result"
    }
   ],
   "source": [
    "training_times = []\n",
    "prediction_times = []\n",
    "for i in range(0, time_no_iterations):\n",
    "    gd_clf = IsolationForest(random_state=rng)\n",
    "    start_time = time.time()\n",
    "    gd_clf.fit(X_train_bases)\n",
    "    end_time = time.time()\n",
    "    training_time = end_time - start_time\n",
    "    training_times.append(training_time)\n",
    "\n",
    "    start_time = time.time()\n",
    "    y_pred_train = gd_clf.predict(X_train_bases)\n",
    "    y_pred_test = gd_clf.predict(X_test_bases)\n",
    "    y_pred_outliers = gd_clf.predict(X_outliers_bases)\n",
    "    end_time = time.time()\n",
    "    prediction_time = end_time - start_time\n",
    "    prediction_times.append(prediction_time)\n",
    "\n",
    "training_times = pd.DataFrame(training_times)\n",
    "prediction_times = pd.DataFrame(prediction_times)\n",
    "training_times = training_times.drop(training_times.nsmallest(time_no_outliers_removed, 0).index).drop(training_times.nlargest(time_no_outliers_removed, 0).index)\n",
    "prediction_times = prediction_times.drop(prediction_times.nsmallest(time_no_outliers_removed, 0).index).drop(prediction_times.nlargest(time_no_outliers_removed, 0).index)\n",
    "\n",
    "\n",
    "performance = performance.append(create_performance_object('Isolation Forest Bases', DEVIATION_BITS, y_pred_train, y_pred_test, y_pred_outliers, training_times[0].mean(), prediction_times[0].mean()), ignore_index=True)\n",
    "\n",
    "gd_df_results['gd_X'] = X_train_bases[:,0]\n",
    "gd_df_results['gd_Y'] = X_train_bases[:,1]\n",
    "gd_df_results['gd_score'] = gd_clf.decision_function(X_train_bases)\n",
    "gd_df_results['gd_anomaly'] = gd_clf.predict(X_train_bases)\n",
    "gd_df_results.head()"
   ]
  },
  {
   "cell_type": "markdown",
   "source": [
    "## Isolation Forest - Bases - Extended"
   ],
   "metadata": {
    "collapsed": false,
    "pycharm": {
     "name": "#%% md\n"
    }
   }
  },
  {
   "cell_type": "markdown",
   "source": [
    "## Isolation Forest - Original Data"
   ],
   "metadata": {
    "collapsed": false,
    "pycharm": {
     "name": "#%% md\n"
    }
   }
  },
  {
   "cell_type": "code",
   "execution_count": 7,
   "outputs": [
    {
     "name": "stderr",
     "output_type": "stream",
     "text": [
      "/home/mlrosenquist/PycharmProjects/scikit-learn/sklearn/metrics/_classification.py:1327: UndefinedMetricWarning: Precision is ill-defined and being set to 0.0 due to no predicted samples. Use `zero_division` parameter to control this behavior.\n",
      "  _warn_prf(average, modifier, msg_start, len(result))\n",
      "/home/mlrosenquist/PycharmProjects/scikit-learn/sklearn/metrics/_classification.py:1592: UndefinedMetricWarning: F-score is ill-defined and being set to 0.0 due to no true nor predicted samples. Use `zero_division` parameter to control this behavior.\n",
      "  _warn_prf(average, \"true nor predicted\", \"F-score is\", len(true_sum))\n",
      "/home/mlrosenquist/PycharmProjects/scikit-learn/sklearn/metrics/_classification.py:1592: UndefinedMetricWarning: F-score is ill-defined and being set to 0.0 due to no true nor predicted samples. Use `zero_division` parameter to control this behavior.\n",
      "  _warn_prf(average, \"true nor predicted\", \"F-score is\", len(true_sum))\n",
      "/tmp/ipykernel_18159/600193991.py:25: FutureWarning: The frame.append method is deprecated and will be removed from pandas in a future version. Use pandas.concat instead.\n",
      "  performance = performance.append(create_performance_object('Isolation Forest Bases - extended', DEVIATION_BITS, y_pred_train, y_pred_test, y_pred_outliers, training_times[0].mean(), prediction_times[0].mean()), ignore_index=True)\n"
     ]
    },
    {
     "data": {
      "text/plain": "   gd_X  gd_Y  gd_score  gd_anomaly\n0    60    48  0.201445           1\n1    60    48  0.201445           1\n2    60    48  0.201445           1\n3    60    48  0.201445           1\n4    60    48  0.201445           1",
      "text/html": "<div>\n<style scoped>\n    .dataframe tbody tr th:only-of-type {\n        vertical-align: middle;\n    }\n\n    .dataframe tbody tr th {\n        vertical-align: top;\n    }\n\n    .dataframe thead th {\n        text-align: right;\n    }\n</style>\n<table border=\"1\" class=\"dataframe\">\n  <thead>\n    <tr style=\"text-align: right;\">\n      <th></th>\n      <th>gd_X</th>\n      <th>gd_Y</th>\n      <th>gd_score</th>\n      <th>gd_anomaly</th>\n    </tr>\n  </thead>\n  <tbody>\n    <tr>\n      <th>0</th>\n      <td>60</td>\n      <td>48</td>\n      <td>0.201445</td>\n      <td>1</td>\n    </tr>\n    <tr>\n      <th>1</th>\n      <td>60</td>\n      <td>48</td>\n      <td>0.201445</td>\n      <td>1</td>\n    </tr>\n    <tr>\n      <th>2</th>\n      <td>60</td>\n      <td>48</td>\n      <td>0.201445</td>\n      <td>1</td>\n    </tr>\n    <tr>\n      <th>3</th>\n      <td>60</td>\n      <td>48</td>\n      <td>0.201445</td>\n      <td>1</td>\n    </tr>\n    <tr>\n      <th>4</th>\n      <td>60</td>\n      <td>48</td>\n      <td>0.201445</td>\n      <td>1</td>\n    </tr>\n  </tbody>\n</table>\n</div>"
     },
     "execution_count": 7,
     "metadata": {},
     "output_type": "execute_result"
    }
   ],
   "source": [
    "training_times = []\n",
    "prediction_times = []\n",
    "for i in range(0, time_no_iterations):\n",
    "    gd_ext_clf = IsolationForest(random_state=rng)\n",
    "    start_time = time.time()\n",
    "    gd_ext_clf.fit_extended(X_train_bases)\n",
    "    end_time = time.time()\n",
    "    training_time = end_time - start_time\n",
    "    training_times.append(training_time)\n",
    "\n",
    "    start_time = time.time()\n",
    "    y_pred_train = gd_ext_clf.predict_extended(X_train_bases)\n",
    "    y_pred_test = gd_ext_clf.predict_extended(X_test_bases)\n",
    "    y_pred_outliers = gd_ext_clf.predict_extended(X_outliers_bases)\n",
    "    end_time = time.time()\n",
    "    prediction_time = end_time - start_time\n",
    "    prediction_times.append(prediction_time)\n",
    "\n",
    "training_times = pd.DataFrame(training_times)\n",
    "prediction_times = pd.DataFrame(prediction_times)\n",
    "training_times = training_times.drop(training_times.nsmallest(time_no_outliers_removed, 0).index).drop(training_times.nlargest(time_no_outliers_removed, 0).index)\n",
    "prediction_times = prediction_times.drop(prediction_times.nsmallest(time_no_outliers_removed, 0).index).drop(prediction_times.nlargest(time_no_outliers_removed, 0).index)\n",
    "\n",
    "\n",
    "performance = performance.append(create_performance_object('Isolation Forest Bases - extended', DEVIATION_BITS, y_pred_train, y_pred_test, y_pred_outliers, training_times[0].mean(), prediction_times[0].mean()), ignore_index=True)\n",
    "\n",
    "gd_ext_df_results['gd_X'] = X_train_bases[:,0]\n",
    "gd_ext_df_results['gd_Y'] = X_train_bases[:,1]\n",
    "gd_ext_df_results['gd_score'] = gd_ext_clf.decision_function_extended(X_train_bases)\n",
    "gd_ext_df_results['gd_anomaly'] = y_pred_train\n",
    "gd_ext_df_results.head()"
   ],
   "metadata": {
    "collapsed": false,
    "pycharm": {
     "name": "#%%\n"
    }
   }
  },
  {
   "cell_type": "code",
   "execution_count": 8,
   "metadata": {
    "collapsed": false,
    "pycharm": {
     "name": "#%%\n"
    }
   },
   "outputs": [
    {
     "name": "stderr",
     "output_type": "stream",
     "text": [
      "/home/mlrosenquist/PycharmProjects/scikit-learn/sklearn/metrics/_classification.py:1327: UndefinedMetricWarning: Precision is ill-defined and being set to 0.0 due to no predicted samples. Use `zero_division` parameter to control this behavior.\n",
      "  _warn_prf(average, modifier, msg_start, len(result))\n",
      "/home/mlrosenquist/PycharmProjects/scikit-learn/sklearn/metrics/_classification.py:1592: UndefinedMetricWarning: F-score is ill-defined and being set to 0.0 due to no true nor predicted samples. Use `zero_division` parameter to control this behavior.\n",
      "  _warn_prf(average, \"true nor predicted\", \"F-score is\", len(true_sum))\n",
      "/home/mlrosenquist/PycharmProjects/scikit-learn/sklearn/metrics/_classification.py:1592: UndefinedMetricWarning: F-score is ill-defined and being set to 0.0 due to no true nor predicted samples. Use `zero_division` parameter to control this behavior.\n",
      "  _warn_prf(average, \"true nor predicted\", \"F-score is\", len(true_sum))\n",
      "/tmp/ipykernel_18159/2547590102.py:24: FutureWarning: The frame.append method is deprecated and will be removed from pandas in a future version. Use pandas.concat instead.\n",
      "  performance = performance.append(create_performance_object('Isolation Forest Original', DEVIATION_BITS, y_pred_train, y_pred_test, y_pred_outliers, training_times[0].mean(), prediction_times[0].mean()), ignore_index=True)\n"
     ]
    },
    {
     "data": {
      "text/plain": "   org_X  org_Y  org_score  org_anomaly\n0     60     48   0.024490            1\n1     60     50   0.097321            1\n2     61     50   0.041076            1\n3     63     49  -0.083354           -1\n4     60     50   0.097321            1",
      "text/html": "<div>\n<style scoped>\n    .dataframe tbody tr th:only-of-type {\n        vertical-align: middle;\n    }\n\n    .dataframe tbody tr th {\n        vertical-align: top;\n    }\n\n    .dataframe thead th {\n        text-align: right;\n    }\n</style>\n<table border=\"1\" class=\"dataframe\">\n  <thead>\n    <tr style=\"text-align: right;\">\n      <th></th>\n      <th>org_X</th>\n      <th>org_Y</th>\n      <th>org_score</th>\n      <th>org_anomaly</th>\n    </tr>\n  </thead>\n  <tbody>\n    <tr>\n      <th>0</th>\n      <td>60</td>\n      <td>48</td>\n      <td>0.024490</td>\n      <td>1</td>\n    </tr>\n    <tr>\n      <th>1</th>\n      <td>60</td>\n      <td>50</td>\n      <td>0.097321</td>\n      <td>1</td>\n    </tr>\n    <tr>\n      <th>2</th>\n      <td>61</td>\n      <td>50</td>\n      <td>0.041076</td>\n      <td>1</td>\n    </tr>\n    <tr>\n      <th>3</th>\n      <td>63</td>\n      <td>49</td>\n      <td>-0.083354</td>\n      <td>-1</td>\n    </tr>\n    <tr>\n      <th>4</th>\n      <td>60</td>\n      <td>50</td>\n      <td>0.097321</td>\n      <td>1</td>\n    </tr>\n  </tbody>\n</table>\n</div>"
     },
     "execution_count": 8,
     "metadata": {},
     "output_type": "execute_result"
    }
   ],
   "source": [
    "training_times = []\n",
    "prediction_times = []\n",
    "for i in range(0, time_no_iterations):\n",
    "    org_clf = IsolationForest(random_state=rng)\n",
    "    start_time = time.time()\n",
    "    org_clf.fit(X_train)\n",
    "    end_time = time.time()\n",
    "    training_time = end_time - start_time\n",
    "    training_times.append(training_time)\n",
    "\n",
    "    start_time = time.time()\n",
    "    y_pred_train = org_clf.predict(X_train)\n",
    "    y_pred_test = org_clf.predict(X_test)\n",
    "    y_pred_outliers = org_clf.predict(X_outliers)\n",
    "    end_time = time.time()\n",
    "    prediction_time = end_time - start_time\n",
    "    prediction_times.append(prediction_time)\n",
    "\n",
    "training_times = pd.DataFrame(training_times)\n",
    "prediction_times = pd.DataFrame(prediction_times)\n",
    "training_times = training_times.drop(training_times.nsmallest(time_no_outliers_removed, 0).index).drop(training_times.nlargest(time_no_outliers_removed, 0).index)\n",
    "prediction_times = prediction_times.drop(prediction_times.nsmallest(time_no_outliers_removed, 0).index).drop(prediction_times.nlargest(time_no_outliers_removed, 0).index)\n",
    "\n",
    "performance = performance.append(create_performance_object('Isolation Forest Original', DEVIATION_BITS, y_pred_train, y_pred_test, y_pred_outliers, training_times[0].mean(), prediction_times[0].mean()), ignore_index=True)\n",
    "\n",
    "org_df_results['org_X'] = X_train[:,0]\n",
    "org_df_results['org_Y'] = X_train[:,1]\n",
    "org_df_results['org_score'] = org_clf.decision_function(X_train)\n",
    "org_df_results['org_anomaly'] = org_clf.predict(X_train)\n",
    "org_df_results.head()"
   ]
  },
  {
   "cell_type": "markdown",
   "metadata": {
    "collapsed": false,
    "pycharm": {
     "name": "#%% md\n"
    }
   },
   "source": [
    "# Calculations"
   ]
  },
  {
   "cell_type": "markdown",
   "metadata": {
    "collapsed": false,
    "pycharm": {
     "name": "#%% md\n"
    }
   },
   "source": [
    "### Count amount of base occurences"
   ]
  },
  {
   "cell_type": "code",
   "execution_count": 9,
   "metadata": {
    "collapsed": false,
    "pycharm": {
     "name": "#%%\n"
    }
   },
   "outputs": [
    {
     "data": {
      "text/plain": "   gd_X  gd_Y  gd_counts  gd_org_idx\n0    44    96          1         136\n1    44   100          4         121\n2    44   104          1         123\n3    48    96         24         100\n4    48   100         52         104",
      "text/html": "<div>\n<style scoped>\n    .dataframe tbody tr th:only-of-type {\n        vertical-align: middle;\n    }\n\n    .dataframe tbody tr th {\n        vertical-align: top;\n    }\n\n    .dataframe thead th {\n        text-align: right;\n    }\n</style>\n<table border=\"1\" class=\"dataframe\">\n  <thead>\n    <tr style=\"text-align: right;\">\n      <th></th>\n      <th>gd_X</th>\n      <th>gd_Y</th>\n      <th>gd_counts</th>\n      <th>gd_org_idx</th>\n    </tr>\n  </thead>\n  <tbody>\n    <tr>\n      <th>0</th>\n      <td>44</td>\n      <td>96</td>\n      <td>1</td>\n      <td>136</td>\n    </tr>\n    <tr>\n      <th>1</th>\n      <td>44</td>\n      <td>100</td>\n      <td>4</td>\n      <td>121</td>\n    </tr>\n    <tr>\n      <th>2</th>\n      <td>44</td>\n      <td>104</td>\n      <td>1</td>\n      <td>123</td>\n    </tr>\n    <tr>\n      <th>3</th>\n      <td>48</td>\n      <td>96</td>\n      <td>24</td>\n      <td>100</td>\n    </tr>\n    <tr>\n      <th>4</th>\n      <td>48</td>\n      <td>100</td>\n      <td>52</td>\n      <td>104</td>\n    </tr>\n  </tbody>\n</table>\n</div>"
     },
     "execution_count": 9,
     "metadata": {},
     "output_type": "execute_result"
    }
   ],
   "source": [
    "array = X_train_bases\n",
    "new_array = [tuple(row) for row in array]\n",
    "unique, idx, counts = np.unique(new_array, axis=0, return_index=True, return_counts=True)\n",
    "\n",
    "df_unique = pd.DataFrame()\n",
    "df_unique['gd_X'] = unique[:,0]\n",
    "df_unique['gd_Y'] = unique[:,1]\n",
    "df_unique['gd_counts'] = counts\n",
    "df_unique['gd_org_idx'] = idx\n",
    "df_unique.head()"
   ]
  },
  {
   "cell_type": "markdown",
   "metadata": {
    "collapsed": false,
    "pycharm": {
     "name": "#%% md\n"
    }
   },
   "source": [
    "### Prepare data for calculation"
   ]
  },
  {
   "cell_type": "code",
   "execution_count": 10,
   "metadata": {
    "collapsed": false,
    "pycharm": {
     "name": "#%%\n"
    }
   },
   "outputs": [
    {
     "data": {
      "text/plain": "     org_X  gd_X  org_Y  gd_Y  org_score  gd_score  org_score_converted  \\\n0       60    60     48    48   0.024490  0.057226             0.475510   \n1       60    60     50    48   0.097321  0.057226             0.402679   \n2       61    60     50    48   0.041076  0.057226             0.458924   \n3       63    60     49    48  -0.083354  0.057226             0.583354   \n4       60    60     50    48   0.097321  0.057226             0.402679   \n..     ...   ...    ...   ...        ...       ...                  ...   \n295    101   100     99    96   0.044318  0.007348             0.455682   \n296     98    96    100   100   0.043179  0.007227             0.456821   \n297    100   100     99    96   0.061110  0.007348             0.438890   \n298     99    96    100   100   0.070394  0.007227             0.429606   \n299     98    96    100   100   0.043179  0.007227             0.456821   \n\n     gd_score_converted  org_anomaly  gd_anomaly  \n0              0.442774            1           1  \n1              0.442774            1           1  \n2              0.442774            1           1  \n3              0.442774           -1           1  \n4              0.442774            1           1  \n..                  ...          ...         ...  \n295            0.492652            1           1  \n296            0.492773            1           1  \n297            0.492652            1           1  \n298            0.492773            1           1  \n299            0.492773            1           1  \n\n[300 rows x 10 columns]",
      "text/html": "<div>\n<style scoped>\n    .dataframe tbody tr th:only-of-type {\n        vertical-align: middle;\n    }\n\n    .dataframe tbody tr th {\n        vertical-align: top;\n    }\n\n    .dataframe thead th {\n        text-align: right;\n    }\n</style>\n<table border=\"1\" class=\"dataframe\">\n  <thead>\n    <tr style=\"text-align: right;\">\n      <th></th>\n      <th>org_X</th>\n      <th>gd_X</th>\n      <th>org_Y</th>\n      <th>gd_Y</th>\n      <th>org_score</th>\n      <th>gd_score</th>\n      <th>org_score_converted</th>\n      <th>gd_score_converted</th>\n      <th>org_anomaly</th>\n      <th>gd_anomaly</th>\n    </tr>\n  </thead>\n  <tbody>\n    <tr>\n      <th>0</th>\n      <td>60</td>\n      <td>60</td>\n      <td>48</td>\n      <td>48</td>\n      <td>0.024490</td>\n      <td>0.057226</td>\n      <td>0.475510</td>\n      <td>0.442774</td>\n      <td>1</td>\n      <td>1</td>\n    </tr>\n    <tr>\n      <th>1</th>\n      <td>60</td>\n      <td>60</td>\n      <td>50</td>\n      <td>48</td>\n      <td>0.097321</td>\n      <td>0.057226</td>\n      <td>0.402679</td>\n      <td>0.442774</td>\n      <td>1</td>\n      <td>1</td>\n    </tr>\n    <tr>\n      <th>2</th>\n      <td>61</td>\n      <td>60</td>\n      <td>50</td>\n      <td>48</td>\n      <td>0.041076</td>\n      <td>0.057226</td>\n      <td>0.458924</td>\n      <td>0.442774</td>\n      <td>1</td>\n      <td>1</td>\n    </tr>\n    <tr>\n      <th>3</th>\n      <td>63</td>\n      <td>60</td>\n      <td>49</td>\n      <td>48</td>\n      <td>-0.083354</td>\n      <td>0.057226</td>\n      <td>0.583354</td>\n      <td>0.442774</td>\n      <td>-1</td>\n      <td>1</td>\n    </tr>\n    <tr>\n      <th>4</th>\n      <td>60</td>\n      <td>60</td>\n      <td>50</td>\n      <td>48</td>\n      <td>0.097321</td>\n      <td>0.057226</td>\n      <td>0.402679</td>\n      <td>0.442774</td>\n      <td>1</td>\n      <td>1</td>\n    </tr>\n    <tr>\n      <th>...</th>\n      <td>...</td>\n      <td>...</td>\n      <td>...</td>\n      <td>...</td>\n      <td>...</td>\n      <td>...</td>\n      <td>...</td>\n      <td>...</td>\n      <td>...</td>\n      <td>...</td>\n    </tr>\n    <tr>\n      <th>295</th>\n      <td>101</td>\n      <td>100</td>\n      <td>99</td>\n      <td>96</td>\n      <td>0.044318</td>\n      <td>0.007348</td>\n      <td>0.455682</td>\n      <td>0.492652</td>\n      <td>1</td>\n      <td>1</td>\n    </tr>\n    <tr>\n      <th>296</th>\n      <td>98</td>\n      <td>96</td>\n      <td>100</td>\n      <td>100</td>\n      <td>0.043179</td>\n      <td>0.007227</td>\n      <td>0.456821</td>\n      <td>0.492773</td>\n      <td>1</td>\n      <td>1</td>\n    </tr>\n    <tr>\n      <th>297</th>\n      <td>100</td>\n      <td>100</td>\n      <td>99</td>\n      <td>96</td>\n      <td>0.061110</td>\n      <td>0.007348</td>\n      <td>0.438890</td>\n      <td>0.492652</td>\n      <td>1</td>\n      <td>1</td>\n    </tr>\n    <tr>\n      <th>298</th>\n      <td>99</td>\n      <td>96</td>\n      <td>100</td>\n      <td>100</td>\n      <td>0.070394</td>\n      <td>0.007227</td>\n      <td>0.429606</td>\n      <td>0.492773</td>\n      <td>1</td>\n      <td>1</td>\n    </tr>\n    <tr>\n      <th>299</th>\n      <td>98</td>\n      <td>96</td>\n      <td>100</td>\n      <td>100</td>\n      <td>0.043179</td>\n      <td>0.007227</td>\n      <td>0.456821</td>\n      <td>0.492773</td>\n      <td>1</td>\n      <td>1</td>\n    </tr>\n  </tbody>\n</table>\n<p>300 rows × 10 columns</p>\n</div>"
     },
     "execution_count": 10,
     "metadata": {},
     "output_type": "execute_result"
    }
   ],
   "source": [
    "# Merge gd results and original results in single dataframe\n",
    "df_results = pd.DataFrame()\n",
    "df_results['org_X'] = org_df_results['org_X']\n",
    "df_results['gd_X'] = gd_df_results['gd_X']\n",
    "df_results['org_Y'] = org_df_results['org_Y']\n",
    "df_results['gd_Y'] = gd_df_results['gd_Y']\n",
    "df_results['org_score'] = org_df_results['org_score']\n",
    "df_results['gd_score'] = gd_df_results['gd_score']\n",
    "df_results['org_score_converted'] = df_results['org_score'].sub(0.5).mul(-1) # Convert sklearn score range to paper score range [-0.5;0.5] -> [0;1]\n",
    "df_results['gd_score_converted'] = df_results['gd_score'].sub(0.5).mul(-1) # Convert sklearn score range to paper score range [-0.5;0.5] -> [0;1]\n",
    "df_results['org_anomaly'] = org_df_results['org_anomaly']\n",
    "df_results['gd_anomaly'] = gd_df_results['gd_anomaly']\n",
    "\n",
    "df_results"
   ]
  },
  {
   "cell_type": "code",
   "execution_count": 11,
   "metadata": {
    "collapsed": false,
    "pycharm": {
     "name": "#%%\n"
    }
   },
   "outputs": [
    {
     "data": {
      "text/plain": "   gd_X  gd_Y  gd_counts  gd_org_idx  gd_anomaly  gd_score  gd_score_converted\n0    44    96          1         136        -1.0 -0.203085            0.703085\n1    44   100          4         121        -1.0 -0.126662            0.626662\n2    44   104          1         123        -1.0 -0.228792            0.728792\n3    48    96         24         100         1.0  0.013914            0.486086\n4    48   100         52         104         1.0  0.083678            0.416322",
      "text/html": "<div>\n<style scoped>\n    .dataframe tbody tr th:only-of-type {\n        vertical-align: middle;\n    }\n\n    .dataframe tbody tr th {\n        vertical-align: top;\n    }\n\n    .dataframe thead th {\n        text-align: right;\n    }\n</style>\n<table border=\"1\" class=\"dataframe\">\n  <thead>\n    <tr style=\"text-align: right;\">\n      <th></th>\n      <th>gd_X</th>\n      <th>gd_Y</th>\n      <th>gd_counts</th>\n      <th>gd_org_idx</th>\n      <th>gd_anomaly</th>\n      <th>gd_score</th>\n      <th>gd_score_converted</th>\n    </tr>\n  </thead>\n  <tbody>\n    <tr>\n      <th>0</th>\n      <td>44</td>\n      <td>96</td>\n      <td>1</td>\n      <td>136</td>\n      <td>-1.0</td>\n      <td>-0.203085</td>\n      <td>0.703085</td>\n    </tr>\n    <tr>\n      <th>1</th>\n      <td>44</td>\n      <td>100</td>\n      <td>4</td>\n      <td>121</td>\n      <td>-1.0</td>\n      <td>-0.126662</td>\n      <td>0.626662</td>\n    </tr>\n    <tr>\n      <th>2</th>\n      <td>44</td>\n      <td>104</td>\n      <td>1</td>\n      <td>123</td>\n      <td>-1.0</td>\n      <td>-0.228792</td>\n      <td>0.728792</td>\n    </tr>\n    <tr>\n      <th>3</th>\n      <td>48</td>\n      <td>96</td>\n      <td>24</td>\n      <td>100</td>\n      <td>1.0</td>\n      <td>0.013914</td>\n      <td>0.486086</td>\n    </tr>\n    <tr>\n      <th>4</th>\n      <td>48</td>\n      <td>100</td>\n      <td>52</td>\n      <td>104</td>\n      <td>1.0</td>\n      <td>0.083678</td>\n      <td>0.416322</td>\n    </tr>\n  </tbody>\n</table>\n</div>"
     },
     "execution_count": 11,
     "metadata": {},
     "output_type": "execute_result"
    }
   ],
   "source": [
    "\n",
    "# Add score and anomaly to df_uniques\n",
    "scores = []\n",
    "scores_converted = []\n",
    "anomaly = []\n",
    "for index, row in df_unique.iterrows():\n",
    "    result = df_results[(df_results.gd_X == row.gd_X) & (df_results.gd_Y == row.gd_Y)].iloc[0]\n",
    "    scores.append(result.gd_score)\n",
    "    scores_converted.append(result.gd_score_converted)\n",
    "    anomaly.append(result.gd_anomaly)\n",
    "\n",
    "df_unique['gd_anomaly'] = anomaly\n",
    "df_unique['gd_score'] = scores\n",
    "df_unique['gd_score_converted'] = scores_converted\n",
    "\n",
    "# Define constants\n",
    "n_samples = len(df_results)\n",
    "n_uniques = len(df_unique)\n",
    "df_unique.head()"
   ]
  },
  {
   "cell_type": "markdown",
   "metadata": {
    "collapsed": false,
    "pycharm": {
     "name": "#%% md\n"
    }
   },
   "source": [
    "### Perform calculation"
   ]
  },
  {
   "cell_type": "code",
   "execution_count": 12,
   "metadata": {
    "collapsed": false,
    "pycharm": {
     "name": "#%%\n"
    }
   },
   "outputs": [],
   "source": [
    "def H(i):\n",
    "    return np.log(i) + 0.5772156649 # euler's constant\n",
    "\n",
    "def c(n):\n",
    "    return 2*H(n-1) - ((2*(n-1))/n)"
   ]
  },
  {
   "cell_type": "markdown",
   "metadata": {
    "collapsed": false,
    "pycharm": {
     "name": "#%% md\n"
    }
   },
   "source": [
    "Calculation 1:  $\\log_2(s(x,n)) \\cdot c(n) = E(h(x))$"
   ]
  },
  {
   "cell_type": "code",
   "execution_count": 13,
   "metadata": {
    "collapsed": false,
    "pycharm": {
     "name": "#%%\n"
    }
   },
   "outputs": [
    {
     "data": {
      "text/plain": "   gd_X  gd_Y  gd_counts  gd_org_idx  gd_anomaly  gd_score  \\\n0    44    96          1         136        -1.0 -0.203085   \n1    44   100          4         121        -1.0 -0.126662   \n2    44   104          1         123        -1.0 -0.228792   \n3    48    96         24         100         1.0  0.013914   \n4    48   100         52         104         1.0  0.083678   \n\n   gd_score_converted  E[H(x)]+log_2[count(x)]  \n0            0.703085                 5.367898  \n1            0.626662                 9.121319  \n2            0.728792                 4.820702  \n3            0.486086                15.577003  \n4            0.416322                19.053187  ",
      "text/html": "<div>\n<style scoped>\n    .dataframe tbody tr th:only-of-type {\n        vertical-align: middle;\n    }\n\n    .dataframe tbody tr th {\n        vertical-align: top;\n    }\n\n    .dataframe thead th {\n        text-align: right;\n    }\n</style>\n<table border=\"1\" class=\"dataframe\">\n  <thead>\n    <tr style=\"text-align: right;\">\n      <th></th>\n      <th>gd_X</th>\n      <th>gd_Y</th>\n      <th>gd_counts</th>\n      <th>gd_org_idx</th>\n      <th>gd_anomaly</th>\n      <th>gd_score</th>\n      <th>gd_score_converted</th>\n      <th>E[H(x)]+log_2[count(x)]</th>\n    </tr>\n  </thead>\n  <tbody>\n    <tr>\n      <th>0</th>\n      <td>44</td>\n      <td>96</td>\n      <td>1</td>\n      <td>136</td>\n      <td>-1.0</td>\n      <td>-0.203085</td>\n      <td>0.703085</td>\n      <td>5.367898</td>\n    </tr>\n    <tr>\n      <th>1</th>\n      <td>44</td>\n      <td>100</td>\n      <td>4</td>\n      <td>121</td>\n      <td>-1.0</td>\n      <td>-0.126662</td>\n      <td>0.626662</td>\n      <td>9.121319</td>\n    </tr>\n    <tr>\n      <th>2</th>\n      <td>44</td>\n      <td>104</td>\n      <td>1</td>\n      <td>123</td>\n      <td>-1.0</td>\n      <td>-0.228792</td>\n      <td>0.728792</td>\n      <td>4.820702</td>\n    </tr>\n    <tr>\n      <th>3</th>\n      <td>48</td>\n      <td>96</td>\n      <td>24</td>\n      <td>100</td>\n      <td>1.0</td>\n      <td>0.013914</td>\n      <td>0.486086</td>\n      <td>15.577003</td>\n    </tr>\n    <tr>\n      <th>4</th>\n      <td>48</td>\n      <td>100</td>\n      <td>52</td>\n      <td>104</td>\n      <td>1.0</td>\n      <td>0.083678</td>\n      <td>0.416322</td>\n      <td>19.053187</td>\n    </tr>\n  </tbody>\n</table>\n</div>"
     },
     "execution_count": 13,
     "metadata": {},
     "output_type": "execute_result"
    }
   ],
   "source": [
    "result = []\n",
    "for index, row in df_unique.iterrows():\n",
    "    res = -(np.log2(row.gd_score_converted) * c(n_samples)) + np.log2(row.gd_counts)\n",
    "    result.append(res)\n",
    "df_unique['E[H(x)]+log_2[count(x)]'] = result\n",
    "df_unique.head()"
   ]
  },
  {
   "cell_type": "markdown",
   "metadata": {
    "collapsed": false,
    "pycharm": {
     "name": "#%% md\n"
    }
   },
   "source": [
    "Calculation 2: $S(x, n_{samples})=2^{-\\frac{E(h(x))}{c(n_{samples})}}$"
   ]
  },
  {
   "cell_type": "code",
   "execution_count": 14,
   "metadata": {
    "collapsed": false,
    "pycharm": {
     "name": "#%%\n"
    }
   },
   "outputs": [
    {
     "data": {
      "text/plain": "    gd_X  gd_Y  gd_counts  gd_org_idx  gd_anomaly  gd_score  \\\n0     44    96          1         136        -1.0 -0.203085   \n1     44   100          4         121        -1.0 -0.126662   \n2     44   104          1         123        -1.0 -0.228792   \n3     48    96         24         100         1.0  0.013914   \n4     48   100         52         104         1.0  0.083678   \n5     48   104          2         174        -1.0 -0.178694   \n6     52    48          1          74        -1.0 -0.237419   \n7     52    96          4         125        -1.0 -0.125461   \n8     52   100         11         102        -1.0 -0.019774   \n9     56    44          1          30        -1.0 -0.232880   \n10    56    48         23          14         1.0  0.010259   \n11    56    52          6          13        -1.0 -0.123161   \n12    56   100          1         109        -1.0 -0.182308   \n13    60    44          3          10        -1.0 -0.206531   \n14    60    48         60           0         1.0  0.057226   \n15    60    52          6           6        -1.0 -0.132720   \n16    96    96          8         206        -1.0 -0.091462   \n17    96   100         30         200         1.0  0.007227   \n18   100    96         22         202         1.0  0.007348   \n19   100   100         36         203         1.0  0.034033   \n20   100   104          2         261        -1.0 -0.220249   \n21   104    96          2         220        -1.0 -0.201890   \n\n    gd_score_converted  E[H(x)]+log_2[count(x)]  S(x,n_samples)  \n0             0.703085                 5.367898        0.703085  \n1             0.626662                 9.121319        0.549580  \n2             0.728792                 4.820702        0.728792  \n3             0.486086                15.577003        0.359779  \n4             0.416322                19.053187        0.286391  \n5             0.678694                 6.905919        0.635583  \n6             0.737419                 4.641388        0.737419  \n7             0.625461                 9.150557        0.548526  \n8             0.519774                13.430409        0.414206  \n9             0.732880                 4.735470        0.732880  \n10            0.489741                15.401447        0.363948  \n11            0.623161                 9.791637        0.525928  \n12            0.682308                 5.824978        0.682308  \n13            0.706531                 6.878378        0.636733  \n14            0.442774                18.321003        0.300489  \n15            0.632720                 9.559686        0.533995  \n16            0.591462                11.002197        0.485762  \n17            0.492773                15.690726        0.357104  \n18            0.492652                15.247026        0.367655  \n19            0.465967                16.806065        0.331899  \n20            0.720249                 6.000393        0.674499  \n21            0.701890                 6.393834        0.657306  ",
      "text/html": "<div>\n<style scoped>\n    .dataframe tbody tr th:only-of-type {\n        vertical-align: middle;\n    }\n\n    .dataframe tbody tr th {\n        vertical-align: top;\n    }\n\n    .dataframe thead th {\n        text-align: right;\n    }\n</style>\n<table border=\"1\" class=\"dataframe\">\n  <thead>\n    <tr style=\"text-align: right;\">\n      <th></th>\n      <th>gd_X</th>\n      <th>gd_Y</th>\n      <th>gd_counts</th>\n      <th>gd_org_idx</th>\n      <th>gd_anomaly</th>\n      <th>gd_score</th>\n      <th>gd_score_converted</th>\n      <th>E[H(x)]+log_2[count(x)]</th>\n      <th>S(x,n_samples)</th>\n    </tr>\n  </thead>\n  <tbody>\n    <tr>\n      <th>0</th>\n      <td>44</td>\n      <td>96</td>\n      <td>1</td>\n      <td>136</td>\n      <td>-1.0</td>\n      <td>-0.203085</td>\n      <td>0.703085</td>\n      <td>5.367898</td>\n      <td>0.703085</td>\n    </tr>\n    <tr>\n      <th>1</th>\n      <td>44</td>\n      <td>100</td>\n      <td>4</td>\n      <td>121</td>\n      <td>-1.0</td>\n      <td>-0.126662</td>\n      <td>0.626662</td>\n      <td>9.121319</td>\n      <td>0.549580</td>\n    </tr>\n    <tr>\n      <th>2</th>\n      <td>44</td>\n      <td>104</td>\n      <td>1</td>\n      <td>123</td>\n      <td>-1.0</td>\n      <td>-0.228792</td>\n      <td>0.728792</td>\n      <td>4.820702</td>\n      <td>0.728792</td>\n    </tr>\n    <tr>\n      <th>3</th>\n      <td>48</td>\n      <td>96</td>\n      <td>24</td>\n      <td>100</td>\n      <td>1.0</td>\n      <td>0.013914</td>\n      <td>0.486086</td>\n      <td>15.577003</td>\n      <td>0.359779</td>\n    </tr>\n    <tr>\n      <th>4</th>\n      <td>48</td>\n      <td>100</td>\n      <td>52</td>\n      <td>104</td>\n      <td>1.0</td>\n      <td>0.083678</td>\n      <td>0.416322</td>\n      <td>19.053187</td>\n      <td>0.286391</td>\n    </tr>\n    <tr>\n      <th>5</th>\n      <td>48</td>\n      <td>104</td>\n      <td>2</td>\n      <td>174</td>\n      <td>-1.0</td>\n      <td>-0.178694</td>\n      <td>0.678694</td>\n      <td>6.905919</td>\n      <td>0.635583</td>\n    </tr>\n    <tr>\n      <th>6</th>\n      <td>52</td>\n      <td>48</td>\n      <td>1</td>\n      <td>74</td>\n      <td>-1.0</td>\n      <td>-0.237419</td>\n      <td>0.737419</td>\n      <td>4.641388</td>\n      <td>0.737419</td>\n    </tr>\n    <tr>\n      <th>7</th>\n      <td>52</td>\n      <td>96</td>\n      <td>4</td>\n      <td>125</td>\n      <td>-1.0</td>\n      <td>-0.125461</td>\n      <td>0.625461</td>\n      <td>9.150557</td>\n      <td>0.548526</td>\n    </tr>\n    <tr>\n      <th>8</th>\n      <td>52</td>\n      <td>100</td>\n      <td>11</td>\n      <td>102</td>\n      <td>-1.0</td>\n      <td>-0.019774</td>\n      <td>0.519774</td>\n      <td>13.430409</td>\n      <td>0.414206</td>\n    </tr>\n    <tr>\n      <th>9</th>\n      <td>56</td>\n      <td>44</td>\n      <td>1</td>\n      <td>30</td>\n      <td>-1.0</td>\n      <td>-0.232880</td>\n      <td>0.732880</td>\n      <td>4.735470</td>\n      <td>0.732880</td>\n    </tr>\n    <tr>\n      <th>10</th>\n      <td>56</td>\n      <td>48</td>\n      <td>23</td>\n      <td>14</td>\n      <td>1.0</td>\n      <td>0.010259</td>\n      <td>0.489741</td>\n      <td>15.401447</td>\n      <td>0.363948</td>\n    </tr>\n    <tr>\n      <th>11</th>\n      <td>56</td>\n      <td>52</td>\n      <td>6</td>\n      <td>13</td>\n      <td>-1.0</td>\n      <td>-0.123161</td>\n      <td>0.623161</td>\n      <td>9.791637</td>\n      <td>0.525928</td>\n    </tr>\n    <tr>\n      <th>12</th>\n      <td>56</td>\n      <td>100</td>\n      <td>1</td>\n      <td>109</td>\n      <td>-1.0</td>\n      <td>-0.182308</td>\n      <td>0.682308</td>\n      <td>5.824978</td>\n      <td>0.682308</td>\n    </tr>\n    <tr>\n      <th>13</th>\n      <td>60</td>\n      <td>44</td>\n      <td>3</td>\n      <td>10</td>\n      <td>-1.0</td>\n      <td>-0.206531</td>\n      <td>0.706531</td>\n      <td>6.878378</td>\n      <td>0.636733</td>\n    </tr>\n    <tr>\n      <th>14</th>\n      <td>60</td>\n      <td>48</td>\n      <td>60</td>\n      <td>0</td>\n      <td>1.0</td>\n      <td>0.057226</td>\n      <td>0.442774</td>\n      <td>18.321003</td>\n      <td>0.300489</td>\n    </tr>\n    <tr>\n      <th>15</th>\n      <td>60</td>\n      <td>52</td>\n      <td>6</td>\n      <td>6</td>\n      <td>-1.0</td>\n      <td>-0.132720</td>\n      <td>0.632720</td>\n      <td>9.559686</td>\n      <td>0.533995</td>\n    </tr>\n    <tr>\n      <th>16</th>\n      <td>96</td>\n      <td>96</td>\n      <td>8</td>\n      <td>206</td>\n      <td>-1.0</td>\n      <td>-0.091462</td>\n      <td>0.591462</td>\n      <td>11.002197</td>\n      <td>0.485762</td>\n    </tr>\n    <tr>\n      <th>17</th>\n      <td>96</td>\n      <td>100</td>\n      <td>30</td>\n      <td>200</td>\n      <td>1.0</td>\n      <td>0.007227</td>\n      <td>0.492773</td>\n      <td>15.690726</td>\n      <td>0.357104</td>\n    </tr>\n    <tr>\n      <th>18</th>\n      <td>100</td>\n      <td>96</td>\n      <td>22</td>\n      <td>202</td>\n      <td>1.0</td>\n      <td>0.007348</td>\n      <td>0.492652</td>\n      <td>15.247026</td>\n      <td>0.367655</td>\n    </tr>\n    <tr>\n      <th>19</th>\n      <td>100</td>\n      <td>100</td>\n      <td>36</td>\n      <td>203</td>\n      <td>1.0</td>\n      <td>0.034033</td>\n      <td>0.465967</td>\n      <td>16.806065</td>\n      <td>0.331899</td>\n    </tr>\n    <tr>\n      <th>20</th>\n      <td>100</td>\n      <td>104</td>\n      <td>2</td>\n      <td>261</td>\n      <td>-1.0</td>\n      <td>-0.220249</td>\n      <td>0.720249</td>\n      <td>6.000393</td>\n      <td>0.674499</td>\n    </tr>\n    <tr>\n      <th>21</th>\n      <td>104</td>\n      <td>96</td>\n      <td>2</td>\n      <td>220</td>\n      <td>-1.0</td>\n      <td>-0.201890</td>\n      <td>0.701890</td>\n      <td>6.393834</td>\n      <td>0.657306</td>\n    </tr>\n  </tbody>\n</table>\n</div>"
     },
     "execution_count": 14,
     "metadata": {},
     "output_type": "execute_result"
    }
   ],
   "source": [
    "result = []\n",
    "for index, row in df_unique.iterrows():\n",
    "    res = 2 ** - (row['E[H(x)]+log_2[count(x)]'] / c(n_samples))\n",
    "    result.append(res)\n",
    "df_unique['S(x,n_samples)'] = result\n",
    "df_unique"
   ]
  },
  {
   "cell_type": "markdown",
   "source": [
    "# Performance evaluation"
   ],
   "metadata": {
    "collapsed": false,
    "pycharm": {
     "name": "#%% md\n"
    }
   }
  },
  {
   "cell_type": "markdown",
   "source": [
    "## Overview"
   ],
   "metadata": {
    "collapsed": false,
    "pycharm": {
     "name": "#%% md\n"
    }
   }
  },
  {
   "cell_type": "markdown",
   "source": [],
   "metadata": {
    "collapsed": false
   }
  },
  {
   "cell_type": "code",
   "execution_count": 15,
   "outputs": [
    {
     "data": {
      "text/plain": "                                name deviation_bits train_accuracy_score  \\\n0             Isolation Forest Bases              2             0.823333   \n1  Isolation Forest Bases - extended              2             0.886667   \n2          Isolation Forest Original              2             0.653333   \n\n  test_accuracy_score outlier_accuracy_score train_precision_score  \\\n0                0.78                    1.0                   1.0   \n1            0.826667                    1.0                   1.0   \n2                0.52                    1.0                   1.0   \n\n  test_precision_score outlier_precision_score train_f1_score test_f1_score  \\\n0                  1.0                     0.0       0.903108      0.876404   \n1                  1.0                     0.0       0.939929      0.905109   \n2                  1.0                     0.0       0.790323      0.684211   \n\n  outlier_f1_score train_recall_score test_recall_score outlier_recall_score  \\\n0              0.0           0.903108          0.876404                  0.0   \n1              0.0           0.939929          0.905109                  0.0   \n2              0.0           0.790323          0.684211                  0.0   \n\n  training_time prediction_time  \n0      0.195951        0.218143  \n1       0.38327        1.393164  \n2      0.284447        0.189193  ",
      "text/html": "<div>\n<style scoped>\n    .dataframe tbody tr th:only-of-type {\n        vertical-align: middle;\n    }\n\n    .dataframe tbody tr th {\n        vertical-align: top;\n    }\n\n    .dataframe thead th {\n        text-align: right;\n    }\n</style>\n<table border=\"1\" class=\"dataframe\">\n  <thead>\n    <tr style=\"text-align: right;\">\n      <th></th>\n      <th>name</th>\n      <th>deviation_bits</th>\n      <th>train_accuracy_score</th>\n      <th>test_accuracy_score</th>\n      <th>outlier_accuracy_score</th>\n      <th>train_precision_score</th>\n      <th>test_precision_score</th>\n      <th>outlier_precision_score</th>\n      <th>train_f1_score</th>\n      <th>test_f1_score</th>\n      <th>outlier_f1_score</th>\n      <th>train_recall_score</th>\n      <th>test_recall_score</th>\n      <th>outlier_recall_score</th>\n      <th>training_time</th>\n      <th>prediction_time</th>\n    </tr>\n  </thead>\n  <tbody>\n    <tr>\n      <th>0</th>\n      <td>Isolation Forest Bases</td>\n      <td>2</td>\n      <td>0.823333</td>\n      <td>0.78</td>\n      <td>1.0</td>\n      <td>1.0</td>\n      <td>1.0</td>\n      <td>0.0</td>\n      <td>0.903108</td>\n      <td>0.876404</td>\n      <td>0.0</td>\n      <td>0.903108</td>\n      <td>0.876404</td>\n      <td>0.0</td>\n      <td>0.195951</td>\n      <td>0.218143</td>\n    </tr>\n    <tr>\n      <th>1</th>\n      <td>Isolation Forest Bases - extended</td>\n      <td>2</td>\n      <td>0.886667</td>\n      <td>0.826667</td>\n      <td>1.0</td>\n      <td>1.0</td>\n      <td>1.0</td>\n      <td>0.0</td>\n      <td>0.939929</td>\n      <td>0.905109</td>\n      <td>0.0</td>\n      <td>0.939929</td>\n      <td>0.905109</td>\n      <td>0.0</td>\n      <td>0.38327</td>\n      <td>1.393164</td>\n    </tr>\n    <tr>\n      <th>2</th>\n      <td>Isolation Forest Original</td>\n      <td>2</td>\n      <td>0.653333</td>\n      <td>0.52</td>\n      <td>1.0</td>\n      <td>1.0</td>\n      <td>1.0</td>\n      <td>0.0</td>\n      <td>0.790323</td>\n      <td>0.684211</td>\n      <td>0.0</td>\n      <td>0.790323</td>\n      <td>0.684211</td>\n      <td>0.0</td>\n      <td>0.284447</td>\n      <td>0.189193</td>\n    </tr>\n  </tbody>\n</table>\n</div>"
     },
     "execution_count": 15,
     "metadata": {},
     "output_type": "execute_result"
    }
   ],
   "source": [
    "performance"
   ],
   "metadata": {
    "collapsed": false,
    "pycharm": {
     "name": "#%%\n"
    }
   }
  },
  {
   "cell_type": "markdown",
   "source": [
    "## Confusion Matrices"
   ],
   "metadata": {
    "collapsed": false,
    "pycharm": {
     "name": "#%% md\n"
    }
   }
  },
  {
   "cell_type": "code",
   "execution_count": 16,
   "outputs": [
    {
     "name": "stderr",
     "output_type": "stream",
     "text": [
      "/tmp/ipykernel_18159/1834916541.py:20: UserWarning: Matplotlib is currently using module://matplotlib_inline.backend_inline, which is a non-GUI backend, so cannot show the figure.\n",
      "  fig.show()\n",
      "/tmp/ipykernel_18159/1834916541.py:37: UserWarning: Matplotlib is currently using module://matplotlib_inline.backend_inline, which is a non-GUI backend, so cannot show the figure.\n",
      "  fig.show()\n",
      "/tmp/ipykernel_18159/1834916541.py:53: UserWarning: Matplotlib is currently using module://matplotlib_inline.backend_inline, which is a non-GUI backend, so cannot show the figure.\n",
      "  fig.show()\n"
     ]
    },
    {
     "data": {
      "text/plain": "<Figure size 432x288 with 6 Axes>",
      "image/png": "[encoded data removed]"
     },
     "metadata": {
      "needs_background": "light"
     },
     "output_type": "display_data"
    },
    {
     "data": {
      "text/plain": "<Figure size 432x288 with 6 Axes>",
      "image/png": "[encoded data removed]"
     },
     "metadata": {
      "needs_background": "light"
     },
     "output_type": "display_data"
    },
    {
     "data": {
      "text/plain": "<Figure size 432x288 with 6 Axes>",
      "image/png": "[encoded data removed]"
     },
     "metadata": {
      "needs_background": "light"
     },
     "output_type": "display_data"
    }
   ],
   "source": [
    "\n",
    "y_train_clipped = y_train.clip(min=0)\n",
    "y_test_clipped = y_test.clip(min=0)\n",
    "y_outlier_clipped = y_outlier.clip(min=0)\n",
    "\n",
    "# Original\n",
    "fig, (ax1, ax2, ax3) = plt.subplots(1, 3)\n",
    "fig.suptitle(\"Original\")\n",
    "\n",
    "y_train_pred =  org_clf.predict(X_train).clip(min=0)\n",
    "cf_matrix = confusion_matrix(y_train_clipped, y_train_pred)\n",
    "sns.heatmap(cf_matrix, annot=True, ax=ax1)\n",
    "\n",
    "y_test_pred =  org_clf.predict(X_test).clip(min=0)\n",
    "cf_matrix = confusion_matrix(y_test_clipped, y_test_pred)\n",
    "sns.heatmap(cf_matrix, annot=True, ax=ax2)\n",
    "\n",
    "y_outlier_pred =  org_clf.predict(X_outliers).clip(min=0)\n",
    "cf_matrix = confusion_matrix(y_outlier_clipped, y_outlier_pred)\n",
    "sns.heatmap(cf_matrix, annot=True, ax=ax3)\n",
    "fig.show()\n",
    "\n",
    "# GD\n",
    "fig, (ax1, ax2, ax3) = plt.subplots(1, 3)\n",
    "fig.suptitle(\"Bases\")\n",
    "\n",
    "y_train_pred =  gd_clf.predict(X_train_bases).clip(min=0)\n",
    "cf_matrix = confusion_matrix(y_train_clipped, y_train_pred)\n",
    "sns.heatmap(cf_matrix, annot=True, ax=ax1)\n",
    "\n",
    "y_test_pred =  gd_clf.predict(X_test_bases).clip(min=0)\n",
    "cf_matrix = confusion_matrix(y_test_clipped, y_test_pred)\n",
    "sns.heatmap(cf_matrix, annot=True, ax=ax2)\n",
    "\n",
    "y_outlier_pred =  gd_clf.predict(X_outliers_bases).clip(min=0)\n",
    "cf_matrix = confusion_matrix(y_outlier_clipped, y_outlier_pred)\n",
    "sns.heatmap(cf_matrix, annot=True, ax=ax3)\n",
    "fig.show()\n",
    "\n",
    "# GD Extended\n",
    "fig, (ax1, ax2, ax3) = plt.subplots(1, 3)\n",
    "fig.suptitle(\"Bases - extended\")\n",
    "y_train_pred =  gd_ext_clf.predict_extended(X_train_bases).clip(min=0)\n",
    "cf_matrix = confusion_matrix(y_train_clipped, y_train_pred)\n",
    "sns.heatmap(cf_matrix, annot=True, ax=ax1)\n",
    "\n",
    "y_test_pred =  gd_ext_clf.predict_extended(X_test_bases).clip(min=0)\n",
    "cf_matrix = confusion_matrix(y_test_clipped, y_test_pred)\n",
    "sns.heatmap(cf_matrix, annot=True, ax=ax2)\n",
    "\n",
    "y_outlier_pred =  gd_ext_clf.predict_extended(X_outliers_bases).clip(min=0)\n",
    "cf_matrix = confusion_matrix(y_outlier_clipped, y_outlier_pred)\n",
    "sns.heatmap(cf_matrix, annot=True, ax=ax3)\n",
    "fig.show()"
   ],
   "metadata": {
    "collapsed": false,
    "pycharm": {
     "name": "#%%\n"
    }
   }
  },
  {
   "cell_type": "markdown",
   "metadata": {
    "collapsed": false,
    "pycharm": {
     "name": "#%% md\n"
    }
   },
   "source": [
    "# Data Visualization"
   ]
  },
  {
   "cell_type": "markdown",
   "source": [
    "## Decision function (Original, bases, extended) - single cluster"
   ],
   "metadata": {
    "collapsed": false,
    "pycharm": {
     "name": "#%% md\n"
    }
   }
  },
  {
   "cell_type": "code",
   "execution_count": 17,
   "outputs": [
    {
     "data": {
      "text/plain": "<Figure size 432x288 with 3 Axes>",
      "image/png": "[encoded data removed]"
     },
     "metadata": {
      "needs_background": "light"
     },
     "output_type": "display_data"
    }
   ],
   "source": [
    "X_train_2, X_test_2, X_outliers_2, y_train_2, y_test_2, y_outlier_2 = generate_data(100, 3, 1)\n",
    "\n",
    "vectorized_func = np.vectorize(gd.compress_int)\n",
    "\n",
    "X_train_bases_2 = vectorized_func(X_train_2, deviation_bits=DEVIATION_BITS, output=\"integer\")\n",
    "X_test_bases_2 = vectorized_func(X_test_2, deviation_bits=DEVIATION_BITS, output=\"integer\")\n",
    "X_outliers_bases_2 = vectorized_func(X_outliers_2, deviation_bits=DEVIATION_BITS, output=\"integer\")\n",
    "\n",
    "org_clf_2 = IsolationForest(random_state=rng)\n",
    "org_clf_2.fit(X_train_2)\n",
    "\n",
    "gd_clf_2 = IsolationForest(random_state=rng)\n",
    "gd_clf_2.fit(X_train_bases_2)\n",
    "\n",
    "gd_ext_clf_2 = IsolationForest(random_state=rng)\n",
    "gd_ext_clf_2.fit_extended(X_train_bases_2)\n",
    "\n",
    "xx, yy = np.meshgrid(np.linspace(0, 100, 50), np.linspace(0, 100, 50))\n",
    "\n",
    "fig, (ax1, ax2, ax3) = plt.subplots(3, 1)\n",
    "\n",
    "#Original\n",
    "Z = org_clf_2.decision_function(np.c_[xx.ravel(), yy.ravel()])\n",
    "Z = Z.reshape(xx.shape)\n",
    "ax1.contourf(xx, yy, Z, cmap=plt.cm.Blues_r)\n",
    "\n",
    "ax1.scatter(X_train_2[:, 0], X_train_2[:, 1], c=\"white\", s=20, edgecolor=\"k\")\n",
    "\n",
    "# Bases\n",
    "Z = gd_clf_2.decision_function(np.c_[xx.ravel(), yy.ravel()])\n",
    "Z = Z.reshape(xx.shape)\n",
    "ax2.contourf(xx, yy, Z, cmap=plt.cm.Blues_r)\n",
    "\n",
    "ax2.scatter(X_train_bases_2[:, 0], X_train_bases_2[:, 1], c=\"white\", s=20, edgecolor=\"k\")\n",
    "\n",
    "# Bases - extended\n",
    "Z = gd_ext_clf_2.decision_function_extended(np.c_[xx.ravel(), yy.ravel()])\n",
    "Z = Z.reshape(xx.shape)\n",
    "ax3.contourf(xx, yy, Z, cmap=plt.cm.Blues_r)\n",
    "\n",
    "ax3.scatter(X_train_bases_2[:, 0], X_train_bases_2[:, 1], c=\"white\", s=20, edgecolor=\"k\")\n",
    "\n",
    "# Plot settings\n",
    "ax1.set_title(\"Original Data\")\n",
    "ax2.set_title(\"Bases Data\")\n",
    "ax3.set_title(\"Bases Data - Extended\")\n",
    "\n",
    "ax1.set_xlim([0,100])\n",
    "ax2.set_xlim([0,100])\n",
    "ax3.set_xlim([0,100])\n",
    "\n",
    "ax1.set_ylim([0,100])\n",
    "ax2.set_ylim([0,100])\n",
    "ax3.set_ylim([0,100])\n",
    "\n",
    "ax1.set_xticklabels([])\n",
    "ax2.set_xticklabels([])\n",
    "\n",
    "ax1.set_ylabel('Y')\n",
    "ax2.set_ylabel('Y')\n",
    "ax2.set_xlabel('X')\n",
    "\n",
    "\n",
    "plt.show()"
   ],
   "metadata": {
    "collapsed": false,
    "pycharm": {
     "name": "#%%\n"
    }
   }
  },
  {
   "cell_type": "markdown",
   "source": [
    "## Data before and after gd - scatter"
   ],
   "metadata": {
    "collapsed": false,
    "pycharm": {
     "name": "#%% md\n"
    }
   }
  },
  {
   "cell_type": "code",
   "execution_count": 18,
   "outputs": [
    {
     "data": {
      "text/plain": "<Figure size 432x288 with 2 Axes>",
      "image/png": "[encoded data removed]"
     },
     "metadata": {
      "needs_background": "light"
     },
     "output_type": "display_data"
    }
   ],
   "source": [
    "fig, (ax1, ax2) = plt.subplots(2, 1)\n",
    "\n",
    "b1 = ax1.scatter(X_train[:, 0], X_train[:, 1], c=\"white\", s=20, edgecolor=\"k\")\n",
    "b2 = ax1.scatter(X_test[:, 0], X_test[:, 1], c=\"green\", s=20, edgecolor=\"k\")\n",
    "c = ax1.scatter(X_outliers[:, 0], X_outliers[:, 1], c=\"red\", s=20, edgecolor=\"k\")\n",
    "ax1.set_title(\"Original Data\")\n",
    "\n",
    "b1 = ax2.scatter(X_train_bases[:, 0], X_train_bases[:, 1], c=\"white\", s=20, edgecolor=\"k\")\n",
    "b2 = ax2.scatter(X_test_bases[:, 0], X_test_bases[:, 1], c=\"green\", s=20, edgecolor=\"k\")\n",
    "c = ax2.scatter(X_outliers_bases[:, 0], X_outliers_bases[:, 1], c=\"red\", s=20, edgecolor=\"k\")\n",
    "ax1.set_title(\"Original Data\")\n",
    "ax2.set_title(\"Bases Data\")\n",
    "\n",
    "ax1.set_xlim([30,120])\n",
    "ax2.set_xlim([30,120])\n",
    "\n",
    "ax1.set_ylim([30,120])\n",
    "ax2.set_ylim([30,120])\n",
    "\n",
    "ax1.set_xticklabels([])\n",
    "\n",
    "ax1.set_ylabel('Y')\n",
    "ax2.set_ylabel('Y')\n",
    "ax2.set_xlabel('X')\n",
    "plt.show()"
   ],
   "metadata": {
    "collapsed": false,
    "pycharm": {
     "name": "#%%\n"
    }
   }
  },
  {
   "cell_type": "markdown",
   "source": [],
   "metadata": {
    "collapsed": false,
    "pycharm": {
     "name": "#%% md\n"
    }
   }
  },
  {
   "cell_type": "markdown",
   "source": [
    "## Decision Function - scatter/contour"
   ],
   "metadata": {
    "collapsed": false,
    "pycharm": {
     "name": "#%% md\n"
    }
   }
  },
  {
   "cell_type": "code",
   "execution_count": 19,
   "outputs": [
    {
     "data": {
      "text/plain": "<Figure size 432x288 with 3 Axes>",
      "image/png": "[encoded data removed]"
     },
     "metadata": {
      "needs_background": "light"
     },
     "output_type": "display_data"
    }
   ],
   "source": [
    "xx, yy = np.meshgrid(np.linspace(30, 120, 50), np.linspace(30, 120, 50))\n",
    "\n",
    "fig, (ax1, ax2, ax3) = plt.subplots(3, 1)\n",
    "\n",
    "#Original\n",
    "Z = org_clf.decision_function(np.c_[xx.ravel(), yy.ravel()])\n",
    "Z = Z.reshape(xx.shape)\n",
    "ax1.contourf(xx, yy, Z, cmap=plt.cm.Blues_r)\n",
    "\n",
    "ax1.scatter(X_train[:, 0], X_train[:, 1], c=\"white\", s=20, edgecolor=\"k\")\n",
    "ax1.scatter(X_test[:, 0], X_test[:, 1], c=\"green\", s=20, edgecolor=\"k\")\n",
    "ax1.scatter(X_outliers[:, 0], X_outliers[:, 1], c=\"red\", s=20, edgecolor=\"k\")\n",
    "\n",
    "# Bases\n",
    "Z = gd_clf.decision_function(np.c_[xx.ravel(), yy.ravel()])\n",
    "Z = Z.reshape(xx.shape)\n",
    "ax2.contourf(xx, yy, Z, cmap=plt.cm.Blues_r)\n",
    "\n",
    "ax2.scatter(X_train_bases[:, 0], X_train_bases[:, 1], c=\"white\", s=20, edgecolor=\"k\")\n",
    "ax2.scatter(X_test_bases[:, 0], X_test_bases[:, 1], c=\"green\", s=20, edgecolor=\"k\")\n",
    "ax2.scatter(X_outliers_bases[:, 0], X_outliers_bases[:, 1], c=\"red\", s=20, edgecolor=\"k\")\n",
    "\n",
    "# Bases\n",
    "Z = gd_ext_clf.decision_function_extended(np.c_[xx.ravel(), yy.ravel()])\n",
    "Z = Z.reshape(xx.shape)\n",
    "ax3.contourf(xx, yy, Z, cmap=plt.cm.Blues_r)\n",
    "\n",
    "ax3.scatter(X_train_bases[:, 0], X_train_bases[:, 1], c=\"white\", s=20, edgecolor=\"k\")\n",
    "ax3.scatter(X_test_bases[:, 0], X_test_bases[:, 1], c=\"green\", s=20, edgecolor=\"k\")\n",
    "ax3.scatter(X_outliers_bases[:, 0], X_outliers_bases[:, 1], c=\"red\", s=20, edgecolor=\"k\")\n",
    "\n",
    "# Plot settings\n",
    "ax1.set_title(\"Original Data\")\n",
    "ax2.set_title(\"Bases Data\")\n",
    "ax3.set_title(\"Bases Data - extended\")\n",
    "\n",
    "ax1.set_xlim([30,120])\n",
    "ax2.set_xlim([30,120])\n",
    "ax3.set_xlim([30,120])\n",
    "\n",
    "ax1.set_ylim([30,120])\n",
    "ax2.set_ylim([30,120])\n",
    "ax3.set_ylim([30,120])\n",
    "\n",
    "ax1.set_xticklabels([])\n",
    "ax2.set_xticklabels([])\n",
    "\n",
    "ax1.set_ylabel('Y')\n",
    "ax2.set_ylabel('Y')\n",
    "ax3.set_ylabel('Y')\n",
    "ax3.set_xlabel('X')\n",
    "\n",
    "\n",
    "plt.show()"
   ],
   "metadata": {
    "collapsed": false,
    "pycharm": {
     "name": "#%%\n"
    }
   }
  },
  {
   "cell_type": "markdown",
   "source": [
    "## Bases - density"
   ],
   "metadata": {
    "collapsed": false,
    "pycharm": {
     "name": "#%% md\n"
    }
   }
  },
  {
   "cell_type": "code",
   "execution_count": 20,
   "outputs": [
    {
     "data": {
      "text/plain": "<Figure size 432x288 with 3 Axes>",
      "image/png": "[encoded data removed]"
     },
     "metadata": {
      "needs_background": "light"
     },
     "output_type": "display_data"
    }
   ],
   "source": [
    "fig, axes = plt.subplots(nrows=3, ncols=1)\n",
    "pd.DataFrame(X_train_bases).plot.density(ax=axes[0])\n",
    "pd.DataFrame(X_test_bases).plot.density(ax=axes[1])\n",
    "pd.DataFrame(X_outliers_bases).plot.density(ax=axes[2])\n",
    "plt.show()"
   ],
   "metadata": {
    "collapsed": false,
    "pycharm": {
     "name": "#%%\n"
    }
   }
  },
  {
   "cell_type": "markdown",
   "metadata": {
    "collapsed": false,
    "pycharm": {
     "name": "#%% md\n"
    }
   },
   "source": [
    "## Calculation - scatter"
   ]
  },
  {
   "cell_type": "code",
   "execution_count": 21,
   "metadata": {
    "collapsed": false,
    "pycharm": {
     "name": "#%%\n"
    }
   },
   "outputs": [
    {
     "data": {
      "text/plain": "<Figure size 432x288 with 8 Axes>",
      "image/png": "[encoded data removed]"
     },
     "metadata": {
      "needs_background": "light"
     },
     "output_type": "display_data"
    }
   ],
   "source": [
    "fig, axs = plt.subplots(2, 2)\n",
    "ax1 = axs[0,0]\n",
    "ax2 = axs[0,1]\n",
    "ax3 = axs[1,0]\n",
    "ax4 = axs[1,1]\n",
    "\n",
    "points = ax1.scatter(df_unique.gd_X, df_unique.gd_Y, c=df_unique.gd_score_converted,cmap=\"jet\", lw=0)\n",
    "plt.colorbar(points,ax=ax1)\n",
    "ax1.set_title(\"Score Scatter\")\n",
    "\n",
    "points = ax2.scatter(df_unique.gd_X, df_unique.gd_Y, c=df_unique.gd_score_converted,cmap=\"jet\", lw=0)\n",
    "plt.colorbar(points,ax=ax2)\n",
    "ax2.set_title(\"Score Scatter\")\n",
    "\n",
    "points = ax3.scatter(df_unique.gd_X, df_unique.gd_Y, c=df_unique['E[H(x)]+log_2[count(x)]'],cmap=\"jet\", lw=0)\n",
    "plt.colorbar(points,ax=ax3)\n",
    "ax3.set_title(\"E[H(x)]+log_2[count(x)]\")\n",
    "\n",
    "points = ax4.scatter(df_unique.gd_X, df_unique.gd_Y, c=df_unique['S(x,n_samples)'],cmap=\"jet\", lw=0)\n",
    "plt.colorbar(points,ax=ax4)\n",
    "ax4.set_title(\"S(x,n_samples)\")\n",
    "\n",
    "ax1.set_xticklabels([])\n",
    "ax2.set_xticklabels([])\n",
    "\n",
    "ax2.set_yticklabels([])\n",
    "ax4.set_yticklabels([])\n",
    "\n",
    "ax3.set_ylabel('Y')\n",
    "ax1.set_ylabel('Y')\n",
    "plt.show()"
   ]
  },
  {
   "cell_type": "markdown",
   "metadata": {
    "collapsed": false,
    "pycharm": {
     "name": "#%% md\n"
    }
   },
   "source": []
  },
  {
   "cell_type": "markdown",
   "source": [
    "## Deviation / Metrics tradeoffs"
   ],
   "metadata": {
    "collapsed": false
   }
  },
  {
   "cell_type": "markdown",
   "source": [
    "### Setup data"
   ],
   "metadata": {
    "collapsed": false
   }
  },
  {
   "cell_type": "code",
   "execution_count": 22,
   "outputs": [],
   "source": [
    "#X_train, X_test, X_outliers, y_train, y_test, y_outlier = generate_data(100, 3, 1)\n",
    "deviation_bits_max = 32\n",
    "gd_performance = pd.DataFrame(columns=['name', 'deviation_bits', 'train_accuracy_score', 'test_accuracy_score', 'outlier_accuracy_score', 'train_precision_score', 'test_precision_score', 'outlier_precision_score','train_f1_score', 'test_f1_score', 'outlier_f1_score', 'train_recall_score', 'test_recall_score', 'outlier_recall_score', 'training_time', 'prediction_time'])\n",
    "\n",
    "gd_ext_performance = pd.DataFrame(columns=['name', 'deviation_bits', 'train_accuracy_score', 'test_accuracy_score', 'outlier_accuracy_score', 'train_precision_score', 'test_precision_score', 'outlier_precision_score','train_f1_score', 'test_f1_score', 'outlier_f1_score', 'train_recall_score', 'test_recall_score', 'outlier_recall_score', 'training_time', 'prediction_time'])"
   ],
   "metadata": {
    "collapsed": false,
    "pycharm": {
     "name": "#%%\n"
    }
   }
  },
  {
   "cell_type": "markdown",
   "source": [
    "### Perform generalized deduplication"
   ],
   "metadata": {
    "collapsed": false
   }
  },
  {
   "cell_type": "code",
   "execution_count": 23,
   "outputs": [],
   "source": [
    "vectorized_func = np.vectorize(gd.compress_int)\n",
    "X_train_bases = []\n",
    "X_test_bases = []\n",
    "X_outliers_bases = []\n",
    "\n",
    "for i in range(0, deviation_bits_max + 1):\n",
    "    X_train_bases.append(vectorized_func(X_train, deviation_bits=i, output=\"integer\"))\n",
    "    X_test_bases.append(vectorized_func(X_test, deviation_bits=i, output=\"integer\"))\n",
    "    X_outliers_bases.append(vectorized_func(X_outliers, deviation_bits=i, output=\"integer\"))"
   ],
   "metadata": {
    "collapsed": false,
    "pycharm": {
     "name": "#%%\n"
    }
   }
  },
  {
   "cell_type": "markdown",
   "source": [
    "### Train models"
   ],
   "metadata": {
    "collapsed": false
   }
  },
  {
   "cell_type": "code",
   "execution_count": 24,
   "outputs": [
    {
     "name": "stderr",
     "output_type": "stream",
     "text": [
      "/home/mlrosenquist/PycharmProjects/scikit-learn/sklearn/metrics/_classification.py:1327: UndefinedMetricWarning: Precision is ill-defined and being set to 0.0 due to no predicted samples. Use `zero_division` parameter to control this behavior.\n",
      "  _warn_prf(average, modifier, msg_start, len(result))\n",
      "/home/mlrosenquist/PycharmProjects/scikit-learn/sklearn/metrics/_classification.py:1592: UndefinedMetricWarning: F-score is ill-defined and being set to 0.0 due to no true nor predicted samples. Use `zero_division` parameter to control this behavior.\n",
      "  _warn_prf(average, \"true nor predicted\", \"F-score is\", len(true_sum))\n",
      "/home/mlrosenquist/PycharmProjects/scikit-learn/sklearn/metrics/_classification.py:1592: UndefinedMetricWarning: F-score is ill-defined and being set to 0.0 due to no true nor predicted samples. Use `zero_division` parameter to control this behavior.\n",
      "  _warn_prf(average, \"true nor predicted\", \"F-score is\", len(true_sum))\n",
      "/tmp/ipykernel_18159/156526775.py:8: FutureWarning: The frame.append method is deprecated and will be removed from pandas in a future version. Use pandas.concat instead.\n",
      "  gd_performance = gd_performance.append(create_performance_object(f'Bases', i, y_pred_train, y_pred_test, y_pred_outliers, None, None), ignore_index=True)\n",
      "/home/mlrosenquist/PycharmProjects/scikit-learn/sklearn/metrics/_classification.py:1327: UndefinedMetricWarning: Precision is ill-defined and being set to 0.0 due to no predicted samples. Use `zero_division` parameter to control this behavior.\n",
      "  _warn_prf(average, modifier, msg_start, len(result))\n",
      "/home/mlrosenquist/PycharmProjects/scikit-learn/sklearn/metrics/_classification.py:1592: UndefinedMetricWarning: F-score is ill-defined and being set to 0.0 due to no true nor predicted samples. Use `zero_division` parameter to control this behavior.\n",
      "  _warn_prf(average, \"true nor predicted\", \"F-score is\", len(true_sum))\n",
      "/home/mlrosenquist/PycharmProjects/scikit-learn/sklearn/metrics/_classification.py:1592: UndefinedMetricWarning: F-score is ill-defined and being set to 0.0 due to no true nor predicted samples. Use `zero_division` parameter to control this behavior.\n",
      "  _warn_prf(average, \"true nor predicted\", \"F-score is\", len(true_sum))\n",
      "/tmp/ipykernel_18159/156526775.py:16: FutureWarning: The frame.append method is deprecated and will be removed from pandas in a future version. Use pandas.concat instead.\n",
      "  gd_ext_performance = gd_ext_performance.append(create_performance_object(f'Bases extended', i, y_pred_train, y_pred_test, y_pred_outliers, None, None), ignore_index=True)\n",
      "/home/mlrosenquist/PycharmProjects/scikit-learn/sklearn/metrics/_classification.py:1327: UndefinedMetricWarning: Precision is ill-defined and being set to 0.0 due to no predicted samples. Use `zero_division` parameter to control this behavior.\n",
      "  _warn_prf(average, modifier, msg_start, len(result))\n",
      "/home/mlrosenquist/PycharmProjects/scikit-learn/sklearn/metrics/_classification.py:1592: UndefinedMetricWarning: F-score is ill-defined and being set to 0.0 due to no true nor predicted samples. Use `zero_division` parameter to control this behavior.\n",
      "  _warn_prf(average, \"true nor predicted\", \"F-score is\", len(true_sum))\n",
      "/home/mlrosenquist/PycharmProjects/scikit-learn/sklearn/metrics/_classification.py:1592: UndefinedMetricWarning: F-score is ill-defined and being set to 0.0 due to no true nor predicted samples. Use `zero_division` parameter to control this behavior.\n",
      "  _warn_prf(average, \"true nor predicted\", \"F-score is\", len(true_sum))\n",
      "/tmp/ipykernel_18159/156526775.py:8: FutureWarning: The frame.append method is deprecated and will be removed from pandas in a future version. Use pandas.concat instead.\n",
      "  gd_performance = gd_performance.append(create_performance_object(f'Bases', i, y_pred_train, y_pred_test, y_pred_outliers, None, None), ignore_index=True)\n",
      "/home/mlrosenquist/PycharmProjects/scikit-learn/sklearn/metrics/_classification.py:1327: UndefinedMetricWarning: Precision is ill-defined and being set to 0.0 due to no predicted samples. Use `zero_division` parameter to control this behavior.\n",
      "  _warn_prf(average, modifier, msg_start, len(result))\n",
      "/home/mlrosenquist/PycharmProjects/scikit-learn/sklearn/metrics/_classification.py:1592: UndefinedMetricWarning: F-score is ill-defined and being set to 0.0 due to no true nor predicted samples. Use `zero_division` parameter to control this behavior.\n",
      "  _warn_prf(average, \"true nor predicted\", \"F-score is\", len(true_sum))\n",
      "/home/mlrosenquist/PycharmProjects/scikit-learn/sklearn/metrics/_classification.py:1592: UndefinedMetricWarning: F-score is ill-defined and being set to 0.0 due to no true nor predicted samples. Use `zero_division` parameter to control this behavior.\n",
      "  _warn_prf(average, \"true nor predicted\", \"F-score is\", len(true_sum))\n",
      "/tmp/ipykernel_18159/156526775.py:16: FutureWarning: The frame.append method is deprecated and will be removed from pandas in a future version. Use pandas.concat instead.\n",
      "  gd_ext_performance = gd_ext_performance.append(create_performance_object(f'Bases extended', i, y_pred_train, y_pred_test, y_pred_outliers, None, None), ignore_index=True)\n",
      "/home/mlrosenquist/PycharmProjects/scikit-learn/sklearn/metrics/_classification.py:1327: UndefinedMetricWarning: Precision is ill-defined and being set to 0.0 due to no predicted samples. Use `zero_division` parameter to control this behavior.\n",
      "  _warn_prf(average, modifier, msg_start, len(result))\n",
      "/home/mlrosenquist/PycharmProjects/scikit-learn/sklearn/metrics/_classification.py:1592: UndefinedMetricWarning: F-score is ill-defined and being set to 0.0 due to no true nor predicted samples. Use `zero_division` parameter to control this behavior.\n",
      "  _warn_prf(average, \"true nor predicted\", \"F-score is\", len(true_sum))\n",
      "/home/mlrosenquist/PycharmProjects/scikit-learn/sklearn/metrics/_classification.py:1592: UndefinedMetricWarning: F-score is ill-defined and being set to 0.0 due to no true nor predicted samples. Use `zero_division` parameter to control this behavior.\n",
      "  _warn_prf(average, \"true nor predicted\", \"F-score is\", len(true_sum))\n",
      "/tmp/ipykernel_18159/156526775.py:8: FutureWarning: The frame.append method is deprecated and will be removed from pandas in a future version. Use pandas.concat instead.\n",
      "  gd_performance = gd_performance.append(create_performance_object(f'Bases', i, y_pred_train, y_pred_test, y_pred_outliers, None, None), ignore_index=True)\n",
      "/home/mlrosenquist/PycharmProjects/scikit-learn/sklearn/metrics/_classification.py:1327: UndefinedMetricWarning: Precision is ill-defined and being set to 0.0 due to no predicted samples. Use `zero_division` parameter to control this behavior.\n",
      "  _warn_prf(average, modifier, msg_start, len(result))\n",
      "/home/mlrosenquist/PycharmProjects/scikit-learn/sklearn/metrics/_classification.py:1592: UndefinedMetricWarning: F-score is ill-defined and being set to 0.0 due to no true nor predicted samples. Use `zero_division` parameter to control this behavior.\n",
      "  _warn_prf(average, \"true nor predicted\", \"F-score is\", len(true_sum))\n",
      "/home/mlrosenquist/PycharmProjects/scikit-learn/sklearn/metrics/_classification.py:1592: UndefinedMetricWarning: F-score is ill-defined and being set to 0.0 due to no true nor predicted samples. Use `zero_division` parameter to control this behavior.\n",
      "  _warn_prf(average, \"true nor predicted\", \"F-score is\", len(true_sum))\n",
      "/tmp/ipykernel_18159/156526775.py:16: FutureWarning: The frame.append method is deprecated and will be removed from pandas in a future version. Use pandas.concat instead.\n",
      "  gd_ext_performance = gd_ext_performance.append(create_performance_object(f'Bases extended', i, y_pred_train, y_pred_test, y_pred_outliers, None, None), ignore_index=True)\n",
      "/tmp/ipykernel_18159/156526775.py:8: FutureWarning: The frame.append method is deprecated and will be removed from pandas in a future version. Use pandas.concat instead.\n",
      "  gd_performance = gd_performance.append(create_performance_object(f'Bases', i, y_pred_train, y_pred_test, y_pred_outliers, None, None), ignore_index=True)\n",
      "/tmp/ipykernel_18159/156526775.py:16: FutureWarning: The frame.append method is deprecated and will be removed from pandas in a future version. Use pandas.concat instead.\n",
      "  gd_ext_performance = gd_ext_performance.append(create_performance_object(f'Bases extended', i, y_pred_train, y_pred_test, y_pred_outliers, None, None), ignore_index=True)\n",
      "/tmp/ipykernel_18159/156526775.py:8: FutureWarning: The frame.append method is deprecated and will be removed from pandas in a future version. Use pandas.concat instead.\n",
      "  gd_performance = gd_performance.append(create_performance_object(f'Bases', i, y_pred_train, y_pred_test, y_pred_outliers, None, None), ignore_index=True)\n",
      "/tmp/ipykernel_18159/156526775.py:16: FutureWarning: The frame.append method is deprecated and will be removed from pandas in a future version. Use pandas.concat instead.\n",
      "  gd_ext_performance = gd_ext_performance.append(create_performance_object(f'Bases extended', i, y_pred_train, y_pred_test, y_pred_outliers, None, None), ignore_index=True)\n",
      "/home/mlrosenquist/PycharmProjects/scikit-learn/sklearn/metrics/_classification.py:1327: UndefinedMetricWarning: Precision is ill-defined and being set to 0.0 due to no predicted samples. Use `zero_division` parameter to control this behavior.\n",
      "  _warn_prf(average, modifier, msg_start, len(result))\n",
      "/home/mlrosenquist/PycharmProjects/scikit-learn/sklearn/metrics/_classification.py:1327: UndefinedMetricWarning: Precision is ill-defined and being set to 0.0 due to no predicted samples. Use `zero_division` parameter to control this behavior.\n",
      "  _warn_prf(average, modifier, msg_start, len(result))\n",
      "/home/mlrosenquist/PycharmProjects/scikit-learn/sklearn/metrics/_classification.py:1327: UndefinedMetricWarning: Precision is ill-defined and being set to 0.0 due to no predicted samples. Use `zero_division` parameter to control this behavior.\n",
      "  _warn_prf(average, modifier, msg_start, len(result))\n",
      "/home/mlrosenquist/PycharmProjects/scikit-learn/sklearn/metrics/_classification.py:1592: UndefinedMetricWarning: F-score is ill-defined and being set to 0.0 due to no true nor predicted samples. Use `zero_division` parameter to control this behavior.\n",
      "  _warn_prf(average, \"true nor predicted\", \"F-score is\", len(true_sum))\n",
      "/home/mlrosenquist/PycharmProjects/scikit-learn/sklearn/metrics/_classification.py:1592: UndefinedMetricWarning: F-score is ill-defined and being set to 0.0 due to no true nor predicted samples. Use `zero_division` parameter to control this behavior.\n",
      "  _warn_prf(average, \"true nor predicted\", \"F-score is\", len(true_sum))\n",
      "/tmp/ipykernel_18159/156526775.py:8: FutureWarning: The frame.append method is deprecated and will be removed from pandas in a future version. Use pandas.concat instead.\n",
      "  gd_performance = gd_performance.append(create_performance_object(f'Bases', i, y_pred_train, y_pred_test, y_pred_outliers, None, None), ignore_index=True)\n",
      "/home/mlrosenquist/PycharmProjects/scikit-learn/sklearn/metrics/_classification.py:1327: UndefinedMetricWarning: Precision is ill-defined and being set to 0.0 due to no predicted samples. Use `zero_division` parameter to control this behavior.\n",
      "  _warn_prf(average, modifier, msg_start, len(result))\n",
      "/home/mlrosenquist/PycharmProjects/scikit-learn/sklearn/metrics/_classification.py:1592: UndefinedMetricWarning: F-score is ill-defined and being set to 0.0 due to no true nor predicted samples. Use `zero_division` parameter to control this behavior.\n",
      "  _warn_prf(average, \"true nor predicted\", \"F-score is\", len(true_sum))\n",
      "/home/mlrosenquist/PycharmProjects/scikit-learn/sklearn/metrics/_classification.py:1592: UndefinedMetricWarning: F-score is ill-defined and being set to 0.0 due to no true nor predicted samples. Use `zero_division` parameter to control this behavior.\n",
      "  _warn_prf(average, \"true nor predicted\", \"F-score is\", len(true_sum))\n",
      "/tmp/ipykernel_18159/156526775.py:16: FutureWarning: The frame.append method is deprecated and will be removed from pandas in a future version. Use pandas.concat instead.\n",
      "  gd_ext_performance = gd_ext_performance.append(create_performance_object(f'Bases extended', i, y_pred_train, y_pred_test, y_pred_outliers, None, None), ignore_index=True)\n",
      "/home/mlrosenquist/PycharmProjects/scikit-learn/sklearn/metrics/_classification.py:1327: UndefinedMetricWarning: Precision is ill-defined and being set to 0.0 due to no predicted samples. Use `zero_division` parameter to control this behavior.\n",
      "  _warn_prf(average, modifier, msg_start, len(result))\n",
      "/home/mlrosenquist/PycharmProjects/scikit-learn/sklearn/metrics/_classification.py:1327: UndefinedMetricWarning: Precision is ill-defined and being set to 0.0 due to no predicted samples. Use `zero_division` parameter to control this behavior.\n",
      "  _warn_prf(average, modifier, msg_start, len(result))\n",
      "/home/mlrosenquist/PycharmProjects/scikit-learn/sklearn/metrics/_classification.py:1327: UndefinedMetricWarning: Precision is ill-defined and being set to 0.0 due to no predicted samples. Use `zero_division` parameter to control this behavior.\n",
      "  _warn_prf(average, modifier, msg_start, len(result))\n",
      "/home/mlrosenquist/PycharmProjects/scikit-learn/sklearn/metrics/_classification.py:1592: UndefinedMetricWarning: F-score is ill-defined and being set to 0.0 due to no true nor predicted samples. Use `zero_division` parameter to control this behavior.\n",
      "  _warn_prf(average, \"true nor predicted\", \"F-score is\", len(true_sum))\n",
      "/home/mlrosenquist/PycharmProjects/scikit-learn/sklearn/metrics/_classification.py:1592: UndefinedMetricWarning: F-score is ill-defined and being set to 0.0 due to no true nor predicted samples. Use `zero_division` parameter to control this behavior.\n",
      "  _warn_prf(average, \"true nor predicted\", \"F-score is\", len(true_sum))\n",
      "/tmp/ipykernel_18159/156526775.py:8: FutureWarning: The frame.append method is deprecated and will be removed from pandas in a future version. Use pandas.concat instead.\n",
      "  gd_performance = gd_performance.append(create_performance_object(f'Bases', i, y_pred_train, y_pred_test, y_pred_outliers, None, None), ignore_index=True)\n",
      "/tmp/ipykernel_18159/156526775.py:16: FutureWarning: The frame.append method is deprecated and will be removed from pandas in a future version. Use pandas.concat instead.\n",
      "  gd_ext_performance = gd_ext_performance.append(create_performance_object(f'Bases extended', i, y_pred_train, y_pred_test, y_pred_outliers, None, None), ignore_index=True)\n",
      "/home/mlrosenquist/PycharmProjects/scikit-learn/sklearn/metrics/_classification.py:1327: UndefinedMetricWarning: Precision is ill-defined and being set to 0.0 due to no predicted samples. Use `zero_division` parameter to control this behavior.\n",
      "  _warn_prf(average, modifier, msg_start, len(result))\n",
      "/home/mlrosenquist/PycharmProjects/scikit-learn/sklearn/metrics/_classification.py:1327: UndefinedMetricWarning: Precision is ill-defined and being set to 0.0 due to no predicted samples. Use `zero_division` parameter to control this behavior.\n",
      "  _warn_prf(average, modifier, msg_start, len(result))\n",
      "/home/mlrosenquist/PycharmProjects/scikit-learn/sklearn/metrics/_classification.py:1327: UndefinedMetricWarning: Precision is ill-defined and being set to 0.0 due to no predicted samples. Use `zero_division` parameter to control this behavior.\n",
      "  _warn_prf(average, modifier, msg_start, len(result))\n",
      "/home/mlrosenquist/PycharmProjects/scikit-learn/sklearn/metrics/_classification.py:1592: UndefinedMetricWarning: F-score is ill-defined and being set to 0.0 due to no true nor predicted samples. Use `zero_division` parameter to control this behavior.\n",
      "  _warn_prf(average, \"true nor predicted\", \"F-score is\", len(true_sum))\n",
      "/home/mlrosenquist/PycharmProjects/scikit-learn/sklearn/metrics/_classification.py:1592: UndefinedMetricWarning: F-score is ill-defined and being set to 0.0 due to no true nor predicted samples. Use `zero_division` parameter to control this behavior.\n",
      "  _warn_prf(average, \"true nor predicted\", \"F-score is\", len(true_sum))\n",
      "/tmp/ipykernel_18159/156526775.py:8: FutureWarning: The frame.append method is deprecated and will be removed from pandas in a future version. Use pandas.concat instead.\n",
      "  gd_performance = gd_performance.append(create_performance_object(f'Bases', i, y_pred_train, y_pred_test, y_pred_outliers, None, None), ignore_index=True)\n",
      "/tmp/ipykernel_18159/156526775.py:16: FutureWarning: The frame.append method is deprecated and will be removed from pandas in a future version. Use pandas.concat instead.\n",
      "  gd_ext_performance = gd_ext_performance.append(create_performance_object(f'Bases extended', i, y_pred_train, y_pred_test, y_pred_outliers, None, None), ignore_index=True)\n",
      "/home/mlrosenquist/PycharmProjects/scikit-learn/sklearn/metrics/_classification.py:1327: UndefinedMetricWarning: Precision is ill-defined and being set to 0.0 due to no predicted samples. Use `zero_division` parameter to control this behavior.\n",
      "  _warn_prf(average, modifier, msg_start, len(result))\n",
      "/home/mlrosenquist/PycharmProjects/scikit-learn/sklearn/metrics/_classification.py:1327: UndefinedMetricWarning: Precision is ill-defined and being set to 0.0 due to no predicted samples. Use `zero_division` parameter to control this behavior.\n",
      "  _warn_prf(average, modifier, msg_start, len(result))\n",
      "/home/mlrosenquist/PycharmProjects/scikit-learn/sklearn/metrics/_classification.py:1327: UndefinedMetricWarning: Precision is ill-defined and being set to 0.0 due to no predicted samples. Use `zero_division` parameter to control this behavior.\n",
      "  _warn_prf(average, modifier, msg_start, len(result))\n",
      "/home/mlrosenquist/PycharmProjects/scikit-learn/sklearn/metrics/_classification.py:1592: UndefinedMetricWarning: F-score is ill-defined and being set to 0.0 due to no true nor predicted samples. Use `zero_division` parameter to control this behavior.\n",
      "  _warn_prf(average, \"true nor predicted\", \"F-score is\", len(true_sum))\n",
      "/home/mlrosenquist/PycharmProjects/scikit-learn/sklearn/metrics/_classification.py:1592: UndefinedMetricWarning: F-score is ill-defined and being set to 0.0 due to no true nor predicted samples. Use `zero_division` parameter to control this behavior.\n",
      "  _warn_prf(average, \"true nor predicted\", \"F-score is\", len(true_sum))\n",
      "/tmp/ipykernel_18159/156526775.py:8: FutureWarning: The frame.append method is deprecated and will be removed from pandas in a future version. Use pandas.concat instead.\n",
      "  gd_performance = gd_performance.append(create_performance_object(f'Bases', i, y_pred_train, y_pred_test, y_pred_outliers, None, None), ignore_index=True)\n",
      "/tmp/ipykernel_18159/156526775.py:16: FutureWarning: The frame.append method is deprecated and will be removed from pandas in a future version. Use pandas.concat instead.\n",
      "  gd_ext_performance = gd_ext_performance.append(create_performance_object(f'Bases extended', i, y_pred_train, y_pred_test, y_pred_outliers, None, None), ignore_index=True)\n",
      "/home/mlrosenquist/PycharmProjects/scikit-learn/sklearn/metrics/_classification.py:1327: UndefinedMetricWarning: Precision is ill-defined and being set to 0.0 due to no predicted samples. Use `zero_division` parameter to control this behavior.\n",
      "  _warn_prf(average, modifier, msg_start, len(result))\n",
      "/home/mlrosenquist/PycharmProjects/scikit-learn/sklearn/metrics/_classification.py:1327: UndefinedMetricWarning: Precision is ill-defined and being set to 0.0 due to no predicted samples. Use `zero_division` parameter to control this behavior.\n",
      "  _warn_prf(average, modifier, msg_start, len(result))\n",
      "/home/mlrosenquist/PycharmProjects/scikit-learn/sklearn/metrics/_classification.py:1327: UndefinedMetricWarning: Precision is ill-defined and being set to 0.0 due to no predicted samples. Use `zero_division` parameter to control this behavior.\n",
      "  _warn_prf(average, modifier, msg_start, len(result))\n",
      "/home/mlrosenquist/PycharmProjects/scikit-learn/sklearn/metrics/_classification.py:1592: UndefinedMetricWarning: F-score is ill-defined and being set to 0.0 due to no true nor predicted samples. Use `zero_division` parameter to control this behavior.\n",
      "  _warn_prf(average, \"true nor predicted\", \"F-score is\", len(true_sum))\n",
      "/home/mlrosenquist/PycharmProjects/scikit-learn/sklearn/metrics/_classification.py:1592: UndefinedMetricWarning: F-score is ill-defined and being set to 0.0 due to no true nor predicted samples. Use `zero_division` parameter to control this behavior.\n",
      "  _warn_prf(average, \"true nor predicted\", \"F-score is\", len(true_sum))\n",
      "/tmp/ipykernel_18159/156526775.py:8: FutureWarning: The frame.append method is deprecated and will be removed from pandas in a future version. Use pandas.concat instead.\n",
      "  gd_performance = gd_performance.append(create_performance_object(f'Bases', i, y_pred_train, y_pred_test, y_pred_outliers, None, None), ignore_index=True)\n",
      "/tmp/ipykernel_18159/156526775.py:16: FutureWarning: The frame.append method is deprecated and will be removed from pandas in a future version. Use pandas.concat instead.\n",
      "  gd_ext_performance = gd_ext_performance.append(create_performance_object(f'Bases extended', i, y_pred_train, y_pred_test, y_pred_outliers, None, None), ignore_index=True)\n",
      "/home/mlrosenquist/PycharmProjects/scikit-learn/sklearn/metrics/_classification.py:1327: UndefinedMetricWarning: Precision is ill-defined and being set to 0.0 due to no predicted samples. Use `zero_division` parameter to control this behavior.\n",
      "  _warn_prf(average, modifier, msg_start, len(result))\n",
      "/home/mlrosenquist/PycharmProjects/scikit-learn/sklearn/metrics/_classification.py:1327: UndefinedMetricWarning: Precision is ill-defined and being set to 0.0 due to no predicted samples. Use `zero_division` parameter to control this behavior.\n",
      "  _warn_prf(average, modifier, msg_start, len(result))\n",
      "/home/mlrosenquist/PycharmProjects/scikit-learn/sklearn/metrics/_classification.py:1327: UndefinedMetricWarning: Precision is ill-defined and being set to 0.0 due to no predicted samples. Use `zero_division` parameter to control this behavior.\n",
      "  _warn_prf(average, modifier, msg_start, len(result))\n",
      "/home/mlrosenquist/PycharmProjects/scikit-learn/sklearn/metrics/_classification.py:1592: UndefinedMetricWarning: F-score is ill-defined and being set to 0.0 due to no true nor predicted samples. Use `zero_division` parameter to control this behavior.\n",
      "  _warn_prf(average, \"true nor predicted\", \"F-score is\", len(true_sum))\n",
      "/home/mlrosenquist/PycharmProjects/scikit-learn/sklearn/metrics/_classification.py:1592: UndefinedMetricWarning: F-score is ill-defined and being set to 0.0 due to no true nor predicted samples. Use `zero_division` parameter to control this behavior.\n",
      "  _warn_prf(average, \"true nor predicted\", \"F-score is\", len(true_sum))\n",
      "/tmp/ipykernel_18159/156526775.py:8: FutureWarning: The frame.append method is deprecated and will be removed from pandas in a future version. Use pandas.concat instead.\n",
      "  gd_performance = gd_performance.append(create_performance_object(f'Bases', i, y_pred_train, y_pred_test, y_pred_outliers, None, None), ignore_index=True)\n",
      "/tmp/ipykernel_18159/156526775.py:16: FutureWarning: The frame.append method is deprecated and will be removed from pandas in a future version. Use pandas.concat instead.\n",
      "  gd_ext_performance = gd_ext_performance.append(create_performance_object(f'Bases extended', i, y_pred_train, y_pred_test, y_pred_outliers, None, None), ignore_index=True)\n",
      "/home/mlrosenquist/PycharmProjects/scikit-learn/sklearn/metrics/_classification.py:1327: UndefinedMetricWarning: Precision is ill-defined and being set to 0.0 due to no predicted samples. Use `zero_division` parameter to control this behavior.\n",
      "  _warn_prf(average, modifier, msg_start, len(result))\n",
      "/home/mlrosenquist/PycharmProjects/scikit-learn/sklearn/metrics/_classification.py:1327: UndefinedMetricWarning: Precision is ill-defined and being set to 0.0 due to no predicted samples. Use `zero_division` parameter to control this behavior.\n",
      "  _warn_prf(average, modifier, msg_start, len(result))\n",
      "/home/mlrosenquist/PycharmProjects/scikit-learn/sklearn/metrics/_classification.py:1327: UndefinedMetricWarning: Precision is ill-defined and being set to 0.0 due to no predicted samples. Use `zero_division` parameter to control this behavior.\n",
      "  _warn_prf(average, modifier, msg_start, len(result))\n",
      "/home/mlrosenquist/PycharmProjects/scikit-learn/sklearn/metrics/_classification.py:1592: UndefinedMetricWarning: F-score is ill-defined and being set to 0.0 due to no true nor predicted samples. Use `zero_division` parameter to control this behavior.\n",
      "  _warn_prf(average, \"true nor predicted\", \"F-score is\", len(true_sum))\n",
      "/home/mlrosenquist/PycharmProjects/scikit-learn/sklearn/metrics/_classification.py:1592: UndefinedMetricWarning: F-score is ill-defined and being set to 0.0 due to no true nor predicted samples. Use `zero_division` parameter to control this behavior.\n",
      "  _warn_prf(average, \"true nor predicted\", \"F-score is\", len(true_sum))\n",
      "/tmp/ipykernel_18159/156526775.py:8: FutureWarning: The frame.append method is deprecated and will be removed from pandas in a future version. Use pandas.concat instead.\n",
      "  gd_performance = gd_performance.append(create_performance_object(f'Bases', i, y_pred_train, y_pred_test, y_pred_outliers, None, None), ignore_index=True)\n",
      "/tmp/ipykernel_18159/156526775.py:16: FutureWarning: The frame.append method is deprecated and will be removed from pandas in a future version. Use pandas.concat instead.\n",
      "  gd_ext_performance = gd_ext_performance.append(create_performance_object(f'Bases extended', i, y_pred_train, y_pred_test, y_pred_outliers, None, None), ignore_index=True)\n",
      "/home/mlrosenquist/PycharmProjects/scikit-learn/sklearn/metrics/_classification.py:1327: UndefinedMetricWarning: Precision is ill-defined and being set to 0.0 due to no predicted samples. Use `zero_division` parameter to control this behavior.\n",
      "  _warn_prf(average, modifier, msg_start, len(result))\n",
      "/home/mlrosenquist/PycharmProjects/scikit-learn/sklearn/metrics/_classification.py:1327: UndefinedMetricWarning: Precision is ill-defined and being set to 0.0 due to no predicted samples. Use `zero_division` parameter to control this behavior.\n",
      "  _warn_prf(average, modifier, msg_start, len(result))\n",
      "/home/mlrosenquist/PycharmProjects/scikit-learn/sklearn/metrics/_classification.py:1327: UndefinedMetricWarning: Precision is ill-defined and being set to 0.0 due to no predicted samples. Use `zero_division` parameter to control this behavior.\n",
      "  _warn_prf(average, modifier, msg_start, len(result))\n",
      "/home/mlrosenquist/PycharmProjects/scikit-learn/sklearn/metrics/_classification.py:1592: UndefinedMetricWarning: F-score is ill-defined and being set to 0.0 due to no true nor predicted samples. Use `zero_division` parameter to control this behavior.\n",
      "  _warn_prf(average, \"true nor predicted\", \"F-score is\", len(true_sum))\n",
      "/home/mlrosenquist/PycharmProjects/scikit-learn/sklearn/metrics/_classification.py:1592: UndefinedMetricWarning: F-score is ill-defined and being set to 0.0 due to no true nor predicted samples. Use `zero_division` parameter to control this behavior.\n",
      "  _warn_prf(average, \"true nor predicted\", \"F-score is\", len(true_sum))\n",
      "/tmp/ipykernel_18159/156526775.py:8: FutureWarning: The frame.append method is deprecated and will be removed from pandas in a future version. Use pandas.concat instead.\n",
      "  gd_performance = gd_performance.append(create_performance_object(f'Bases', i, y_pred_train, y_pred_test, y_pred_outliers, None, None), ignore_index=True)\n",
      "/tmp/ipykernel_18159/156526775.py:16: FutureWarning: The frame.append method is deprecated and will be removed from pandas in a future version. Use pandas.concat instead.\n",
      "  gd_ext_performance = gd_ext_performance.append(create_performance_object(f'Bases extended', i, y_pred_train, y_pred_test, y_pred_outliers, None, None), ignore_index=True)\n",
      "/home/mlrosenquist/PycharmProjects/scikit-learn/sklearn/metrics/_classification.py:1327: UndefinedMetricWarning: Precision is ill-defined and being set to 0.0 due to no predicted samples. Use `zero_division` parameter to control this behavior.\n",
      "  _warn_prf(average, modifier, msg_start, len(result))\n",
      "/home/mlrosenquist/PycharmProjects/scikit-learn/sklearn/metrics/_classification.py:1327: UndefinedMetricWarning: Precision is ill-defined and being set to 0.0 due to no predicted samples. Use `zero_division` parameter to control this behavior.\n",
      "  _warn_prf(average, modifier, msg_start, len(result))\n",
      "/home/mlrosenquist/PycharmProjects/scikit-learn/sklearn/metrics/_classification.py:1327: UndefinedMetricWarning: Precision is ill-defined and being set to 0.0 due to no predicted samples. Use `zero_division` parameter to control this behavior.\n",
      "  _warn_prf(average, modifier, msg_start, len(result))\n",
      "/home/mlrosenquist/PycharmProjects/scikit-learn/sklearn/metrics/_classification.py:1592: UndefinedMetricWarning: F-score is ill-defined and being set to 0.0 due to no true nor predicted samples. Use `zero_division` parameter to control this behavior.\n",
      "  _warn_prf(average, \"true nor predicted\", \"F-score is\", len(true_sum))\n",
      "/home/mlrosenquist/PycharmProjects/scikit-learn/sklearn/metrics/_classification.py:1592: UndefinedMetricWarning: F-score is ill-defined and being set to 0.0 due to no true nor predicted samples. Use `zero_division` parameter to control this behavior.\n",
      "  _warn_prf(average, \"true nor predicted\", \"F-score is\", len(true_sum))\n",
      "/tmp/ipykernel_18159/156526775.py:8: FutureWarning: The frame.append method is deprecated and will be removed from pandas in a future version. Use pandas.concat instead.\n",
      "  gd_performance = gd_performance.append(create_performance_object(f'Bases', i, y_pred_train, y_pred_test, y_pred_outliers, None, None), ignore_index=True)\n",
      "/tmp/ipykernel_18159/156526775.py:16: FutureWarning: The frame.append method is deprecated and will be removed from pandas in a future version. Use pandas.concat instead.\n",
      "  gd_ext_performance = gd_ext_performance.append(create_performance_object(f'Bases extended', i, y_pred_train, y_pred_test, y_pred_outliers, None, None), ignore_index=True)\n",
      "/home/mlrosenquist/PycharmProjects/scikit-learn/sklearn/metrics/_classification.py:1327: UndefinedMetricWarning: Precision is ill-defined and being set to 0.0 due to no predicted samples. Use `zero_division` parameter to control this behavior.\n",
      "  _warn_prf(average, modifier, msg_start, len(result))\n",
      "/home/mlrosenquist/PycharmProjects/scikit-learn/sklearn/metrics/_classification.py:1327: UndefinedMetricWarning: Precision is ill-defined and being set to 0.0 due to no predicted samples. Use `zero_division` parameter to control this behavior.\n",
      "  _warn_prf(average, modifier, msg_start, len(result))\n",
      "/home/mlrosenquist/PycharmProjects/scikit-learn/sklearn/metrics/_classification.py:1327: UndefinedMetricWarning: Precision is ill-defined and being set to 0.0 due to no predicted samples. Use `zero_division` parameter to control this behavior.\n",
      "  _warn_prf(average, modifier, msg_start, len(result))\n",
      "/home/mlrosenquist/PycharmProjects/scikit-learn/sklearn/metrics/_classification.py:1592: UndefinedMetricWarning: F-score is ill-defined and being set to 0.0 due to no true nor predicted samples. Use `zero_division` parameter to control this behavior.\n",
      "  _warn_prf(average, \"true nor predicted\", \"F-score is\", len(true_sum))\n",
      "/home/mlrosenquist/PycharmProjects/scikit-learn/sklearn/metrics/_classification.py:1592: UndefinedMetricWarning: F-score is ill-defined and being set to 0.0 due to no true nor predicted samples. Use `zero_division` parameter to control this behavior.\n",
      "  _warn_prf(average, \"true nor predicted\", \"F-score is\", len(true_sum))\n",
      "/tmp/ipykernel_18159/156526775.py:8: FutureWarning: The frame.append method is deprecated and will be removed from pandas in a future version. Use pandas.concat instead.\n",
      "  gd_performance = gd_performance.append(create_performance_object(f'Bases', i, y_pred_train, y_pred_test, y_pred_outliers, None, None), ignore_index=True)\n",
      "/tmp/ipykernel_18159/156526775.py:16: FutureWarning: The frame.append method is deprecated and will be removed from pandas in a future version. Use pandas.concat instead.\n",
      "  gd_ext_performance = gd_ext_performance.append(create_performance_object(f'Bases extended', i, y_pred_train, y_pred_test, y_pred_outliers, None, None), ignore_index=True)\n",
      "/home/mlrosenquist/PycharmProjects/scikit-learn/sklearn/metrics/_classification.py:1327: UndefinedMetricWarning: Precision is ill-defined and being set to 0.0 due to no predicted samples. Use `zero_division` parameter to control this behavior.\n",
      "  _warn_prf(average, modifier, msg_start, len(result))\n",
      "/home/mlrosenquist/PycharmProjects/scikit-learn/sklearn/metrics/_classification.py:1327: UndefinedMetricWarning: Precision is ill-defined and being set to 0.0 due to no predicted samples. Use `zero_division` parameter to control this behavior.\n",
      "  _warn_prf(average, modifier, msg_start, len(result))\n",
      "/home/mlrosenquist/PycharmProjects/scikit-learn/sklearn/metrics/_classification.py:1327: UndefinedMetricWarning: Precision is ill-defined and being set to 0.0 due to no predicted samples. Use `zero_division` parameter to control this behavior.\n",
      "  _warn_prf(average, modifier, msg_start, len(result))\n",
      "/home/mlrosenquist/PycharmProjects/scikit-learn/sklearn/metrics/_classification.py:1592: UndefinedMetricWarning: F-score is ill-defined and being set to 0.0 due to no true nor predicted samples. Use `zero_division` parameter to control this behavior.\n",
      "  _warn_prf(average, \"true nor predicted\", \"F-score is\", len(true_sum))\n",
      "/home/mlrosenquist/PycharmProjects/scikit-learn/sklearn/metrics/_classification.py:1592: UndefinedMetricWarning: F-score is ill-defined and being set to 0.0 due to no true nor predicted samples. Use `zero_division` parameter to control this behavior.\n",
      "  _warn_prf(average, \"true nor predicted\", \"F-score is\", len(true_sum))\n",
      "/tmp/ipykernel_18159/156526775.py:8: FutureWarning: The frame.append method is deprecated and will be removed from pandas in a future version. Use pandas.concat instead.\n",
      "  gd_performance = gd_performance.append(create_performance_object(f'Bases', i, y_pred_train, y_pred_test, y_pred_outliers, None, None), ignore_index=True)\n",
      "/tmp/ipykernel_18159/156526775.py:16: FutureWarning: The frame.append method is deprecated and will be removed from pandas in a future version. Use pandas.concat instead.\n",
      "  gd_ext_performance = gd_ext_performance.append(create_performance_object(f'Bases extended', i, y_pred_train, y_pred_test, y_pred_outliers, None, None), ignore_index=True)\n",
      "/home/mlrosenquist/PycharmProjects/scikit-learn/sklearn/metrics/_classification.py:1327: UndefinedMetricWarning: Precision is ill-defined and being set to 0.0 due to no predicted samples. Use `zero_division` parameter to control this behavior.\n",
      "  _warn_prf(average, modifier, msg_start, len(result))\n",
      "/home/mlrosenquist/PycharmProjects/scikit-learn/sklearn/metrics/_classification.py:1327: UndefinedMetricWarning: Precision is ill-defined and being set to 0.0 due to no predicted samples. Use `zero_division` parameter to control this behavior.\n",
      "  _warn_prf(average, modifier, msg_start, len(result))\n",
      "/home/mlrosenquist/PycharmProjects/scikit-learn/sklearn/metrics/_classification.py:1327: UndefinedMetricWarning: Precision is ill-defined and being set to 0.0 due to no predicted samples. Use `zero_division` parameter to control this behavior.\n",
      "  _warn_prf(average, modifier, msg_start, len(result))\n",
      "/home/mlrosenquist/PycharmProjects/scikit-learn/sklearn/metrics/_classification.py:1592: UndefinedMetricWarning: F-score is ill-defined and being set to 0.0 due to no true nor predicted samples. Use `zero_division` parameter to control this behavior.\n",
      "  _warn_prf(average, \"true nor predicted\", \"F-score is\", len(true_sum))\n",
      "/home/mlrosenquist/PycharmProjects/scikit-learn/sklearn/metrics/_classification.py:1592: UndefinedMetricWarning: F-score is ill-defined and being set to 0.0 due to no true nor predicted samples. Use `zero_division` parameter to control this behavior.\n",
      "  _warn_prf(average, \"true nor predicted\", \"F-score is\", len(true_sum))\n",
      "/tmp/ipykernel_18159/156526775.py:8: FutureWarning: The frame.append method is deprecated and will be removed from pandas in a future version. Use pandas.concat instead.\n",
      "  gd_performance = gd_performance.append(create_performance_object(f'Bases', i, y_pred_train, y_pred_test, y_pred_outliers, None, None), ignore_index=True)\n",
      "/tmp/ipykernel_18159/156526775.py:16: FutureWarning: The frame.append method is deprecated and will be removed from pandas in a future version. Use pandas.concat instead.\n",
      "  gd_ext_performance = gd_ext_performance.append(create_performance_object(f'Bases extended', i, y_pred_train, y_pred_test, y_pred_outliers, None, None), ignore_index=True)\n",
      "/home/mlrosenquist/PycharmProjects/scikit-learn/sklearn/metrics/_classification.py:1327: UndefinedMetricWarning: Precision is ill-defined and being set to 0.0 due to no predicted samples. Use `zero_division` parameter to control this behavior.\n",
      "  _warn_prf(average, modifier, msg_start, len(result))\n",
      "/home/mlrosenquist/PycharmProjects/scikit-learn/sklearn/metrics/_classification.py:1327: UndefinedMetricWarning: Precision is ill-defined and being set to 0.0 due to no predicted samples. Use `zero_division` parameter to control this behavior.\n",
      "  _warn_prf(average, modifier, msg_start, len(result))\n",
      "/home/mlrosenquist/PycharmProjects/scikit-learn/sklearn/metrics/_classification.py:1327: UndefinedMetricWarning: Precision is ill-defined and being set to 0.0 due to no predicted samples. Use `zero_division` parameter to control this behavior.\n",
      "  _warn_prf(average, modifier, msg_start, len(result))\n",
      "/home/mlrosenquist/PycharmProjects/scikit-learn/sklearn/metrics/_classification.py:1592: UndefinedMetricWarning: F-score is ill-defined and being set to 0.0 due to no true nor predicted samples. Use `zero_division` parameter to control this behavior.\n",
      "  _warn_prf(average, \"true nor predicted\", \"F-score is\", len(true_sum))\n",
      "/home/mlrosenquist/PycharmProjects/scikit-learn/sklearn/metrics/_classification.py:1592: UndefinedMetricWarning: F-score is ill-defined and being set to 0.0 due to no true nor predicted samples. Use `zero_division` parameter to control this behavior.\n",
      "  _warn_prf(average, \"true nor predicted\", \"F-score is\", len(true_sum))\n",
      "/tmp/ipykernel_18159/156526775.py:8: FutureWarning: The frame.append method is deprecated and will be removed from pandas in a future version. Use pandas.concat instead.\n",
      "  gd_performance = gd_performance.append(create_performance_object(f'Bases', i, y_pred_train, y_pred_test, y_pred_outliers, None, None), ignore_index=True)\n",
      "/tmp/ipykernel_18159/156526775.py:16: FutureWarning: The frame.append method is deprecated and will be removed from pandas in a future version. Use pandas.concat instead.\n",
      "  gd_ext_performance = gd_ext_performance.append(create_performance_object(f'Bases extended', i, y_pred_train, y_pred_test, y_pred_outliers, None, None), ignore_index=True)\n",
      "/home/mlrosenquist/PycharmProjects/scikit-learn/sklearn/metrics/_classification.py:1327: UndefinedMetricWarning: Precision is ill-defined and being set to 0.0 due to no predicted samples. Use `zero_division` parameter to control this behavior.\n",
      "  _warn_prf(average, modifier, msg_start, len(result))\n",
      "/home/mlrosenquist/PycharmProjects/scikit-learn/sklearn/metrics/_classification.py:1327: UndefinedMetricWarning: Precision is ill-defined and being set to 0.0 due to no predicted samples. Use `zero_division` parameter to control this behavior.\n",
      "  _warn_prf(average, modifier, msg_start, len(result))\n",
      "/home/mlrosenquist/PycharmProjects/scikit-learn/sklearn/metrics/_classification.py:1327: UndefinedMetricWarning: Precision is ill-defined and being set to 0.0 due to no predicted samples. Use `zero_division` parameter to control this behavior.\n",
      "  _warn_prf(average, modifier, msg_start, len(result))\n",
      "/home/mlrosenquist/PycharmProjects/scikit-learn/sklearn/metrics/_classification.py:1592: UndefinedMetricWarning: F-score is ill-defined and being set to 0.0 due to no true nor predicted samples. Use `zero_division` parameter to control this behavior.\n",
      "  _warn_prf(average, \"true nor predicted\", \"F-score is\", len(true_sum))\n",
      "/home/mlrosenquist/PycharmProjects/scikit-learn/sklearn/metrics/_classification.py:1592: UndefinedMetricWarning: F-score is ill-defined and being set to 0.0 due to no true nor predicted samples. Use `zero_division` parameter to control this behavior.\n",
      "  _warn_prf(average, \"true nor predicted\", \"F-score is\", len(true_sum))\n",
      "/tmp/ipykernel_18159/156526775.py:8: FutureWarning: The frame.append method is deprecated and will be removed from pandas in a future version. Use pandas.concat instead.\n",
      "  gd_performance = gd_performance.append(create_performance_object(f'Bases', i, y_pred_train, y_pred_test, y_pred_outliers, None, None), ignore_index=True)\n",
      "/tmp/ipykernel_18159/156526775.py:16: FutureWarning: The frame.append method is deprecated and will be removed from pandas in a future version. Use pandas.concat instead.\n",
      "  gd_ext_performance = gd_ext_performance.append(create_performance_object(f'Bases extended', i, y_pred_train, y_pred_test, y_pred_outliers, None, None), ignore_index=True)\n",
      "/home/mlrosenquist/PycharmProjects/scikit-learn/sklearn/metrics/_classification.py:1327: UndefinedMetricWarning: Precision is ill-defined and being set to 0.0 due to no predicted samples. Use `zero_division` parameter to control this behavior.\n",
      "  _warn_prf(average, modifier, msg_start, len(result))\n",
      "/home/mlrosenquist/PycharmProjects/scikit-learn/sklearn/metrics/_classification.py:1327: UndefinedMetricWarning: Precision is ill-defined and being set to 0.0 due to no predicted samples. Use `zero_division` parameter to control this behavior.\n",
      "  _warn_prf(average, modifier, msg_start, len(result))\n",
      "/home/mlrosenquist/PycharmProjects/scikit-learn/sklearn/metrics/_classification.py:1327: UndefinedMetricWarning: Precision is ill-defined and being set to 0.0 due to no predicted samples. Use `zero_division` parameter to control this behavior.\n",
      "  _warn_prf(average, modifier, msg_start, len(result))\n",
      "/home/mlrosenquist/PycharmProjects/scikit-learn/sklearn/metrics/_classification.py:1592: UndefinedMetricWarning: F-score is ill-defined and being set to 0.0 due to no true nor predicted samples. Use `zero_division` parameter to control this behavior.\n",
      "  _warn_prf(average, \"true nor predicted\", \"F-score is\", len(true_sum))\n",
      "/home/mlrosenquist/PycharmProjects/scikit-learn/sklearn/metrics/_classification.py:1592: UndefinedMetricWarning: F-score is ill-defined and being set to 0.0 due to no true nor predicted samples. Use `zero_division` parameter to control this behavior.\n",
      "  _warn_prf(average, \"true nor predicted\", \"F-score is\", len(true_sum))\n",
      "/tmp/ipykernel_18159/156526775.py:8: FutureWarning: The frame.append method is deprecated and will be removed from pandas in a future version. Use pandas.concat instead.\n",
      "  gd_performance = gd_performance.append(create_performance_object(f'Bases', i, y_pred_train, y_pred_test, y_pred_outliers, None, None), ignore_index=True)\n",
      "/tmp/ipykernel_18159/156526775.py:16: FutureWarning: The frame.append method is deprecated and will be removed from pandas in a future version. Use pandas.concat instead.\n",
      "  gd_ext_performance = gd_ext_performance.append(create_performance_object(f'Bases extended', i, y_pred_train, y_pred_test, y_pred_outliers, None, None), ignore_index=True)\n",
      "/home/mlrosenquist/PycharmProjects/scikit-learn/sklearn/metrics/_classification.py:1327: UndefinedMetricWarning: Precision is ill-defined and being set to 0.0 due to no predicted samples. Use `zero_division` parameter to control this behavior.\n",
      "  _warn_prf(average, modifier, msg_start, len(result))\n",
      "/home/mlrosenquist/PycharmProjects/scikit-learn/sklearn/metrics/_classification.py:1327: UndefinedMetricWarning: Precision is ill-defined and being set to 0.0 due to no predicted samples. Use `zero_division` parameter to control this behavior.\n",
      "  _warn_prf(average, modifier, msg_start, len(result))\n",
      "/home/mlrosenquist/PycharmProjects/scikit-learn/sklearn/metrics/_classification.py:1327: UndefinedMetricWarning: Precision is ill-defined and being set to 0.0 due to no predicted samples. Use `zero_division` parameter to control this behavior.\n",
      "  _warn_prf(average, modifier, msg_start, len(result))\n",
      "/home/mlrosenquist/PycharmProjects/scikit-learn/sklearn/metrics/_classification.py:1592: UndefinedMetricWarning: F-score is ill-defined and being set to 0.0 due to no true nor predicted samples. Use `zero_division` parameter to control this behavior.\n",
      "  _warn_prf(average, \"true nor predicted\", \"F-score is\", len(true_sum))\n",
      "/home/mlrosenquist/PycharmProjects/scikit-learn/sklearn/metrics/_classification.py:1592: UndefinedMetricWarning: F-score is ill-defined and being set to 0.0 due to no true nor predicted samples. Use `zero_division` parameter to control this behavior.\n",
      "  _warn_prf(average, \"true nor predicted\", \"F-score is\", len(true_sum))\n",
      "/tmp/ipykernel_18159/156526775.py:8: FutureWarning: The frame.append method is deprecated and will be removed from pandas in a future version. Use pandas.concat instead.\n",
      "  gd_performance = gd_performance.append(create_performance_object(f'Bases', i, y_pred_train, y_pred_test, y_pred_outliers, None, None), ignore_index=True)\n",
      "/tmp/ipykernel_18159/156526775.py:16: FutureWarning: The frame.append method is deprecated and will be removed from pandas in a future version. Use pandas.concat instead.\n",
      "  gd_ext_performance = gd_ext_performance.append(create_performance_object(f'Bases extended', i, y_pred_train, y_pred_test, y_pred_outliers, None, None), ignore_index=True)\n",
      "/home/mlrosenquist/PycharmProjects/scikit-learn/sklearn/metrics/_classification.py:1327: UndefinedMetricWarning: Precision is ill-defined and being set to 0.0 due to no predicted samples. Use `zero_division` parameter to control this behavior.\n",
      "  _warn_prf(average, modifier, msg_start, len(result))\n",
      "/home/mlrosenquist/PycharmProjects/scikit-learn/sklearn/metrics/_classification.py:1327: UndefinedMetricWarning: Precision is ill-defined and being set to 0.0 due to no predicted samples. Use `zero_division` parameter to control this behavior.\n",
      "  _warn_prf(average, modifier, msg_start, len(result))\n",
      "/home/mlrosenquist/PycharmProjects/scikit-learn/sklearn/metrics/_classification.py:1327: UndefinedMetricWarning: Precision is ill-defined and being set to 0.0 due to no predicted samples. Use `zero_division` parameter to control this behavior.\n",
      "  _warn_prf(average, modifier, msg_start, len(result))\n",
      "/home/mlrosenquist/PycharmProjects/scikit-learn/sklearn/metrics/_classification.py:1592: UndefinedMetricWarning: F-score is ill-defined and being set to 0.0 due to no true nor predicted samples. Use `zero_division` parameter to control this behavior.\n",
      "  _warn_prf(average, \"true nor predicted\", \"F-score is\", len(true_sum))\n",
      "/home/mlrosenquist/PycharmProjects/scikit-learn/sklearn/metrics/_classification.py:1592: UndefinedMetricWarning: F-score is ill-defined and being set to 0.0 due to no true nor predicted samples. Use `zero_division` parameter to control this behavior.\n",
      "  _warn_prf(average, \"true nor predicted\", \"F-score is\", len(true_sum))\n",
      "/tmp/ipykernel_18159/156526775.py:8: FutureWarning: The frame.append method is deprecated and will be removed from pandas in a future version. Use pandas.concat instead.\n",
      "  gd_performance = gd_performance.append(create_performance_object(f'Bases', i, y_pred_train, y_pred_test, y_pred_outliers, None, None), ignore_index=True)\n",
      "/tmp/ipykernel_18159/156526775.py:16: FutureWarning: The frame.append method is deprecated and will be removed from pandas in a future version. Use pandas.concat instead.\n",
      "  gd_ext_performance = gd_ext_performance.append(create_performance_object(f'Bases extended', i, y_pred_train, y_pred_test, y_pred_outliers, None, None), ignore_index=True)\n",
      "/home/mlrosenquist/PycharmProjects/scikit-learn/sklearn/metrics/_classification.py:1327: UndefinedMetricWarning: Precision is ill-defined and being set to 0.0 due to no predicted samples. Use `zero_division` parameter to control this behavior.\n",
      "  _warn_prf(average, modifier, msg_start, len(result))\n",
      "/home/mlrosenquist/PycharmProjects/scikit-learn/sklearn/metrics/_classification.py:1327: UndefinedMetricWarning: Precision is ill-defined and being set to 0.0 due to no predicted samples. Use `zero_division` parameter to control this behavior.\n",
      "  _warn_prf(average, modifier, msg_start, len(result))\n",
      "/home/mlrosenquist/PycharmProjects/scikit-learn/sklearn/metrics/_classification.py:1327: UndefinedMetricWarning: Precision is ill-defined and being set to 0.0 due to no predicted samples. Use `zero_division` parameter to control this behavior.\n",
      "  _warn_prf(average, modifier, msg_start, len(result))\n",
      "/home/mlrosenquist/PycharmProjects/scikit-learn/sklearn/metrics/_classification.py:1592: UndefinedMetricWarning: F-score is ill-defined and being set to 0.0 due to no true nor predicted samples. Use `zero_division` parameter to control this behavior.\n",
      "  _warn_prf(average, \"true nor predicted\", \"F-score is\", len(true_sum))\n",
      "/home/mlrosenquist/PycharmProjects/scikit-learn/sklearn/metrics/_classification.py:1592: UndefinedMetricWarning: F-score is ill-defined and being set to 0.0 due to no true nor predicted samples. Use `zero_division` parameter to control this behavior.\n",
      "  _warn_prf(average, \"true nor predicted\", \"F-score is\", len(true_sum))\n",
      "/tmp/ipykernel_18159/156526775.py:8: FutureWarning: The frame.append method is deprecated and will be removed from pandas in a future version. Use pandas.concat instead.\n",
      "  gd_performance = gd_performance.append(create_performance_object(f'Bases', i, y_pred_train, y_pred_test, y_pred_outliers, None, None), ignore_index=True)\n",
      "/tmp/ipykernel_18159/156526775.py:16: FutureWarning: The frame.append method is deprecated and will be removed from pandas in a future version. Use pandas.concat instead.\n",
      "  gd_ext_performance = gd_ext_performance.append(create_performance_object(f'Bases extended', i, y_pred_train, y_pred_test, y_pred_outliers, None, None), ignore_index=True)\n",
      "/home/mlrosenquist/PycharmProjects/scikit-learn/sklearn/metrics/_classification.py:1327: UndefinedMetricWarning: Precision is ill-defined and being set to 0.0 due to no predicted samples. Use `zero_division` parameter to control this behavior.\n",
      "  _warn_prf(average, modifier, msg_start, len(result))\n",
      "/home/mlrosenquist/PycharmProjects/scikit-learn/sklearn/metrics/_classification.py:1327: UndefinedMetricWarning: Precision is ill-defined and being set to 0.0 due to no predicted samples. Use `zero_division` parameter to control this behavior.\n",
      "  _warn_prf(average, modifier, msg_start, len(result))\n",
      "/home/mlrosenquist/PycharmProjects/scikit-learn/sklearn/metrics/_classification.py:1327: UndefinedMetricWarning: Precision is ill-defined and being set to 0.0 due to no predicted samples. Use `zero_division` parameter to control this behavior.\n",
      "  _warn_prf(average, modifier, msg_start, len(result))\n",
      "/home/mlrosenquist/PycharmProjects/scikit-learn/sklearn/metrics/_classification.py:1592: UndefinedMetricWarning: F-score is ill-defined and being set to 0.0 due to no true nor predicted samples. Use `zero_division` parameter to control this behavior.\n",
      "  _warn_prf(average, \"true nor predicted\", \"F-score is\", len(true_sum))\n",
      "/home/mlrosenquist/PycharmProjects/scikit-learn/sklearn/metrics/_classification.py:1592: UndefinedMetricWarning: F-score is ill-defined and being set to 0.0 due to no true nor predicted samples. Use `zero_division` parameter to control this behavior.\n",
      "  _warn_prf(average, \"true nor predicted\", \"F-score is\", len(true_sum))\n",
      "/tmp/ipykernel_18159/156526775.py:8: FutureWarning: The frame.append method is deprecated and will be removed from pandas in a future version. Use pandas.concat instead.\n",
      "  gd_performance = gd_performance.append(create_performance_object(f'Bases', i, y_pred_train, y_pred_test, y_pred_outliers, None, None), ignore_index=True)\n",
      "/tmp/ipykernel_18159/156526775.py:16: FutureWarning: The frame.append method is deprecated and will be removed from pandas in a future version. Use pandas.concat instead.\n",
      "  gd_ext_performance = gd_ext_performance.append(create_performance_object(f'Bases extended', i, y_pred_train, y_pred_test, y_pred_outliers, None, None), ignore_index=True)\n",
      "/home/mlrosenquist/PycharmProjects/scikit-learn/sklearn/metrics/_classification.py:1327: UndefinedMetricWarning: Precision is ill-defined and being set to 0.0 due to no predicted samples. Use `zero_division` parameter to control this behavior.\n",
      "  _warn_prf(average, modifier, msg_start, len(result))\n",
      "/home/mlrosenquist/PycharmProjects/scikit-learn/sklearn/metrics/_classification.py:1327: UndefinedMetricWarning: Precision is ill-defined and being set to 0.0 due to no predicted samples. Use `zero_division` parameter to control this behavior.\n",
      "  _warn_prf(average, modifier, msg_start, len(result))\n",
      "/home/mlrosenquist/PycharmProjects/scikit-learn/sklearn/metrics/_classification.py:1327: UndefinedMetricWarning: Precision is ill-defined and being set to 0.0 due to no predicted samples. Use `zero_division` parameter to control this behavior.\n",
      "  _warn_prf(average, modifier, msg_start, len(result))\n",
      "/home/mlrosenquist/PycharmProjects/scikit-learn/sklearn/metrics/_classification.py:1592: UndefinedMetricWarning: F-score is ill-defined and being set to 0.0 due to no true nor predicted samples. Use `zero_division` parameter to control this behavior.\n",
      "  _warn_prf(average, \"true nor predicted\", \"F-score is\", len(true_sum))\n",
      "/home/mlrosenquist/PycharmProjects/scikit-learn/sklearn/metrics/_classification.py:1592: UndefinedMetricWarning: F-score is ill-defined and being set to 0.0 due to no true nor predicted samples. Use `zero_division` parameter to control this behavior.\n",
      "  _warn_prf(average, \"true nor predicted\", \"F-score is\", len(true_sum))\n",
      "/tmp/ipykernel_18159/156526775.py:8: FutureWarning: The frame.append method is deprecated and will be removed from pandas in a future version. Use pandas.concat instead.\n",
      "  gd_performance = gd_performance.append(create_performance_object(f'Bases', i, y_pred_train, y_pred_test, y_pred_outliers, None, None), ignore_index=True)\n",
      "/tmp/ipykernel_18159/156526775.py:16: FutureWarning: The frame.append method is deprecated and will be removed from pandas in a future version. Use pandas.concat instead.\n",
      "  gd_ext_performance = gd_ext_performance.append(create_performance_object(f'Bases extended', i, y_pred_train, y_pred_test, y_pred_outliers, None, None), ignore_index=True)\n",
      "/home/mlrosenquist/PycharmProjects/scikit-learn/sklearn/metrics/_classification.py:1327: UndefinedMetricWarning: Precision is ill-defined and being set to 0.0 due to no predicted samples. Use `zero_division` parameter to control this behavior.\n",
      "  _warn_prf(average, modifier, msg_start, len(result))\n",
      "/home/mlrosenquist/PycharmProjects/scikit-learn/sklearn/metrics/_classification.py:1327: UndefinedMetricWarning: Precision is ill-defined and being set to 0.0 due to no predicted samples. Use `zero_division` parameter to control this behavior.\n",
      "  _warn_prf(average, modifier, msg_start, len(result))\n",
      "/home/mlrosenquist/PycharmProjects/scikit-learn/sklearn/metrics/_classification.py:1327: UndefinedMetricWarning: Precision is ill-defined and being set to 0.0 due to no predicted samples. Use `zero_division` parameter to control this behavior.\n",
      "  _warn_prf(average, modifier, msg_start, len(result))\n",
      "/home/mlrosenquist/PycharmProjects/scikit-learn/sklearn/metrics/_classification.py:1592: UndefinedMetricWarning: F-score is ill-defined and being set to 0.0 due to no true nor predicted samples. Use `zero_division` parameter to control this behavior.\n",
      "  _warn_prf(average, \"true nor predicted\", \"F-score is\", len(true_sum))\n",
      "/home/mlrosenquist/PycharmProjects/scikit-learn/sklearn/metrics/_classification.py:1592: UndefinedMetricWarning: F-score is ill-defined and being set to 0.0 due to no true nor predicted samples. Use `zero_division` parameter to control this behavior.\n",
      "  _warn_prf(average, \"true nor predicted\", \"F-score is\", len(true_sum))\n",
      "/tmp/ipykernel_18159/156526775.py:8: FutureWarning: The frame.append method is deprecated and will be removed from pandas in a future version. Use pandas.concat instead.\n",
      "  gd_performance = gd_performance.append(create_performance_object(f'Bases', i, y_pred_train, y_pred_test, y_pred_outliers, None, None), ignore_index=True)\n",
      "/tmp/ipykernel_18159/156526775.py:16: FutureWarning: The frame.append method is deprecated and will be removed from pandas in a future version. Use pandas.concat instead.\n",
      "  gd_ext_performance = gd_ext_performance.append(create_performance_object(f'Bases extended', i, y_pred_train, y_pred_test, y_pred_outliers, None, None), ignore_index=True)\n",
      "/home/mlrosenquist/PycharmProjects/scikit-learn/sklearn/metrics/_classification.py:1327: UndefinedMetricWarning: Precision is ill-defined and being set to 0.0 due to no predicted samples. Use `zero_division` parameter to control this behavior.\n",
      "  _warn_prf(average, modifier, msg_start, len(result))\n",
      "/home/mlrosenquist/PycharmProjects/scikit-learn/sklearn/metrics/_classification.py:1327: UndefinedMetricWarning: Precision is ill-defined and being set to 0.0 due to no predicted samples. Use `zero_division` parameter to control this behavior.\n",
      "  _warn_prf(average, modifier, msg_start, len(result))\n",
      "/home/mlrosenquist/PycharmProjects/scikit-learn/sklearn/metrics/_classification.py:1327: UndefinedMetricWarning: Precision is ill-defined and being set to 0.0 due to no predicted samples. Use `zero_division` parameter to control this behavior.\n",
      "  _warn_prf(average, modifier, msg_start, len(result))\n",
      "/home/mlrosenquist/PycharmProjects/scikit-learn/sklearn/metrics/_classification.py:1592: UndefinedMetricWarning: F-score is ill-defined and being set to 0.0 due to no true nor predicted samples. Use `zero_division` parameter to control this behavior.\n",
      "  _warn_prf(average, \"true nor predicted\", \"F-score is\", len(true_sum))\n",
      "/home/mlrosenquist/PycharmProjects/scikit-learn/sklearn/metrics/_classification.py:1592: UndefinedMetricWarning: F-score is ill-defined and being set to 0.0 due to no true nor predicted samples. Use `zero_division` parameter to control this behavior.\n",
      "  _warn_prf(average, \"true nor predicted\", \"F-score is\", len(true_sum))\n",
      "/tmp/ipykernel_18159/156526775.py:8: FutureWarning: The frame.append method is deprecated and will be removed from pandas in a future version. Use pandas.concat instead.\n",
      "  gd_performance = gd_performance.append(create_performance_object(f'Bases', i, y_pred_train, y_pred_test, y_pred_outliers, None, None), ignore_index=True)\n",
      "/tmp/ipykernel_18159/156526775.py:16: FutureWarning: The frame.append method is deprecated and will be removed from pandas in a future version. Use pandas.concat instead.\n",
      "  gd_ext_performance = gd_ext_performance.append(create_performance_object(f'Bases extended', i, y_pred_train, y_pred_test, y_pred_outliers, None, None), ignore_index=True)\n",
      "/home/mlrosenquist/PycharmProjects/scikit-learn/sklearn/metrics/_classification.py:1327: UndefinedMetricWarning: Precision is ill-defined and being set to 0.0 due to no predicted samples. Use `zero_division` parameter to control this behavior.\n",
      "  _warn_prf(average, modifier, msg_start, len(result))\n",
      "/home/mlrosenquist/PycharmProjects/scikit-learn/sklearn/metrics/_classification.py:1327: UndefinedMetricWarning: Precision is ill-defined and being set to 0.0 due to no predicted samples. Use `zero_division` parameter to control this behavior.\n",
      "  _warn_prf(average, modifier, msg_start, len(result))\n",
      "/home/mlrosenquist/PycharmProjects/scikit-learn/sklearn/metrics/_classification.py:1327: UndefinedMetricWarning: Precision is ill-defined and being set to 0.0 due to no predicted samples. Use `zero_division` parameter to control this behavior.\n",
      "  _warn_prf(average, modifier, msg_start, len(result))\n",
      "/home/mlrosenquist/PycharmProjects/scikit-learn/sklearn/metrics/_classification.py:1592: UndefinedMetricWarning: F-score is ill-defined and being set to 0.0 due to no true nor predicted samples. Use `zero_division` parameter to control this behavior.\n",
      "  _warn_prf(average, \"true nor predicted\", \"F-score is\", len(true_sum))\n",
      "/home/mlrosenquist/PycharmProjects/scikit-learn/sklearn/metrics/_classification.py:1592: UndefinedMetricWarning: F-score is ill-defined and being set to 0.0 due to no true nor predicted samples. Use `zero_division` parameter to control this behavior.\n",
      "  _warn_prf(average, \"true nor predicted\", \"F-score is\", len(true_sum))\n",
      "/tmp/ipykernel_18159/156526775.py:8: FutureWarning: The frame.append method is deprecated and will be removed from pandas in a future version. Use pandas.concat instead.\n",
      "  gd_performance = gd_performance.append(create_performance_object(f'Bases', i, y_pred_train, y_pred_test, y_pred_outliers, None, None), ignore_index=True)\n",
      "/tmp/ipykernel_18159/156526775.py:16: FutureWarning: The frame.append method is deprecated and will be removed from pandas in a future version. Use pandas.concat instead.\n",
      "  gd_ext_performance = gd_ext_performance.append(create_performance_object(f'Bases extended', i, y_pred_train, y_pred_test, y_pred_outliers, None, None), ignore_index=True)\n",
      "/home/mlrosenquist/PycharmProjects/scikit-learn/sklearn/metrics/_classification.py:1327: UndefinedMetricWarning: Precision is ill-defined and being set to 0.0 due to no predicted samples. Use `zero_division` parameter to control this behavior.\n",
      "  _warn_prf(average, modifier, msg_start, len(result))\n",
      "/home/mlrosenquist/PycharmProjects/scikit-learn/sklearn/metrics/_classification.py:1327: UndefinedMetricWarning: Precision is ill-defined and being set to 0.0 due to no predicted samples. Use `zero_division` parameter to control this behavior.\n",
      "  _warn_prf(average, modifier, msg_start, len(result))\n",
      "/home/mlrosenquist/PycharmProjects/scikit-learn/sklearn/metrics/_classification.py:1327: UndefinedMetricWarning: Precision is ill-defined and being set to 0.0 due to no predicted samples. Use `zero_division` parameter to control this behavior.\n",
      "  _warn_prf(average, modifier, msg_start, len(result))\n",
      "/home/mlrosenquist/PycharmProjects/scikit-learn/sklearn/metrics/_classification.py:1592: UndefinedMetricWarning: F-score is ill-defined and being set to 0.0 due to no true nor predicted samples. Use `zero_division` parameter to control this behavior.\n",
      "  _warn_prf(average, \"true nor predicted\", \"F-score is\", len(true_sum))\n",
      "/home/mlrosenquist/PycharmProjects/scikit-learn/sklearn/metrics/_classification.py:1592: UndefinedMetricWarning: F-score is ill-defined and being set to 0.0 due to no true nor predicted samples. Use `zero_division` parameter to control this behavior.\n",
      "  _warn_prf(average, \"true nor predicted\", \"F-score is\", len(true_sum))\n",
      "/tmp/ipykernel_18159/156526775.py:8: FutureWarning: The frame.append method is deprecated and will be removed from pandas in a future version. Use pandas.concat instead.\n",
      "  gd_performance = gd_performance.append(create_performance_object(f'Bases', i, y_pred_train, y_pred_test, y_pred_outliers, None, None), ignore_index=True)\n",
      "/tmp/ipykernel_18159/156526775.py:16: FutureWarning: The frame.append method is deprecated and will be removed from pandas in a future version. Use pandas.concat instead.\n",
      "  gd_ext_performance = gd_ext_performance.append(create_performance_object(f'Bases extended', i, y_pred_train, y_pred_test, y_pred_outliers, None, None), ignore_index=True)\n",
      "/home/mlrosenquist/PycharmProjects/scikit-learn/sklearn/metrics/_classification.py:1327: UndefinedMetricWarning: Precision is ill-defined and being set to 0.0 due to no predicted samples. Use `zero_division` parameter to control this behavior.\n",
      "  _warn_prf(average, modifier, msg_start, len(result))\n",
      "/home/mlrosenquist/PycharmProjects/scikit-learn/sklearn/metrics/_classification.py:1327: UndefinedMetricWarning: Precision is ill-defined and being set to 0.0 due to no predicted samples. Use `zero_division` parameter to control this behavior.\n",
      "  _warn_prf(average, modifier, msg_start, len(result))\n",
      "/home/mlrosenquist/PycharmProjects/scikit-learn/sklearn/metrics/_classification.py:1327: UndefinedMetricWarning: Precision is ill-defined and being set to 0.0 due to no predicted samples. Use `zero_division` parameter to control this behavior.\n",
      "  _warn_prf(average, modifier, msg_start, len(result))\n",
      "/home/mlrosenquist/PycharmProjects/scikit-learn/sklearn/metrics/_classification.py:1592: UndefinedMetricWarning: F-score is ill-defined and being set to 0.0 due to no true nor predicted samples. Use `zero_division` parameter to control this behavior.\n",
      "  _warn_prf(average, \"true nor predicted\", \"F-score is\", len(true_sum))\n",
      "/home/mlrosenquist/PycharmProjects/scikit-learn/sklearn/metrics/_classification.py:1592: UndefinedMetricWarning: F-score is ill-defined and being set to 0.0 due to no true nor predicted samples. Use `zero_division` parameter to control this behavior.\n",
      "  _warn_prf(average, \"true nor predicted\", \"F-score is\", len(true_sum))\n",
      "/tmp/ipykernel_18159/156526775.py:8: FutureWarning: The frame.append method is deprecated and will be removed from pandas in a future version. Use pandas.concat instead.\n",
      "  gd_performance = gd_performance.append(create_performance_object(f'Bases', i, y_pred_train, y_pred_test, y_pred_outliers, None, None), ignore_index=True)\n",
      "/tmp/ipykernel_18159/156526775.py:16: FutureWarning: The frame.append method is deprecated and will be removed from pandas in a future version. Use pandas.concat instead.\n",
      "  gd_ext_performance = gd_ext_performance.append(create_performance_object(f'Bases extended', i, y_pred_train, y_pred_test, y_pred_outliers, None, None), ignore_index=True)\n",
      "/home/mlrosenquist/PycharmProjects/scikit-learn/sklearn/metrics/_classification.py:1327: UndefinedMetricWarning: Precision is ill-defined and being set to 0.0 due to no predicted samples. Use `zero_division` parameter to control this behavior.\n",
      "  _warn_prf(average, modifier, msg_start, len(result))\n",
      "/home/mlrosenquist/PycharmProjects/scikit-learn/sklearn/metrics/_classification.py:1327: UndefinedMetricWarning: Precision is ill-defined and being set to 0.0 due to no predicted samples. Use `zero_division` parameter to control this behavior.\n",
      "  _warn_prf(average, modifier, msg_start, len(result))\n",
      "/home/mlrosenquist/PycharmProjects/scikit-learn/sklearn/metrics/_classification.py:1327: UndefinedMetricWarning: Precision is ill-defined and being set to 0.0 due to no predicted samples. Use `zero_division` parameter to control this behavior.\n",
      "  _warn_prf(average, modifier, msg_start, len(result))\n",
      "/home/mlrosenquist/PycharmProjects/scikit-learn/sklearn/metrics/_classification.py:1592: UndefinedMetricWarning: F-score is ill-defined and being set to 0.0 due to no true nor predicted samples. Use `zero_division` parameter to control this behavior.\n",
      "  _warn_prf(average, \"true nor predicted\", \"F-score is\", len(true_sum))\n",
      "/home/mlrosenquist/PycharmProjects/scikit-learn/sklearn/metrics/_classification.py:1592: UndefinedMetricWarning: F-score is ill-defined and being set to 0.0 due to no true nor predicted samples. Use `zero_division` parameter to control this behavior.\n",
      "  _warn_prf(average, \"true nor predicted\", \"F-score is\", len(true_sum))\n",
      "/tmp/ipykernel_18159/156526775.py:8: FutureWarning: The frame.append method is deprecated and will be removed from pandas in a future version. Use pandas.concat instead.\n",
      "  gd_performance = gd_performance.append(create_performance_object(f'Bases', i, y_pred_train, y_pred_test, y_pred_outliers, None, None), ignore_index=True)\n",
      "/tmp/ipykernel_18159/156526775.py:16: FutureWarning: The frame.append method is deprecated and will be removed from pandas in a future version. Use pandas.concat instead.\n",
      "  gd_ext_performance = gd_ext_performance.append(create_performance_object(f'Bases extended', i, y_pred_train, y_pred_test, y_pred_outliers, None, None), ignore_index=True)\n",
      "/home/mlrosenquist/PycharmProjects/scikit-learn/sklearn/metrics/_classification.py:1327: UndefinedMetricWarning: Precision is ill-defined and being set to 0.0 due to no predicted samples. Use `zero_division` parameter to control this behavior.\n",
      "  _warn_prf(average, modifier, msg_start, len(result))\n",
      "/home/mlrosenquist/PycharmProjects/scikit-learn/sklearn/metrics/_classification.py:1327: UndefinedMetricWarning: Precision is ill-defined and being set to 0.0 due to no predicted samples. Use `zero_division` parameter to control this behavior.\n",
      "  _warn_prf(average, modifier, msg_start, len(result))\n",
      "/home/mlrosenquist/PycharmProjects/scikit-learn/sklearn/metrics/_classification.py:1327: UndefinedMetricWarning: Precision is ill-defined and being set to 0.0 due to no predicted samples. Use `zero_division` parameter to control this behavior.\n",
      "  _warn_prf(average, modifier, msg_start, len(result))\n",
      "/home/mlrosenquist/PycharmProjects/scikit-learn/sklearn/metrics/_classification.py:1592: UndefinedMetricWarning: F-score is ill-defined and being set to 0.0 due to no true nor predicted samples. Use `zero_division` parameter to control this behavior.\n",
      "  _warn_prf(average, \"true nor predicted\", \"F-score is\", len(true_sum))\n",
      "/home/mlrosenquist/PycharmProjects/scikit-learn/sklearn/metrics/_classification.py:1592: UndefinedMetricWarning: F-score is ill-defined and being set to 0.0 due to no true nor predicted samples. Use `zero_division` parameter to control this behavior.\n",
      "  _warn_prf(average, \"true nor predicted\", \"F-score is\", len(true_sum))\n",
      "/tmp/ipykernel_18159/156526775.py:8: FutureWarning: The frame.append method is deprecated and will be removed from pandas in a future version. Use pandas.concat instead.\n",
      "  gd_performance = gd_performance.append(create_performance_object(f'Bases', i, y_pred_train, y_pred_test, y_pred_outliers, None, None), ignore_index=True)\n",
      "/tmp/ipykernel_18159/156526775.py:16: FutureWarning: The frame.append method is deprecated and will be removed from pandas in a future version. Use pandas.concat instead.\n",
      "  gd_ext_performance = gd_ext_performance.append(create_performance_object(f'Bases extended', i, y_pred_train, y_pred_test, y_pred_outliers, None, None), ignore_index=True)\n",
      "/home/mlrosenquist/PycharmProjects/scikit-learn/sklearn/metrics/_classification.py:1327: UndefinedMetricWarning: Precision is ill-defined and being set to 0.0 due to no predicted samples. Use `zero_division` parameter to control this behavior.\n",
      "  _warn_prf(average, modifier, msg_start, len(result))\n",
      "/home/mlrosenquist/PycharmProjects/scikit-learn/sklearn/metrics/_classification.py:1327: UndefinedMetricWarning: Precision is ill-defined and being set to 0.0 due to no predicted samples. Use `zero_division` parameter to control this behavior.\n",
      "  _warn_prf(average, modifier, msg_start, len(result))\n",
      "/home/mlrosenquist/PycharmProjects/scikit-learn/sklearn/metrics/_classification.py:1327: UndefinedMetricWarning: Precision is ill-defined and being set to 0.0 due to no predicted samples. Use `zero_division` parameter to control this behavior.\n",
      "  _warn_prf(average, modifier, msg_start, len(result))\n",
      "/home/mlrosenquist/PycharmProjects/scikit-learn/sklearn/metrics/_classification.py:1592: UndefinedMetricWarning: F-score is ill-defined and being set to 0.0 due to no true nor predicted samples. Use `zero_division` parameter to control this behavior.\n",
      "  _warn_prf(average, \"true nor predicted\", \"F-score is\", len(true_sum))\n",
      "/home/mlrosenquist/PycharmProjects/scikit-learn/sklearn/metrics/_classification.py:1592: UndefinedMetricWarning: F-score is ill-defined and being set to 0.0 due to no true nor predicted samples. Use `zero_division` parameter to control this behavior.\n",
      "  _warn_prf(average, \"true nor predicted\", \"F-score is\", len(true_sum))\n",
      "/tmp/ipykernel_18159/156526775.py:8: FutureWarning: The frame.append method is deprecated and will be removed from pandas in a future version. Use pandas.concat instead.\n",
      "  gd_performance = gd_performance.append(create_performance_object(f'Bases', i, y_pred_train, y_pred_test, y_pred_outliers, None, None), ignore_index=True)\n",
      "/tmp/ipykernel_18159/156526775.py:16: FutureWarning: The frame.append method is deprecated and will be removed from pandas in a future version. Use pandas.concat instead.\n",
      "  gd_ext_performance = gd_ext_performance.append(create_performance_object(f'Bases extended', i, y_pred_train, y_pred_test, y_pred_outliers, None, None), ignore_index=True)\n"
     ]
    },
    {
     "data": {
      "text/plain": "     name deviation_bits train_accuracy_score test_accuracy_score  \\\n0   Bases              0                 0.68            0.553333   \n1   Bases              1             0.686667            0.553333   \n2   Bases              2                 0.65            0.653333   \n3   Bases              3                 0.94            0.906667   \n4   Bases              4             0.633333                0.62   \n5   Bases              5                  0.0                 0.0   \n6   Bases              6                  0.0                 0.0   \n7   Bases              7                  0.0                 0.0   \n8   Bases              8                  0.0                 0.0   \n9   Bases              9                  0.0                 0.0   \n10  Bases             10                  0.0                 0.0   \n11  Bases             11                  0.0                 0.0   \n12  Bases             12                  0.0                 0.0   \n13  Bases             13                  0.0                 0.0   \n14  Bases             14                  0.0                 0.0   \n15  Bases             15                  0.0                 0.0   \n16  Bases             16                  0.0                 0.0   \n17  Bases             17                  0.0                 0.0   \n18  Bases             18                  0.0                 0.0   \n19  Bases             19                  0.0                 0.0   \n20  Bases             20                  0.0                 0.0   \n21  Bases             21                  0.0                 0.0   \n22  Bases             22                  0.0                 0.0   \n23  Bases             23                  0.0                 0.0   \n24  Bases             24                  0.0                 0.0   \n25  Bases             25                  0.0                 0.0   \n26  Bases             26                  0.0                 0.0   \n27  Bases             27                  0.0                 0.0   \n28  Bases             28                  0.0                 0.0   \n29  Bases             29                  0.0                 0.0   \n30  Bases             30                  0.0                 0.0   \n31  Bases             31                  0.0                 0.0   \n32  Bases             32                  0.0                 0.0   \n\n   outlier_accuracy_score train_precision_score test_precision_score  \\\n0                     1.0                   1.0                  1.0   \n1                     1.0                   1.0                  1.0   \n2                     1.0                   1.0                  1.0   \n3                     0.6                   1.0                  1.0   \n4                    0.55                   1.0                  1.0   \n5                     1.0                   0.0                  0.0   \n6                     1.0                   0.0                  0.0   \n7                     1.0                   0.0                  0.0   \n8                     1.0                   0.0                  0.0   \n9                     1.0                   0.0                  0.0   \n10                    1.0                   0.0                  0.0   \n11                    1.0                   0.0                  0.0   \n12                    1.0                   0.0                  0.0   \n13                    1.0                   0.0                  0.0   \n14                    1.0                   0.0                  0.0   \n15                    1.0                   0.0                  0.0   \n16                    1.0                   0.0                  0.0   \n17                    1.0                   0.0                  0.0   \n18                    1.0                   0.0                  0.0   \n19                    1.0                   0.0                  0.0   \n20                    1.0                   0.0                  0.0   \n21                    1.0                   0.0                  0.0   \n22                    1.0                   0.0                  0.0   \n23                    1.0                   0.0                  0.0   \n24                    1.0                   0.0                  0.0   \n25                    1.0                   0.0                  0.0   \n26                    1.0                   0.0                  0.0   \n27                    1.0                   0.0                  0.0   \n28                    1.0                   0.0                  0.0   \n29                    1.0                   0.0                  0.0   \n30                    1.0                   0.0                  0.0   \n31                    1.0                   0.0                  0.0   \n32                    1.0                   0.0                  0.0   \n\n   outlier_precision_score train_f1_score test_f1_score outlier_f1_score  \\\n0                      0.0       0.809524      0.712446              0.0   \n1                      0.0       0.814229      0.712446              0.0   \n2                      0.0       0.787879      0.790323              0.0   \n3                      0.0       0.969072      0.951049              0.0   \n4                      0.0        0.77551      0.765432              0.0   \n5                      0.0            0.0           0.0              0.0   \n6                      0.0            0.0           0.0              0.0   \n7                      0.0            0.0           0.0              0.0   \n8                      0.0            0.0           0.0              0.0   \n9                      0.0            0.0           0.0              0.0   \n10                     0.0            0.0           0.0              0.0   \n11                     0.0            0.0           0.0              0.0   \n12                     0.0            0.0           0.0              0.0   \n13                     0.0            0.0           0.0              0.0   \n14                     0.0            0.0           0.0              0.0   \n15                     0.0            0.0           0.0              0.0   \n16                     0.0            0.0           0.0              0.0   \n17                     0.0            0.0           0.0              0.0   \n18                     0.0            0.0           0.0              0.0   \n19                     0.0            0.0           0.0              0.0   \n20                     0.0            0.0           0.0              0.0   \n21                     0.0            0.0           0.0              0.0   \n22                     0.0            0.0           0.0              0.0   \n23                     0.0            0.0           0.0              0.0   \n24                     0.0            0.0           0.0              0.0   \n25                     0.0            0.0           0.0              0.0   \n26                     0.0            0.0           0.0              0.0   \n27                     0.0            0.0           0.0              0.0   \n28                     0.0            0.0           0.0              0.0   \n29                     0.0            0.0           0.0              0.0   \n30                     0.0            0.0           0.0              0.0   \n31                     0.0            0.0           0.0              0.0   \n32                     0.0            0.0           0.0              0.0   \n\n   train_recall_score test_recall_score outlier_recall_score training_time  \\\n0            0.809524          0.712446                  0.0          None   \n1            0.814229          0.712446                  0.0          None   \n2            0.787879          0.790323                  0.0          None   \n3            0.969072          0.951049                  0.0          None   \n4             0.77551          0.765432                  0.0          None   \n5                 0.0               0.0                  0.0          None   \n6                 0.0               0.0                  0.0          None   \n7                 0.0               0.0                  0.0          None   \n8                 0.0               0.0                  0.0          None   \n9                 0.0               0.0                  0.0          None   \n10                0.0               0.0                  0.0          None   \n11                0.0               0.0                  0.0          None   \n12                0.0               0.0                  0.0          None   \n13                0.0               0.0                  0.0          None   \n14                0.0               0.0                  0.0          None   \n15                0.0               0.0                  0.0          None   \n16                0.0               0.0                  0.0          None   \n17                0.0               0.0                  0.0          None   \n18                0.0               0.0                  0.0          None   \n19                0.0               0.0                  0.0          None   \n20                0.0               0.0                  0.0          None   \n21                0.0               0.0                  0.0          None   \n22                0.0               0.0                  0.0          None   \n23                0.0               0.0                  0.0          None   \n24                0.0               0.0                  0.0          None   \n25                0.0               0.0                  0.0          None   \n26                0.0               0.0                  0.0          None   \n27                0.0               0.0                  0.0          None   \n28                0.0               0.0                  0.0          None   \n29                0.0               0.0                  0.0          None   \n30                0.0               0.0                  0.0          None   \n31                0.0               0.0                  0.0          None   \n32                0.0               0.0                  0.0          None   \n\n   prediction_time  \n0             None  \n1             None  \n2             None  \n3             None  \n4             None  \n5             None  \n6             None  \n7             None  \n8             None  \n9             None  \n10            None  \n11            None  \n12            None  \n13            None  \n14            None  \n15            None  \n16            None  \n17            None  \n18            None  \n19            None  \n20            None  \n21            None  \n22            None  \n23            None  \n24            None  \n25            None  \n26            None  \n27            None  \n28            None  \n29            None  \n30            None  \n31            None  \n32            None  ",
      "text/html": "<div>\n<style scoped>\n    .dataframe tbody tr th:only-of-type {\n        vertical-align: middle;\n    }\n\n    .dataframe tbody tr th {\n        vertical-align: top;\n    }\n\n    .dataframe thead th {\n        text-align: right;\n    }\n</style>\n<table border=\"1\" class=\"dataframe\">\n  <thead>\n    <tr style=\"text-align: right;\">\n      <th></th>\n      <th>name</th>\n      <th>deviation_bits</th>\n      <th>train_accuracy_score</th>\n      <th>test_accuracy_score</th>\n      <th>outlier_accuracy_score</th>\n      <th>train_precision_score</th>\n      <th>test_precision_score</th>\n      <th>outlier_precision_score</th>\n      <th>train_f1_score</th>\n      <th>test_f1_score</th>\n      <th>outlier_f1_score</th>\n      <th>train_recall_score</th>\n      <th>test_recall_score</th>\n      <th>outlier_recall_score</th>\n      <th>training_time</th>\n      <th>prediction_time</th>\n    </tr>\n  </thead>\n  <tbody>\n    <tr>\n      <th>0</th>\n      <td>Bases</td>\n      <td>0</td>\n      <td>0.68</td>\n      <td>0.553333</td>\n      <td>1.0</td>\n      <td>1.0</td>\n      <td>1.0</td>\n      <td>0.0</td>\n      <td>0.809524</td>\n      <td>0.712446</td>\n      <td>0.0</td>\n      <td>0.809524</td>\n      <td>0.712446</td>\n      <td>0.0</td>\n      <td>None</td>\n      <td>None</td>\n    </tr>\n    <tr>\n      <th>1</th>\n      <td>Bases</td>\n      <td>1</td>\n      <td>0.686667</td>\n      <td>0.553333</td>\n      <td>1.0</td>\n      <td>1.0</td>\n      <td>1.0</td>\n      <td>0.0</td>\n      <td>0.814229</td>\n      <td>0.712446</td>\n      <td>0.0</td>\n      <td>0.814229</td>\n      <td>0.712446</td>\n      <td>0.0</td>\n      <td>None</td>\n      <td>None</td>\n    </tr>\n    <tr>\n      <th>2</th>\n      <td>Bases</td>\n      <td>2</td>\n      <td>0.65</td>\n      <td>0.653333</td>\n      <td>1.0</td>\n      <td>1.0</td>\n      <td>1.0</td>\n      <td>0.0</td>\n      <td>0.787879</td>\n      <td>0.790323</td>\n      <td>0.0</td>\n      <td>0.787879</td>\n      <td>0.790323</td>\n      <td>0.0</td>\n      <td>None</td>\n      <td>None</td>\n    </tr>\n    <tr>\n      <th>3</th>\n      <td>Bases</td>\n      <td>3</td>\n      <td>0.94</td>\n      <td>0.906667</td>\n      <td>0.6</td>\n      <td>1.0</td>\n      <td>1.0</td>\n      <td>0.0</td>\n      <td>0.969072</td>\n      <td>0.951049</td>\n      <td>0.0</td>\n      <td>0.969072</td>\n      <td>0.951049</td>\n      <td>0.0</td>\n      <td>None</td>\n      <td>None</td>\n    </tr>\n    <tr>\n      <th>4</th>\n      <td>Bases</td>\n      <td>4</td>\n      <td>0.633333</td>\n      <td>0.62</td>\n      <td>0.55</td>\n      <td>1.0</td>\n      <td>1.0</td>\n      <td>0.0</td>\n      <td>0.77551</td>\n      <td>0.765432</td>\n      <td>0.0</td>\n      <td>0.77551</td>\n      <td>0.765432</td>\n      <td>0.0</td>\n      <td>None</td>\n      <td>None</td>\n    </tr>\n    <tr>\n      <th>5</th>\n      <td>Bases</td>\n      <td>5</td>\n      <td>0.0</td>\n      <td>0.0</td>\n      <td>1.0</td>\n      <td>0.0</td>\n      <td>0.0</td>\n      <td>0.0</td>\n      <td>0.0</td>\n      <td>0.0</td>\n      <td>0.0</td>\n      <td>0.0</td>\n      <td>0.0</td>\n      <td>0.0</td>\n      <td>None</td>\n      <td>None</td>\n    </tr>\n    <tr>\n      <th>6</th>\n      <td>Bases</td>\n      <td>6</td>\n      <td>0.0</td>\n      <td>0.0</td>\n      <td>1.0</td>\n      <td>0.0</td>\n      <td>0.0</td>\n      <td>0.0</td>\n      <td>0.0</td>\n      <td>0.0</td>\n      <td>0.0</td>\n      <td>0.0</td>\n      <td>0.0</td>\n      <td>0.0</td>\n      <td>None</td>\n      <td>None</td>\n    </tr>\n    <tr>\n      <th>7</th>\n      <td>Bases</td>\n      <td>7</td>\n      <td>0.0</td>\n      <td>0.0</td>\n      <td>1.0</td>\n      <td>0.0</td>\n      <td>0.0</td>\n      <td>0.0</td>\n      <td>0.0</td>\n      <td>0.0</td>\n      <td>0.0</td>\n      <td>0.0</td>\n      <td>0.0</td>\n      <td>0.0</td>\n      <td>None</td>\n      <td>None</td>\n    </tr>\n    <tr>\n      <th>8</th>\n      <td>Bases</td>\n      <td>8</td>\n      <td>0.0</td>\n      <td>0.0</td>\n      <td>1.0</td>\n      <td>0.0</td>\n      <td>0.0</td>\n      <td>0.0</td>\n      <td>0.0</td>\n      <td>0.0</td>\n      <td>0.0</td>\n      <td>0.0</td>\n      <td>0.0</td>\n      <td>0.0</td>\n      <td>None</td>\n      <td>None</td>\n    </tr>\n    <tr>\n      <th>9</th>\n      <td>Bases</td>\n      <td>9</td>\n      <td>0.0</td>\n      <td>0.0</td>\n      <td>1.0</td>\n      <td>0.0</td>\n      <td>0.0</td>\n      <td>0.0</td>\n      <td>0.0</td>\n      <td>0.0</td>\n      <td>0.0</td>\n      <td>0.0</td>\n      <td>0.0</td>\n      <td>0.0</td>\n      <td>None</td>\n      <td>None</td>\n    </tr>\n    <tr>\n      <th>10</th>\n      <td>Bases</td>\n      <td>10</td>\n      <td>0.0</td>\n      <td>0.0</td>\n      <td>1.0</td>\n      <td>0.0</td>\n      <td>0.0</td>\n      <td>0.0</td>\n      <td>0.0</td>\n      <td>0.0</td>\n      <td>0.0</td>\n      <td>0.0</td>\n      <td>0.0</td>\n      <td>0.0</td>\n      <td>None</td>\n      <td>None</td>\n    </tr>\n    <tr>\n      <th>11</th>\n      <td>Bases</td>\n      <td>11</td>\n      <td>0.0</td>\n      <td>0.0</td>\n      <td>1.0</td>\n      <td>0.0</td>\n      <td>0.0</td>\n      <td>0.0</td>\n      <td>0.0</td>\n      <td>0.0</td>\n      <td>0.0</td>\n      <td>0.0</td>\n      <td>0.0</td>\n      <td>0.0</td>\n      <td>None</td>\n      <td>None</td>\n    </tr>\n    <tr>\n      <th>12</th>\n      <td>Bases</td>\n      <td>12</td>\n      <td>0.0</td>\n      <td>0.0</td>\n      <td>1.0</td>\n      <td>0.0</td>\n      <td>0.0</td>\n      <td>0.0</td>\n      <td>0.0</td>\n      <td>0.0</td>\n      <td>0.0</td>\n      <td>0.0</td>\n      <td>0.0</td>\n      <td>0.0</td>\n      <td>None</td>\n      <td>None</td>\n    </tr>\n    <tr>\n      <th>13</th>\n      <td>Bases</td>\n      <td>13</td>\n      <td>0.0</td>\n      <td>0.0</td>\n      <td>1.0</td>\n      <td>0.0</td>\n      <td>0.0</td>\n      <td>0.0</td>\n      <td>0.0</td>\n      <td>0.0</td>\n      <td>0.0</td>\n      <td>0.0</td>\n      <td>0.0</td>\n      <td>0.0</td>\n      <td>None</td>\n      <td>None</td>\n    </tr>\n    <tr>\n      <th>14</th>\n      <td>Bases</td>\n      <td>14</td>\n      <td>0.0</td>\n      <td>0.0</td>\n      <td>1.0</td>\n      <td>0.0</td>\n      <td>0.0</td>\n      <td>0.0</td>\n      <td>0.0</td>\n      <td>0.0</td>\n      <td>0.0</td>\n      <td>0.0</td>\n      <td>0.0</td>\n      <td>0.0</td>\n      <td>None</td>\n      <td>None</td>\n    </tr>\n    <tr>\n      <th>15</th>\n      <td>Bases</td>\n      <td>15</td>\n      <td>0.0</td>\n      <td>0.0</td>\n      <td>1.0</td>\n      <td>0.0</td>\n      <td>0.0</td>\n      <td>0.0</td>\n      <td>0.0</td>\n      <td>0.0</td>\n      <td>0.0</td>\n      <td>0.0</td>\n      <td>0.0</td>\n      <td>0.0</td>\n      <td>None</td>\n      <td>None</td>\n    </tr>\n    <tr>\n      <th>16</th>\n      <td>Bases</td>\n      <td>16</td>\n      <td>0.0</td>\n      <td>0.0</td>\n      <td>1.0</td>\n      <td>0.0</td>\n      <td>0.0</td>\n      <td>0.0</td>\n      <td>0.0</td>\n      <td>0.0</td>\n      <td>0.0</td>\n      <td>0.0</td>\n      <td>0.0</td>\n      <td>0.0</td>\n      <td>None</td>\n      <td>None</td>\n    </tr>\n    <tr>\n      <th>17</th>\n      <td>Bases</td>\n      <td>17</td>\n      <td>0.0</td>\n      <td>0.0</td>\n      <td>1.0</td>\n      <td>0.0</td>\n      <td>0.0</td>\n      <td>0.0</td>\n      <td>0.0</td>\n      <td>0.0</td>\n      <td>0.0</td>\n      <td>0.0</td>\n      <td>0.0</td>\n      <td>0.0</td>\n      <td>None</td>\n      <td>None</td>\n    </tr>\n    <tr>\n      <th>18</th>\n      <td>Bases</td>\n      <td>18</td>\n      <td>0.0</td>\n      <td>0.0</td>\n      <td>1.0</td>\n      <td>0.0</td>\n      <td>0.0</td>\n      <td>0.0</td>\n      <td>0.0</td>\n      <td>0.0</td>\n      <td>0.0</td>\n      <td>0.0</td>\n      <td>0.0</td>\n      <td>0.0</td>\n      <td>None</td>\n      <td>None</td>\n    </tr>\n    <tr>\n      <th>19</th>\n      <td>Bases</td>\n      <td>19</td>\n      <td>0.0</td>\n      <td>0.0</td>\n      <td>1.0</td>\n      <td>0.0</td>\n      <td>0.0</td>\n      <td>0.0</td>\n      <td>0.0</td>\n      <td>0.0</td>\n      <td>0.0</td>\n      <td>0.0</td>\n      <td>0.0</td>\n      <td>0.0</td>\n      <td>None</td>\n      <td>None</td>\n    </tr>\n    <tr>\n      <th>20</th>\n      <td>Bases</td>\n      <td>20</td>\n      <td>0.0</td>\n      <td>0.0</td>\n      <td>1.0</td>\n      <td>0.0</td>\n      <td>0.0</td>\n      <td>0.0</td>\n      <td>0.0</td>\n      <td>0.0</td>\n      <td>0.0</td>\n      <td>0.0</td>\n      <td>0.0</td>\n      <td>0.0</td>\n      <td>None</td>\n      <td>None</td>\n    </tr>\n    <tr>\n      <th>21</th>\n      <td>Bases</td>\n      <td>21</td>\n      <td>0.0</td>\n      <td>0.0</td>\n      <td>1.0</td>\n      <td>0.0</td>\n      <td>0.0</td>\n      <td>0.0</td>\n      <td>0.0</td>\n      <td>0.0</td>\n      <td>0.0</td>\n      <td>0.0</td>\n      <td>0.0</td>\n      <td>0.0</td>\n      <td>None</td>\n      <td>None</td>\n    </tr>\n    <tr>\n      <th>22</th>\n      <td>Bases</td>\n      <td>22</td>\n      <td>0.0</td>\n      <td>0.0</td>\n      <td>1.0</td>\n      <td>0.0</td>\n      <td>0.0</td>\n      <td>0.0</td>\n      <td>0.0</td>\n      <td>0.0</td>\n      <td>0.0</td>\n      <td>0.0</td>\n      <td>0.0</td>\n      <td>0.0</td>\n      <td>None</td>\n      <td>None</td>\n    </tr>\n    <tr>\n      <th>23</th>\n      <td>Bases</td>\n      <td>23</td>\n      <td>0.0</td>\n      <td>0.0</td>\n      <td>1.0</td>\n      <td>0.0</td>\n      <td>0.0</td>\n      <td>0.0</td>\n      <td>0.0</td>\n      <td>0.0</td>\n      <td>0.0</td>\n      <td>0.0</td>\n      <td>0.0</td>\n      <td>0.0</td>\n      <td>None</td>\n      <td>None</td>\n    </tr>\n    <tr>\n      <th>24</th>\n      <td>Bases</td>\n      <td>24</td>\n      <td>0.0</td>\n      <td>0.0</td>\n      <td>1.0</td>\n      <td>0.0</td>\n      <td>0.0</td>\n      <td>0.0</td>\n      <td>0.0</td>\n      <td>0.0</td>\n      <td>0.0</td>\n      <td>0.0</td>\n      <td>0.0</td>\n      <td>0.0</td>\n      <td>None</td>\n      <td>None</td>\n    </tr>\n    <tr>\n      <th>25</th>\n      <td>Bases</td>\n      <td>25</td>\n      <td>0.0</td>\n      <td>0.0</td>\n      <td>1.0</td>\n      <td>0.0</td>\n      <td>0.0</td>\n      <td>0.0</td>\n      <td>0.0</td>\n      <td>0.0</td>\n      <td>0.0</td>\n      <td>0.0</td>\n      <td>0.0</td>\n      <td>0.0</td>\n      <td>None</td>\n      <td>None</td>\n    </tr>\n    <tr>\n      <th>26</th>\n      <td>Bases</td>\n      <td>26</td>\n      <td>0.0</td>\n      <td>0.0</td>\n      <td>1.0</td>\n      <td>0.0</td>\n      <td>0.0</td>\n      <td>0.0</td>\n      <td>0.0</td>\n      <td>0.0</td>\n      <td>0.0</td>\n      <td>0.0</td>\n      <td>0.0</td>\n      <td>0.0</td>\n      <td>None</td>\n      <td>None</td>\n    </tr>\n    <tr>\n      <th>27</th>\n      <td>Bases</td>\n      <td>27</td>\n      <td>0.0</td>\n      <td>0.0</td>\n      <td>1.0</td>\n      <td>0.0</td>\n      <td>0.0</td>\n      <td>0.0</td>\n      <td>0.0</td>\n      <td>0.0</td>\n      <td>0.0</td>\n      <td>0.0</td>\n      <td>0.0</td>\n      <td>0.0</td>\n      <td>None</td>\n      <td>None</td>\n    </tr>\n    <tr>\n      <th>28</th>\n      <td>Bases</td>\n      <td>28</td>\n      <td>0.0</td>\n      <td>0.0</td>\n      <td>1.0</td>\n      <td>0.0</td>\n      <td>0.0</td>\n      <td>0.0</td>\n      <td>0.0</td>\n      <td>0.0</td>\n      <td>0.0</td>\n      <td>0.0</td>\n      <td>0.0</td>\n      <td>0.0</td>\n      <td>None</td>\n      <td>None</td>\n    </tr>\n    <tr>\n      <th>29</th>\n      <td>Bases</td>\n      <td>29</td>\n      <td>0.0</td>\n      <td>0.0</td>\n      <td>1.0</td>\n      <td>0.0</td>\n      <td>0.0</td>\n      <td>0.0</td>\n      <td>0.0</td>\n      <td>0.0</td>\n      <td>0.0</td>\n      <td>0.0</td>\n      <td>0.0</td>\n      <td>0.0</td>\n      <td>None</td>\n      <td>None</td>\n    </tr>\n    <tr>\n      <th>30</th>\n      <td>Bases</td>\n      <td>30</td>\n      <td>0.0</td>\n      <td>0.0</td>\n      <td>1.0</td>\n      <td>0.0</td>\n      <td>0.0</td>\n      <td>0.0</td>\n      <td>0.0</td>\n      <td>0.0</td>\n      <td>0.0</td>\n      <td>0.0</td>\n      <td>0.0</td>\n      <td>0.0</td>\n      <td>None</td>\n      <td>None</td>\n    </tr>\n    <tr>\n      <th>31</th>\n      <td>Bases</td>\n      <td>31</td>\n      <td>0.0</td>\n      <td>0.0</td>\n      <td>1.0</td>\n      <td>0.0</td>\n      <td>0.0</td>\n      <td>0.0</td>\n      <td>0.0</td>\n      <td>0.0</td>\n      <td>0.0</td>\n      <td>0.0</td>\n      <td>0.0</td>\n      <td>0.0</td>\n      <td>None</td>\n      <td>None</td>\n    </tr>\n    <tr>\n      <th>32</th>\n      <td>Bases</td>\n      <td>32</td>\n      <td>0.0</td>\n      <td>0.0</td>\n      <td>1.0</td>\n      <td>0.0</td>\n      <td>0.0</td>\n      <td>0.0</td>\n      <td>0.0</td>\n      <td>0.0</td>\n      <td>0.0</td>\n      <td>0.0</td>\n      <td>0.0</td>\n      <td>0.0</td>\n      <td>None</td>\n      <td>None</td>\n    </tr>\n  </tbody>\n</table>\n</div>"
     },
     "execution_count": 24,
     "metadata": {},
     "output_type": "execute_result"
    }
   ],
   "source": [
    "for i in range(0, deviation_bits_max + 1):\n",
    "    # Bases iForest\n",
    "    gd_clf = IsolationForest(random_state=rng)\n",
    "    gd_clf.fit(X_train_bases[i])\n",
    "    y_pred_train = gd_clf.predict(X_train_bases[i])\n",
    "    y_pred_test = gd_clf.predict(X_test_bases[i])\n",
    "    y_pred_outliers = gd_clf.predict(X_outliers_bases[i])\n",
    "    gd_performance = gd_performance.append(create_performance_object(f'Bases', i, y_pred_train, y_pred_test, y_pred_outliers, None, None), ignore_index=True)\n",
    "\n",
    "    # Bases Extended iForest\n",
    "    gd_ext_clf = IsolationForest(random_state=rng)\n",
    "    gd_ext_clf.fit_extended(X_train_bases[i])\n",
    "    y_pred_train = gd_ext_clf.predict_extended(X_train_bases[i])\n",
    "    y_pred_test = gd_ext_clf.predict_extended(X_test_bases[i])\n",
    "    y_pred_outliers = gd_ext_clf.predict_extended(X_outliers_bases[i])\n",
    "    gd_ext_performance = gd_ext_performance.append(create_performance_object(f'Bases extended', i, y_pred_train, y_pred_test, y_pred_outliers, None, None), ignore_index=True)\n",
    "\n",
    "gd_performance"
   ],
   "metadata": {
    "collapsed": false,
    "pycharm": {
     "name": "#%%\n"
    }
   }
  },
  {
   "cell_type": "code",
   "execution_count": 25,
   "outputs": [
    {
     "data": {
      "text/plain": "              name deviation_bits train_accuracy_score test_accuracy_score  \\\n0   Bases extended              0             0.783333            0.633333   \n1   Bases extended              1                  0.8            0.646667   \n2   Bases extended              2             0.886667            0.826667   \n3   Bases extended              3                 0.94            0.906667   \n4   Bases extended              4             0.966667            0.953333   \n5   Bases extended              5                  1.0            0.993333   \n6   Bases extended              6                  1.0            0.993333   \n7   Bases extended              7                  1.0                 1.0   \n8   Bases extended              8                  1.0                 1.0   \n9   Bases extended              9                  1.0                 1.0   \n10  Bases extended             10                  1.0                 1.0   \n11  Bases extended             11                  1.0                 1.0   \n12  Bases extended             12                  1.0                 1.0   \n13  Bases extended             13                  1.0                 1.0   \n14  Bases extended             14                  1.0                 1.0   \n15  Bases extended             15                  1.0                 1.0   \n16  Bases extended             16                  1.0                 1.0   \n17  Bases extended             17                  1.0                 1.0   \n18  Bases extended             18                  1.0                 1.0   \n19  Bases extended             19                  1.0                 1.0   \n20  Bases extended             20                  1.0                 1.0   \n21  Bases extended             21                  1.0                 1.0   \n22  Bases extended             22                  1.0                 1.0   \n23  Bases extended             23                  1.0                 1.0   \n24  Bases extended             24                  1.0                 1.0   \n25  Bases extended             25                  1.0                 1.0   \n26  Bases extended             26                  1.0                 1.0   \n27  Bases extended             27                  1.0                 1.0   \n28  Bases extended             28                  1.0                 1.0   \n29  Bases extended             29                  1.0                 1.0   \n30  Bases extended             30                  1.0                 1.0   \n31  Bases extended             31                  1.0                 1.0   \n32  Bases extended             32                  1.0                 1.0   \n\n   outlier_accuracy_score train_precision_score test_precision_score  \\\n0                     1.0                   1.0                  1.0   \n1                     1.0                   1.0                  1.0   \n2                     1.0                   1.0                  1.0   \n3                     0.6                   1.0                  1.0   \n4                    0.55                   1.0                  1.0   \n5                     1.0                   1.0                  1.0   \n6                     0.2                   1.0                  1.0   \n7                     0.0                   1.0                  1.0   \n8                     0.0                   1.0                  1.0   \n9                     0.0                   1.0                  1.0   \n10                    0.0                   1.0                  1.0   \n11                    0.0                   1.0                  1.0   \n12                    0.0                   1.0                  1.0   \n13                    0.0                   1.0                  1.0   \n14                    0.0                   1.0                  1.0   \n15                    0.0                   1.0                  1.0   \n16                    0.0                   1.0                  1.0   \n17                    0.0                   1.0                  1.0   \n18                    0.0                   1.0                  1.0   \n19                    0.0                   1.0                  1.0   \n20                    0.0                   1.0                  1.0   \n21                    0.0                   1.0                  1.0   \n22                    0.0                   1.0                  1.0   \n23                    0.0                   1.0                  1.0   \n24                    0.0                   1.0                  1.0   \n25                    0.0                   1.0                  1.0   \n26                    0.0                   1.0                  1.0   \n27                    0.0                   1.0                  1.0   \n28                    0.0                   1.0                  1.0   \n29                    0.0                   1.0                  1.0   \n30                    0.0                   1.0                  1.0   \n31                    0.0                   1.0                  1.0   \n32                    0.0                   1.0                  1.0   \n\n   outlier_precision_score train_f1_score test_f1_score outlier_f1_score  \\\n0                      0.0       0.878505       0.77551              0.0   \n1                      0.0       0.888889      0.785425              0.0   \n2                      0.0       0.939929      0.905109              0.0   \n3                      0.0       0.969072      0.951049              0.0   \n4                      0.0       0.983051      0.976109              0.0   \n5                      0.0            1.0      0.996656              0.0   \n6                      0.0            1.0      0.996656              0.0   \n7                      0.0            1.0           1.0              0.0   \n8                      0.0            1.0           1.0              0.0   \n9                      0.0            1.0           1.0              0.0   \n10                     0.0            1.0           1.0              0.0   \n11                     0.0            1.0           1.0              0.0   \n12                     0.0            1.0           1.0              0.0   \n13                     0.0            1.0           1.0              0.0   \n14                     0.0            1.0           1.0              0.0   \n15                     0.0            1.0           1.0              0.0   \n16                     0.0            1.0           1.0              0.0   \n17                     0.0            1.0           1.0              0.0   \n18                     0.0            1.0           1.0              0.0   \n19                     0.0            1.0           1.0              0.0   \n20                     0.0            1.0           1.0              0.0   \n21                     0.0            1.0           1.0              0.0   \n22                     0.0            1.0           1.0              0.0   \n23                     0.0            1.0           1.0              0.0   \n24                     0.0            1.0           1.0              0.0   \n25                     0.0            1.0           1.0              0.0   \n26                     0.0            1.0           1.0              0.0   \n27                     0.0            1.0           1.0              0.0   \n28                     0.0            1.0           1.0              0.0   \n29                     0.0            1.0           1.0              0.0   \n30                     0.0            1.0           1.0              0.0   \n31                     0.0            1.0           1.0              0.0   \n32                     0.0            1.0           1.0              0.0   \n\n   train_recall_score test_recall_score outlier_recall_score training_time  \\\n0            0.878505           0.77551                  0.0          None   \n1            0.888889          0.785425                  0.0          None   \n2            0.939929          0.905109                  0.0          None   \n3            0.969072          0.951049                  0.0          None   \n4            0.983051          0.976109                  0.0          None   \n5                 1.0          0.996656                  0.0          None   \n6                 1.0          0.996656                  0.0          None   \n7                 1.0               1.0                  0.0          None   \n8                 1.0               1.0                  0.0          None   \n9                 1.0               1.0                  0.0          None   \n10                1.0               1.0                  0.0          None   \n11                1.0               1.0                  0.0          None   \n12                1.0               1.0                  0.0          None   \n13                1.0               1.0                  0.0          None   \n14                1.0               1.0                  0.0          None   \n15                1.0               1.0                  0.0          None   \n16                1.0               1.0                  0.0          None   \n17                1.0               1.0                  0.0          None   \n18                1.0               1.0                  0.0          None   \n19                1.0               1.0                  0.0          None   \n20                1.0               1.0                  0.0          None   \n21                1.0               1.0                  0.0          None   \n22                1.0               1.0                  0.0          None   \n23                1.0               1.0                  0.0          None   \n24                1.0               1.0                  0.0          None   \n25                1.0               1.0                  0.0          None   \n26                1.0               1.0                  0.0          None   \n27                1.0               1.0                  0.0          None   \n28                1.0               1.0                  0.0          None   \n29                1.0               1.0                  0.0          None   \n30                1.0               1.0                  0.0          None   \n31                1.0               1.0                  0.0          None   \n32                1.0               1.0                  0.0          None   \n\n   prediction_time  \n0             None  \n1             None  \n2             None  \n3             None  \n4             None  \n5             None  \n6             None  \n7             None  \n8             None  \n9             None  \n10            None  \n11            None  \n12            None  \n13            None  \n14            None  \n15            None  \n16            None  \n17            None  \n18            None  \n19            None  \n20            None  \n21            None  \n22            None  \n23            None  \n24            None  \n25            None  \n26            None  \n27            None  \n28            None  \n29            None  \n30            None  \n31            None  \n32            None  ",
      "text/html": "<div>\n<style scoped>\n    .dataframe tbody tr th:only-of-type {\n        vertical-align: middle;\n    }\n\n    .dataframe tbody tr th {\n        vertical-align: top;\n    }\n\n    .dataframe thead th {\n        text-align: right;\n    }\n</style>\n<table border=\"1\" class=\"dataframe\">\n  <thead>\n    <tr style=\"text-align: right;\">\n      <th></th>\n      <th>name</th>\n      <th>deviation_bits</th>\n      <th>train_accuracy_score</th>\n      <th>test_accuracy_score</th>\n      <th>outlier_accuracy_score</th>\n      <th>train_precision_score</th>\n      <th>test_precision_score</th>\n      <th>outlier_precision_score</th>\n      <th>train_f1_score</th>\n      <th>test_f1_score</th>\n      <th>outlier_f1_score</th>\n      <th>train_recall_score</th>\n      <th>test_recall_score</th>\n      <th>outlier_recall_score</th>\n      <th>training_time</th>\n      <th>prediction_time</th>\n    </tr>\n  </thead>\n  <tbody>\n    <tr>\n      <th>0</th>\n      <td>Bases extended</td>\n      <td>0</td>\n      <td>0.783333</td>\n      <td>0.633333</td>\n      <td>1.0</td>\n      <td>1.0</td>\n      <td>1.0</td>\n      <td>0.0</td>\n      <td>0.878505</td>\n      <td>0.77551</td>\n      <td>0.0</td>\n      <td>0.878505</td>\n      <td>0.77551</td>\n      <td>0.0</td>\n      <td>None</td>\n      <td>None</td>\n    </tr>\n    <tr>\n      <th>1</th>\n      <td>Bases extended</td>\n      <td>1</td>\n      <td>0.8</td>\n      <td>0.646667</td>\n      <td>1.0</td>\n      <td>1.0</td>\n      <td>1.0</td>\n      <td>0.0</td>\n      <td>0.888889</td>\n      <td>0.785425</td>\n      <td>0.0</td>\n      <td>0.888889</td>\n      <td>0.785425</td>\n      <td>0.0</td>\n      <td>None</td>\n      <td>None</td>\n    </tr>\n    <tr>\n      <th>2</th>\n      <td>Bases extended</td>\n      <td>2</td>\n      <td>0.886667</td>\n      <td>0.826667</td>\n      <td>1.0</td>\n      <td>1.0</td>\n      <td>1.0</td>\n      <td>0.0</td>\n      <td>0.939929</td>\n      <td>0.905109</td>\n      <td>0.0</td>\n      <td>0.939929</td>\n      <td>0.905109</td>\n      <td>0.0</td>\n      <td>None</td>\n      <td>None</td>\n    </tr>\n    <tr>\n      <th>3</th>\n      <td>Bases extended</td>\n      <td>3</td>\n      <td>0.94</td>\n      <td>0.906667</td>\n      <td>0.6</td>\n      <td>1.0</td>\n      <td>1.0</td>\n      <td>0.0</td>\n      <td>0.969072</td>\n      <td>0.951049</td>\n      <td>0.0</td>\n      <td>0.969072</td>\n      <td>0.951049</td>\n      <td>0.0</td>\n      <td>None</td>\n      <td>None</td>\n    </tr>\n    <tr>\n      <th>4</th>\n      <td>Bases extended</td>\n      <td>4</td>\n      <td>0.966667</td>\n      <td>0.953333</td>\n      <td>0.55</td>\n      <td>1.0</td>\n      <td>1.0</td>\n      <td>0.0</td>\n      <td>0.983051</td>\n      <td>0.976109</td>\n      <td>0.0</td>\n      <td>0.983051</td>\n      <td>0.976109</td>\n      <td>0.0</td>\n      <td>None</td>\n      <td>None</td>\n    </tr>\n    <tr>\n      <th>5</th>\n      <td>Bases extended</td>\n      <td>5</td>\n      <td>1.0</td>\n      <td>0.993333</td>\n      <td>1.0</td>\n      <td>1.0</td>\n      <td>1.0</td>\n      <td>0.0</td>\n      <td>1.0</td>\n      <td>0.996656</td>\n      <td>0.0</td>\n      <td>1.0</td>\n      <td>0.996656</td>\n      <td>0.0</td>\n      <td>None</td>\n      <td>None</td>\n    </tr>\n    <tr>\n      <th>6</th>\n      <td>Bases extended</td>\n      <td>6</td>\n      <td>1.0</td>\n      <td>0.993333</td>\n      <td>0.2</td>\n      <td>1.0</td>\n      <td>1.0</td>\n      <td>0.0</td>\n      <td>1.0</td>\n      <td>0.996656</td>\n      <td>0.0</td>\n      <td>1.0</td>\n      <td>0.996656</td>\n      <td>0.0</td>\n      <td>None</td>\n      <td>None</td>\n    </tr>\n    <tr>\n      <th>7</th>\n      <td>Bases extended</td>\n      <td>7</td>\n      <td>1.0</td>\n      <td>1.0</td>\n      <td>0.0</td>\n      <td>1.0</td>\n      <td>1.0</td>\n      <td>0.0</td>\n      <td>1.0</td>\n      <td>1.0</td>\n      <td>0.0</td>\n      <td>1.0</td>\n      <td>1.0</td>\n      <td>0.0</td>\n      <td>None</td>\n      <td>None</td>\n    </tr>\n    <tr>\n      <th>8</th>\n      <td>Bases extended</td>\n      <td>8</td>\n      <td>1.0</td>\n      <td>1.0</td>\n      <td>0.0</td>\n      <td>1.0</td>\n      <td>1.0</td>\n      <td>0.0</td>\n      <td>1.0</td>\n      <td>1.0</td>\n      <td>0.0</td>\n      <td>1.0</td>\n      <td>1.0</td>\n      <td>0.0</td>\n      <td>None</td>\n      <td>None</td>\n    </tr>\n    <tr>\n      <th>9</th>\n      <td>Bases extended</td>\n      <td>9</td>\n      <td>1.0</td>\n      <td>1.0</td>\n      <td>0.0</td>\n      <td>1.0</td>\n      <td>1.0</td>\n      <td>0.0</td>\n      <td>1.0</td>\n      <td>1.0</td>\n      <td>0.0</td>\n      <td>1.0</td>\n      <td>1.0</td>\n      <td>0.0</td>\n      <td>None</td>\n      <td>None</td>\n    </tr>\n    <tr>\n      <th>10</th>\n      <td>Bases extended</td>\n      <td>10</td>\n      <td>1.0</td>\n      <td>1.0</td>\n      <td>0.0</td>\n      <td>1.0</td>\n      <td>1.0</td>\n      <td>0.0</td>\n      <td>1.0</td>\n      <td>1.0</td>\n      <td>0.0</td>\n      <td>1.0</td>\n      <td>1.0</td>\n      <td>0.0</td>\n      <td>None</td>\n      <td>None</td>\n    </tr>\n    <tr>\n      <th>11</th>\n      <td>Bases extended</td>\n      <td>11</td>\n      <td>1.0</td>\n      <td>1.0</td>\n      <td>0.0</td>\n      <td>1.0</td>\n      <td>1.0</td>\n      <td>0.0</td>\n      <td>1.0</td>\n      <td>1.0</td>\n      <td>0.0</td>\n      <td>1.0</td>\n      <td>1.0</td>\n      <td>0.0</td>\n      <td>None</td>\n      <td>None</td>\n    </tr>\n    <tr>\n      <th>12</th>\n      <td>Bases extended</td>\n      <td>12</td>\n      <td>1.0</td>\n      <td>1.0</td>\n      <td>0.0</td>\n      <td>1.0</td>\n      <td>1.0</td>\n      <td>0.0</td>\n      <td>1.0</td>\n      <td>1.0</td>\n      <td>0.0</td>\n      <td>1.0</td>\n      <td>1.0</td>\n      <td>0.0</td>\n      <td>None</td>\n      <td>None</td>\n    </tr>\n    <tr>\n      <th>13</th>\n      <td>Bases extended</td>\n      <td>13</td>\n      <td>1.0</td>\n      <td>1.0</td>\n      <td>0.0</td>\n      <td>1.0</td>\n      <td>1.0</td>\n      <td>0.0</td>\n      <td>1.0</td>\n      <td>1.0</td>\n      <td>0.0</td>\n      <td>1.0</td>\n      <td>1.0</td>\n      <td>0.0</td>\n      <td>None</td>\n      <td>None</td>\n    </tr>\n    <tr>\n      <th>14</th>\n      <td>Bases extended</td>\n      <td>14</td>\n      <td>1.0</td>\n      <td>1.0</td>\n      <td>0.0</td>\n      <td>1.0</td>\n      <td>1.0</td>\n      <td>0.0</td>\n      <td>1.0</td>\n      <td>1.0</td>\n      <td>0.0</td>\n      <td>1.0</td>\n      <td>1.0</td>\n      <td>0.0</td>\n      <td>None</td>\n      <td>None</td>\n    </tr>\n    <tr>\n      <th>15</th>\n      <td>Bases extended</td>\n      <td>15</td>\n      <td>1.0</td>\n      <td>1.0</td>\n      <td>0.0</td>\n      <td>1.0</td>\n      <td>1.0</td>\n      <td>0.0</td>\n      <td>1.0</td>\n      <td>1.0</td>\n      <td>0.0</td>\n      <td>1.0</td>\n      <td>1.0</td>\n      <td>0.0</td>\n      <td>None</td>\n      <td>None</td>\n    </tr>\n    <tr>\n      <th>16</th>\n      <td>Bases extended</td>\n      <td>16</td>\n      <td>1.0</td>\n      <td>1.0</td>\n      <td>0.0</td>\n      <td>1.0</td>\n      <td>1.0</td>\n      <td>0.0</td>\n      <td>1.0</td>\n      <td>1.0</td>\n      <td>0.0</td>\n      <td>1.0</td>\n      <td>1.0</td>\n      <td>0.0</td>\n      <td>None</td>\n      <td>None</td>\n    </tr>\n    <tr>\n      <th>17</th>\n      <td>Bases extended</td>\n      <td>17</td>\n      <td>1.0</td>\n      <td>1.0</td>\n      <td>0.0</td>\n      <td>1.0</td>\n      <td>1.0</td>\n      <td>0.0</td>\n      <td>1.0</td>\n      <td>1.0</td>\n      <td>0.0</td>\n      <td>1.0</td>\n      <td>1.0</td>\n      <td>0.0</td>\n      <td>None</td>\n      <td>None</td>\n    </tr>\n    <tr>\n      <th>18</th>\n      <td>Bases extended</td>\n      <td>18</td>\n      <td>1.0</td>\n      <td>1.0</td>\n      <td>0.0</td>\n      <td>1.0</td>\n      <td>1.0</td>\n      <td>0.0</td>\n      <td>1.0</td>\n      <td>1.0</td>\n      <td>0.0</td>\n      <td>1.0</td>\n      <td>1.0</td>\n      <td>0.0</td>\n      <td>None</td>\n      <td>None</td>\n    </tr>\n    <tr>\n      <th>19</th>\n      <td>Bases extended</td>\n      <td>19</td>\n      <td>1.0</td>\n      <td>1.0</td>\n      <td>0.0</td>\n      <td>1.0</td>\n      <td>1.0</td>\n      <td>0.0</td>\n      <td>1.0</td>\n      <td>1.0</td>\n      <td>0.0</td>\n      <td>1.0</td>\n      <td>1.0</td>\n      <td>0.0</td>\n      <td>None</td>\n      <td>None</td>\n    </tr>\n    <tr>\n      <th>20</th>\n      <td>Bases extended</td>\n      <td>20</td>\n      <td>1.0</td>\n      <td>1.0</td>\n      <td>0.0</td>\n      <td>1.0</td>\n      <td>1.0</td>\n      <td>0.0</td>\n      <td>1.0</td>\n      <td>1.0</td>\n      <td>0.0</td>\n      <td>1.0</td>\n      <td>1.0</td>\n      <td>0.0</td>\n      <td>None</td>\n      <td>None</td>\n    </tr>\n    <tr>\n      <th>21</th>\n      <td>Bases extended</td>\n      <td>21</td>\n      <td>1.0</td>\n      <td>1.0</td>\n      <td>0.0</td>\n      <td>1.0</td>\n      <td>1.0</td>\n      <td>0.0</td>\n      <td>1.0</td>\n      <td>1.0</td>\n      <td>0.0</td>\n      <td>1.0</td>\n      <td>1.0</td>\n      <td>0.0</td>\n      <td>None</td>\n      <td>None</td>\n    </tr>\n    <tr>\n      <th>22</th>\n      <td>Bases extended</td>\n      <td>22</td>\n      <td>1.0</td>\n      <td>1.0</td>\n      <td>0.0</td>\n      <td>1.0</td>\n      <td>1.0</td>\n      <td>0.0</td>\n      <td>1.0</td>\n      <td>1.0</td>\n      <td>0.0</td>\n      <td>1.0</td>\n      <td>1.0</td>\n      <td>0.0</td>\n      <td>None</td>\n      <td>None</td>\n    </tr>\n    <tr>\n      <th>23</th>\n      <td>Bases extended</td>\n      <td>23</td>\n      <td>1.0</td>\n      <td>1.0</td>\n      <td>0.0</td>\n      <td>1.0</td>\n      <td>1.0</td>\n      <td>0.0</td>\n      <td>1.0</td>\n      <td>1.0</td>\n      <td>0.0</td>\n      <td>1.0</td>\n      <td>1.0</td>\n      <td>0.0</td>\n      <td>None</td>\n      <td>None</td>\n    </tr>\n    <tr>\n      <th>24</th>\n      <td>Bases extended</td>\n      <td>24</td>\n      <td>1.0</td>\n      <td>1.0</td>\n      <td>0.0</td>\n      <td>1.0</td>\n      <td>1.0</td>\n      <td>0.0</td>\n      <td>1.0</td>\n      <td>1.0</td>\n      <td>0.0</td>\n      <td>1.0</td>\n      <td>1.0</td>\n      <td>0.0</td>\n      <td>None</td>\n      <td>None</td>\n    </tr>\n    <tr>\n      <th>25</th>\n      <td>Bases extended</td>\n      <td>25</td>\n      <td>1.0</td>\n      <td>1.0</td>\n      <td>0.0</td>\n      <td>1.0</td>\n      <td>1.0</td>\n      <td>0.0</td>\n      <td>1.0</td>\n      <td>1.0</td>\n      <td>0.0</td>\n      <td>1.0</td>\n      <td>1.0</td>\n      <td>0.0</td>\n      <td>None</td>\n      <td>None</td>\n    </tr>\n    <tr>\n      <th>26</th>\n      <td>Bases extended</td>\n      <td>26</td>\n      <td>1.0</td>\n      <td>1.0</td>\n      <td>0.0</td>\n      <td>1.0</td>\n      <td>1.0</td>\n      <td>0.0</td>\n      <td>1.0</td>\n      <td>1.0</td>\n      <td>0.0</td>\n      <td>1.0</td>\n      <td>1.0</td>\n      <td>0.0</td>\n      <td>None</td>\n      <td>None</td>\n    </tr>\n    <tr>\n      <th>27</th>\n      <td>Bases extended</td>\n      <td>27</td>\n      <td>1.0</td>\n      <td>1.0</td>\n      <td>0.0</td>\n      <td>1.0</td>\n      <td>1.0</td>\n      <td>0.0</td>\n      <td>1.0</td>\n      <td>1.0</td>\n      <td>0.0</td>\n      <td>1.0</td>\n      <td>1.0</td>\n      <td>0.0</td>\n      <td>None</td>\n      <td>None</td>\n    </tr>\n    <tr>\n      <th>28</th>\n      <td>Bases extended</td>\n      <td>28</td>\n      <td>1.0</td>\n      <td>1.0</td>\n      <td>0.0</td>\n      <td>1.0</td>\n      <td>1.0</td>\n      <td>0.0</td>\n      <td>1.0</td>\n      <td>1.0</td>\n      <td>0.0</td>\n      <td>1.0</td>\n      <td>1.0</td>\n      <td>0.0</td>\n      <td>None</td>\n      <td>None</td>\n    </tr>\n    <tr>\n      <th>29</th>\n      <td>Bases extended</td>\n      <td>29</td>\n      <td>1.0</td>\n      <td>1.0</td>\n      <td>0.0</td>\n      <td>1.0</td>\n      <td>1.0</td>\n      <td>0.0</td>\n      <td>1.0</td>\n      <td>1.0</td>\n      <td>0.0</td>\n      <td>1.0</td>\n      <td>1.0</td>\n      <td>0.0</td>\n      <td>None</td>\n      <td>None</td>\n    </tr>\n    <tr>\n      <th>30</th>\n      <td>Bases extended</td>\n      <td>30</td>\n      <td>1.0</td>\n      <td>1.0</td>\n      <td>0.0</td>\n      <td>1.0</td>\n      <td>1.0</td>\n      <td>0.0</td>\n      <td>1.0</td>\n      <td>1.0</td>\n      <td>0.0</td>\n      <td>1.0</td>\n      <td>1.0</td>\n      <td>0.0</td>\n      <td>None</td>\n      <td>None</td>\n    </tr>\n    <tr>\n      <th>31</th>\n      <td>Bases extended</td>\n      <td>31</td>\n      <td>1.0</td>\n      <td>1.0</td>\n      <td>0.0</td>\n      <td>1.0</td>\n      <td>1.0</td>\n      <td>0.0</td>\n      <td>1.0</td>\n      <td>1.0</td>\n      <td>0.0</td>\n      <td>1.0</td>\n      <td>1.0</td>\n      <td>0.0</td>\n      <td>None</td>\n      <td>None</td>\n    </tr>\n    <tr>\n      <th>32</th>\n      <td>Bases extended</td>\n      <td>32</td>\n      <td>1.0</td>\n      <td>1.0</td>\n      <td>0.0</td>\n      <td>1.0</td>\n      <td>1.0</td>\n      <td>0.0</td>\n      <td>1.0</td>\n      <td>1.0</td>\n      <td>0.0</td>\n      <td>1.0</td>\n      <td>1.0</td>\n      <td>0.0</td>\n      <td>None</td>\n      <td>None</td>\n    </tr>\n  </tbody>\n</table>\n</div>"
     },
     "execution_count": 25,
     "metadata": {},
     "output_type": "execute_result"
    }
   ],
   "source": [
    "gd_ext_performance"
   ],
   "metadata": {
    "collapsed": false,
    "pycharm": {
     "name": "#%%\n"
    }
   }
  },
  {
   "cell_type": "markdown",
   "source": [
    "### Visualize"
   ],
   "metadata": {
    "collapsed": false
   }
  },
  {
   "cell_type": "code",
   "execution_count": 26,
   "outputs": [
    {
     "data": {
      "text/plain": "<Figure size 432x288 with 1 Axes>",
      "image/png": "[encoded data removed]"
     },
     "metadata": {
      "needs_background": "light"
     },
     "output_type": "display_data"
    },
    {
     "data": {
      "text/plain": "<Figure size 432x288 with 1 Axes>",
      "image/png": "[encoded data removed]"
     },
     "metadata": {
      "needs_background": "light"
     },
     "output_type": "display_data"
    }
   ],
   "source": [
    "plt.plot(gd_performance['deviation_bits'], gd_performance['test_accuracy_score'], 'o')\n",
    "\n",
    "plt.plot(gd_performance['deviation_bits'], gd_performance['outlier_accuracy_score'], 'o')\n",
    "\n",
    "plt.legend(['Test Data (No outliers)', 'Outlier Data (All outliers)'])\n",
    "plt.xlabel('Deviation Bits')\n",
    "plt.ylabel('Accuracy Score')\n",
    "plt.title('iForest on various amount of deviation bits')\n",
    "plt.show()\n",
    "\n",
    "plt.plot(gd_ext_performance['deviation_bits'], gd_performance['test_accuracy_score'], 'o')\n",
    "\n",
    "plt.plot(gd_ext_performance['deviation_bits'], gd_performance['outlier_accuracy_score'], 'o')\n",
    "\n",
    "plt.legend(['Test Data (No outliers)', 'Outlier Data (All outliers)'])\n",
    "plt.xlabel('Deviation Bits')\n",
    "plt.ylabel('Accuracy Score')\n",
    "plt.title('Extended iForest on various amount of deviation bits')\n",
    "plt.show()"
   ],
   "metadata": {
    "collapsed": false,
    "pycharm": {
     "name": "#%%\n"
    }
   }
  },
  {
   "cell_type": "markdown",
   "source": [
    "# Formulas"
   ],
   "metadata": {
    "collapsed": false,
    "pycharm": {
     "name": "#%% md\n"
    }
   }
  },
  {
   "cell_type": "markdown",
   "metadata": {
    "collapsed": false,
    "pycharm": {
     "name": "#%% md\n"
    }
   },
   "source": [
    "## Definitions\n",
    "\n",
    "$n$: number of samples\n",
    "\n",
    "$c(n)$: average path length of unsuccessfull search - constant given n\n",
    "\n",
    "$H(i)$: harmonic number - estimated by $ln(i) + e$\n",
    "\n",
    "$h(x)$: path length - number of edges x traverses an itree from the root node\n",
    "\n",
    "$n$: amount of instances/nodes - amount of bases in our situation\n",
    "\n",
    "$s$: anomaly score -\n",
    "$s(x,n)=2^{\\frac{-E(h(x))}{c(n)}}$\n",
    "\n",
    "$E(h(x))$: average of $h(x)$ from a collection of isolation trees.\n",
    "\n",
    "$f_{base}=\\log_2(n_{base})$\n",
    "\n",
    "---\n",
    "\n",
    "## Deriving equations\n",
    "1:\n",
    "\n",
    "$\\log_2(s) \\cdot c(n)=-E(h(x))$\n",
    "\n",
    "2:\n",
    "\n",
    "$\\log_2(s)=-\\frac{E(h(x))+\\log_2(f_{base})}{c(n_{samples})}$\n",
    "\n",
    "3:\n",
    "\n",
    "$\\log_2(s) \\cdot c(n) = -E(h(x))$\n",
    "\n",
    "4:\n",
    "\n",
    "$\\log_2(s) = -\\frac{E(h(x))+\\log_2(f_{base})}{c(n_{samples})}$\n",
    "\n",
    "\n",
    "---\n",
    "\n",
    "\n"
   ]
  }
 ],
 "metadata": {
  "kernelspec": {
   "display_name": "Python 3",
   "language": "python",
   "name": "python3"
  },
  "language_info": {
   "codemirror_mode": {
    "name": "ipython",
    "version": 2
   },
   "file_extension": ".py",
   "mimetype": "text/x-python",
   "name": "python",
   "nbconvert_exporter": "python",
   "pygments_lexer": "ipython2",
   "version": "2.7.6"
  }
 },
 "nbformat": 4,
 "nbformat_minor": 0
}