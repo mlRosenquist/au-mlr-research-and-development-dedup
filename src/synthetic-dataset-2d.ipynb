{
 "cells": [
  {
   "cell_type": "markdown",
   "metadata": {
    "collapsed": false,
    "pycharm": {
     "name": "#%% md\n"
    }
   },
   "source": [
    "# Setup"
   ]
  },
  {
   "cell_type": "markdown",
   "source": [
    "## Imports"
   ],
   "metadata": {
    "collapsed": false,
    "pycharm": {
     "name": "#%% md\n"
    }
   }
  },
  {
   "cell_type": "code",
   "execution_count": 225,
   "outputs": [],
   "source": [
    "import time\n",
    "\n",
    "import numpy\n",
    "import pandas as pd\n",
    "import numpy as np\n",
    "from matplotlib import pyplot as plt\n",
    "from sklearn.metrics import accuracy_score, confusion_matrix, precision_score, f1_score, recall_score, roc_auc_score\n",
    "\n",
    "import gd as gd\n",
    "import math\n",
    "from random import randint\n",
    "from sklearn.ensemble import IsolationForest\n",
    "import seaborn as sns\n",
    "\n",
    "from sklearn.model_selection import train_test_split"
   ],
   "metadata": {
    "collapsed": false,
    "pycharm": {
     "name": "#%%\n"
    }
   }
  },
  {
   "cell_type": "markdown",
   "source": [
    "## Constants"
   ],
   "metadata": {
    "collapsed": false,
    "pycharm": {
     "name": "#%% md\n"
    }
   }
  },
  {
   "cell_type": "code",
   "execution_count": 226,
   "outputs": [],
   "source": [
    "# Data generation\n",
    "SAMPLE_TRAIN_SIZE = 100\n",
    "SAMPLE_TEST_SIZE = 50\n",
    "SAMPLE_OUTLIER_SIZE = 20\n",
    "sigma = 2\n",
    "\n",
    "# Generalized Deduplication\n",
    "DEVIATION_BITS = 6\n",
    "\n",
    "# Isolation Forest\n",
    "rng = np.random.RandomState(42)\n",
    "\n",
    "# Performance\n",
    "time_no_iterations = 50\n",
    "time_no_outliers_removed = 5"
   ],
   "metadata": {
    "collapsed": false,
    "pycharm": {
     "name": "#%%\n"
    }
   }
  },
  {
   "cell_type": "markdown",
   "source": [
    "# Load Data"
   ],
   "metadata": {
    "collapsed": false,
    "pycharm": {
     "name": "#%% md\n"
    }
   }
  },
  {
   "cell_type": "markdown",
   "source": [
    "## Generate data"
   ],
   "metadata": {
    "collapsed": false,
    "pycharm": {
     "name": "#%% md\n"
    }
   }
  },
  {
   "cell_type": "code",
   "execution_count": 227,
   "outputs": [],
   "source": [
    "# Generate train data\n",
    "def generate_data(cluster_size, sigma, no_clusters):\n",
    "    train_data = []\n",
    "    test_data = []\n",
    "    outlier_data = []\n",
    "    if no_clusters == 1:\n",
    "        train_data = np.r_[(\n",
    "            np.c_[((sigma * rng.randn(cluster_size, 1)).astype(int) + 50, (sigma * rng.randn(cluster_size, 1)).astype(int) + 50)],\n",
    "            )]\n",
    "        test_data = np.r_[(\n",
    "                    np.c_[((sigma * rng.randn(cluster_size, 1)).astype(int) + 50, (sigma * rng.randn(cluster_size, 1)).astype(int) + 50)],\n",
    "                )]\n",
    "        outlier_data = np.r_[\n",
    "            (np.c_[(rng.uniform(low=40, high=60, size=(2, 1))), (rng.uniform(low=70, high=85, size=(2, 1)))],\n",
    "             )].astype(int)\n",
    "    elif no_clusters == 3:\n",
    "        train_data = np.r_[(\n",
    "            np.c_[((sigma * rng.randn(cluster_size, 1)).astype(int) + 60, (sigma * rng.randn(cluster_size, 1)).astype(int) + 50)],\n",
    "            np.c_[((sigma * rng.randn(cluster_size, 1)).astype(int) + 50, (sigma * rng.randn(cluster_size, 1)).astype(int) + 100)],\n",
    "            np.c_[((sigma * rng.randn(cluster_size, 1)).astype(int) + 100, (sigma * rng.randn(cluster_size, 1)).astype(int) + 100)]\n",
    "            )]\n",
    "        test_data = np.r_[(\n",
    "                    np.c_[((sigma * rng.randn(SAMPLE_TEST_SIZE, 1)).astype(int) + 60, (sigma * rng.randn(SAMPLE_TEST_SIZE, 1)).astype(int) + 50)],\n",
    "                    np.c_[((sigma * rng.randn(SAMPLE_TEST_SIZE, 1)).astype(int) + 50, (sigma * rng.randn(SAMPLE_TEST_SIZE, 1)).astype(int) + 100)],\n",
    "                    np.c_[((sigma * rng.randn(SAMPLE_TEST_SIZE, 1)).astype(int) + 100, (sigma * rng.randn(SAMPLE_TEST_SIZE, 1)).astype(int) + 100)]\n",
    "                )]\n",
    "        outlier_data = np.r_[\n",
    "            (np.c_[(rng.uniform(low=40, high=60, size=(int(SAMPLE_OUTLIER_SIZE/2), 1))), (rng.uniform(low=70, high=85, size=(int(SAMPLE_OUTLIER_SIZE/2), 1)))],\n",
    "             np.c_[(rng.uniform(low=65, high=120, size=(int(SAMPLE_OUTLIER_SIZE/2), 1))), (rng.uniform(low=60, high=85, size=(int(SAMPLE_OUTLIER_SIZE/2), 1)))]\n",
    "             )].astype(int)\n",
    "\n",
    "    return train_data, test_data, outlier_data, np.ones(len(train_data)), np.ones(len(test_data)), np.ones(len(outlier_data)) * - 1\n",
    "\n",
    "X_train, X_test, X_outliers, y_train, y_test, y_outlier = generate_data(100, 2, 3)\n",
    "\n",
    "X = np.concatenate([X_train, X_test, X_outliers])\n",
    "y = np.concatenate([y_train, y_test, y_outlier])\n",
    "\n",
    "X_train, X_test, y_train, y_test = train_test_split(X, y, test_size=0.2, stratify=y, random_state=rng)\n",
    "\n"
   ],
   "metadata": {
    "collapsed": false,
    "pycharm": {
     "name": "#%%\n"
    }
   }
  },
  {
   "cell_type": "markdown",
   "source": [
    "## Perform Generalized Deduplication"
   ],
   "metadata": {
    "collapsed": false,
    "pycharm": {
     "name": "#%% md\n"
    }
   }
  },
  {
   "cell_type": "code",
   "execution_count": 228,
   "outputs": [],
   "source": [
    "vectorized_func = np.vectorize(gd.compress_int)\n",
    "\n",
    "X_train_bases = vectorized_func(X_train, deviation_bits=DEVIATION_BITS, output=\"integer\")\n",
    "X_test_bases = vectorized_func(X_test, deviation_bits=DEVIATION_BITS, output=\"integer\")\n",
    "X_outliers_bases = vectorized_func(X_outliers, deviation_bits=DEVIATION_BITS, output=\"integer\")"
   ],
   "metadata": {
    "collapsed": false,
    "pycharm": {
     "name": "#%%\n"
    }
   }
  },
  {
   "cell_type": "markdown",
   "source": [
    "# Model Training"
   ],
   "metadata": {
    "collapsed": false,
    "pycharm": {
     "name": "#%% md\n"
    }
   }
  },
  {
   "cell_type": "markdown",
   "source": [
    "## Setup"
   ],
   "metadata": {
    "collapsed": false,
    "pycharm": {
     "name": "#%% md\n"
    }
   }
  },
  {
   "cell_type": "code",
   "execution_count": 229,
   "outputs": [],
   "source": [
    "gd_df_results = pd.DataFrame()\n",
    "gd_ext_df_results = pd.DataFrame()\n",
    "org_df_results = pd.DataFrame()\n",
    "performance = pd.DataFrame(columns=['name', 'deviation_bits', 'test_accuracy_score', 'test_f1_score', 'test_recall_score', 'test_precision_score',\n",
    "  'test_roc_auc_score', 'training_time', 'prediction_time'])\n",
    "\n",
    "\n",
    "def create_performance_object(name, deviation_bits, y_pred_train, y_pred_test, training_time, prediction_time, test_accuracy_score, test_f1_score, test_recall_score, test_precision_score, test_roc_auc_score):\n",
    "    return {\n",
    "    'name': name,\n",
    "    'deviation_bits': deviation_bits,\n",
    "    #'train_accuracy_score': accuracy_score(y_train, y_pred_train),\n",
    "    'test_accuracy_score': test_accuracy_score,\n",
    "\n",
    "    #'train_f1_score': f1_score(y_train, y_pred_train),\n",
    "    'test_f1_score': test_f1_score,\n",
    "    #'train_recall_score': recall_score(y_train, y_pred_train),\n",
    "    'test_recall_score': test_recall_score,\n",
    "    'test_precision_score': test_precision_score,\n",
    "    #'train_roc_auc_score': roc_auc_score(y_train, y_pred_train),\n",
    "    'test_roc_auc_score': test_roc_auc_score,\n",
    "    'training_time': training_time,\n",
    "    'prediction_time': prediction_time,\n",
    "    }"
   ],
   "metadata": {
    "collapsed": false,
    "pycharm": {
     "name": "#%%\n"
    }
   }
  },
  {
   "cell_type": "markdown",
   "source": [
    "## Isolation Forest - Bases"
   ],
   "metadata": {
    "collapsed": false,
    "pycharm": {
     "name": "#%% md\n"
    }
   }
  },
  {
   "cell_type": "code",
   "execution_count": 230,
   "outputs": [
    {
     "name": "stderr",
     "output_type": "stream",
     "text": [
      "/home/mlrosenquist/repos/scikit-learn/sklearn/metrics/_classification.py:1327: UndefinedMetricWarning: Precision is ill-defined and being set to 0.0 due to no predicted samples. Use `zero_division` parameter to control this behavior.\n",
      "  _warn_prf(average, modifier, msg_start, len(result))\n",
      "/home/mlrosenquist/repos/scikit-learn/sklearn/metrics/_classification.py:1327: UndefinedMetricWarning: Precision is ill-defined and being set to 0.0 due to no predicted samples. Use `zero_division` parameter to control this behavior.\n",
      "  _warn_prf(average, modifier, msg_start, len(result))\n",
      "/home/mlrosenquist/repos/scikit-learn/sklearn/metrics/_classification.py:1327: UndefinedMetricWarning: Precision is ill-defined and being set to 0.0 due to no predicted samples. Use `zero_division` parameter to control this behavior.\n",
      "  _warn_prf(average, modifier, msg_start, len(result))\n",
      "/home/mlrosenquist/repos/scikit-learn/sklearn/metrics/_classification.py:1327: UndefinedMetricWarning: Precision is ill-defined and being set to 0.0 due to no predicted samples. Use `zero_division` parameter to control this behavior.\n",
      "  _warn_prf(average, modifier, msg_start, len(result))\n",
      "/home/mlrosenquist/repos/scikit-learn/sklearn/metrics/_classification.py:1327: UndefinedMetricWarning: Precision is ill-defined and being set to 0.0 due to no predicted samples. Use `zero_division` parameter to control this behavior.\n",
      "  _warn_prf(average, modifier, msg_start, len(result))\n",
      "/home/mlrosenquist/repos/scikit-learn/sklearn/metrics/_classification.py:1327: UndefinedMetricWarning: Precision is ill-defined and being set to 0.0 due to no predicted samples. Use `zero_division` parameter to control this behavior.\n",
      "  _warn_prf(average, modifier, msg_start, len(result))\n",
      "/home/mlrosenquist/repos/scikit-learn/sklearn/metrics/_classification.py:1327: UndefinedMetricWarning: Precision is ill-defined and being set to 0.0 due to no predicted samples. Use `zero_division` parameter to control this behavior.\n",
      "  _warn_prf(average, modifier, msg_start, len(result))\n",
      "/home/mlrosenquist/repos/scikit-learn/sklearn/metrics/_classification.py:1327: UndefinedMetricWarning: Precision is ill-defined and being set to 0.0 due to no predicted samples. Use `zero_division` parameter to control this behavior.\n",
      "  _warn_prf(average, modifier, msg_start, len(result))\n",
      "/home/mlrosenquist/repos/scikit-learn/sklearn/metrics/_classification.py:1327: UndefinedMetricWarning: Precision is ill-defined and being set to 0.0 due to no predicted samples. Use `zero_division` parameter to control this behavior.\n",
      "  _warn_prf(average, modifier, msg_start, len(result))\n",
      "/home/mlrosenquist/repos/scikit-learn/sklearn/metrics/_classification.py:1327: UndefinedMetricWarning: Precision is ill-defined and being set to 0.0 due to no predicted samples. Use `zero_division` parameter to control this behavior.\n",
      "  _warn_prf(average, modifier, msg_start, len(result))\n",
      "/home/mlrosenquist/repos/scikit-learn/sklearn/metrics/_classification.py:1327: UndefinedMetricWarning: Precision is ill-defined and being set to 0.0 due to no predicted samples. Use `zero_division` parameter to control this behavior.\n",
      "  _warn_prf(average, modifier, msg_start, len(result))\n",
      "/home/mlrosenquist/repos/scikit-learn/sklearn/metrics/_classification.py:1327: UndefinedMetricWarning: Precision is ill-defined and being set to 0.0 due to no predicted samples. Use `zero_division` parameter to control this behavior.\n",
      "  _warn_prf(average, modifier, msg_start, len(result))\n",
      "/home/mlrosenquist/repos/scikit-learn/sklearn/metrics/_classification.py:1327: UndefinedMetricWarning: Precision is ill-defined and being set to 0.0 due to no predicted samples. Use `zero_division` parameter to control this behavior.\n",
      "  _warn_prf(average, modifier, msg_start, len(result))\n",
      "/home/mlrosenquist/repos/scikit-learn/sklearn/metrics/_classification.py:1327: UndefinedMetricWarning: Precision is ill-defined and being set to 0.0 due to no predicted samples. Use `zero_division` parameter to control this behavior.\n",
      "  _warn_prf(average, modifier, msg_start, len(result))\n",
      "/home/mlrosenquist/repos/scikit-learn/sklearn/metrics/_classification.py:1327: UndefinedMetricWarning: Precision is ill-defined and being set to 0.0 due to no predicted samples. Use `zero_division` parameter to control this behavior.\n",
      "  _warn_prf(average, modifier, msg_start, len(result))\n",
      "/home/mlrosenquist/repos/scikit-learn/sklearn/metrics/_classification.py:1327: UndefinedMetricWarning: Precision is ill-defined and being set to 0.0 due to no predicted samples. Use `zero_division` parameter to control this behavior.\n",
      "  _warn_prf(average, modifier, msg_start, len(result))\n",
      "/home/mlrosenquist/repos/scikit-learn/sklearn/metrics/_classification.py:1327: UndefinedMetricWarning: Precision is ill-defined and being set to 0.0 due to no predicted samples. Use `zero_division` parameter to control this behavior.\n",
      "  _warn_prf(average, modifier, msg_start, len(result))\n",
      "/home/mlrosenquist/repos/scikit-learn/sklearn/metrics/_classification.py:1327: UndefinedMetricWarning: Precision is ill-defined and being set to 0.0 due to no predicted samples. Use `zero_division` parameter to control this behavior.\n",
      "  _warn_prf(average, modifier, msg_start, len(result))\n",
      "/home/mlrosenquist/repos/scikit-learn/sklearn/metrics/_classification.py:1327: UndefinedMetricWarning: Precision is ill-defined and being set to 0.0 due to no predicted samples. Use `zero_division` parameter to control this behavior.\n",
      "  _warn_prf(average, modifier, msg_start, len(result))\n",
      "/home/mlrosenquist/repos/scikit-learn/sklearn/metrics/_classification.py:1327: UndefinedMetricWarning: Precision is ill-defined and being set to 0.0 due to no predicted samples. Use `zero_division` parameter to control this behavior.\n",
      "  _warn_prf(average, modifier, msg_start, len(result))\n",
      "/home/mlrosenquist/repos/scikit-learn/sklearn/metrics/_classification.py:1327: UndefinedMetricWarning: Precision is ill-defined and being set to 0.0 due to no predicted samples. Use `zero_division` parameter to control this behavior.\n",
      "  _warn_prf(average, modifier, msg_start, len(result))\n",
      "/home/mlrosenquist/repos/scikit-learn/sklearn/metrics/_classification.py:1327: UndefinedMetricWarning: Precision is ill-defined and being set to 0.0 due to no predicted samples. Use `zero_division` parameter to control this behavior.\n",
      "  _warn_prf(average, modifier, msg_start, len(result))\n",
      "/home/mlrosenquist/repos/scikit-learn/sklearn/metrics/_classification.py:1327: UndefinedMetricWarning: Precision is ill-defined and being set to 0.0 due to no predicted samples. Use `zero_division` parameter to control this behavior.\n",
      "  _warn_prf(average, modifier, msg_start, len(result))\n",
      "/home/mlrosenquist/repos/scikit-learn/sklearn/metrics/_classification.py:1327: UndefinedMetricWarning: Precision is ill-defined and being set to 0.0 due to no predicted samples. Use `zero_division` parameter to control this behavior.\n",
      "  _warn_prf(average, modifier, msg_start, len(result))\n",
      "/home/mlrosenquist/repos/scikit-learn/sklearn/metrics/_classification.py:1327: UndefinedMetricWarning: Precision is ill-defined and being set to 0.0 due to no predicted samples. Use `zero_division` parameter to control this behavior.\n",
      "  _warn_prf(average, modifier, msg_start, len(result))\n",
      "/home/mlrosenquist/repos/scikit-learn/sklearn/metrics/_classification.py:1327: UndefinedMetricWarning: Precision is ill-defined and being set to 0.0 due to no predicted samples. Use `zero_division` parameter to control this behavior.\n",
      "  _warn_prf(average, modifier, msg_start, len(result))\n",
      "/home/mlrosenquist/repos/scikit-learn/sklearn/metrics/_classification.py:1327: UndefinedMetricWarning: Precision is ill-defined and being set to 0.0 due to no predicted samples. Use `zero_division` parameter to control this behavior.\n",
      "  _warn_prf(average, modifier, msg_start, len(result))\n",
      "/home/mlrosenquist/repos/scikit-learn/sklearn/metrics/_classification.py:1327: UndefinedMetricWarning: Precision is ill-defined and being set to 0.0 due to no predicted samples. Use `zero_division` parameter to control this behavior.\n",
      "  _warn_prf(average, modifier, msg_start, len(result))\n",
      "/home/mlrosenquist/repos/scikit-learn/sklearn/metrics/_classification.py:1327: UndefinedMetricWarning: Precision is ill-defined and being set to 0.0 due to no predicted samples. Use `zero_division` parameter to control this behavior.\n",
      "  _warn_prf(average, modifier, msg_start, len(result))\n",
      "/home/mlrosenquist/repos/scikit-learn/sklearn/metrics/_classification.py:1327: UndefinedMetricWarning: Precision is ill-defined and being set to 0.0 due to no predicted samples. Use `zero_division` parameter to control this behavior.\n",
      "  _warn_prf(average, modifier, msg_start, len(result))\n",
      "/home/mlrosenquist/repos/scikit-learn/sklearn/metrics/_classification.py:1327: UndefinedMetricWarning: Precision is ill-defined and being set to 0.0 due to no predicted samples. Use `zero_division` parameter to control this behavior.\n",
      "  _warn_prf(average, modifier, msg_start, len(result))\n",
      "/home/mlrosenquist/repos/scikit-learn/sklearn/metrics/_classification.py:1327: UndefinedMetricWarning: Precision is ill-defined and being set to 0.0 due to no predicted samples. Use `zero_division` parameter to control this behavior.\n",
      "  _warn_prf(average, modifier, msg_start, len(result))\n",
      "/home/mlrosenquist/repos/scikit-learn/sklearn/metrics/_classification.py:1327: UndefinedMetricWarning: Precision is ill-defined and being set to 0.0 due to no predicted samples. Use `zero_division` parameter to control this behavior.\n",
      "  _warn_prf(average, modifier, msg_start, len(result))\n",
      "/home/mlrosenquist/repos/scikit-learn/sklearn/metrics/_classification.py:1327: UndefinedMetricWarning: Precision is ill-defined and being set to 0.0 due to no predicted samples. Use `zero_division` parameter to control this behavior.\n",
      "  _warn_prf(average, modifier, msg_start, len(result))\n",
      "/home/mlrosenquist/repos/scikit-learn/sklearn/metrics/_classification.py:1327: UndefinedMetricWarning: Precision is ill-defined and being set to 0.0 due to no predicted samples. Use `zero_division` parameter to control this behavior.\n",
      "  _warn_prf(average, modifier, msg_start, len(result))\n",
      "/home/mlrosenquist/repos/scikit-learn/sklearn/metrics/_classification.py:1327: UndefinedMetricWarning: Precision is ill-defined and being set to 0.0 due to no predicted samples. Use `zero_division` parameter to control this behavior.\n",
      "  _warn_prf(average, modifier, msg_start, len(result))\n",
      "/home/mlrosenquist/repos/scikit-learn/sklearn/metrics/_classification.py:1327: UndefinedMetricWarning: Precision is ill-defined and being set to 0.0 due to no predicted samples. Use `zero_division` parameter to control this behavior.\n",
      "  _warn_prf(average, modifier, msg_start, len(result))\n",
      "/home/mlrosenquist/repos/scikit-learn/sklearn/metrics/_classification.py:1327: UndefinedMetricWarning: Precision is ill-defined and being set to 0.0 due to no predicted samples. Use `zero_division` parameter to control this behavior.\n",
      "  _warn_prf(average, modifier, msg_start, len(result))\n",
      "/home/mlrosenquist/repos/scikit-learn/sklearn/metrics/_classification.py:1327: UndefinedMetricWarning: Precision is ill-defined and being set to 0.0 due to no predicted samples. Use `zero_division` parameter to control this behavior.\n",
      "  _warn_prf(average, modifier, msg_start, len(result))\n",
      "/home/mlrosenquist/repos/scikit-learn/sklearn/metrics/_classification.py:1327: UndefinedMetricWarning: Precision is ill-defined and being set to 0.0 due to no predicted samples. Use `zero_division` parameter to control this behavior.\n",
      "  _warn_prf(average, modifier, msg_start, len(result))\n",
      "/home/mlrosenquist/repos/scikit-learn/sklearn/metrics/_classification.py:1327: UndefinedMetricWarning: Precision is ill-defined and being set to 0.0 due to no predicted samples. Use `zero_division` parameter to control this behavior.\n",
      "  _warn_prf(average, modifier, msg_start, len(result))\n",
      "/home/mlrosenquist/repos/scikit-learn/sklearn/metrics/_classification.py:1327: UndefinedMetricWarning: Precision is ill-defined and being set to 0.0 due to no predicted samples. Use `zero_division` parameter to control this behavior.\n",
      "  _warn_prf(average, modifier, msg_start, len(result))\n",
      "/home/mlrosenquist/repos/scikit-learn/sklearn/metrics/_classification.py:1327: UndefinedMetricWarning: Precision is ill-defined and being set to 0.0 due to no predicted samples. Use `zero_division` parameter to control this behavior.\n",
      "  _warn_prf(average, modifier, msg_start, len(result))\n",
      "/home/mlrosenquist/repos/scikit-learn/sklearn/metrics/_classification.py:1327: UndefinedMetricWarning: Precision is ill-defined and being set to 0.0 due to no predicted samples. Use `zero_division` parameter to control this behavior.\n",
      "  _warn_prf(average, modifier, msg_start, len(result))\n",
      "/home/mlrosenquist/repos/scikit-learn/sklearn/metrics/_classification.py:1327: UndefinedMetricWarning: Precision is ill-defined and being set to 0.0 due to no predicted samples. Use `zero_division` parameter to control this behavior.\n",
      "  _warn_prf(average, modifier, msg_start, len(result))\n",
      "/home/mlrosenquist/repos/scikit-learn/sklearn/metrics/_classification.py:1327: UndefinedMetricWarning: Precision is ill-defined and being set to 0.0 due to no predicted samples. Use `zero_division` parameter to control this behavior.\n",
      "  _warn_prf(average, modifier, msg_start, len(result))\n",
      "/home/mlrosenquist/repos/scikit-learn/sklearn/metrics/_classification.py:1327: UndefinedMetricWarning: Precision is ill-defined and being set to 0.0 due to no predicted samples. Use `zero_division` parameter to control this behavior.\n",
      "  _warn_prf(average, modifier, msg_start, len(result))\n",
      "/home/mlrosenquist/repos/scikit-learn/sklearn/metrics/_classification.py:1327: UndefinedMetricWarning: Precision is ill-defined and being set to 0.0 due to no predicted samples. Use `zero_division` parameter to control this behavior.\n",
      "  _warn_prf(average, modifier, msg_start, len(result))\n"
     ]
    },
    {
     "name": "stdout",
     "output_type": "stream",
     "text": [
      "4\n"
     ]
    },
    {
     "name": "stderr",
     "output_type": "stream",
     "text": [
      "/home/mlrosenquist/repos/scikit-learn/sklearn/metrics/_classification.py:1327: UndefinedMetricWarning: Precision is ill-defined and being set to 0.0 due to no predicted samples. Use `zero_division` parameter to control this behavior.\n",
      "  _warn_prf(average, modifier, msg_start, len(result))\n",
      "/home/mlrosenquist/repos/scikit-learn/sklearn/metrics/_classification.py:1327: UndefinedMetricWarning: Precision is ill-defined and being set to 0.0 due to no predicted samples. Use `zero_division` parameter to control this behavior.\n",
      "  _warn_prf(average, modifier, msg_start, len(result))\n",
      "/tmp/ipykernel_52087/1679191674.py:42: FutureWarning: The frame.append method is deprecated and will be removed from pandas in a future version. Use pandas.concat instead.\n",
      "  performance = performance.append(create_performance_object('Isolation Forest Bases', DEVIATION_BITS, y_pred_train, y_pred_test, training_times[0].mean(), prediction_times[0].mean(), accuracies[0].mean(), f1s[0].mean(), recs[0].mean(), precs[0].mean(), rocs[0].mean()), ignore_index=True)\n"
     ]
    },
    {
     "data": {
      "text/plain": "array([[ 0,  0],\n       [ 0, 64],\n       [64,  0],\n       [64, 64]])"
     },
     "execution_count": 230,
     "metadata": {},
     "output_type": "execute_result"
    }
   ],
   "source": [
    "training_times = []\n",
    "prediction_times = []\n",
    "accuracies = []\n",
    "f1s = []\n",
    "recs = []\n",
    "rocs = []\n",
    "precs = []\n",
    "\n",
    "for i in range(0, time_no_iterations):\n",
    "    gd_clf = IsolationForest()\n",
    "    start_time = time.time()\n",
    "    gd_clf.fit(X_train_bases)\n",
    "    end_time = time.time()\n",
    "    training_time = end_time - start_time\n",
    "    training_times.append(training_time)\n",
    "\n",
    "    start_time = time.time()\n",
    "    y_pred_train = gd_clf.predict(X_train_bases)\n",
    "    y_pred_test = gd_clf.predict(X_test_bases)\n",
    "    end_time = time.time()\n",
    "    prediction_time = end_time - start_time\n",
    "    prediction_times.append(prediction_time)\n",
    "\n",
    "    accuracies.append(accuracy_score(y_test, y_pred_test))\n",
    "    f1s.append(f1_score(y_test, y_pred_test))\n",
    "    recs.append(recall_score(y_test, y_pred_test))\n",
    "    rocs.append(roc_auc_score(y_test, y_pred_test))\n",
    "    precs.append(precision_score(y_test, y_pred_test))\n",
    "\n",
    "training_times = pd.DataFrame(training_times)\n",
    "prediction_times = pd.DataFrame(prediction_times)\n",
    "accuracies = pd.DataFrame(accuracies)\n",
    "f1s = pd.DataFrame(f1s)\n",
    "recs = pd.DataFrame(recs)\n",
    "rocs = pd.DataFrame(rocs)\n",
    "precs = pd.DataFrame(precs)\n",
    "\n",
    "training_times = training_times.drop(training_times.nsmallest(time_no_outliers_removed, 0).index).drop(training_times.nlargest(time_no_outliers_removed, 0).index)\n",
    "prediction_times = prediction_times.drop(prediction_times.nsmallest(time_no_outliers_removed, 0).index).drop(prediction_times.nlargest(time_no_outliers_removed, 0).index)\n",
    "\n",
    "\n",
    "performance = performance.append(create_performance_object('Isolation Forest Bases', DEVIATION_BITS, y_pred_train, y_pred_test, training_times[0].mean(), prediction_times[0].mean(), accuracies[0].mean(), f1s[0].mean(), recs[0].mean(), precs[0].mean(), rocs[0].mean()), ignore_index=True)\n",
    "\n",
    "gd_df_results['gd_X'] = X_train_bases[:,0]\n",
    "gd_df_results['gd_Y'] = X_train_bases[:,1]\n",
    "gd_df_results['gd_score'] = gd_clf.decision_function(X_train_bases)\n",
    "\n",
    "gd_df_results['gd_anomaly'] = gd_clf.predict(X_train_bases)\n",
    "\n",
    "new_array = [tuple(row) for row in X_test_bases]\n",
    "unique, idx, counts = np.unique(new_array, axis=0, return_index=True, return_counts=True)\n",
    "print(len(unique))\n",
    "unique"
   ],
   "metadata": {
    "collapsed": false,
    "pycharm": {
     "name": "#%%\n"
    }
   }
  },
  {
   "cell_type": "markdown",
   "source": [
    "## Isolation Forest - Bases - Extended"
   ],
   "metadata": {
    "collapsed": false,
    "pycharm": {
     "name": "#%% md\n"
    }
   }
  },
  {
   "cell_type": "code",
   "execution_count": 231,
   "outputs": [
    {
     "name": "stderr",
     "output_type": "stream",
     "text": [
      "/home/mlrosenquist/repos/scikit-learn/sklearn/ensemble/_iforest.py:419: FutureWarning: The frame.append method is deprecated and will be removed from pandas in a future version. Use pandas.concat instead.\n",
      "  self.df_unique_ = self.df_unique_.append(pd.DataFrame(unique), ignore_index=True)\n",
      "/home/mlrosenquist/repos/scikit-learn/sklearn/ensemble/_iforest.py:419: FutureWarning: The frame.append method is deprecated and will be removed from pandas in a future version. Use pandas.concat instead.\n",
      "  self.df_unique_ = self.df_unique_.append(pd.DataFrame(unique), ignore_index=True)\n",
      "/home/mlrosenquist/repos/scikit-learn/sklearn/ensemble/_iforest.py:419: FutureWarning: The frame.append method is deprecated and will be removed from pandas in a future version. Use pandas.concat instead.\n",
      "  self.df_unique_ = self.df_unique_.append(pd.DataFrame(unique), ignore_index=True)\n",
      "/home/mlrosenquist/repos/scikit-learn/sklearn/ensemble/_iforest.py:419: FutureWarning: The frame.append method is deprecated and will be removed from pandas in a future version. Use pandas.concat instead.\n",
      "  self.df_unique_ = self.df_unique_.append(pd.DataFrame(unique), ignore_index=True)\n",
      "/home/mlrosenquist/repos/scikit-learn/sklearn/ensemble/_iforest.py:419: FutureWarning: The frame.append method is deprecated and will be removed from pandas in a future version. Use pandas.concat instead.\n",
      "  self.df_unique_ = self.df_unique_.append(pd.DataFrame(unique), ignore_index=True)\n",
      "/home/mlrosenquist/repos/scikit-learn/sklearn/ensemble/_iforest.py:419: FutureWarning: The frame.append method is deprecated and will be removed from pandas in a future version. Use pandas.concat instead.\n",
      "  self.df_unique_ = self.df_unique_.append(pd.DataFrame(unique), ignore_index=True)\n",
      "/home/mlrosenquist/repos/scikit-learn/sklearn/ensemble/_iforest.py:419: FutureWarning: The frame.append method is deprecated and will be removed from pandas in a future version. Use pandas.concat instead.\n",
      "  self.df_unique_ = self.df_unique_.append(pd.DataFrame(unique), ignore_index=True)\n",
      "/home/mlrosenquist/repos/scikit-learn/sklearn/ensemble/_iforest.py:419: FutureWarning: The frame.append method is deprecated and will be removed from pandas in a future version. Use pandas.concat instead.\n",
      "  self.df_unique_ = self.df_unique_.append(pd.DataFrame(unique), ignore_index=True)\n",
      "/home/mlrosenquist/repos/scikit-learn/sklearn/ensemble/_iforest.py:419: FutureWarning: The frame.append method is deprecated and will be removed from pandas in a future version. Use pandas.concat instead.\n",
      "  self.df_unique_ = self.df_unique_.append(pd.DataFrame(unique), ignore_index=True)\n",
      "/home/mlrosenquist/repos/scikit-learn/sklearn/ensemble/_iforest.py:419: FutureWarning: The frame.append method is deprecated and will be removed from pandas in a future version. Use pandas.concat instead.\n",
      "  self.df_unique_ = self.df_unique_.append(pd.DataFrame(unique), ignore_index=True)\n",
      "/home/mlrosenquist/repos/scikit-learn/sklearn/ensemble/_iforest.py:419: FutureWarning: The frame.append method is deprecated and will be removed from pandas in a future version. Use pandas.concat instead.\n",
      "  self.df_unique_ = self.df_unique_.append(pd.DataFrame(unique), ignore_index=True)\n",
      "/home/mlrosenquist/repos/scikit-learn/sklearn/ensemble/_iforest.py:419: FutureWarning: The frame.append method is deprecated and will be removed from pandas in a future version. Use pandas.concat instead.\n",
      "  self.df_unique_ = self.df_unique_.append(pd.DataFrame(unique), ignore_index=True)\n",
      "/home/mlrosenquist/repos/scikit-learn/sklearn/ensemble/_iforest.py:419: FutureWarning: The frame.append method is deprecated and will be removed from pandas in a future version. Use pandas.concat instead.\n",
      "  self.df_unique_ = self.df_unique_.append(pd.DataFrame(unique), ignore_index=True)\n",
      "/home/mlrosenquist/repos/scikit-learn/sklearn/ensemble/_iforest.py:419: FutureWarning: The frame.append method is deprecated and will be removed from pandas in a future version. Use pandas.concat instead.\n",
      "  self.df_unique_ = self.df_unique_.append(pd.DataFrame(unique), ignore_index=True)\n",
      "/home/mlrosenquist/repos/scikit-learn/sklearn/ensemble/_iforest.py:419: FutureWarning: The frame.append method is deprecated and will be removed from pandas in a future version. Use pandas.concat instead.\n",
      "  self.df_unique_ = self.df_unique_.append(pd.DataFrame(unique), ignore_index=True)\n",
      "/home/mlrosenquist/repos/scikit-learn/sklearn/ensemble/_iforest.py:419: FutureWarning: The frame.append method is deprecated and will be removed from pandas in a future version. Use pandas.concat instead.\n",
      "  self.df_unique_ = self.df_unique_.append(pd.DataFrame(unique), ignore_index=True)\n",
      "/home/mlrosenquist/repos/scikit-learn/sklearn/ensemble/_iforest.py:419: FutureWarning: The frame.append method is deprecated and will be removed from pandas in a future version. Use pandas.concat instead.\n",
      "  self.df_unique_ = self.df_unique_.append(pd.DataFrame(unique), ignore_index=True)\n",
      "/home/mlrosenquist/repos/scikit-learn/sklearn/ensemble/_iforest.py:419: FutureWarning: The frame.append method is deprecated and will be removed from pandas in a future version. Use pandas.concat instead.\n",
      "  self.df_unique_ = self.df_unique_.append(pd.DataFrame(unique), ignore_index=True)\n",
      "/home/mlrosenquist/repos/scikit-learn/sklearn/ensemble/_iforest.py:419: FutureWarning: The frame.append method is deprecated and will be removed from pandas in a future version. Use pandas.concat instead.\n",
      "  self.df_unique_ = self.df_unique_.append(pd.DataFrame(unique), ignore_index=True)\n",
      "/home/mlrosenquist/repos/scikit-learn/sklearn/ensemble/_iforest.py:419: FutureWarning: The frame.append method is deprecated and will be removed from pandas in a future version. Use pandas.concat instead.\n",
      "  self.df_unique_ = self.df_unique_.append(pd.DataFrame(unique), ignore_index=True)\n",
      "/home/mlrosenquist/repos/scikit-learn/sklearn/ensemble/_iforest.py:419: FutureWarning: The frame.append method is deprecated and will be removed from pandas in a future version. Use pandas.concat instead.\n",
      "  self.df_unique_ = self.df_unique_.append(pd.DataFrame(unique), ignore_index=True)\n",
      "/home/mlrosenquist/repos/scikit-learn/sklearn/ensemble/_iforest.py:419: FutureWarning: The frame.append method is deprecated and will be removed from pandas in a future version. Use pandas.concat instead.\n",
      "  self.df_unique_ = self.df_unique_.append(pd.DataFrame(unique), ignore_index=True)\n",
      "/home/mlrosenquist/repos/scikit-learn/sklearn/ensemble/_iforest.py:419: FutureWarning: The frame.append method is deprecated and will be removed from pandas in a future version. Use pandas.concat instead.\n",
      "  self.df_unique_ = self.df_unique_.append(pd.DataFrame(unique), ignore_index=True)\n",
      "/home/mlrosenquist/repos/scikit-learn/sklearn/ensemble/_iforest.py:419: FutureWarning: The frame.append method is deprecated and will be removed from pandas in a future version. Use pandas.concat instead.\n",
      "  self.df_unique_ = self.df_unique_.append(pd.DataFrame(unique), ignore_index=True)\n",
      "/home/mlrosenquist/repos/scikit-learn/sklearn/ensemble/_iforest.py:419: FutureWarning: The frame.append method is deprecated and will be removed from pandas in a future version. Use pandas.concat instead.\n",
      "  self.df_unique_ = self.df_unique_.append(pd.DataFrame(unique), ignore_index=True)\n",
      "/home/mlrosenquist/repos/scikit-learn/sklearn/ensemble/_iforest.py:419: FutureWarning: The frame.append method is deprecated and will be removed from pandas in a future version. Use pandas.concat instead.\n",
      "  self.df_unique_ = self.df_unique_.append(pd.DataFrame(unique), ignore_index=True)\n",
      "/home/mlrosenquist/repos/scikit-learn/sklearn/ensemble/_iforest.py:419: FutureWarning: The frame.append method is deprecated and will be removed from pandas in a future version. Use pandas.concat instead.\n",
      "  self.df_unique_ = self.df_unique_.append(pd.DataFrame(unique), ignore_index=True)\n",
      "/home/mlrosenquist/repos/scikit-learn/sklearn/ensemble/_iforest.py:419: FutureWarning: The frame.append method is deprecated and will be removed from pandas in a future version. Use pandas.concat instead.\n",
      "  self.df_unique_ = self.df_unique_.append(pd.DataFrame(unique), ignore_index=True)\n",
      "/home/mlrosenquist/repos/scikit-learn/sklearn/ensemble/_iforest.py:419: FutureWarning: The frame.append method is deprecated and will be removed from pandas in a future version. Use pandas.concat instead.\n",
      "  self.df_unique_ = self.df_unique_.append(pd.DataFrame(unique), ignore_index=True)\n",
      "/home/mlrosenquist/repos/scikit-learn/sklearn/ensemble/_iforest.py:419: FutureWarning: The frame.append method is deprecated and will be removed from pandas in a future version. Use pandas.concat instead.\n",
      "  self.df_unique_ = self.df_unique_.append(pd.DataFrame(unique), ignore_index=True)\n",
      "/home/mlrosenquist/repos/scikit-learn/sklearn/ensemble/_iforest.py:419: FutureWarning: The frame.append method is deprecated and will be removed from pandas in a future version. Use pandas.concat instead.\n",
      "  self.df_unique_ = self.df_unique_.append(pd.DataFrame(unique), ignore_index=True)\n",
      "/home/mlrosenquist/repos/scikit-learn/sklearn/ensemble/_iforest.py:419: FutureWarning: The frame.append method is deprecated and will be removed from pandas in a future version. Use pandas.concat instead.\n",
      "  self.df_unique_ = self.df_unique_.append(pd.DataFrame(unique), ignore_index=True)\n",
      "/home/mlrosenquist/repos/scikit-learn/sklearn/ensemble/_iforest.py:419: FutureWarning: The frame.append method is deprecated and will be removed from pandas in a future version. Use pandas.concat instead.\n",
      "  self.df_unique_ = self.df_unique_.append(pd.DataFrame(unique), ignore_index=True)\n",
      "/home/mlrosenquist/repos/scikit-learn/sklearn/ensemble/_iforest.py:419: FutureWarning: The frame.append method is deprecated and will be removed from pandas in a future version. Use pandas.concat instead.\n",
      "  self.df_unique_ = self.df_unique_.append(pd.DataFrame(unique), ignore_index=True)\n",
      "/home/mlrosenquist/repos/scikit-learn/sklearn/ensemble/_iforest.py:419: FutureWarning: The frame.append method is deprecated and will be removed from pandas in a future version. Use pandas.concat instead.\n",
      "  self.df_unique_ = self.df_unique_.append(pd.DataFrame(unique), ignore_index=True)\n",
      "/home/mlrosenquist/repos/scikit-learn/sklearn/ensemble/_iforest.py:419: FutureWarning: The frame.append method is deprecated and will be removed from pandas in a future version. Use pandas.concat instead.\n",
      "  self.df_unique_ = self.df_unique_.append(pd.DataFrame(unique), ignore_index=True)\n",
      "/home/mlrosenquist/repos/scikit-learn/sklearn/ensemble/_iforest.py:419: FutureWarning: The frame.append method is deprecated and will be removed from pandas in a future version. Use pandas.concat instead.\n",
      "  self.df_unique_ = self.df_unique_.append(pd.DataFrame(unique), ignore_index=True)\n",
      "/home/mlrosenquist/repos/scikit-learn/sklearn/ensemble/_iforest.py:419: FutureWarning: The frame.append method is deprecated and will be removed from pandas in a future version. Use pandas.concat instead.\n",
      "  self.df_unique_ = self.df_unique_.append(pd.DataFrame(unique), ignore_index=True)\n",
      "/home/mlrosenquist/repos/scikit-learn/sklearn/ensemble/_iforest.py:419: FutureWarning: The frame.append method is deprecated and will be removed from pandas in a future version. Use pandas.concat instead.\n",
      "  self.df_unique_ = self.df_unique_.append(pd.DataFrame(unique), ignore_index=True)\n",
      "/home/mlrosenquist/repos/scikit-learn/sklearn/ensemble/_iforest.py:419: FutureWarning: The frame.append method is deprecated and will be removed from pandas in a future version. Use pandas.concat instead.\n",
      "  self.df_unique_ = self.df_unique_.append(pd.DataFrame(unique), ignore_index=True)\n",
      "/home/mlrosenquist/repos/scikit-learn/sklearn/ensemble/_iforest.py:419: FutureWarning: The frame.append method is deprecated and will be removed from pandas in a future version. Use pandas.concat instead.\n",
      "  self.df_unique_ = self.df_unique_.append(pd.DataFrame(unique), ignore_index=True)\n",
      "/home/mlrosenquist/repos/scikit-learn/sklearn/ensemble/_iforest.py:419: FutureWarning: The frame.append method is deprecated and will be removed from pandas in a future version. Use pandas.concat instead.\n",
      "  self.df_unique_ = self.df_unique_.append(pd.DataFrame(unique), ignore_index=True)\n",
      "/home/mlrosenquist/repos/scikit-learn/sklearn/ensemble/_iforest.py:419: FutureWarning: The frame.append method is deprecated and will be removed from pandas in a future version. Use pandas.concat instead.\n",
      "  self.df_unique_ = self.df_unique_.append(pd.DataFrame(unique), ignore_index=True)\n",
      "/home/mlrosenquist/repos/scikit-learn/sklearn/ensemble/_iforest.py:419: FutureWarning: The frame.append method is deprecated and will be removed from pandas in a future version. Use pandas.concat instead.\n",
      "  self.df_unique_ = self.df_unique_.append(pd.DataFrame(unique), ignore_index=True)\n",
      "/home/mlrosenquist/repos/scikit-learn/sklearn/ensemble/_iforest.py:419: FutureWarning: The frame.append method is deprecated and will be removed from pandas in a future version. Use pandas.concat instead.\n",
      "  self.df_unique_ = self.df_unique_.append(pd.DataFrame(unique), ignore_index=True)\n",
      "/home/mlrosenquist/repos/scikit-learn/sklearn/ensemble/_iforest.py:419: FutureWarning: The frame.append method is deprecated and will be removed from pandas in a future version. Use pandas.concat instead.\n",
      "  self.df_unique_ = self.df_unique_.append(pd.DataFrame(unique), ignore_index=True)\n",
      "/home/mlrosenquist/repos/scikit-learn/sklearn/ensemble/_iforest.py:419: FutureWarning: The frame.append method is deprecated and will be removed from pandas in a future version. Use pandas.concat instead.\n",
      "  self.df_unique_ = self.df_unique_.append(pd.DataFrame(unique), ignore_index=True)\n",
      "/home/mlrosenquist/repos/scikit-learn/sklearn/ensemble/_iforest.py:419: FutureWarning: The frame.append method is deprecated and will be removed from pandas in a future version. Use pandas.concat instead.\n",
      "  self.df_unique_ = self.df_unique_.append(pd.DataFrame(unique), ignore_index=True)\n",
      "/home/mlrosenquist/repos/scikit-learn/sklearn/ensemble/_iforest.py:419: FutureWarning: The frame.append method is deprecated and will be removed from pandas in a future version. Use pandas.concat instead.\n",
      "  self.df_unique_ = self.df_unique_.append(pd.DataFrame(unique), ignore_index=True)\n",
      "/home/mlrosenquist/repos/scikit-learn/sklearn/ensemble/_iforest.py:419: FutureWarning: The frame.append method is deprecated and will be removed from pandas in a future version. Use pandas.concat instead.\n",
      "  self.df_unique_ = self.df_unique_.append(pd.DataFrame(unique), ignore_index=True)\n",
      "/tmp/ipykernel_52087/763266271.py:43: FutureWarning: The frame.append method is deprecated and will be removed from pandas in a future version. Use pandas.concat instead.\n",
      "  performance = performance.append(create_performance_object('Isolation Forest Bases - extended', DEVIATION_BITS, y_pred_train, y_pred_test, training_times[0].mean(), prediction_times[0].mean(), accuracies[0].mean(), f1s[0].mean(), recs[0].mean(), precs[0].mean(), rocs[0].mean()), ignore_index=True)\n"
     ]
    },
    {
     "data": {
      "text/plain": "array([ 0.17911051,  0.17911051,  0.17911051,  0.17911051,  0.17162237,\n        0.16581574,  0.16581574,  0.16581574,  0.16581574, -0.24159597,\n        0.16581574,  0.17911051,  0.17162237,  0.16581574,  0.16581574,\n        0.16581574,  0.17162237,  0.17162237,  0.16581574,  0.17162237,\n        0.16581574,  0.17911051,  0.16581574,  0.17162237,  0.16581574,\n        0.17162237,  0.17162237,  0.16581574,  0.16581574,  0.17911051,\n        0.17911051,  0.17911051,  0.16581574,  0.17162237,  0.16581574,\n        0.16581574,  0.17911051,  0.16581574,  0.17911051,  0.16581574,\n        0.16581574,  0.17911051,  0.17162237,  0.16581574,  0.16581574,\n        0.16581574,  0.16581574,  0.17162237,  0.17162237,  0.17162237,\n        0.17162237,  0.16581574,  0.17911051,  0.17162237,  0.17162237,\n        0.17162237,  0.16581574,  0.16581574,  0.17162237,  0.17911051,\n        0.17911051,  0.17911051,  0.16581574,  0.17162237,  0.17911051,\n        0.16581574,  0.17162237,  0.17911051,  0.17162237,  0.17911051,\n        0.16581574,  0.17162237,  0.17911051,  0.17162237, -0.24159597,\n        0.17162237,  0.16581574,  0.17162237,  0.17162237,  0.16581574,\n        0.17162237,  0.17162237,  0.16581574,  0.17162237,  0.16581574,\n        0.17162237,  0.17911051,  0.17911051,  0.17162237,  0.17911051,\n        0.17162237,  0.17911051,  0.17162237,  0.16581574])"
     },
     "execution_count": 231,
     "metadata": {},
     "output_type": "execute_result"
    }
   ],
   "source": [
    "training_times = []\n",
    "prediction_times = []\n",
    "accuracies = []\n",
    "f1s = []\n",
    "recs = []\n",
    "rocs = []\n",
    "precs = []\n",
    "\n",
    "for i in range(0, time_no_iterations):\n",
    "    gd_ext_clf = IsolationForest()\n",
    "    start_time = time.time()\n",
    "    gd_ext_clf.fit_extended(X_train_bases)\n",
    "    end_time = time.time()\n",
    "    training_time = end_time - start_time\n",
    "    training_times.append(training_time)\n",
    "\n",
    "    start_time = time.time()\n",
    "    y_pred_train = gd_ext_clf.predict_extended(X_train_bases)\n",
    "    y_pred_test = gd_ext_clf.predict_extended(X_test_bases)\n",
    "    end_time = time.time()\n",
    "    prediction_time = end_time - start_time\n",
    "    prediction_times.append(prediction_time)\n",
    "\n",
    "    accuracies.append(accuracy_score(y_test, y_pred_test))\n",
    "    f1s.append(f1_score(y_test, y_pred_test))\n",
    "    recs.append(recall_score(y_test, y_pred_test))\n",
    "    rocs.append(roc_auc_score(y_test, y_pred_test))\n",
    "    precs.append(precision_score(y_test, y_pred_test))\n",
    "\n",
    "training_times = pd.DataFrame(training_times)\n",
    "prediction_times = pd.DataFrame(prediction_times)\n",
    "accuracies = pd.DataFrame(accuracies)\n",
    "f1s = pd.DataFrame(f1s)\n",
    "recs = pd.DataFrame(recs)\n",
    "rocs = pd.DataFrame(rocs)\n",
    "precs = pd.DataFrame(precs)\n",
    "\n",
    "training_times = training_times.drop(training_times.nsmallest(time_no_outliers_removed, 0).index).drop(training_times.nlargest(time_no_outliers_removed, 0).index)\n",
    "prediction_times = prediction_times.drop(prediction_times.nsmallest(time_no_outliers_removed, 0).index).drop(prediction_times.nlargest(time_no_outliers_removed, 0).index)\n",
    "\n",
    "\n",
    "\n",
    "performance = performance.append(create_performance_object('Isolation Forest Bases - extended', DEVIATION_BITS, y_pred_train, y_pred_test, training_times[0].mean(), prediction_times[0].mean(), accuracies[0].mean(), f1s[0].mean(), recs[0].mean(), precs[0].mean(), rocs[0].mean()), ignore_index=True)\n",
    "\n",
    "gd_ext_df_results['gd_X'] = X_train_bases[:,0]\n",
    "gd_ext_df_results['gd_Y'] = X_train_bases[:,1]\n",
    "gd_ext_df_results['gd_score'] = gd_ext_clf.decision_function_extended(X_train_bases)\n",
    "gd_ext_df_results['gd_anomaly'] = y_pred_train\n",
    "gd_ext_clf.decision_function_extended(X_test_bases)"
   ],
   "metadata": {
    "collapsed": false,
    "pycharm": {
     "name": "#%%\n"
    }
   }
  },
  {
   "cell_type": "markdown",
   "source": [
    "## Isolation Forest Original Data"
   ],
   "metadata": {
    "collapsed": false,
    "pycharm": {
     "name": "#%% md\n"
    }
   }
  },
  {
   "cell_type": "markdown",
   "source": [],
   "metadata": {
    "collapsed": false,
    "pycharm": {
     "name": "#%% md\n"
    }
   }
  },
  {
   "cell_type": "code",
   "execution_count": 232,
   "outputs": [
    {
     "name": "stderr",
     "output_type": "stream",
     "text": [
      "/tmp/ipykernel_52087/1822693257.py:41: FutureWarning: The frame.append method is deprecated and will be removed from pandas in a future version. Use pandas.concat instead.\n",
      "  performance = performance.append(create_performance_object('Isolation Forest Original', DEVIATION_BITS, y_pred_train, y_pred_test, training_times[0].mean(), prediction_times[0].mean(), accuracies[0].mean(), f1s[0].mean(), recs[0].mean(), precs[0].mean(), rocs[0].mean()), ignore_index=True)\n"
     ]
    },
    {
     "data": {
      "text/plain": "   org_X  org_Y  org_score  org_anomaly\n0     51     99   0.079836            1\n1     98    100   0.078271            1\n2     59     51   0.039190            1\n3     60     48   0.072751            1\n4     60     51   0.062956            1",
      "text/html": "<div>\n<style scoped>\n    .dataframe tbody tr th:only-of-type {\n        vertical-align: middle;\n    }\n\n    .dataframe tbody tr th {\n        vertical-align: top;\n    }\n\n    .dataframe thead th {\n        text-align: right;\n    }\n</style>\n<table border=\"1\" class=\"dataframe\">\n  <thead>\n    <tr style=\"text-align: right;\">\n      <th></th>\n      <th>org_X</th>\n      <th>org_Y</th>\n      <th>org_score</th>\n      <th>org_anomaly</th>\n    </tr>\n  </thead>\n  <tbody>\n    <tr>\n      <th>0</th>\n      <td>51</td>\n      <td>99</td>\n      <td>0.079836</td>\n      <td>1</td>\n    </tr>\n    <tr>\n      <th>1</th>\n      <td>98</td>\n      <td>100</td>\n      <td>0.078271</td>\n      <td>1</td>\n    </tr>\n    <tr>\n      <th>2</th>\n      <td>59</td>\n      <td>51</td>\n      <td>0.039190</td>\n      <td>1</td>\n    </tr>\n    <tr>\n      <th>3</th>\n      <td>60</td>\n      <td>48</td>\n      <td>0.072751</td>\n      <td>1</td>\n    </tr>\n    <tr>\n      <th>4</th>\n      <td>60</td>\n      <td>51</td>\n      <td>0.062956</td>\n      <td>1</td>\n    </tr>\n  </tbody>\n</table>\n</div>"
     },
     "execution_count": 232,
     "metadata": {},
     "output_type": "execute_result"
    }
   ],
   "source": [
    "training_times = []\n",
    "prediction_times = []\n",
    "accuracies = []\n",
    "f1s = []\n",
    "recs = []\n",
    "rocs = []\n",
    "precs = []\n",
    "for i in range(0, time_no_iterations):\n",
    "    org_clf = IsolationForest()\n",
    "    start_time = time.time()\n",
    "    org_clf.fit(X_train)\n",
    "    end_time = time.time()\n",
    "    training_time = end_time - start_time\n",
    "    training_times.append(training_time)\n",
    "\n",
    "    start_time = time.time()\n",
    "    y_pred_train = org_clf.predict(X_train)\n",
    "    y_pred_test = org_clf.predict(X_test)\n",
    "    y_pred_outliers = org_clf.predict(X_outliers)\n",
    "    end_time = time.time()\n",
    "    prediction_time = end_time - start_time\n",
    "    prediction_times.append(prediction_time)\n",
    "\n",
    "    accuracies.append(accuracy_score(y_test, y_pred_test))\n",
    "    f1s.append(f1_score(y_test, y_pred_test))\n",
    "    recs.append(recall_score(y_test, y_pred_test))\n",
    "    rocs.append(roc_auc_score(y_test, y_pred_test))\n",
    "    precs.append(precision_score(y_test, y_pred_test))\n",
    "\n",
    "training_times = pd.DataFrame(training_times)\n",
    "prediction_times = pd.DataFrame(prediction_times)\n",
    "accuracies = pd.DataFrame(accuracies)\n",
    "f1s = pd.DataFrame(f1s)\n",
    "recs = pd.DataFrame(recs)\n",
    "rocs = pd.DataFrame(rocs)\n",
    "precs = pd.DataFrame(precs)\n",
    "\n",
    "training_times = training_times.drop(training_times.nsmallest(time_no_outliers_removed, 0).index).drop(training_times.nlargest(time_no_outliers_removed, 0).index)\n",
    "prediction_times = prediction_times.drop(prediction_times.nsmallest(time_no_outliers_removed, 0).index).drop(prediction_times.nlargest(time_no_outliers_removed, 0).index)\n",
    "\n",
    "performance = performance.append(create_performance_object('Isolation Forest Original', DEVIATION_BITS, y_pred_train, y_pred_test, training_times[0].mean(), prediction_times[0].mean(), accuracies[0].mean(), f1s[0].mean(), recs[0].mean(), precs[0].mean(), rocs[0].mean()), ignore_index=True)\n",
    "\n",
    "org_df_results['org_X'] = X_train[:,0]\n",
    "org_df_results['org_Y'] = X_train[:,1]\n",
    "org_df_results['org_score'] = org_clf.decision_function(X_train)\n",
    "org_df_results['org_anomaly'] = org_clf.predict(X_train)\n",
    "org_df_results.head()"
   ],
   "metadata": {
    "collapsed": false,
    "pycharm": {
     "name": "#%%\n"
    }
   }
  },
  {
   "cell_type": "markdown",
   "source": [
    "# Calculations"
   ],
   "metadata": {
    "collapsed": false,
    "pycharm": {
     "name": "#%% md\n"
    }
   }
  },
  {
   "cell_type": "markdown",
   "source": [
    "## Memory Calculation"
   ],
   "metadata": {
    "collapsed": false
   }
  },
  {
   "cell_type": "code",
   "execution_count": 233,
   "outputs": [
    {
     "name": "stdout",
     "output_type": "stream",
     "text": [
      "Amount Train Uniques: 4\n",
      "Amount Test Samples: 94\n",
      "Amount Test Uniques: 4\n",
      "Uncompressed bits: 8 * 2 * 94 =  1504\n",
      "Lossy compression bits: 2 * 2 * 4 =  16 \n",
      "Lossy Compression rate: uncompressed bits /lossy bits = 0.010638297872340425\n",
      "Unique count table size: 3 * 2 * 4  = 6.0\n"
     ]
    }
   ],
   "source": [
    "\n",
    "test_unique, test_idx, test_counts = np.unique([tuple(row) for row in X_test_bases], axis=0, return_index=True, return_counts=True)\n",
    "train_unique, train_idx, train_counts = np.unique([tuple(row) for row in X_train_bases], axis=0, return_index=True, return_counts=True)\n",
    "\n",
    "print(f\"Amount Train Uniques: {len(train_unique)}\" )\n",
    "print(f\"Amount Test Samples: {len(X_test_bases)}\")\n",
    "print(f\"Amount Test Uniques: {len(test_unique)}\" )\n",
    "\n",
    "uncompressed_bits = 8*2*len(X_test_bases)\n",
    "lossy_bits = (8-DEVIATION_BITS)*2*len(test_unique)\n",
    "print(f\"Uncompressed bits: {8} * {2} * {len(X_test_bases)} =  {uncompressed_bits}\")\n",
    "print(f\"Lossy compression bits: {8-DEVIATION_BITS} * {2} * {len(test_unique)} =  {lossy_bits} \")\n",
    "print(f\"Lossy Compression rate: uncompressed bits /lossy bits = {lossy_bits/uncompressed_bits}\")\n",
    "count_table_bytes = ((2 * (8-DEVIATION_BITS) * len(train_unique)) + (8 * len(train_unique)))  / 8\n",
    "print(f\"Unique count table size: {3} * {8-DEVIATION_BITS} * {len(train_unique)}  = {count_table_bytes}\")"
   ],
   "metadata": {
    "collapsed": false,
    "pycharm": {
     "name": "#%%\n"
    }
   }
  },
  {
   "cell_type": "markdown",
   "source": [
    "### Count amount of base occurences"
   ],
   "metadata": {
    "collapsed": false,
    "pycharm": {
     "name": "#%% md\n"
    }
   }
  },
  {
   "cell_type": "code",
   "execution_count": 234,
   "outputs": [
    {
     "data": {
      "text/plain": "   gd_X  gd_Y  gd_counts  gd_org_idx\n0     0     0        114           2\n1     0    64        136           0\n2    64     0          3          53\n3    64    64        123           1",
      "text/html": "<div>\n<style scoped>\n    .dataframe tbody tr th:only-of-type {\n        vertical-align: middle;\n    }\n\n    .dataframe tbody tr th {\n        vertical-align: top;\n    }\n\n    .dataframe thead th {\n        text-align: right;\n    }\n</style>\n<table border=\"1\" class=\"dataframe\">\n  <thead>\n    <tr style=\"text-align: right;\">\n      <th></th>\n      <th>gd_X</th>\n      <th>gd_Y</th>\n      <th>gd_counts</th>\n      <th>gd_org_idx</th>\n    </tr>\n  </thead>\n  <tbody>\n    <tr>\n      <th>0</th>\n      <td>0</td>\n      <td>0</td>\n      <td>114</td>\n      <td>2</td>\n    </tr>\n    <tr>\n      <th>1</th>\n      <td>0</td>\n      <td>64</td>\n      <td>136</td>\n      <td>0</td>\n    </tr>\n    <tr>\n      <th>2</th>\n      <td>64</td>\n      <td>0</td>\n      <td>3</td>\n      <td>53</td>\n    </tr>\n    <tr>\n      <th>3</th>\n      <td>64</td>\n      <td>64</td>\n      <td>123</td>\n      <td>1</td>\n    </tr>\n  </tbody>\n</table>\n</div>"
     },
     "execution_count": 234,
     "metadata": {},
     "output_type": "execute_result"
    }
   ],
   "source": [
    "array = X_train_bases\n",
    "new_array = [tuple(row) for row in array]\n",
    "unique, idx, counts = np.unique(new_array, axis=0, return_index=True, return_counts=True)\n",
    "\n",
    "df_unique = pd.DataFrame()\n",
    "df_unique['gd_X'] = unique[:,0]\n",
    "df_unique['gd_Y'] = unique[:,1]\n",
    "df_unique['gd_counts'] = counts\n",
    "df_unique['gd_org_idx'] = idx\n",
    "df_unique.head()"
   ],
   "metadata": {
    "collapsed": false,
    "pycharm": {
     "name": "#%%\n"
    }
   }
  },
  {
   "cell_type": "markdown",
   "source": [
    "### Prepare data for calculation"
   ],
   "metadata": {
    "collapsed": false,
    "pycharm": {
     "name": "#%% md\n"
    }
   }
  },
  {
   "cell_type": "code",
   "execution_count": 235,
   "outputs": [
    {
     "data": {
      "text/plain": "     org_X  gd_X  org_Y  gd_Y  org_score  gd_score  gd_ext_score  \\\n0       51     0     99    64   0.079836 -0.000507      0.179111   \n1       98    64    100    64   0.078271 -0.009387      0.171622   \n2       59     0     51     0   0.039190 -0.015034      0.165816   \n3       60     0     48     0   0.072751 -0.015034      0.165816   \n4       60     0     51     0   0.062956 -0.015034      0.165816   \n..     ...   ...    ...   ...        ...       ...           ...   \n371     60     0     49     0   0.081860 -0.015034      0.165816   \n372     60     0     49     0   0.081860 -0.015034      0.165816   \n373     57     0     55     0  -0.079327 -0.015034      0.165816   \n374    100    64    102    64   0.048568 -0.009387      0.171622   \n375    100    64     97    64   0.011522 -0.009387      0.171622   \n\n     org_score_converted  gd_score_converted  gd_ext_score_converted  \\\n0               0.420164            0.500507                0.320889   \n1               0.421729            0.509387                0.328378   \n2               0.460810            0.515034                0.334184   \n3               0.427249            0.515034                0.334184   \n4               0.437044            0.515034                0.334184   \n..                   ...                 ...                     ...   \n371             0.418140            0.515034                0.334184   \n372             0.418140            0.515034                0.334184   \n373             0.579327            0.515034                0.334184   \n374             0.451432            0.509387                0.328378   \n375             0.488478            0.509387                0.328378   \n\n     org_anomaly  gd_anomaly  \n0              1          -1  \n1              1          -1  \n2              1          -1  \n3              1          -1  \n4              1          -1  \n..           ...         ...  \n371            1          -1  \n372            1          -1  \n373           -1          -1  \n374            1          -1  \n375            1          -1  \n\n[376 rows x 12 columns]",
      "text/html": "<div>\n<style scoped>\n    .dataframe tbody tr th:only-of-type {\n        vertical-align: middle;\n    }\n\n    .dataframe tbody tr th {\n        vertical-align: top;\n    }\n\n    .dataframe thead th {\n        text-align: right;\n    }\n</style>\n<table border=\"1\" class=\"dataframe\">\n  <thead>\n    <tr style=\"text-align: right;\">\n      <th></th>\n      <th>org_X</th>\n      <th>gd_X</th>\n      <th>org_Y</th>\n      <th>gd_Y</th>\n      <th>org_score</th>\n      <th>gd_score</th>\n      <th>gd_ext_score</th>\n      <th>org_score_converted</th>\n      <th>gd_score_converted</th>\n      <th>gd_ext_score_converted</th>\n      <th>org_anomaly</th>\n      <th>gd_anomaly</th>\n    </tr>\n  </thead>\n  <tbody>\n    <tr>\n      <th>0</th>\n      <td>51</td>\n      <td>0</td>\n      <td>99</td>\n      <td>64</td>\n      <td>0.079836</td>\n      <td>-0.000507</td>\n      <td>0.179111</td>\n      <td>0.420164</td>\n      <td>0.500507</td>\n      <td>0.320889</td>\n      <td>1</td>\n      <td>-1</td>\n    </tr>\n    <tr>\n      <th>1</th>\n      <td>98</td>\n      <td>64</td>\n      <td>100</td>\n      <td>64</td>\n      <td>0.078271</td>\n      <td>-0.009387</td>\n      <td>0.171622</td>\n      <td>0.421729</td>\n      <td>0.509387</td>\n      <td>0.328378</td>\n      <td>1</td>\n      <td>-1</td>\n    </tr>\n    <tr>\n      <th>2</th>\n      <td>59</td>\n      <td>0</td>\n      <td>51</td>\n      <td>0</td>\n      <td>0.039190</td>\n      <td>-0.015034</td>\n      <td>0.165816</td>\n      <td>0.460810</td>\n      <td>0.515034</td>\n      <td>0.334184</td>\n      <td>1</td>\n      <td>-1</td>\n    </tr>\n    <tr>\n      <th>3</th>\n      <td>60</td>\n      <td>0</td>\n      <td>48</td>\n      <td>0</td>\n      <td>0.072751</td>\n      <td>-0.015034</td>\n      <td>0.165816</td>\n      <td>0.427249</td>\n      <td>0.515034</td>\n      <td>0.334184</td>\n      <td>1</td>\n      <td>-1</td>\n    </tr>\n    <tr>\n      <th>4</th>\n      <td>60</td>\n      <td>0</td>\n      <td>51</td>\n      <td>0</td>\n      <td>0.062956</td>\n      <td>-0.015034</td>\n      <td>0.165816</td>\n      <td>0.437044</td>\n      <td>0.515034</td>\n      <td>0.334184</td>\n      <td>1</td>\n      <td>-1</td>\n    </tr>\n    <tr>\n      <th>...</th>\n      <td>...</td>\n      <td>...</td>\n      <td>...</td>\n      <td>...</td>\n      <td>...</td>\n      <td>...</td>\n      <td>...</td>\n      <td>...</td>\n      <td>...</td>\n      <td>...</td>\n      <td>...</td>\n      <td>...</td>\n    </tr>\n    <tr>\n      <th>371</th>\n      <td>60</td>\n      <td>0</td>\n      <td>49</td>\n      <td>0</td>\n      <td>0.081860</td>\n      <td>-0.015034</td>\n      <td>0.165816</td>\n      <td>0.418140</td>\n      <td>0.515034</td>\n      <td>0.334184</td>\n      <td>1</td>\n      <td>-1</td>\n    </tr>\n    <tr>\n      <th>372</th>\n      <td>60</td>\n      <td>0</td>\n      <td>49</td>\n      <td>0</td>\n      <td>0.081860</td>\n      <td>-0.015034</td>\n      <td>0.165816</td>\n      <td>0.418140</td>\n      <td>0.515034</td>\n      <td>0.334184</td>\n      <td>1</td>\n      <td>-1</td>\n    </tr>\n    <tr>\n      <th>373</th>\n      <td>57</td>\n      <td>0</td>\n      <td>55</td>\n      <td>0</td>\n      <td>-0.079327</td>\n      <td>-0.015034</td>\n      <td>0.165816</td>\n      <td>0.579327</td>\n      <td>0.515034</td>\n      <td>0.334184</td>\n      <td>-1</td>\n      <td>-1</td>\n    </tr>\n    <tr>\n      <th>374</th>\n      <td>100</td>\n      <td>64</td>\n      <td>102</td>\n      <td>64</td>\n      <td>0.048568</td>\n      <td>-0.009387</td>\n      <td>0.171622</td>\n      <td>0.451432</td>\n      <td>0.509387</td>\n      <td>0.328378</td>\n      <td>1</td>\n      <td>-1</td>\n    </tr>\n    <tr>\n      <th>375</th>\n      <td>100</td>\n      <td>64</td>\n      <td>97</td>\n      <td>64</td>\n      <td>0.011522</td>\n      <td>-0.009387</td>\n      <td>0.171622</td>\n      <td>0.488478</td>\n      <td>0.509387</td>\n      <td>0.328378</td>\n      <td>1</td>\n      <td>-1</td>\n    </tr>\n  </tbody>\n</table>\n<p>376 rows × 12 columns</p>\n</div>"
     },
     "execution_count": 235,
     "metadata": {},
     "output_type": "execute_result"
    }
   ],
   "source": [
    "# Merge gd results and original results in single dataframe\n",
    "df_results = pd.DataFrame()\n",
    "df_results['org_X'] = org_df_results['org_X']\n",
    "df_results['gd_X'] = gd_df_results['gd_X']\n",
    "df_results['org_Y'] = org_df_results['org_Y']\n",
    "df_results['gd_Y'] = gd_df_results['gd_Y']\n",
    "df_results['org_score'] = org_df_results['org_score']\n",
    "df_results['gd_score'] = gd_df_results['gd_score']\n",
    "df_results['gd_ext_score'] = gd_ext_df_results['gd_score']\n",
    "df_results['org_score_converted'] = df_results['org_score'].sub(0.5).mul(-1) # Convert sklearn score range to paper score range [-0.5;0.5] -> [0;1]\n",
    "df_results['gd_score_converted'] = df_results['gd_score'].sub(0.5).mul(-1) # Convert sklearn score range to paper score range [-0.5;0.5] -> [0;1]\n",
    "df_results['gd_ext_score_converted'] = gd_ext_df_results['gd_score'].sub(0.5).mul(-1)\n",
    "df_results['org_anomaly'] = org_df_results['org_anomaly']\n",
    "df_results['gd_anomaly'] = gd_df_results['gd_anomaly']\n",
    "\n",
    "df_results"
   ],
   "metadata": {
    "collapsed": false,
    "pycharm": {
     "name": "#%%\n"
    }
   }
  },
  {
   "cell_type": "code",
   "execution_count": 236,
   "outputs": [
    {
     "data": {
      "text/plain": "   gd_X  gd_Y  gd_counts  gd_org_idx  gd_anomaly  gd_score  gd_score_converted\n0     0     0        114           2        -1.0 -0.015034            0.515034\n1     0    64        136           0        -1.0 -0.000507            0.500507\n2    64     0          3          53        -1.0 -0.300745            0.800745\n3    64    64        123           1        -1.0 -0.009387            0.509387",
      "text/html": "<div>\n<style scoped>\n    .dataframe tbody tr th:only-of-type {\n        vertical-align: middle;\n    }\n\n    .dataframe tbody tr th {\n        vertical-align: top;\n    }\n\n    .dataframe thead th {\n        text-align: right;\n    }\n</style>\n<table border=\"1\" class=\"dataframe\">\n  <thead>\n    <tr style=\"text-align: right;\">\n      <th></th>\n      <th>gd_X</th>\n      <th>gd_Y</th>\n      <th>gd_counts</th>\n      <th>gd_org_idx</th>\n      <th>gd_anomaly</th>\n      <th>gd_score</th>\n      <th>gd_score_converted</th>\n    </tr>\n  </thead>\n  <tbody>\n    <tr>\n      <th>0</th>\n      <td>0</td>\n      <td>0</td>\n      <td>114</td>\n      <td>2</td>\n      <td>-1.0</td>\n      <td>-0.015034</td>\n      <td>0.515034</td>\n    </tr>\n    <tr>\n      <th>1</th>\n      <td>0</td>\n      <td>64</td>\n      <td>136</td>\n      <td>0</td>\n      <td>-1.0</td>\n      <td>-0.000507</td>\n      <td>0.500507</td>\n    </tr>\n    <tr>\n      <th>2</th>\n      <td>64</td>\n      <td>0</td>\n      <td>3</td>\n      <td>53</td>\n      <td>-1.0</td>\n      <td>-0.300745</td>\n      <td>0.800745</td>\n    </tr>\n    <tr>\n      <th>3</th>\n      <td>64</td>\n      <td>64</td>\n      <td>123</td>\n      <td>1</td>\n      <td>-1.0</td>\n      <td>-0.009387</td>\n      <td>0.509387</td>\n    </tr>\n  </tbody>\n</table>\n</div>"
     },
     "execution_count": 236,
     "metadata": {},
     "output_type": "execute_result"
    }
   ],
   "source": [
    "\n",
    "# Add score and anomaly to df_uniques\n",
    "scores = []\n",
    "scores_converted = []\n",
    "anomaly = []\n",
    "for index, row in df_unique.iterrows():\n",
    "    result = df_results[(df_results.gd_X == row.gd_X) & (df_results.gd_Y == row.gd_Y)].iloc[0]\n",
    "    scores.append(result.gd_score)\n",
    "    scores_converted.append(result.gd_score_converted)\n",
    "    anomaly.append(result.gd_anomaly)\n",
    "\n",
    "df_unique['gd_anomaly'] = anomaly\n",
    "df_unique['gd_score'] = scores\n",
    "df_unique['gd_score_converted'] = scores_converted\n",
    "\n",
    "# Define constants\n",
    "n_samples = len(df_results)\n",
    "n_uniques = len(df_unique)\n",
    "df_unique.head()"
   ],
   "metadata": {
    "collapsed": false,
    "pycharm": {
     "name": "#%%\n"
    }
   }
  },
  {
   "cell_type": "markdown",
   "source": [
    "### Perform calculation"
   ],
   "metadata": {
    "collapsed": false,
    "pycharm": {
     "name": "#%% md\n"
    }
   }
  },
  {
   "cell_type": "code",
   "execution_count": 237,
   "outputs": [],
   "source": [
    "def H(i):\n",
    "    return np.log(i) + 0.5772156649 # euler's constant\n",
    "\n",
    "def c(n):\n",
    "    return 2*H(n-1) - ((2*(n-1))/n)"
   ],
   "metadata": {
    "collapsed": false,
    "pycharm": {
     "name": "#%%\n"
    }
   }
  },
  {
   "cell_type": "markdown",
   "source": [
    "Calculation 1:  $\\log_2(s(x,n)) \\cdot c(n) = E(h(x))$"
   ],
   "metadata": {
    "collapsed": false,
    "pycharm": {
     "name": "#%% md\n"
    }
   }
  },
  {
   "cell_type": "code",
   "execution_count": 238,
   "outputs": [
    {
     "data": {
      "text/plain": "   gd_X  gd_Y  gd_counts  gd_org_idx  gd_anomaly  gd_score  \\\n0     0     0        114           2        -1.0 -0.015034   \n1     0    64        136           0        -1.0 -0.000507   \n2    64     0          3          53        -1.0 -0.300745   \n3    64    64        123           1        -1.0 -0.009387   \n\n   gd_score_converted  E[H(x)]+log_2[count(x)]  \n0            0.515034                17.375763  \n1            0.500507                18.084957  \n2            0.800745                 5.115759  \n3            0.509387                17.660572  ",
      "text/html": "<div>\n<style scoped>\n    .dataframe tbody tr th:only-of-type {\n        vertical-align: middle;\n    }\n\n    .dataframe tbody tr th {\n        vertical-align: top;\n    }\n\n    .dataframe thead th {\n        text-align: right;\n    }\n</style>\n<table border=\"1\" class=\"dataframe\">\n  <thead>\n    <tr style=\"text-align: right;\">\n      <th></th>\n      <th>gd_X</th>\n      <th>gd_Y</th>\n      <th>gd_counts</th>\n      <th>gd_org_idx</th>\n      <th>gd_anomaly</th>\n      <th>gd_score</th>\n      <th>gd_score_converted</th>\n      <th>E[H(x)]+log_2[count(x)]</th>\n    </tr>\n  </thead>\n  <tbody>\n    <tr>\n      <th>0</th>\n      <td>0</td>\n      <td>0</td>\n      <td>114</td>\n      <td>2</td>\n      <td>-1.0</td>\n      <td>-0.015034</td>\n      <td>0.515034</td>\n      <td>17.375763</td>\n    </tr>\n    <tr>\n      <th>1</th>\n      <td>0</td>\n      <td>64</td>\n      <td>136</td>\n      <td>0</td>\n      <td>-1.0</td>\n      <td>-0.000507</td>\n      <td>0.500507</td>\n      <td>18.084957</td>\n    </tr>\n    <tr>\n      <th>2</th>\n      <td>64</td>\n      <td>0</td>\n      <td>3</td>\n      <td>53</td>\n      <td>-1.0</td>\n      <td>-0.300745</td>\n      <td>0.800745</td>\n      <td>5.115759</td>\n    </tr>\n    <tr>\n      <th>3</th>\n      <td>64</td>\n      <td>64</td>\n      <td>123</td>\n      <td>1</td>\n      <td>-1.0</td>\n      <td>-0.009387</td>\n      <td>0.509387</td>\n      <td>17.660572</td>\n    </tr>\n  </tbody>\n</table>\n</div>"
     },
     "execution_count": 238,
     "metadata": {},
     "output_type": "execute_result"
    }
   ],
   "source": [
    "result = []\n",
    "for index, row in df_unique.iterrows():\n",
    "    res = -(np.log2(row.gd_score_converted) * c(n_samples)) + np.log2(row.gd_counts)\n",
    "    result.append(res)\n",
    "df_unique['E[H(x)]+log_2[count(x)]'] = result\n",
    "df_unique.head()"
   ],
   "metadata": {
    "collapsed": false,
    "pycharm": {
     "name": "#%%\n"
    }
   }
  },
  {
   "cell_type": "markdown",
   "source": [
    "Calculation 2: $S(x, n_{samples})=2^{-\\frac{E(h(x))}{c(n_{samples})}}$"
   ],
   "metadata": {
    "collapsed": false,
    "pycharm": {
     "name": "#%% md\n"
    }
   }
  },
  {
   "cell_type": "code",
   "execution_count": 239,
   "outputs": [
    {
     "data": {
      "text/plain": "   gd_X  gd_Y  gd_counts  gd_org_idx  gd_anomaly  gd_score  \\\n0     0     0        114           2        -1.0 -0.015034   \n1     0    64        136           0        -1.0 -0.000507   \n2    64     0          3          53        -1.0 -0.300745   \n3    64    64        123           1        -1.0 -0.009387   \n\n   gd_score_converted  E[H(x)]+log_2[count(x)]  S(x,n_samples)  \n0            0.515034                17.375763        0.335024  \n1            0.500507                18.084957        0.320399  \n2            0.800745                 5.115759        0.724725  \n3            0.509387                17.660572        0.329072  ",
      "text/html": "<div>\n<style scoped>\n    .dataframe tbody tr th:only-of-type {\n        vertical-align: middle;\n    }\n\n    .dataframe tbody tr th {\n        vertical-align: top;\n    }\n\n    .dataframe thead th {\n        text-align: right;\n    }\n</style>\n<table border=\"1\" class=\"dataframe\">\n  <thead>\n    <tr style=\"text-align: right;\">\n      <th></th>\n      <th>gd_X</th>\n      <th>gd_Y</th>\n      <th>gd_counts</th>\n      <th>gd_org_idx</th>\n      <th>gd_anomaly</th>\n      <th>gd_score</th>\n      <th>gd_score_converted</th>\n      <th>E[H(x)]+log_2[count(x)]</th>\n      <th>S(x,n_samples)</th>\n    </tr>\n  </thead>\n  <tbody>\n    <tr>\n      <th>0</th>\n      <td>0</td>\n      <td>0</td>\n      <td>114</td>\n      <td>2</td>\n      <td>-1.0</td>\n      <td>-0.015034</td>\n      <td>0.515034</td>\n      <td>17.375763</td>\n      <td>0.335024</td>\n    </tr>\n    <tr>\n      <th>1</th>\n      <td>0</td>\n      <td>64</td>\n      <td>136</td>\n      <td>0</td>\n      <td>-1.0</td>\n      <td>-0.000507</td>\n      <td>0.500507</td>\n      <td>18.084957</td>\n      <td>0.320399</td>\n    </tr>\n    <tr>\n      <th>2</th>\n      <td>64</td>\n      <td>0</td>\n      <td>3</td>\n      <td>53</td>\n      <td>-1.0</td>\n      <td>-0.300745</td>\n      <td>0.800745</td>\n      <td>5.115759</td>\n      <td>0.724725</td>\n    </tr>\n    <tr>\n      <th>3</th>\n      <td>64</td>\n      <td>64</td>\n      <td>123</td>\n      <td>1</td>\n      <td>-1.0</td>\n      <td>-0.009387</td>\n      <td>0.509387</td>\n      <td>17.660572</td>\n      <td>0.329072</td>\n    </tr>\n  </tbody>\n</table>\n</div>"
     },
     "execution_count": 239,
     "metadata": {},
     "output_type": "execute_result"
    }
   ],
   "source": [
    "result = []\n",
    "for index, row in df_unique.iterrows():\n",
    "    res = 2 ** - (row['E[H(x)]+log_2[count(x)]'] / c(n_samples))\n",
    "    result.append(res)\n",
    "df_unique['S(x,n_samples)'] = result\n",
    "df_unique"
   ],
   "metadata": {
    "collapsed": false,
    "pycharm": {
     "name": "#%%\n"
    }
   }
  },
  {
   "cell_type": "markdown",
   "source": [
    "# Performance evaluation"
   ],
   "metadata": {
    "collapsed": false,
    "pycharm": {
     "name": "#%% md\n"
    }
   }
  },
  {
   "cell_type": "markdown",
   "source": [
    "## Overview"
   ],
   "metadata": {
    "collapsed": false,
    "pycharm": {
     "name": "#%% md\n"
    }
   }
  },
  {
   "cell_type": "markdown",
   "source": [],
   "metadata": {
    "collapsed": false,
    "pycharm": {
     "name": "#%% md\n"
    }
   }
  },
  {
   "cell_type": "code",
   "execution_count": 240,
   "outputs": [
    {
     "data": {
      "text/plain": "                                name deviation_bits test_accuracy_score  \\\n0             Isolation Forest Bases              6            0.042553   \n1  Isolation Forest Bases - extended              6            0.978723   \n2          Isolation Forest Original              6            0.735532   \n\n  test_f1_score test_recall_score test_precision_score test_roc_auc_score  \\\n0           0.0               0.0                  0.0                0.5   \n1      0.989011               1.0             0.978261               0.75   \n2      0.839541          0.723778                  1.0           0.861889   \n\n  training_time prediction_time  \n0      0.078886        0.047788  \n1      0.089345        0.056393  \n2      0.080084        0.073933  ",
      "text/html": "<div>\n<style scoped>\n    .dataframe tbody tr th:only-of-type {\n        vertical-align: middle;\n    }\n\n    .dataframe tbody tr th {\n        vertical-align: top;\n    }\n\n    .dataframe thead th {\n        text-align: right;\n    }\n</style>\n<table border=\"1\" class=\"dataframe\">\n  <thead>\n    <tr style=\"text-align: right;\">\n      <th></th>\n      <th>name</th>\n      <th>deviation_bits</th>\n      <th>test_accuracy_score</th>\n      <th>test_f1_score</th>\n      <th>test_recall_score</th>\n      <th>test_precision_score</th>\n      <th>test_roc_auc_score</th>\n      <th>training_time</th>\n      <th>prediction_time</th>\n    </tr>\n  </thead>\n  <tbody>\n    <tr>\n      <th>0</th>\n      <td>Isolation Forest Bases</td>\n      <td>6</td>\n      <td>0.042553</td>\n      <td>0.0</td>\n      <td>0.0</td>\n      <td>0.0</td>\n      <td>0.5</td>\n      <td>0.078886</td>\n      <td>0.047788</td>\n    </tr>\n    <tr>\n      <th>1</th>\n      <td>Isolation Forest Bases - extended</td>\n      <td>6</td>\n      <td>0.978723</td>\n      <td>0.989011</td>\n      <td>1.0</td>\n      <td>0.978261</td>\n      <td>0.75</td>\n      <td>0.089345</td>\n      <td>0.056393</td>\n    </tr>\n    <tr>\n      <th>2</th>\n      <td>Isolation Forest Original</td>\n      <td>6</td>\n      <td>0.735532</td>\n      <td>0.839541</td>\n      <td>0.723778</td>\n      <td>1.0</td>\n      <td>0.861889</td>\n      <td>0.080084</td>\n      <td>0.073933</td>\n    </tr>\n  </tbody>\n</table>\n</div>"
     },
     "execution_count": 240,
     "metadata": {},
     "output_type": "execute_result"
    }
   ],
   "source": [
    "from pathlib import Path\n",
    "filepath = Path(f'./results/synthetic-{DEVIATION_BITS}dev.csv')\n",
    "filepath.parent.mkdir(parents=True, exist_ok=True)\n",
    "\n",
    "performance.to_csv(filepath)\n",
    "performance\n"
   ],
   "metadata": {
    "collapsed": false,
    "pycharm": {
     "name": "#%%\n"
    }
   }
  },
  {
   "cell_type": "markdown",
   "source": [],
   "metadata": {
    "collapsed": false,
    "pycharm": {
     "name": "#%% md\n"
    }
   }
  },
  {
   "cell_type": "markdown",
   "source": [
    "## Confusion Matrices"
   ],
   "metadata": {
    "collapsed": false,
    "pycharm": {
     "name": "#%% md\n"
    }
   }
  },
  {
   "cell_type": "code",
   "execution_count": 241,
   "outputs": [
    {
     "name": "stderr",
     "output_type": "stream",
     "text": [
      "/tmp/ipykernel_52087/1834916541.py:20: UserWarning: Matplotlib is currently using module://matplotlib_inline.backend_inline, which is a non-GUI backend, so cannot show the figure.\n",
      "  fig.show()\n",
      "/tmp/ipykernel_52087/1834916541.py:37: UserWarning: Matplotlib is currently using module://matplotlib_inline.backend_inline, which is a non-GUI backend, so cannot show the figure.\n",
      "  fig.show()\n",
      "/tmp/ipykernel_52087/1834916541.py:53: UserWarning: Matplotlib is currently using module://matplotlib_inline.backend_inline, which is a non-GUI backend, so cannot show the figure.\n",
      "  fig.show()\n"
     ]
    },
    {
     "data": {
      "text/plain": "<Figure size 432x288 with 6 Axes>",
      "image/png": "[encoded data removed]"
     },
     "metadata": {
      "needs_background": "light"
     },
     "output_type": "display_data"
    },
    {
     "data": {
      "text/plain": "<Figure size 432x288 with 6 Axes>",
      "image/png": "[encoded data removed]"
     },
     "metadata": {
      "needs_background": "light"
     },
     "output_type": "display_data"
    },
    {
     "data": {
      "text/plain": "<Figure size 432x288 with 6 Axes>",
      "image/png": "[encoded data removed]"
     },
     "metadata": {
      "needs_background": "light"
     },
     "output_type": "display_data"
    }
   ],
   "source": [
    "\n",
    "y_train_clipped = y_train.clip(min=0)\n",
    "y_test_clipped = y_test.clip(min=0)\n",
    "y_outlier_clipped = y_outlier.clip(min=0)\n",
    "\n",
    "# Original\n",
    "fig, (ax1, ax2, ax3) = plt.subplots(1, 3)\n",
    "fig.suptitle(\"Original\")\n",
    "\n",
    "y_train_pred =  org_clf.predict(X_train).clip(min=0)\n",
    "cf_matrix = confusion_matrix(y_train_clipped, y_train_pred)\n",
    "sns.heatmap(cf_matrix, annot=True, ax=ax1)\n",
    "\n",
    "y_test_pred =  org_clf.predict(X_test).clip(min=0)\n",
    "cf_matrix = confusion_matrix(y_test_clipped, y_test_pred)\n",
    "sns.heatmap(cf_matrix, annot=True, ax=ax2)\n",
    "\n",
    "y_outlier_pred =  org_clf.predict(X_outliers).clip(min=0)\n",
    "cf_matrix = confusion_matrix(y_outlier_clipped, y_outlier_pred)\n",
    "sns.heatmap(cf_matrix, annot=True, ax=ax3)\n",
    "fig.show()\n",
    "\n",
    "# GD\n",
    "fig, (ax1, ax2, ax3) = plt.subplots(1, 3)\n",
    "fig.suptitle(\"Bases\")\n",
    "\n",
    "y_train_pred =  gd_clf.predict(X_train_bases).clip(min=0)\n",
    "cf_matrix = confusion_matrix(y_train_clipped, y_train_pred)\n",
    "sns.heatmap(cf_matrix, annot=True, ax=ax1)\n",
    "\n",
    "y_test_pred =  gd_clf.predict(X_test_bases).clip(min=0)\n",
    "cf_matrix = confusion_matrix(y_test_clipped, y_test_pred)\n",
    "sns.heatmap(cf_matrix, annot=True, ax=ax2)\n",
    "\n",
    "y_outlier_pred =  gd_clf.predict(X_outliers_bases).clip(min=0)\n",
    "cf_matrix = confusion_matrix(y_outlier_clipped, y_outlier_pred)\n",
    "sns.heatmap(cf_matrix, annot=True, ax=ax3)\n",
    "fig.show()\n",
    "\n",
    "# GD Extended\n",
    "fig, (ax1, ax2, ax3) = plt.subplots(1, 3)\n",
    "fig.suptitle(\"Bases - extended\")\n",
    "y_train_pred =  gd_ext_clf.predict_extended(X_train_bases).clip(min=0)\n",
    "cf_matrix = confusion_matrix(y_train_clipped, y_train_pred)\n",
    "sns.heatmap(cf_matrix, annot=True, ax=ax1)\n",
    "\n",
    "y_test_pred =  gd_ext_clf.predict_extended(X_test_bases).clip(min=0)\n",
    "cf_matrix = confusion_matrix(y_test_clipped, y_test_pred)\n",
    "sns.heatmap(cf_matrix, annot=True, ax=ax2)\n",
    "\n",
    "y_outlier_pred =  gd_ext_clf.predict_extended(X_outliers_bases).clip(min=0)\n",
    "cf_matrix = confusion_matrix(y_outlier_clipped, y_outlier_pred)\n",
    "sns.heatmap(cf_matrix, annot=True, ax=ax3)\n",
    "fig.show()"
   ],
   "metadata": {
    "collapsed": false,
    "pycharm": {
     "name": "#%%\n"
    }
   }
  },
  {
   "cell_type": "markdown",
   "source": [
    "# Data Visualization"
   ],
   "metadata": {
    "collapsed": false,
    "pycharm": {
     "name": "#%% md\n"
    }
   }
  },
  {
   "cell_type": "markdown",
   "source": [
    "## Decision function (Original, bases, extended) - single cluster"
   ],
   "metadata": {
    "collapsed": false,
    "pycharm": {
     "name": "#%% md\n"
    }
   }
  },
  {
   "cell_type": "code",
   "execution_count": 242,
   "outputs": [
    {
     "name": "stderr",
     "output_type": "stream",
     "text": [
      "/home/mlrosenquist/repos/scikit-learn/sklearn/ensemble/_iforest.py:419: FutureWarning: The frame.append method is deprecated and will be removed from pandas in a future version. Use pandas.concat instead.\n",
      "  self.df_unique_ = self.df_unique_.append(pd.DataFrame(unique), ignore_index=True)\n"
     ]
    },
    {
     "data": {
      "text/plain": "<Figure size 432x288 with 3 Axes>",
      "image/png": "[encoded data removed]"
     },
     "metadata": {
      "needs_background": "light"
     },
     "output_type": "display_data"
    }
   ],
   "source": [
    "X_train_2, X_test_2, X_outliers_2, y_train_2, y_test_2, y_outlier_2 = generate_data(100, 3, 1)\n",
    "\n",
    "vectorized_func = np.vectorize(gd.compress_int)\n",
    "\n",
    "X_train_bases_2 = vectorized_func(X_train_2, deviation_bits=DEVIATION_BITS, output=\"integer\")\n",
    "X_test_bases_2 = vectorized_func(X_test_2, deviation_bits=DEVIATION_BITS, output=\"integer\")\n",
    "X_outliers_bases_2 = vectorized_func(X_outliers_2, deviation_bits=DEVIATION_BITS, output=\"integer\")\n",
    "\n",
    "org_clf_2 = IsolationForest(random_state=rng)\n",
    "org_clf_2.fit(X_train_2)\n",
    "\n",
    "gd_clf_2 = IsolationForest(random_state=rng)\n",
    "gd_clf_2.fit(X_train_bases_2)\n",
    "\n",
    "gd_ext_clf_2 = IsolationForest(random_state=rng)\n",
    "gd_ext_clf_2.fit_extended(X_train_bases_2)\n",
    "\n",
    "xx, yy = np.meshgrid(np.linspace(0, 100, 50), np.linspace(0, 100, 50))\n",
    "\n",
    "fig, (ax1, ax2, ax3) = plt.subplots(3, 1)\n",
    "\n",
    "#Original\n",
    "Z = org_clf_2.decision_function(np.c_[xx.ravel(), yy.ravel()])\n",
    "Z = Z.reshape(xx.shape)\n",
    "ax1.contourf(xx, yy, Z, cmap=plt.cm.Blues_r)\n",
    "\n",
    "ax1.scatter(X_train_2[:, 0], X_train_2[:, 1], c=\"white\", s=20, edgecolor=\"k\")\n",
    "\n",
    "# Bases\n",
    "Z = gd_clf_2.decision_function(np.c_[xx.ravel(), yy.ravel()])\n",
    "Z = Z.reshape(xx.shape)\n",
    "ax2.contourf(xx, yy, Z, cmap=plt.cm.Blues_r)\n",
    "\n",
    "ax2.scatter(X_train_bases_2[:, 0], X_train_bases_2[:, 1], c=\"white\", s=20, edgecolor=\"k\")\n",
    "\n",
    "# Bases - extended\n",
    "Z = gd_ext_clf_2.decision_function_extended(np.c_[xx.ravel(), yy.ravel()])\n",
    "Z = Z.reshape(xx.shape)\n",
    "ax3.contourf(xx, yy, Z, cmap=plt.cm.Blues_r)\n",
    "\n",
    "ax3.scatter(X_train_bases_2[:, 0], X_train_bases_2[:, 1], c=\"white\", s=20, edgecolor=\"k\")\n",
    "\n",
    "# Plot settings\n",
    "ax1.set_title(\"Original Data\")\n",
    "ax2.set_title(\"Bases Data\")\n",
    "ax3.set_title(\"Bases Data - Extended\")\n",
    "\n",
    "ax1.set_xlim([0,100])\n",
    "ax2.set_xlim([0,100])\n",
    "ax3.set_xlim([0,100])\n",
    "\n",
    "ax1.set_ylim([0,100])\n",
    "ax2.set_ylim([0,100])\n",
    "ax3.set_ylim([0,100])\n",
    "\n",
    "ax1.set_xticklabels([])\n",
    "ax2.set_xticklabels([])\n",
    "\n",
    "ax1.set_ylabel('Y')\n",
    "ax2.set_ylabel('Y')\n",
    "ax2.set_xlabel('X')\n",
    "\n",
    "\n",
    "plt.show()"
   ],
   "metadata": {
    "collapsed": false,
    "pycharm": {
     "name": "#%%\n"
    }
   }
  },
  {
   "cell_type": "markdown",
   "source": [
    "## Data before and after gd - scatter"
   ],
   "metadata": {
    "collapsed": false,
    "pycharm": {
     "name": "#%% md\n"
    }
   }
  },
  {
   "cell_type": "code",
   "execution_count": 243,
   "outputs": [
    {
     "data": {
      "text/plain": "<Figure size 432x288 with 2 Axes>",
      "image/png": "[encoded data removed]"
     },
     "metadata": {
      "needs_background": "light"
     },
     "output_type": "display_data"
    }
   ],
   "source": [
    "fig, (ax1, ax2) = plt.subplots(2, 1)\n",
    "\n",
    "b1 = ax1.scatter(X_train[:, 0], X_train[:, 1], c=\"white\", s=20, edgecolor=\"k\")\n",
    "b2 = ax1.scatter(X_test[:, 0], X_test[:, 1], c=\"green\", s=20, edgecolor=\"k\")\n",
    "c = ax1.scatter(X_outliers[:, 0], X_outliers[:, 1], c=\"red\", s=20, edgecolor=\"k\")\n",
    "ax1.set_title(\"Original Data\")\n",
    "\n",
    "b1 = ax2.scatter(X_train_bases[:, 0], X_train_bases[:, 1], c=\"white\", s=20, edgecolor=\"k\")\n",
    "b2 = ax2.scatter(X_test_bases[:, 0], X_test_bases[:, 1], c=\"green\", s=20, edgecolor=\"k\")\n",
    "c = ax2.scatter(X_outliers_bases[:, 0], X_outliers_bases[:, 1], c=\"red\", s=20, edgecolor=\"k\")\n",
    "ax1.set_title(\"Original Data\")\n",
    "ax2.set_title(\"Bases Data\")\n",
    "\n",
    "ax1.set_xlim([0,120])\n",
    "ax2.set_xlim([0,120])\n",
    "\n",
    "ax1.set_ylim([0,120])\n",
    "ax2.set_ylim([0,120])\n",
    "\n",
    "ax1.set_xticklabels([])\n",
    "\n",
    "ax1.set_ylabel('Y')\n",
    "ax2.set_ylabel('Y')\n",
    "ax2.set_xlabel('X')\n",
    "plt.show()"
   ],
   "metadata": {
    "collapsed": false,
    "pycharm": {
     "name": "#%%\n"
    }
   }
  },
  {
   "cell_type": "markdown",
   "source": [],
   "metadata": {
    "collapsed": false,
    "pycharm": {
     "name": "#%% md\n"
    }
   }
  },
  {
   "cell_type": "markdown",
   "source": [
    "## Decision Function - scatter/contour"
   ],
   "metadata": {
    "collapsed": false,
    "pycharm": {
     "name": "#%% md\n"
    }
   }
  },
  {
   "cell_type": "code",
   "execution_count": 244,
   "outputs": [
    {
     "data": {
      "text/plain": "<Figure size 432x288 with 3 Axes>",
      "image/png": "[encoded data removed]"
     },
     "metadata": {
      "needs_background": "light"
     },
     "output_type": "display_data"
    }
   ],
   "source": [
    "xx, yy = np.meshgrid(np.linspace(30, 120, 50), np.linspace(30, 120, 50))\n",
    "\n",
    "fig, (ax1, ax2, ax3) = plt.subplots(3, 1)\n",
    "\n",
    "#Original\n",
    "Z = org_clf.decision_function(np.c_[xx.ravel(), yy.ravel()])\n",
    "Z = Z.reshape(xx.shape)\n",
    "ax1.contourf(xx, yy, Z, cmap=plt.cm.Blues_r)\n",
    "\n",
    "ax1.scatter(X_train[:, 0], X_train[:, 1], c=\"white\", s=20, edgecolor=\"k\")\n",
    "ax1.scatter(X_test[:, 0], X_test[:, 1], c=\"green\", s=20, edgecolor=\"k\")\n",
    "ax1.scatter(X_outliers[:, 0], X_outliers[:, 1], c=\"red\", s=20, edgecolor=\"k\")\n",
    "\n",
    "# Bases\n",
    "Z = gd_clf.decision_function(np.c_[xx.ravel(), yy.ravel()])\n",
    "Z = Z.reshape(xx.shape)\n",
    "ax2.contourf(xx, yy, Z, cmap=plt.cm.Blues_r)\n",
    "\n",
    "ax2.scatter(X_train_bases[:, 0], X_train_bases[:, 1], c=\"white\", s=20, edgecolor=\"k\")\n",
    "ax2.scatter(X_test_bases[:, 0], X_test_bases[:, 1], c=\"green\", s=20, edgecolor=\"k\")\n",
    "ax2.scatter(X_outliers_bases[:, 0], X_outliers_bases[:, 1], c=\"red\", s=20, edgecolor=\"k\")\n",
    "\n",
    "# Bases\n",
    "Z = gd_ext_clf.decision_function_extended(np.c_[xx.ravel(), yy.ravel()])\n",
    "Z = Z.reshape(xx.shape)\n",
    "ax3.contourf(xx, yy, Z, cmap=plt.cm.Blues_r)\n",
    "\n",
    "ax3.scatter(X_train_bases[:, 0], X_train_bases[:, 1], c=\"white\", s=20, edgecolor=\"k\")\n",
    "ax3.scatter(X_test_bases[:, 0], X_test_bases[:, 1], c=\"green\", s=20, edgecolor=\"k\")\n",
    "ax3.scatter(X_outliers_bases[:, 0], X_outliers_bases[:, 1], c=\"red\", s=20, edgecolor=\"k\")\n",
    "\n",
    "# Plot settings\n",
    "ax1.set_title(\"Original Data\")\n",
    "ax2.set_title(\"Bases Data\")\n",
    "ax3.set_title(\"Bases Data - extended\")\n",
    "\n",
    "ax1.set_xlim([30,120])\n",
    "ax2.set_xlim([30,120])\n",
    "ax3.set_xlim([30,120])\n",
    "\n",
    "ax1.set_ylim([30,120])\n",
    "ax2.set_ylim([30,120])\n",
    "ax3.set_ylim([30,120])\n",
    "\n",
    "ax1.set_xticklabels([])\n",
    "ax2.set_xticklabels([])\n",
    "\n",
    "ax1.set_ylabel('Y')\n",
    "ax2.set_ylabel('Y')\n",
    "ax3.set_ylabel('Y')\n",
    "ax3.set_xlabel('X')\n",
    "\n",
    "\n",
    "plt.show()"
   ],
   "metadata": {
    "collapsed": false,
    "pycharm": {
     "name": "#%%\n"
    }
   }
  },
  {
   "cell_type": "markdown",
   "source": [
    "## Bases - density"
   ],
   "metadata": {
    "collapsed": false,
    "pycharm": {
     "name": "#%% md\n"
    }
   }
  },
  {
   "cell_type": "code",
   "execution_count": 245,
   "outputs": [
    {
     "data": {
      "text/plain": "<Figure size 432x288 with 3 Axes>",
      "image/png": "[encoded data removed]"
     },
     "metadata": {
      "needs_background": "light"
     },
     "output_type": "display_data"
    }
   ],
   "source": [
    "fig, axes = plt.subplots(nrows=3, ncols=1)\n",
    "pd.DataFrame(X_train_bases).plot.density(ax=axes[0])\n",
    "pd.DataFrame(X_test_bases).plot.density(ax=axes[1])\n",
    "pd.DataFrame(X_outliers_bases).plot.density(ax=axes[2])\n",
    "plt.show()"
   ],
   "metadata": {
    "collapsed": false,
    "pycharm": {
     "name": "#%%\n"
    }
   }
  },
  {
   "cell_type": "markdown",
   "source": [
    "## Calculation - scatter"
   ],
   "metadata": {
    "collapsed": false,
    "pycharm": {
     "name": "#%% md\n"
    }
   }
  },
  {
   "cell_type": "code",
   "execution_count": 246,
   "outputs": [
    {
     "data": {
      "text/plain": "<Figure size 432x288 with 8 Axes>",
      "image/png": "[encoded data removed]"
     },
     "metadata": {
      "needs_background": "light"
     },
     "output_type": "display_data"
    }
   ],
   "source": [
    "fig, axs = plt.subplots(2, 2)\n",
    "ax1 = axs[0,0]\n",
    "ax2 = axs[0,1]\n",
    "ax3 = axs[1,0]\n",
    "ax4 = axs[1,1]\n",
    "\n",
    "points = ax1.scatter(df_unique.gd_X, df_unique.gd_Y, c=df_unique.gd_score_converted,cmap=\"jet\", lw=0)\n",
    "plt.colorbar(points,ax=ax1)\n",
    "ax1.set_title(\"Score Scatter\")\n",
    "\n",
    "points = ax2.scatter(df_unique.gd_X, df_unique.gd_Y, c=df_unique.gd_score_converted,cmap=\"jet\", lw=0)\n",
    "plt.colorbar(points,ax=ax2)\n",
    "ax2.set_title(\"Score Scatter\")\n",
    "\n",
    "points = ax3.scatter(df_unique.gd_X, df_unique.gd_Y, c=df_unique['E[H(x)]+log_2[count(x)]'],cmap=\"jet\", lw=0)\n",
    "plt.colorbar(points,ax=ax3)\n",
    "ax3.set_title(\"E[H(x)]+log_2[count(x)]\")\n",
    "\n",
    "points = ax4.scatter(df_unique.gd_X, df_unique.gd_Y, c=df_unique['S(x,n_samples)'],cmap=\"jet\", lw=0)\n",
    "plt.colorbar(points,ax=ax4)\n",
    "ax4.set_title(\"S(x,n_samples)\")\n",
    "\n",
    "ax1.set_xticklabels([])\n",
    "ax2.set_xticklabels([])\n",
    "\n",
    "ax2.set_yticklabels([])\n",
    "ax4.set_yticklabels([])\n",
    "\n",
    "ax3.set_ylabel('Y')\n",
    "ax1.set_ylabel('Y')\n",
    "plt.show()"
   ],
   "metadata": {
    "collapsed": false,
    "pycharm": {
     "name": "#%%\n"
    }
   }
  },
  {
   "cell_type": "markdown",
   "source": [],
   "metadata": {
    "collapsed": false,
    "pycharm": {
     "name": "#%% md\n"
    }
   }
  },
  {
   "cell_type": "markdown",
   "source": [
    "## Deviation / Metrics tradeoffs"
   ],
   "metadata": {
    "collapsed": false,
    "pycharm": {
     "name": "#%% md\n"
    }
   }
  },
  {
   "cell_type": "markdown",
   "source": [
    "### Setup data"
   ],
   "metadata": {
    "collapsed": false,
    "pycharm": {
     "name": "#%% md\n"
    }
   }
  },
  {
   "cell_type": "code",
   "execution_count": 247,
   "outputs": [],
   "source": [
    "#X_train, X_test, X_outliers, y_train, y_test, y_outlier = generate_data(100, 3, 1)\n",
    "deviation_bits_max = 8\n",
    "gd_performance = pd.DataFrame(columns=['name', 'deviation_bits', 'train_accuracy_score', 'test_accuracy_score', 'outlier_accuracy_score', 'train_precision_score', 'test_precision_score', 'outlier_precision_score','train_f1_score', 'test_f1_score', 'outlier_f1_score', 'train_recall_score', 'test_recall_score', 'outlier_recall_score', 'training_time', 'prediction_time'])\n",
    "\n",
    "gd_ext_performance = pd.DataFrame(columns=['name', 'deviation_bits', 'train_accuracy_score', 'test_accuracy_score', 'outlier_accuracy_score', 'train_precision_score', 'test_precision_score', 'outlier_precision_score','train_f1_score', 'test_f1_score', 'outlier_f1_score', 'train_recall_score', 'test_recall_score', 'outlier_recall_score', 'training_time', 'prediction_time'])"
   ],
   "metadata": {
    "collapsed": false,
    "pycharm": {
     "name": "#%%\n"
    }
   }
  },
  {
   "cell_type": "markdown",
   "source": [
    "### Perform generalized deduplication"
   ],
   "metadata": {
    "collapsed": false,
    "pycharm": {
     "name": "#%% md\n"
    }
   }
  },
  {
   "cell_type": "code",
   "execution_count": 248,
   "outputs": [],
   "source": [
    "vectorized_func = np.vectorize(gd.compress_int)\n",
    "X_train_bases_arr = []\n",
    "X_test_bases_arr = []\n",
    "X_outliers_bases_arr = []\n",
    "\n",
    "for i in range(0, deviation_bits_max + 1):\n",
    "    X_train_bases_arr.append(vectorized_func(X_train, deviation_bits=i, output=\"integer\"))\n",
    "    X_test_bases_arr.append(vectorized_func(X_test, deviation_bits=i, output=\"integer\"))\n",
    "    X_outliers_bases_arr.append(vectorized_func(X_outliers, deviation_bits=i, output=\"integer\"))\n"
   ],
   "metadata": {
    "collapsed": false,
    "pycharm": {
     "name": "#%%\n"
    }
   }
  },
  {
   "cell_type": "markdown",
   "source": [
    "### Train models"
   ],
   "metadata": {
    "collapsed": false,
    "pycharm": {
     "name": "#%% md\n"
    }
   }
  },
  {
   "cell_type": "code",
   "execution_count": 249,
   "outputs": [
    {
     "ename": "TypeError",
     "evalue": "create_performance_object() missing 1 required positional argument: 'test_roc_auc_score'",
     "output_type": "error",
     "traceback": [
      "\u001B[0;31m---------------------------------------------------------------------------\u001B[0m",
      "\u001B[0;31mTypeError\u001B[0m                                 Traceback (most recent call last)",
      "Input \u001B[0;32mIn [249]\u001B[0m, in \u001B[0;36m<cell line: 1>\u001B[0;34m()\u001B[0m\n\u001B[1;32m      5\u001B[0m y_pred_train \u001B[38;5;241m=\u001B[39m gd_clf\u001B[38;5;241m.\u001B[39mpredict(X_train_bases_arr[i])\n\u001B[1;32m      6\u001B[0m y_pred_test \u001B[38;5;241m=\u001B[39m gd_clf\u001B[38;5;241m.\u001B[39mpredict(X_test_bases_arr[i])\n\u001B[0;32m----> 7\u001B[0m gd_performance \u001B[38;5;241m=\u001B[39m gd_performance\u001B[38;5;241m.\u001B[39mappend(\u001B[43mcreate_performance_object\u001B[49m\u001B[43m(\u001B[49m\u001B[38;5;124;43mf\u001B[39;49m\u001B[38;5;124;43m'\u001B[39;49m\u001B[38;5;124;43mBases\u001B[39;49m\u001B[38;5;124;43m'\u001B[39;49m\u001B[43m,\u001B[49m\u001B[43m \u001B[49m\u001B[43mi\u001B[49m\u001B[43m,\u001B[49m\u001B[43m \u001B[49m\u001B[43my_pred_train\u001B[49m\u001B[43m,\u001B[49m\u001B[43m \u001B[49m\u001B[43my_pred_test\u001B[49m\u001B[43m,\u001B[49m\u001B[43m \u001B[49m\u001B[38;5;28;43;01mNone\u001B[39;49;00m\u001B[43m,\u001B[49m\u001B[43m \u001B[49m\u001B[38;5;28;43;01mNone\u001B[39;49;00m\u001B[43m,\u001B[49m\u001B[43m \u001B[49m\u001B[38;5;28;43;01mNone\u001B[39;49;00m\u001B[43m,\u001B[49m\u001B[43m \u001B[49m\u001B[38;5;28;43;01mNone\u001B[39;49;00m\u001B[43m,\u001B[49m\u001B[43m \u001B[49m\u001B[38;5;28;43;01mNone\u001B[39;49;00m\u001B[43m,\u001B[49m\u001B[43m \u001B[49m\u001B[38;5;28;43;01mNone\u001B[39;49;00m\u001B[43m)\u001B[49m, ignore_index\u001B[38;5;241m=\u001B[39m\u001B[38;5;28;01mTrue\u001B[39;00m)\n\u001B[1;32m      9\u001B[0m \u001B[38;5;66;03m# Bases Extended iForest\u001B[39;00m\n\u001B[1;32m     10\u001B[0m gd_ext_clf \u001B[38;5;241m=\u001B[39m IsolationForest(random_state\u001B[38;5;241m=\u001B[39mrng)\n",
      "\u001B[0;31mTypeError\u001B[0m: create_performance_object() missing 1 required positional argument: 'test_roc_auc_score'"
     ]
    }
   ],
   "source": [
    "for i in range(0, deviation_bits_max + 1):\n",
    "    # Bases iForest\n",
    "    gd_clf = IsolationForest(random_state=rng)\n",
    "    gd_clf.fit(X_train_bases_arr[i])\n",
    "    y_pred_train = gd_clf.predict(X_train_bases_arr[i])\n",
    "    y_pred_test = gd_clf.predict(X_test_bases_arr[i])\n",
    "    gd_performance = gd_performance.append(create_performance_object(f'Bases', i, y_pred_train, y_pred_test, None, None, None, None, None, None), ignore_index=True)\n",
    "\n",
    "    # Bases Extended iForest\n",
    "    gd_ext_clf = IsolationForest(random_state=rng)\n",
    "    gd_ext_clf.fit_extended(X_train_bases_arr[i])\n",
    "    y_pred_train = gd_ext_clf.predict_extended(X_train_bases_arr[i])\n",
    "    y_pred_test = gd_ext_clf.predict_extended(X_test_bases_arr[i])\n",
    "    gd_ext_performance = gd_ext_performance.append(create_performance_object(f'Bases extended', i, y_pred_train, y_pred_test, None, None, None, None, None, None), ignore_index=True)\n",
    "\n",
    "gd_performance"
   ],
   "metadata": {
    "collapsed": false,
    "pycharm": {
     "name": "#%%\n"
    }
   }
  },
  {
   "cell_type": "code",
   "execution_count": null,
   "outputs": [],
   "source": [
    "#gd_ext_performance"
   ],
   "metadata": {
    "collapsed": false,
    "pycharm": {
     "name": "#%%\n"
    }
   }
  },
  {
   "cell_type": "markdown",
   "source": [
    "### Visualize"
   ],
   "metadata": {
    "collapsed": false,
    "pycharm": {
     "name": "#%% md\n"
    }
   }
  },
  {
   "cell_type": "code",
   "execution_count": null,
   "outputs": [],
   "source": [
    "plt.plot(gd_performance['deviation_bits'], gd_performance['test_accuracy_score'], 'o')\n",
    "\n",
    "plt.plot(gd_performance['deviation_bits'], gd_performance['outlier_accuracy_score'], 'o')\n",
    "\n",
    "plt.legend(['Test Data (No outliers)', 'Outlier Data (All outliers)'])\n",
    "plt.xlabel('Deviation Bits')\n",
    "plt.ylabel('Accuracy Score')\n",
    "plt.title('iForest on various amount of deviation bits')\n",
    "plt.show()\n",
    "\n",
    "plt.plot(gd_ext_performance['deviation_bits'], gd_performance['test_accuracy_score'], 'o')\n",
    "\n",
    "plt.plot(gd_ext_performance['deviation_bits'], gd_performance['outlier_accuracy_score'], 'o')\n",
    "\n",
    "plt.legend(['Test Data (No outliers)', 'Outlier Data (All outliers)'])\n",
    "plt.xlabel('Deviation Bits')\n",
    "plt.ylabel('Accuracy Score')\n",
    "plt.title('Extended iForest on various amount of deviation bits')\n",
    "plt.show()"
   ],
   "metadata": {
    "collapsed": false,
    "pycharm": {
     "name": "#%%\n"
    }
   }
  },
  {
   "cell_type": "markdown",
   "metadata": {
    "collapsed": false,
    "pycharm": {
     "name": "#%% md\n"
    }
   },
   "source": [
    "## Calculation - scatter"
   ]
  },
  {
   "cell_type": "code",
   "execution_count": null,
   "metadata": {
    "collapsed": false,
    "pycharm": {
     "name": "#%%\n"
    }
   },
   "outputs": [],
   "source": [
    "fig, axs = plt.subplots(2, 2)\n",
    "ax1 = axs[0,0]\n",
    "ax2 = axs[0,1]\n",
    "ax3 = axs[1,0]\n",
    "ax4 = axs[1,1]\n",
    "\n",
    "points = ax1.scatter(df_unique.gd_X, df_unique.gd_Y, c=df_unique.gd_score_converted,cmap=\"jet\", lw=0)\n",
    "plt.colorbar(points,ax=ax1)\n",
    "ax1.set_title(\"Score Scatter\")\n",
    "\n",
    "points = ax2.scatter(df_unique.gd_X, df_unique.gd_Y, c=df_unique.gd_score_converted,cmap=\"jet\", lw=0)\n",
    "plt.colorbar(points,ax=ax2)\n",
    "ax2.set_title(\"Score Scatter\")\n",
    "\n",
    "points = ax3.scatter(df_unique.gd_X, df_unique.gd_Y, c=df_unique['E[H(x)]+log_2[count(x)]'],cmap=\"jet\", lw=0)\n",
    "plt.colorbar(points,ax=ax3)\n",
    "ax3.set_title(\"E[H(x)]+log_2[count(x)]\")\n",
    "\n",
    "points = ax4.scatter(df_unique.gd_X, df_unique.gd_Y, c=df_unique['S(x,n_samples)'],cmap=\"jet\", lw=0)\n",
    "plt.colorbar(points,ax=ax4)\n",
    "ax4.set_title(\"S(x,n_samples)\")\n",
    "\n",
    "ax1.set_xticklabels([])\n",
    "ax2.set_xticklabels([])\n",
    "\n",
    "ax2.set_yticklabels([])\n",
    "ax4.set_yticklabels([])\n",
    "\n",
    "ax3.set_ylabel('Y')\n",
    "ax1.set_ylabel('Y')\n",
    "plt.show()"
   ]
  },
  {
   "cell_type": "markdown",
   "metadata": {
    "collapsed": false,
    "pycharm": {
     "name": "#%% md\n"
    }
   },
   "source": []
  },
  {
   "cell_type": "markdown",
   "source": [
    "## Deviation / Metrics tradeoffs"
   ],
   "metadata": {
    "collapsed": false,
    "pycharm": {
     "name": "#%% md\n"
    }
   }
  },
  {
   "cell_type": "markdown",
   "source": [
    "### Setup data"
   ],
   "metadata": {
    "collapsed": false,
    "pycharm": {
     "name": "#%% md\n"
    }
   }
  },
  {
   "cell_type": "code",
   "execution_count": null,
   "outputs": [],
   "source": [
    "#X_train, X_test, X_outliers, y_train, y_test, y_outlier = generate_data(100, 3, 1)\n",
    "deviation_bits_max = 8\n",
    "gd_performance = pd.DataFrame(columns=['name', 'deviation_bits', 'train_accuracy_score', 'test_accuracy_score', 'outlier_accuracy_score', 'train_precision_score', 'test_precision_score', 'outlier_precision_score','train_f1_score', 'test_f1_score', 'outlier_f1_score', 'train_recall_score', 'test_recall_score', 'outlier_recall_score', 'training_time', 'prediction_time'])\n",
    "\n",
    "gd_ext_performance = pd.DataFrame(columns=['name', 'deviation_bits', 'train_accuracy_score', 'test_accuracy_score', 'outlier_accuracy_score', 'train_precision_score', 'test_precision_score', 'outlier_precision_score','train_f1_score', 'test_f1_score', 'outlier_f1_score', 'train_recall_score', 'test_recall_score', 'outlier_recall_score', 'training_time', 'prediction_time'])"
   ],
   "metadata": {
    "collapsed": false,
    "pycharm": {
     "name": "#%%\n"
    }
   }
  },
  {
   "cell_type": "markdown",
   "source": [
    "### Perform generalized deduplication"
   ],
   "metadata": {
    "collapsed": false,
    "pycharm": {
     "name": "#%% md\n"
    }
   }
  },
  {
   "cell_type": "code",
   "execution_count": null,
   "outputs": [],
   "source": [
    "vectorized_func = np.vectorize(gd.compress_int)\n",
    "X_train_bases_arr = []\n",
    "X_test_bases_arr = []\n",
    "X_outliers_bases_arr = []\n",
    "\n",
    "for i in range(0, deviation_bits_max + 1):\n",
    "    X_train_bases_arr.append(vectorized_func(X_train, deviation_bits=i, output=\"integer\"))\n",
    "    X_test_bases_arr.append(vectorized_func(X_test, deviation_bits=i, output=\"integer\"))\n",
    "    X_outliers_bases_arr.append(vectorized_func(X_outliers, deviation_bits=i, output=\"integer\"))\n"
   ],
   "metadata": {
    "collapsed": false,
    "pycharm": {
     "name": "#%%\n"
    }
   }
  },
  {
   "cell_type": "markdown",
   "source": [
    "### Train models"
   ],
   "metadata": {
    "collapsed": false,
    "pycharm": {
     "name": "#%% md\n"
    }
   }
  },
  {
   "cell_type": "code",
   "execution_count": null,
   "outputs": [],
   "source": [
    "for i in range(0, deviation_bits_max + 1):\n",
    "    # Bases iForest\n",
    "    gd_clf = IsolationForest(random_state=rng)\n",
    "    gd_clf.fit(X_train_bases_arr[i])\n",
    "    y_pred_train = gd_clf.predict(X_train_bases_arr[i])\n",
    "    y_pred_test = gd_clf.predict(X_test_bases_arr[i])\n",
    "    gd_performance = gd_performance.append(create_performance_object(f'Bases', i, y_pred_train, y_pred_test, None, None), ignore_index=True)\n",
    "\n",
    "    # Bases Extended iForest\n",
    "    gd_ext_clf = IsolationForest(random_state=rng)\n",
    "    gd_ext_clf.fit_extended(X_train_bases_arr[i])\n",
    "    y_pred_train = gd_ext_clf.predict_extended(X_train_bases_arr[i])\n",
    "    y_pred_test = gd_ext_clf.predict_extended(X_test_bases_arr[i])\n",
    "    gd_ext_performance = gd_ext_performance.append(create_performance_object(f'Bases extended', i, y_pred_train, y_pred_test, None, None), ignore_index=True)\n",
    "\n",
    "gd_performance"
   ],
   "metadata": {
    "collapsed": false,
    "pycharm": {
     "name": "#%%\n"
    }
   }
  },
  {
   "cell_type": "code",
   "execution_count": null,
   "outputs": [],
   "source": [
    "#gd_ext_performance"
   ],
   "metadata": {
    "collapsed": false,
    "pycharm": {
     "name": "#%%\n"
    }
   }
  },
  {
   "cell_type": "markdown",
   "source": [
    "### Visualize"
   ],
   "metadata": {
    "collapsed": false,
    "pycharm": {
     "name": "#%% md\n"
    }
   }
  },
  {
   "cell_type": "code",
   "execution_count": null,
   "outputs": [],
   "source": [
    "plt.plot(gd_performance['deviation_bits'], gd_performance['test_accuracy_score'], 'o')\n",
    "\n",
    "plt.plot(gd_performance['deviation_bits'], gd_performance['outlier_accuracy_score'], 'o')\n",
    "\n",
    "plt.legend(['Test Data (No outliers)', 'Outlier Data (All outliers)'])\n",
    "plt.xlabel('Deviation Bits')\n",
    "plt.ylabel('Accuracy Score')\n",
    "plt.title('iForest on various amount of deviation bits')\n",
    "plt.show()\n",
    "\n",
    "plt.plot(gd_ext_performance['deviation_bits'], gd_performance['test_accuracy_score'], 'o')\n",
    "\n",
    "plt.plot(gd_ext_performance['deviation_bits'], gd_performance['outlier_accuracy_score'], 'o')\n",
    "\n",
    "plt.legend(['Test Data (No outliers)', 'Outlier Data (All outliers)'])\n",
    "plt.xlabel('Deviation Bits')\n",
    "plt.ylabel('Accuracy Score')\n",
    "plt.title('Extended iForest on various amount of deviation bits')\n",
    "plt.show()"
   ],
   "metadata": {
    "collapsed": false,
    "pycharm": {
     "name": "#%%\n"
    }
   }
  },
  {
   "cell_type": "markdown",
   "source": [
    "# Formulas"
   ],
   "metadata": {
    "collapsed": false,
    "pycharm": {
     "name": "#%% md\n"
    }
   }
  },
  {
   "cell_type": "markdown",
   "metadata": {
    "collapsed": false,
    "pycharm": {
     "name": "#%% md\n"
    }
   },
   "source": [
    "## Definitions\n",
    "\n",
    "$n$: number of samples\n",
    "\n",
    "$c(n)$: average path length of unsuccessfull search - constant given n\n",
    "\n",
    "$H(i)$: harmonic number - estimated by $ln(i) + e$\n",
    "\n",
    "$h(x)$: path length - number of edges x traverses an itree from the root node\n",
    "\n",
    "$n$: amount of instances/nodes - amount of bases in our situation\n",
    "\n",
    "$s$: anomaly score -\n",
    "$s(x,n)=2^{\\frac{-E(h(x))}{c(n)}}$\n",
    "\n",
    "$E(h(x))$: average of $h(x)$ from a collection of isolation trees.\n",
    "\n",
    "$f_{base}=\\log_2(n_{base})$\n",
    "\n",
    "---\n",
    "\n",
    "## Deriving equations\n",
    "1:\n",
    "\n",
    "$\\log_2(s) \\cdot c(n)=-E(h(x))$\n",
    "\n",
    "2:\n",
    "\n",
    "$\\log_2(s)=-\\frac{E(h(x))+\\log_2(f_{base})}{c(n_{samples})}$\n",
    "\n",
    "3:\n",
    "\n",
    "$\\log_2(s) \\cdot c(n) = -E(h(x))$\n",
    "\n",
    "4:\n",
    "\n",
    "$\\log_2(s) = -\\frac{E(h(x))+\\log_2(f_{base})}{c(n_{samples})}$\n",
    "\n",
    "\n",
    "---\n",
    "\n",
    "\n"
   ]
  }
 ],
 "metadata": {
  "kernelspec": {
   "display_name": "Python 3",
   "language": "python",
   "name": "python3"
  },
  "language_info": {
   "codemirror_mode": {
    "name": "ipython",
    "version": 2
   },
   "file_extension": ".py",
   "mimetype": "text/x-python",
   "name": "python",
   "nbconvert_exporter": "python",
   "pygments_lexer": "ipython2",
   "version": "2.7.6"
  }
 },
 "nbformat": 4,
 "nbformat_minor": 0
}