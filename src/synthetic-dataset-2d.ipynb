{
 "cells": [
  {
   "cell_type": "markdown",
   "metadata": {
    "collapsed": false,
    "pycharm": {
     "name": "#%% md\n"
    }
   },
   "source": [
    "# Setup"
   ]
  },
  {
   "cell_type": "markdown",
   "source": [
    "## Imports"
   ],
   "metadata": {
    "collapsed": false,
    "pycharm": {
     "name": "#%% md\n"
    }
   }
  },
  {
   "cell_type": "code",
   "execution_count": 70,
   "metadata": {
    "collapsed": false,
    "pycharm": {
     "name": "#%%\n"
    }
   },
   "outputs": [],
   "source": [
    "import time\n",
    "\n",
    "import numpy\n",
    "import pandas as pd\n",
    "import numpy as np\n",
    "from matplotlib import pyplot as plt\n",
    "from sklearn.metrics import accuracy_score, confusion_matrix, precision_score, f1_score, recall_score, roc_auc_score\n",
    "\n",
    "import gd as gd\n",
    "import math\n",
    "from random import randint\n",
    "from sklearn.ensemble import IsolationForest\n",
    "import seaborn as sns\n",
    "\n",
    "from sklearn.model_selection import train_test_split"
   ]
  },
  {
   "cell_type": "markdown",
   "metadata": {
    "collapsed": false,
    "pycharm": {
     "name": "#%% md\n"
    }
   },
   "source": [
    "## Constants"
   ]
  },
  {
   "cell_type": "code",
   "execution_count": 71,
   "metadata": {
    "collapsed": false,
    "pycharm": {
     "name": "#%%\n"
    }
   },
   "outputs": [],
   "source": [
    "# Data generation\n",
    "SAMPLE_TRAIN_SIZE = 100\n",
    "SAMPLE_TEST_SIZE = 50\n",
    "SAMPLE_OUTLIER_SIZE = 20\n",
    "sigma = 4\n",
    "\n",
    "# Generalized Deduplication\n",
    "DEVIATION_BITS = 2\n",
    "\n",
    "# Isolation Forest\n",
    "rng = np.random.RandomState(42)\n",
    "\n",
    "# Performance\n",
    "time_no_iterations = 100\n",
    "time_no_outliers_removed = 5"
   ]
  },
  {
   "cell_type": "markdown",
   "metadata": {
    "collapsed": true,
    "pycharm": {
     "name": "#%% md\n"
    }
   },
   "source": [
    "# Load Data"
   ]
  },
  {
   "cell_type": "markdown",
   "source": [
    "## Generate data"
   ],
   "metadata": {
    "collapsed": false,
    "pycharm": {
     "name": "#%% md\n"
    }
   }
  },
  {
   "cell_type": "code",
   "execution_count": 72,
   "metadata": {
    "collapsed": false,
    "pycharm": {
     "name": "#%%\n"
    }
   },
   "outputs": [],
   "source": [
    "# Generate train data\n",
    "def generate_data(cluster_size, sigma, no_clusters):\n",
    "    train_data = []\n",
    "    test_data = []\n",
    "    outlier_data = []\n",
    "    if no_clusters == 1:\n",
    "        train_data = np.r_[(\n",
    "            np.c_[((sigma * rng.randn(cluster_size, 1)).astype(int) + 50, (sigma * rng.randn(cluster_size, 1)).astype(int) + 50)],\n",
    "            )]\n",
    "        test_data = np.r_[(\n",
    "                    np.c_[((sigma * rng.randn(cluster_size, 1)).astype(int) + 50, (sigma * rng.randn(cluster_size, 1)).astype(int) + 50)],\n",
    "                )]\n",
    "        outlier_data = np.r_[\n",
    "            (np.c_[(rng.uniform(low=40, high=60, size=(2, 1))), (rng.uniform(low=70, high=85, size=(2, 1)))],\n",
    "             )].astype(int)\n",
    "    elif no_clusters == 3:\n",
    "        train_data = np.r_[(\n",
    "            np.c_[((sigma * rng.randn(cluster_size, 1)).astype(int) + 60, (sigma * rng.randn(cluster_size, 1)).astype(int) + 50)],\n",
    "            np.c_[((sigma * rng.randn(cluster_size, 1)).astype(int) + 50, (sigma * rng.randn(cluster_size, 1)).astype(int) + 100)],\n",
    "            np.c_[((sigma * rng.randn(cluster_size, 1)).astype(int) + 100, (sigma * rng.randn(cluster_size, 1)).astype(int) + 100)]\n",
    "            )]\n",
    "        test_data = np.r_[(\n",
    "                    np.c_[((sigma * rng.randn(SAMPLE_TEST_SIZE, 1)).astype(int) + 60, (sigma * rng.randn(SAMPLE_TEST_SIZE, 1)).astype(int) + 50)],\n",
    "                    np.c_[((sigma * rng.randn(SAMPLE_TEST_SIZE, 1)).astype(int) + 50, (sigma * rng.randn(SAMPLE_TEST_SIZE, 1)).astype(int) + 100)],\n",
    "                    np.c_[((sigma * rng.randn(SAMPLE_TEST_SIZE, 1)).astype(int) + 100, (sigma * rng.randn(SAMPLE_TEST_SIZE, 1)).astype(int) + 100)]\n",
    "                )]\n",
    "        outlier_data = np.r_[\n",
    "            (np.c_[(rng.uniform(low=40, high=60, size=(int(SAMPLE_OUTLIER_SIZE/2), 1))), (rng.uniform(low=70, high=85, size=(int(SAMPLE_OUTLIER_SIZE/2), 1)))],\n",
    "             np.c_[(rng.uniform(low=65, high=120, size=(int(SAMPLE_OUTLIER_SIZE/2), 1))), (rng.uniform(low=60, high=85, size=(int(SAMPLE_OUTLIER_SIZE/2), 1)))]\n",
    "             )].astype(int)\n",
    "\n",
    "    return train_data, test_data, outlier_data, np.ones(len(train_data)), np.ones(len(test_data)), np.ones(len(outlier_data)) * - 1\n",
    "\n",
    "X_train, X_test, X_outliers, y_train, y_test, y_outlier = generate_data(100, 2, 3)\n",
    "\n",
    "X = np.concatenate([X_train, X_test, X_outliers])\n",
    "y = np.concatenate([y_train, y_test, y_outlier])\n",
    "\n",
    "X_train, X_test, y_train, y_test = train_test_split(X, y, test_size=0.2, stratify=y, random_state=rng)\n",
    "\n"
   ]
  },
  {
   "cell_type": "markdown",
   "metadata": {
    "collapsed": false,
    "pycharm": {
     "name": "#%% md\n"
    }
   },
   "source": [
    "## Perform Generalized Deduplication"
   ]
  },
  {
   "cell_type": "code",
   "execution_count": 73,
   "metadata": {
    "collapsed": false,
    "pycharm": {
     "name": "#%%\n"
    }
   },
   "outputs": [],
   "source": [
    "vectorized_func = np.vectorize(gd.compress_int)\n",
    "\n",
    "X_train_bases = vectorized_func(X_train, deviation_bits=DEVIATION_BITS, output=\"integer\")\n",
    "X_test_bases = vectorized_func(X_test, deviation_bits=DEVIATION_BITS, output=\"integer\")\n",
    "X_outliers_bases = vectorized_func(X_outliers, deviation_bits=DEVIATION_BITS, output=\"integer\")"
   ]
  },
  {
   "cell_type": "markdown",
   "source": [
    "# Model Training"
   ],
   "metadata": {
    "collapsed": false,
    "pycharm": {
     "name": "#%% md\n"
    }
   }
  },
  {
   "cell_type": "markdown",
   "source": [
    "## Setup"
   ],
   "metadata": {
    "collapsed": false,
    "pycharm": {
     "name": "#%% md\n"
    }
   }
  },
  {
   "cell_type": "code",
   "execution_count": 74,
   "outputs": [],
   "source": [
    "gd_df_results = pd.DataFrame()\n",
    "gd_ext_df_results = pd.DataFrame()\n",
    "org_df_results = pd.DataFrame()\n",
    "performance = pd.DataFrame(columns=['name', 'deviation_bits', 'train_accuracy_score', 'test_accuracy_score', 'train_precision_score', 'test_precision_score','train_f1_score', 'test_f1_score',\n",
    "  'train_recall_score', 'test_recall_score',\n",
    "  'train_roc_auc_score', 'test_roc_auc_score', 'training_time', 'prediction_time'])\n",
    "\n",
    "\n",
    "def create_performance_object(name, deviation_bits, y_pred_train, y_pred_test, training_time, prediction_time):\n",
    "    return {\n",
    "    'name': name,\n",
    "    'deviation_bits': deviation_bits,\n",
    "    'train_accuracy_score': accuracy_score(y_train, y_pred_train),\n",
    "    'test_accuracy_score': accuracy_score(y_test, y_pred_test),\n",
    "    'train_precision_score': precision_score(y_train, y_pred_train),\n",
    "    'test_precision_score': precision_score(y_test, y_pred_test),\n",
    "    'train_f1_score': f1_score(y_train, y_pred_train),\n",
    "    'test_f1_score': f1_score(y_test, y_pred_test),\n",
    "    'train_recall_score': recall_score(y_train, y_pred_train),\n",
    "    'test_recall_score': recall_score(y_test, y_pred_test),\n",
    "    'train_roc_auc_score': roc_auc_score(y_train, y_pred_train),\n",
    "    'test_roc_auc_score': roc_auc_score(y_test, y_pred_test),\n",
    "    'training_time': training_time,\n",
    "    'prediction_time': prediction_time,\n",
    "    }"
   ],
   "metadata": {
    "collapsed": false,
    "pycharm": {
     "name": "#%%\n"
    }
   }
  },
  {
   "cell_type": "markdown",
   "metadata": {
    "collapsed": false,
    "pycharm": {
     "name": "#%% md\n"
    }
   },
   "source": [
    "## Isolation Forest - Bases"
   ]
  },
  {
   "cell_type": "code",
   "execution_count": 75,
   "metadata": {
    "collapsed": false,
    "pycharm": {
     "name": "#%%\n"
    }
   },
   "outputs": [
    {
     "name": "stderr",
     "output_type": "stream",
     "text": [
      "/tmp/ipykernel_161519/1953041165.py:25: FutureWarning: The frame.append method is deprecated and will be removed from pandas in a future version. Use pandas.concat instead.\n",
      "  performance = performance.append(create_performance_object('Isolation Forest Bases', DEVIATION_BITS, y_pred_train, y_pred_test, training_times[0].mean(), prediction_times[0].mean()), ignore_index=True)\n"
     ]
    },
    {
     "data": {
      "text/plain": "   gd_X  gd_Y  gd_score  gd_anomaly\n0    48    96  0.057633           1\n1    96   100  0.047200           1\n2    56    48  0.044116           1\n3    60    48  0.096699           1\n4    60    48  0.096699           1",
      "text/html": "<div>\n<style scoped>\n    .dataframe tbody tr th:only-of-type {\n        vertical-align: middle;\n    }\n\n    .dataframe tbody tr th {\n        vertical-align: top;\n    }\n\n    .dataframe thead th {\n        text-align: right;\n    }\n</style>\n<table border=\"1\" class=\"dataframe\">\n  <thead>\n    <tr style=\"text-align: right;\">\n      <th></th>\n      <th>gd_X</th>\n      <th>gd_Y</th>\n      <th>gd_score</th>\n      <th>gd_anomaly</th>\n    </tr>\n  </thead>\n  <tbody>\n    <tr>\n      <th>0</th>\n      <td>48</td>\n      <td>96</td>\n      <td>0.057633</td>\n      <td>1</td>\n    </tr>\n    <tr>\n      <th>1</th>\n      <td>96</td>\n      <td>100</td>\n      <td>0.047200</td>\n      <td>1</td>\n    </tr>\n    <tr>\n      <th>2</th>\n      <td>56</td>\n      <td>48</td>\n      <td>0.044116</td>\n      <td>1</td>\n    </tr>\n    <tr>\n      <th>3</th>\n      <td>60</td>\n      <td>48</td>\n      <td>0.096699</td>\n      <td>1</td>\n    </tr>\n    <tr>\n      <th>4</th>\n      <td>60</td>\n      <td>48</td>\n      <td>0.096699</td>\n      <td>1</td>\n    </tr>\n  </tbody>\n</table>\n</div>"
     },
     "execution_count": 75,
     "metadata": {},
     "output_type": "execute_result"
    }
   ],
   "source": [
    "training_times = []\n",
    "prediction_times = []\n",
    "for i in range(0, time_no_iterations):\n",
    "    gd_clf = IsolationForest(random_state=rng)\n",
    "    start_time = time.time()\n",
    "    gd_clf.fit(X_train_bases)\n",
    "    end_time = time.time()\n",
    "    training_time = end_time - start_time\n",
    "    training_times.append(training_time)\n",
    "\n",
    "    start_time = time.time()\n",
    "    y_pred_train = gd_clf.predict(X_train_bases)\n",
    "    y_pred_test = gd_clf.predict(X_test_bases)\n",
    "    y_pred_outliers = gd_clf.predict(X_outliers_bases)\n",
    "    end_time = time.time()\n",
    "    prediction_time = end_time - start_time\n",
    "    prediction_times.append(prediction_time)\n",
    "\n",
    "training_times = pd.DataFrame(training_times)\n",
    "prediction_times = pd.DataFrame(prediction_times)\n",
    "training_times = training_times.drop(training_times.nsmallest(time_no_outliers_removed, 0).index).drop(training_times.nlargest(time_no_outliers_removed, 0).index)\n",
    "prediction_times = prediction_times.drop(prediction_times.nsmallest(time_no_outliers_removed, 0).index).drop(prediction_times.nlargest(time_no_outliers_removed, 0).index)\n",
    "\n",
    "\n",
    "performance = performance.append(create_performance_object('Isolation Forest Bases', DEVIATION_BITS, y_pred_train, y_pred_test, training_times[0].mean(), prediction_times[0].mean()), ignore_index=True)\n",
    "\n",
    "gd_df_results['gd_X'] = X_train_bases[:,0]\n",
    "gd_df_results['gd_Y'] = X_train_bases[:,1]\n",
    "gd_df_results['gd_score'] = gd_clf.decision_function(X_train_bases)\n",
    "gd_df_results['gd_anomaly'] = gd_clf.predict(X_train_bases)\n",
    "gd_df_results.head()"
   ]
  },
  {
   "cell_type": "markdown",
   "source": [
    "## Isolation Forest - Bases - Extended"
   ],
   "metadata": {
    "collapsed": false,
    "pycharm": {
     "name": "#%% md\n"
    }
   }
  },
  {
   "cell_type": "code",
   "execution_count": 87,
   "outputs": [
    {
     "name": "stderr",
     "output_type": "stream",
     "text": [
      "/home/mlrosenquist/PycharmProjects/scikit-learn/sklearn/ensemble/_iforest.py:419: FutureWarning: The frame.append method is deprecated and will be removed from pandas in a future version. Use pandas.concat instead.\n",
      "  self.df_unique_ = self.df_unique_.append(pd.DataFrame(unique), ignore_index=True)\n",
      "/home/mlrosenquist/PycharmProjects/scikit-learn/sklearn/ensemble/_iforest.py:419: FutureWarning: The frame.append method is deprecated and will be removed from pandas in a future version. Use pandas.concat instead.\n",
      "  self.df_unique_ = self.df_unique_.append(pd.DataFrame(unique), ignore_index=True)\n",
      "/home/mlrosenquist/PycharmProjects/scikit-learn/sklearn/ensemble/_iforest.py:419: FutureWarning: The frame.append method is deprecated and will be removed from pandas in a future version. Use pandas.concat instead.\n",
      "  self.df_unique_ = self.df_unique_.append(pd.DataFrame(unique), ignore_index=True)\n",
      "/home/mlrosenquist/PycharmProjects/scikit-learn/sklearn/ensemble/_iforest.py:419: FutureWarning: The frame.append method is deprecated and will be removed from pandas in a future version. Use pandas.concat instead.\n",
      "  self.df_unique_ = self.df_unique_.append(pd.DataFrame(unique), ignore_index=True)\n",
      "/home/mlrosenquist/PycharmProjects/scikit-learn/sklearn/ensemble/_iforest.py:419: FutureWarning: The frame.append method is deprecated and will be removed from pandas in a future version. Use pandas.concat instead.\n",
      "  self.df_unique_ = self.df_unique_.append(pd.DataFrame(unique), ignore_index=True)\n",
      "/home/mlrosenquist/PycharmProjects/scikit-learn/sklearn/ensemble/_iforest.py:419: FutureWarning: The frame.append method is deprecated and will be removed from pandas in a future version. Use pandas.concat instead.\n",
      "  self.df_unique_ = self.df_unique_.append(pd.DataFrame(unique), ignore_index=True)\n",
      "/home/mlrosenquist/PycharmProjects/scikit-learn/sklearn/ensemble/_iforest.py:419: FutureWarning: The frame.append method is deprecated and will be removed from pandas in a future version. Use pandas.concat instead.\n",
      "  self.df_unique_ = self.df_unique_.append(pd.DataFrame(unique), ignore_index=True)\n",
      "/home/mlrosenquist/PycharmProjects/scikit-learn/sklearn/ensemble/_iforest.py:419: FutureWarning: The frame.append method is deprecated and will be removed from pandas in a future version. Use pandas.concat instead.\n",
      "  self.df_unique_ = self.df_unique_.append(pd.DataFrame(unique), ignore_index=True)\n",
      "/home/mlrosenquist/PycharmProjects/scikit-learn/sklearn/ensemble/_iforest.py:419: FutureWarning: The frame.append method is deprecated and will be removed from pandas in a future version. Use pandas.concat instead.\n",
      "  self.df_unique_ = self.df_unique_.append(pd.DataFrame(unique), ignore_index=True)\n",
      "/home/mlrosenquist/PycharmProjects/scikit-learn/sklearn/ensemble/_iforest.py:419: FutureWarning: The frame.append method is deprecated and will be removed from pandas in a future version. Use pandas.concat instead.\n",
      "  self.df_unique_ = self.df_unique_.append(pd.DataFrame(unique), ignore_index=True)\n",
      "/home/mlrosenquist/PycharmProjects/scikit-learn/sklearn/ensemble/_iforest.py:419: FutureWarning: The frame.append method is deprecated and will be removed from pandas in a future version. Use pandas.concat instead.\n",
      "  self.df_unique_ = self.df_unique_.append(pd.DataFrame(unique), ignore_index=True)\n",
      "/home/mlrosenquist/PycharmProjects/scikit-learn/sklearn/ensemble/_iforest.py:419: FutureWarning: The frame.append method is deprecated and will be removed from pandas in a future version. Use pandas.concat instead.\n",
      "  self.df_unique_ = self.df_unique_.append(pd.DataFrame(unique), ignore_index=True)\n",
      "/home/mlrosenquist/PycharmProjects/scikit-learn/sklearn/ensemble/_iforest.py:419: FutureWarning: The frame.append method is deprecated and will be removed from pandas in a future version. Use pandas.concat instead.\n",
      "  self.df_unique_ = self.df_unique_.append(pd.DataFrame(unique), ignore_index=True)\n",
      "/home/mlrosenquist/PycharmProjects/scikit-learn/sklearn/ensemble/_iforest.py:419: FutureWarning: The frame.append method is deprecated and will be removed from pandas in a future version. Use pandas.concat instead.\n",
      "  self.df_unique_ = self.df_unique_.append(pd.DataFrame(unique), ignore_index=True)\n",
      "/home/mlrosenquist/PycharmProjects/scikit-learn/sklearn/ensemble/_iforest.py:419: FutureWarning: The frame.append method is deprecated and will be removed from pandas in a future version. Use pandas.concat instead.\n",
      "  self.df_unique_ = self.df_unique_.append(pd.DataFrame(unique), ignore_index=True)\n",
      "/home/mlrosenquist/PycharmProjects/scikit-learn/sklearn/ensemble/_iforest.py:419: FutureWarning: The frame.append method is deprecated and will be removed from pandas in a future version. Use pandas.concat instead.\n",
      "  self.df_unique_ = self.df_unique_.append(pd.DataFrame(unique), ignore_index=True)\n",
      "/home/mlrosenquist/PycharmProjects/scikit-learn/sklearn/ensemble/_iforest.py:419: FutureWarning: The frame.append method is deprecated and will be removed from pandas in a future version. Use pandas.concat instead.\n",
      "  self.df_unique_ = self.df_unique_.append(pd.DataFrame(unique), ignore_index=True)\n",
      "/home/mlrosenquist/PycharmProjects/scikit-learn/sklearn/ensemble/_iforest.py:419: FutureWarning: The frame.append method is deprecated and will be removed from pandas in a future version. Use pandas.concat instead.\n",
      "  self.df_unique_ = self.df_unique_.append(pd.DataFrame(unique), ignore_index=True)\n",
      "/home/mlrosenquist/PycharmProjects/scikit-learn/sklearn/ensemble/_iforest.py:419: FutureWarning: The frame.append method is deprecated and will be removed from pandas in a future version. Use pandas.concat instead.\n",
      "  self.df_unique_ = self.df_unique_.append(pd.DataFrame(unique), ignore_index=True)\n",
      "/home/mlrosenquist/PycharmProjects/scikit-learn/sklearn/ensemble/_iforest.py:419: FutureWarning: The frame.append method is deprecated and will be removed from pandas in a future version. Use pandas.concat instead.\n",
      "  self.df_unique_ = self.df_unique_.append(pd.DataFrame(unique), ignore_index=True)\n",
      "/home/mlrosenquist/PycharmProjects/scikit-learn/sklearn/ensemble/_iforest.py:419: FutureWarning: The frame.append method is deprecated and will be removed from pandas in a future version. Use pandas.concat instead.\n",
      "  self.df_unique_ = self.df_unique_.append(pd.DataFrame(unique), ignore_index=True)\n",
      "/home/mlrosenquist/PycharmProjects/scikit-learn/sklearn/ensemble/_iforest.py:419: FutureWarning: The frame.append method is deprecated and will be removed from pandas in a future version. Use pandas.concat instead.\n",
      "  self.df_unique_ = self.df_unique_.append(pd.DataFrame(unique), ignore_index=True)\n",
      "/home/mlrosenquist/PycharmProjects/scikit-learn/sklearn/ensemble/_iforest.py:419: FutureWarning: The frame.append method is deprecated and will be removed from pandas in a future version. Use pandas.concat instead.\n",
      "  self.df_unique_ = self.df_unique_.append(pd.DataFrame(unique), ignore_index=True)\n",
      "/home/mlrosenquist/PycharmProjects/scikit-learn/sklearn/ensemble/_iforest.py:419: FutureWarning: The frame.append method is deprecated and will be removed from pandas in a future version. Use pandas.concat instead.\n",
      "  self.df_unique_ = self.df_unique_.append(pd.DataFrame(unique), ignore_index=True)\n",
      "/home/mlrosenquist/PycharmProjects/scikit-learn/sklearn/ensemble/_iforest.py:419: FutureWarning: The frame.append method is deprecated and will be removed from pandas in a future version. Use pandas.concat instead.\n",
      "  self.df_unique_ = self.df_unique_.append(pd.DataFrame(unique), ignore_index=True)\n",
      "/home/mlrosenquist/PycharmProjects/scikit-learn/sklearn/ensemble/_iforest.py:419: FutureWarning: The frame.append method is deprecated and will be removed from pandas in a future version. Use pandas.concat instead.\n",
      "  self.df_unique_ = self.df_unique_.append(pd.DataFrame(unique), ignore_index=True)\n",
      "/home/mlrosenquist/PycharmProjects/scikit-learn/sklearn/ensemble/_iforest.py:419: FutureWarning: The frame.append method is deprecated and will be removed from pandas in a future version. Use pandas.concat instead.\n",
      "  self.df_unique_ = self.df_unique_.append(pd.DataFrame(unique), ignore_index=True)\n",
      "/home/mlrosenquist/PycharmProjects/scikit-learn/sklearn/ensemble/_iforest.py:419: FutureWarning: The frame.append method is deprecated and will be removed from pandas in a future version. Use pandas.concat instead.\n",
      "  self.df_unique_ = self.df_unique_.append(pd.DataFrame(unique), ignore_index=True)\n",
      "/home/mlrosenquist/PycharmProjects/scikit-learn/sklearn/ensemble/_iforest.py:419: FutureWarning: The frame.append method is deprecated and will be removed from pandas in a future version. Use pandas.concat instead.\n",
      "  self.df_unique_ = self.df_unique_.append(pd.DataFrame(unique), ignore_index=True)\n",
      "/home/mlrosenquist/PycharmProjects/scikit-learn/sklearn/ensemble/_iforest.py:419: FutureWarning: The frame.append method is deprecated and will be removed from pandas in a future version. Use pandas.concat instead.\n",
      "  self.df_unique_ = self.df_unique_.append(pd.DataFrame(unique), ignore_index=True)\n",
      "/home/mlrosenquist/PycharmProjects/scikit-learn/sklearn/ensemble/_iforest.py:419: FutureWarning: The frame.append method is deprecated and will be removed from pandas in a future version. Use pandas.concat instead.\n",
      "  self.df_unique_ = self.df_unique_.append(pd.DataFrame(unique), ignore_index=True)\n",
      "/home/mlrosenquist/PycharmProjects/scikit-learn/sklearn/ensemble/_iforest.py:419: FutureWarning: The frame.append method is deprecated and will be removed from pandas in a future version. Use pandas.concat instead.\n",
      "  self.df_unique_ = self.df_unique_.append(pd.DataFrame(unique), ignore_index=True)\n",
      "/home/mlrosenquist/PycharmProjects/scikit-learn/sklearn/ensemble/_iforest.py:419: FutureWarning: The frame.append method is deprecated and will be removed from pandas in a future version. Use pandas.concat instead.\n",
      "  self.df_unique_ = self.df_unique_.append(pd.DataFrame(unique), ignore_index=True)\n",
      "/home/mlrosenquist/PycharmProjects/scikit-learn/sklearn/ensemble/_iforest.py:419: FutureWarning: The frame.append method is deprecated and will be removed from pandas in a future version. Use pandas.concat instead.\n",
      "  self.df_unique_ = self.df_unique_.append(pd.DataFrame(unique), ignore_index=True)\n",
      "/home/mlrosenquist/PycharmProjects/scikit-learn/sklearn/ensemble/_iforest.py:419: FutureWarning: The frame.append method is deprecated and will be removed from pandas in a future version. Use pandas.concat instead.\n",
      "  self.df_unique_ = self.df_unique_.append(pd.DataFrame(unique), ignore_index=True)\n",
      "/home/mlrosenquist/PycharmProjects/scikit-learn/sklearn/ensemble/_iforest.py:419: FutureWarning: The frame.append method is deprecated and will be removed from pandas in a future version. Use pandas.concat instead.\n",
      "  self.df_unique_ = self.df_unique_.append(pd.DataFrame(unique), ignore_index=True)\n",
      "/home/mlrosenquist/PycharmProjects/scikit-learn/sklearn/ensemble/_iforest.py:419: FutureWarning: The frame.append method is deprecated and will be removed from pandas in a future version. Use pandas.concat instead.\n",
      "  self.df_unique_ = self.df_unique_.append(pd.DataFrame(unique), ignore_index=True)\n",
      "/home/mlrosenquist/PycharmProjects/scikit-learn/sklearn/ensemble/_iforest.py:419: FutureWarning: The frame.append method is deprecated and will be removed from pandas in a future version. Use pandas.concat instead.\n",
      "  self.df_unique_ = self.df_unique_.append(pd.DataFrame(unique), ignore_index=True)\n",
      "/home/mlrosenquist/PycharmProjects/scikit-learn/sklearn/ensemble/_iforest.py:419: FutureWarning: The frame.append method is deprecated and will be removed from pandas in a future version. Use pandas.concat instead.\n",
      "  self.df_unique_ = self.df_unique_.append(pd.DataFrame(unique), ignore_index=True)\n",
      "/home/mlrosenquist/PycharmProjects/scikit-learn/sklearn/ensemble/_iforest.py:419: FutureWarning: The frame.append method is deprecated and will be removed from pandas in a future version. Use pandas.concat instead.\n",
      "  self.df_unique_ = self.df_unique_.append(pd.DataFrame(unique), ignore_index=True)\n",
      "/home/mlrosenquist/PycharmProjects/scikit-learn/sklearn/ensemble/_iforest.py:419: FutureWarning: The frame.append method is deprecated and will be removed from pandas in a future version. Use pandas.concat instead.\n",
      "  self.df_unique_ = self.df_unique_.append(pd.DataFrame(unique), ignore_index=True)\n",
      "/home/mlrosenquist/PycharmProjects/scikit-learn/sklearn/ensemble/_iforest.py:419: FutureWarning: The frame.append method is deprecated and will be removed from pandas in a future version. Use pandas.concat instead.\n",
      "  self.df_unique_ = self.df_unique_.append(pd.DataFrame(unique), ignore_index=True)\n",
      "/home/mlrosenquist/PycharmProjects/scikit-learn/sklearn/ensemble/_iforest.py:419: FutureWarning: The frame.append method is deprecated and will be removed from pandas in a future version. Use pandas.concat instead.\n",
      "  self.df_unique_ = self.df_unique_.append(pd.DataFrame(unique), ignore_index=True)\n",
      "/home/mlrosenquist/PycharmProjects/scikit-learn/sklearn/ensemble/_iforest.py:419: FutureWarning: The frame.append method is deprecated and will be removed from pandas in a future version. Use pandas.concat instead.\n",
      "  self.df_unique_ = self.df_unique_.append(pd.DataFrame(unique), ignore_index=True)\n",
      "/home/mlrosenquist/PycharmProjects/scikit-learn/sklearn/ensemble/_iforest.py:419: FutureWarning: The frame.append method is deprecated and will be removed from pandas in a future version. Use pandas.concat instead.\n",
      "  self.df_unique_ = self.df_unique_.append(pd.DataFrame(unique), ignore_index=True)\n",
      "/home/mlrosenquist/PycharmProjects/scikit-learn/sklearn/ensemble/_iforest.py:419: FutureWarning: The frame.append method is deprecated and will be removed from pandas in a future version. Use pandas.concat instead.\n",
      "  self.df_unique_ = self.df_unique_.append(pd.DataFrame(unique), ignore_index=True)\n",
      "/home/mlrosenquist/PycharmProjects/scikit-learn/sklearn/ensemble/_iforest.py:419: FutureWarning: The frame.append method is deprecated and will be removed from pandas in a future version. Use pandas.concat instead.\n",
      "  self.df_unique_ = self.df_unique_.append(pd.DataFrame(unique), ignore_index=True)\n",
      "/home/mlrosenquist/PycharmProjects/scikit-learn/sklearn/ensemble/_iforest.py:419: FutureWarning: The frame.append method is deprecated and will be removed from pandas in a future version. Use pandas.concat instead.\n",
      "  self.df_unique_ = self.df_unique_.append(pd.DataFrame(unique), ignore_index=True)\n",
      "/home/mlrosenquist/PycharmProjects/scikit-learn/sklearn/ensemble/_iforest.py:419: FutureWarning: The frame.append method is deprecated and will be removed from pandas in a future version. Use pandas.concat instead.\n",
      "  self.df_unique_ = self.df_unique_.append(pd.DataFrame(unique), ignore_index=True)\n",
      "/home/mlrosenquist/PycharmProjects/scikit-learn/sklearn/ensemble/_iforest.py:419: FutureWarning: The frame.append method is deprecated and will be removed from pandas in a future version. Use pandas.concat instead.\n",
      "  self.df_unique_ = self.df_unique_.append(pd.DataFrame(unique), ignore_index=True)\n",
      "/home/mlrosenquist/PycharmProjects/scikit-learn/sklearn/ensemble/_iforest.py:419: FutureWarning: The frame.append method is deprecated and will be removed from pandas in a future version. Use pandas.concat instead.\n",
      "  self.df_unique_ = self.df_unique_.append(pd.DataFrame(unique), ignore_index=True)\n",
      "/home/mlrosenquist/PycharmProjects/scikit-learn/sklearn/ensemble/_iforest.py:419: FutureWarning: The frame.append method is deprecated and will be removed from pandas in a future version. Use pandas.concat instead.\n",
      "  self.df_unique_ = self.df_unique_.append(pd.DataFrame(unique), ignore_index=True)\n",
      "/home/mlrosenquist/PycharmProjects/scikit-learn/sklearn/ensemble/_iforest.py:419: FutureWarning: The frame.append method is deprecated and will be removed from pandas in a future version. Use pandas.concat instead.\n",
      "  self.df_unique_ = self.df_unique_.append(pd.DataFrame(unique), ignore_index=True)\n",
      "/home/mlrosenquist/PycharmProjects/scikit-learn/sklearn/ensemble/_iforest.py:419: FutureWarning: The frame.append method is deprecated and will be removed from pandas in a future version. Use pandas.concat instead.\n",
      "  self.df_unique_ = self.df_unique_.append(pd.DataFrame(unique), ignore_index=True)\n",
      "/home/mlrosenquist/PycharmProjects/scikit-learn/sklearn/ensemble/_iforest.py:419: FutureWarning: The frame.append method is deprecated and will be removed from pandas in a future version. Use pandas.concat instead.\n",
      "  self.df_unique_ = self.df_unique_.append(pd.DataFrame(unique), ignore_index=True)\n",
      "/home/mlrosenquist/PycharmProjects/scikit-learn/sklearn/ensemble/_iforest.py:419: FutureWarning: The frame.append method is deprecated and will be removed from pandas in a future version. Use pandas.concat instead.\n",
      "  self.df_unique_ = self.df_unique_.append(pd.DataFrame(unique), ignore_index=True)\n",
      "/home/mlrosenquist/PycharmProjects/scikit-learn/sklearn/ensemble/_iforest.py:419: FutureWarning: The frame.append method is deprecated and will be removed from pandas in a future version. Use pandas.concat instead.\n",
      "  self.df_unique_ = self.df_unique_.append(pd.DataFrame(unique), ignore_index=True)\n",
      "/home/mlrosenquist/PycharmProjects/scikit-learn/sklearn/ensemble/_iforest.py:419: FutureWarning: The frame.append method is deprecated and will be removed from pandas in a future version. Use pandas.concat instead.\n",
      "  self.df_unique_ = self.df_unique_.append(pd.DataFrame(unique), ignore_index=True)\n",
      "/home/mlrosenquist/PycharmProjects/scikit-learn/sklearn/ensemble/_iforest.py:419: FutureWarning: The frame.append method is deprecated and will be removed from pandas in a future version. Use pandas.concat instead.\n",
      "  self.df_unique_ = self.df_unique_.append(pd.DataFrame(unique), ignore_index=True)\n",
      "/home/mlrosenquist/PycharmProjects/scikit-learn/sklearn/ensemble/_iforest.py:419: FutureWarning: The frame.append method is deprecated and will be removed from pandas in a future version. Use pandas.concat instead.\n",
      "  self.df_unique_ = self.df_unique_.append(pd.DataFrame(unique), ignore_index=True)\n",
      "/home/mlrosenquist/PycharmProjects/scikit-learn/sklearn/ensemble/_iforest.py:419: FutureWarning: The frame.append method is deprecated and will be removed from pandas in a future version. Use pandas.concat instead.\n",
      "  self.df_unique_ = self.df_unique_.append(pd.DataFrame(unique), ignore_index=True)\n",
      "/home/mlrosenquist/PycharmProjects/scikit-learn/sklearn/ensemble/_iforest.py:419: FutureWarning: The frame.append method is deprecated and will be removed from pandas in a future version. Use pandas.concat instead.\n",
      "  self.df_unique_ = self.df_unique_.append(pd.DataFrame(unique), ignore_index=True)\n",
      "/home/mlrosenquist/PycharmProjects/scikit-learn/sklearn/ensemble/_iforest.py:419: FutureWarning: The frame.append method is deprecated and will be removed from pandas in a future version. Use pandas.concat instead.\n",
      "  self.df_unique_ = self.df_unique_.append(pd.DataFrame(unique), ignore_index=True)\n",
      "/home/mlrosenquist/PycharmProjects/scikit-learn/sklearn/ensemble/_iforest.py:419: FutureWarning: The frame.append method is deprecated and will be removed from pandas in a future version. Use pandas.concat instead.\n",
      "  self.df_unique_ = self.df_unique_.append(pd.DataFrame(unique), ignore_index=True)\n",
      "/home/mlrosenquist/PycharmProjects/scikit-learn/sklearn/ensemble/_iforest.py:419: FutureWarning: The frame.append method is deprecated and will be removed from pandas in a future version. Use pandas.concat instead.\n",
      "  self.df_unique_ = self.df_unique_.append(pd.DataFrame(unique), ignore_index=True)\n",
      "/home/mlrosenquist/PycharmProjects/scikit-learn/sklearn/ensemble/_iforest.py:419: FutureWarning: The frame.append method is deprecated and will be removed from pandas in a future version. Use pandas.concat instead.\n",
      "  self.df_unique_ = self.df_unique_.append(pd.DataFrame(unique), ignore_index=True)\n",
      "/home/mlrosenquist/PycharmProjects/scikit-learn/sklearn/ensemble/_iforest.py:419: FutureWarning: The frame.append method is deprecated and will be removed from pandas in a future version. Use pandas.concat instead.\n",
      "  self.df_unique_ = self.df_unique_.append(pd.DataFrame(unique), ignore_index=True)\n",
      "/home/mlrosenquist/PycharmProjects/scikit-learn/sklearn/ensemble/_iforest.py:419: FutureWarning: The frame.append method is deprecated and will be removed from pandas in a future version. Use pandas.concat instead.\n",
      "  self.df_unique_ = self.df_unique_.append(pd.DataFrame(unique), ignore_index=True)\n",
      "/home/mlrosenquist/PycharmProjects/scikit-learn/sklearn/ensemble/_iforest.py:419: FutureWarning: The frame.append method is deprecated and will be removed from pandas in a future version. Use pandas.concat instead.\n",
      "  self.df_unique_ = self.df_unique_.append(pd.DataFrame(unique), ignore_index=True)\n",
      "/home/mlrosenquist/PycharmProjects/scikit-learn/sklearn/ensemble/_iforest.py:419: FutureWarning: The frame.append method is deprecated and will be removed from pandas in a future version. Use pandas.concat instead.\n",
      "  self.df_unique_ = self.df_unique_.append(pd.DataFrame(unique), ignore_index=True)\n",
      "/home/mlrosenquist/PycharmProjects/scikit-learn/sklearn/ensemble/_iforest.py:419: FutureWarning: The frame.append method is deprecated and will be removed from pandas in a future version. Use pandas.concat instead.\n",
      "  self.df_unique_ = self.df_unique_.append(pd.DataFrame(unique), ignore_index=True)\n",
      "/home/mlrosenquist/PycharmProjects/scikit-learn/sklearn/ensemble/_iforest.py:419: FutureWarning: The frame.append method is deprecated and will be removed from pandas in a future version. Use pandas.concat instead.\n",
      "  self.df_unique_ = self.df_unique_.append(pd.DataFrame(unique), ignore_index=True)\n",
      "/home/mlrosenquist/PycharmProjects/scikit-learn/sklearn/ensemble/_iforest.py:419: FutureWarning: The frame.append method is deprecated and will be removed from pandas in a future version. Use pandas.concat instead.\n",
      "  self.df_unique_ = self.df_unique_.append(pd.DataFrame(unique), ignore_index=True)\n",
      "/home/mlrosenquist/PycharmProjects/scikit-learn/sklearn/ensemble/_iforest.py:419: FutureWarning: The frame.append method is deprecated and will be removed from pandas in a future version. Use pandas.concat instead.\n",
      "  self.df_unique_ = self.df_unique_.append(pd.DataFrame(unique), ignore_index=True)\n",
      "/home/mlrosenquist/PycharmProjects/scikit-learn/sklearn/ensemble/_iforest.py:419: FutureWarning: The frame.append method is deprecated and will be removed from pandas in a future version. Use pandas.concat instead.\n",
      "  self.df_unique_ = self.df_unique_.append(pd.DataFrame(unique), ignore_index=True)\n",
      "/home/mlrosenquist/PycharmProjects/scikit-learn/sklearn/ensemble/_iforest.py:419: FutureWarning: The frame.append method is deprecated and will be removed from pandas in a future version. Use pandas.concat instead.\n",
      "  self.df_unique_ = self.df_unique_.append(pd.DataFrame(unique), ignore_index=True)\n",
      "/home/mlrosenquist/PycharmProjects/scikit-learn/sklearn/ensemble/_iforest.py:419: FutureWarning: The frame.append method is deprecated and will be removed from pandas in a future version. Use pandas.concat instead.\n",
      "  self.df_unique_ = self.df_unique_.append(pd.DataFrame(unique), ignore_index=True)\n",
      "/home/mlrosenquist/PycharmProjects/scikit-learn/sklearn/ensemble/_iforest.py:419: FutureWarning: The frame.append method is deprecated and will be removed from pandas in a future version. Use pandas.concat instead.\n",
      "  self.df_unique_ = self.df_unique_.append(pd.DataFrame(unique), ignore_index=True)\n",
      "/home/mlrosenquist/PycharmProjects/scikit-learn/sklearn/ensemble/_iforest.py:419: FutureWarning: The frame.append method is deprecated and will be removed from pandas in a future version. Use pandas.concat instead.\n",
      "  self.df_unique_ = self.df_unique_.append(pd.DataFrame(unique), ignore_index=True)\n",
      "/home/mlrosenquist/PycharmProjects/scikit-learn/sklearn/ensemble/_iforest.py:419: FutureWarning: The frame.append method is deprecated and will be removed from pandas in a future version. Use pandas.concat instead.\n",
      "  self.df_unique_ = self.df_unique_.append(pd.DataFrame(unique), ignore_index=True)\n",
      "/home/mlrosenquist/PycharmProjects/scikit-learn/sklearn/ensemble/_iforest.py:419: FutureWarning: The frame.append method is deprecated and will be removed from pandas in a future version. Use pandas.concat instead.\n",
      "  self.df_unique_ = self.df_unique_.append(pd.DataFrame(unique), ignore_index=True)\n",
      "/home/mlrosenquist/PycharmProjects/scikit-learn/sklearn/ensemble/_iforest.py:419: FutureWarning: The frame.append method is deprecated and will be removed from pandas in a future version. Use pandas.concat instead.\n",
      "  self.df_unique_ = self.df_unique_.append(pd.DataFrame(unique), ignore_index=True)\n",
      "/home/mlrosenquist/PycharmProjects/scikit-learn/sklearn/ensemble/_iforest.py:419: FutureWarning: The frame.append method is deprecated and will be removed from pandas in a future version. Use pandas.concat instead.\n",
      "  self.df_unique_ = self.df_unique_.append(pd.DataFrame(unique), ignore_index=True)\n",
      "/home/mlrosenquist/PycharmProjects/scikit-learn/sklearn/ensemble/_iforest.py:419: FutureWarning: The frame.append method is deprecated and will be removed from pandas in a future version. Use pandas.concat instead.\n",
      "  self.df_unique_ = self.df_unique_.append(pd.DataFrame(unique), ignore_index=True)\n",
      "/home/mlrosenquist/PycharmProjects/scikit-learn/sklearn/ensemble/_iforest.py:419: FutureWarning: The frame.append method is deprecated and will be removed from pandas in a future version. Use pandas.concat instead.\n",
      "  self.df_unique_ = self.df_unique_.append(pd.DataFrame(unique), ignore_index=True)\n",
      "/home/mlrosenquist/PycharmProjects/scikit-learn/sklearn/ensemble/_iforest.py:419: FutureWarning: The frame.append method is deprecated and will be removed from pandas in a future version. Use pandas.concat instead.\n",
      "  self.df_unique_ = self.df_unique_.append(pd.DataFrame(unique), ignore_index=True)\n",
      "/home/mlrosenquist/PycharmProjects/scikit-learn/sklearn/ensemble/_iforest.py:419: FutureWarning: The frame.append method is deprecated and will be removed from pandas in a future version. Use pandas.concat instead.\n",
      "  self.df_unique_ = self.df_unique_.append(pd.DataFrame(unique), ignore_index=True)\n",
      "/home/mlrosenquist/PycharmProjects/scikit-learn/sklearn/ensemble/_iforest.py:419: FutureWarning: The frame.append method is deprecated and will be removed from pandas in a future version. Use pandas.concat instead.\n",
      "  self.df_unique_ = self.df_unique_.append(pd.DataFrame(unique), ignore_index=True)\n",
      "/home/mlrosenquist/PycharmProjects/scikit-learn/sklearn/ensemble/_iforest.py:419: FutureWarning: The frame.append method is deprecated and will be removed from pandas in a future version. Use pandas.concat instead.\n",
      "  self.df_unique_ = self.df_unique_.append(pd.DataFrame(unique), ignore_index=True)\n",
      "/home/mlrosenquist/PycharmProjects/scikit-learn/sklearn/ensemble/_iforest.py:419: FutureWarning: The frame.append method is deprecated and will be removed from pandas in a future version. Use pandas.concat instead.\n",
      "  self.df_unique_ = self.df_unique_.append(pd.DataFrame(unique), ignore_index=True)\n",
      "/home/mlrosenquist/PycharmProjects/scikit-learn/sklearn/ensemble/_iforest.py:419: FutureWarning: The frame.append method is deprecated and will be removed from pandas in a future version. Use pandas.concat instead.\n",
      "  self.df_unique_ = self.df_unique_.append(pd.DataFrame(unique), ignore_index=True)\n",
      "/home/mlrosenquist/PycharmProjects/scikit-learn/sklearn/ensemble/_iforest.py:419: FutureWarning: The frame.append method is deprecated and will be removed from pandas in a future version. Use pandas.concat instead.\n",
      "  self.df_unique_ = self.df_unique_.append(pd.DataFrame(unique), ignore_index=True)\n",
      "/home/mlrosenquist/PycharmProjects/scikit-learn/sklearn/ensemble/_iforest.py:419: FutureWarning: The frame.append method is deprecated and will be removed from pandas in a future version. Use pandas.concat instead.\n",
      "  self.df_unique_ = self.df_unique_.append(pd.DataFrame(unique), ignore_index=True)\n",
      "/home/mlrosenquist/PycharmProjects/scikit-learn/sklearn/ensemble/_iforest.py:419: FutureWarning: The frame.append method is deprecated and will be removed from pandas in a future version. Use pandas.concat instead.\n",
      "  self.df_unique_ = self.df_unique_.append(pd.DataFrame(unique), ignore_index=True)\n",
      "/home/mlrosenquist/PycharmProjects/scikit-learn/sklearn/ensemble/_iforest.py:419: FutureWarning: The frame.append method is deprecated and will be removed from pandas in a future version. Use pandas.concat instead.\n",
      "  self.df_unique_ = self.df_unique_.append(pd.DataFrame(unique), ignore_index=True)\n",
      "/home/mlrosenquist/PycharmProjects/scikit-learn/sklearn/ensemble/_iforest.py:419: FutureWarning: The frame.append method is deprecated and will be removed from pandas in a future version. Use pandas.concat instead.\n",
      "  self.df_unique_ = self.df_unique_.append(pd.DataFrame(unique), ignore_index=True)\n",
      "/home/mlrosenquist/PycharmProjects/scikit-learn/sklearn/ensemble/_iforest.py:419: FutureWarning: The frame.append method is deprecated and will be removed from pandas in a future version. Use pandas.concat instead.\n",
      "  self.df_unique_ = self.df_unique_.append(pd.DataFrame(unique), ignore_index=True)\n",
      "/home/mlrosenquist/PycharmProjects/scikit-learn/sklearn/ensemble/_iforest.py:419: FutureWarning: The frame.append method is deprecated and will be removed from pandas in a future version. Use pandas.concat instead.\n",
      "  self.df_unique_ = self.df_unique_.append(pd.DataFrame(unique), ignore_index=True)\n",
      "/home/mlrosenquist/PycharmProjects/scikit-learn/sklearn/ensemble/_iforest.py:419: FutureWarning: The frame.append method is deprecated and will be removed from pandas in a future version. Use pandas.concat instead.\n",
      "  self.df_unique_ = self.df_unique_.append(pd.DataFrame(unique), ignore_index=True)\n",
      "/home/mlrosenquist/PycharmProjects/scikit-learn/sklearn/ensemble/_iforest.py:419: FutureWarning: The frame.append method is deprecated and will be removed from pandas in a future version. Use pandas.concat instead.\n",
      "  self.df_unique_ = self.df_unique_.append(pd.DataFrame(unique), ignore_index=True)\n",
      "/tmp/ipykernel_161519/1852130729.py:24: FutureWarning: The frame.append method is deprecated and will be removed from pandas in a future version. Use pandas.concat instead.\n",
      "  performance = performance.append(create_performance_object('Isolation Forest Bases - extended', DEVIATION_BITS, y_pred_train, y_pred_test, training_times[0].mean(), prediction_times[0].mean()), ignore_index=True)\n"
     ]
    },
    {
     "data": {
      "text/plain": "   gd_X  gd_Y  gd_score  gd_anomaly\n0    48    96  0.059028           1\n1    96   100  0.047645           1\n2    56    48  0.046893           1\n3    60    48  0.098490           1\n4    60    48  0.098490           1",
      "text/html": "<div>\n<style scoped>\n    .dataframe tbody tr th:only-of-type {\n        vertical-align: middle;\n    }\n\n    .dataframe tbody tr th {\n        vertical-align: top;\n    }\n\n    .dataframe thead th {\n        text-align: right;\n    }\n</style>\n<table border=\"1\" class=\"dataframe\">\n  <thead>\n    <tr style=\"text-align: right;\">\n      <th></th>\n      <th>gd_X</th>\n      <th>gd_Y</th>\n      <th>gd_score</th>\n      <th>gd_anomaly</th>\n    </tr>\n  </thead>\n  <tbody>\n    <tr>\n      <th>0</th>\n      <td>48</td>\n      <td>96</td>\n      <td>0.059028</td>\n      <td>1</td>\n    </tr>\n    <tr>\n      <th>1</th>\n      <td>96</td>\n      <td>100</td>\n      <td>0.047645</td>\n      <td>1</td>\n    </tr>\n    <tr>\n      <th>2</th>\n      <td>56</td>\n      <td>48</td>\n      <td>0.046893</td>\n      <td>1</td>\n    </tr>\n    <tr>\n      <th>3</th>\n      <td>60</td>\n      <td>48</td>\n      <td>0.098490</td>\n      <td>1</td>\n    </tr>\n    <tr>\n      <th>4</th>\n      <td>60</td>\n      <td>48</td>\n      <td>0.098490</td>\n      <td>1</td>\n    </tr>\n  </tbody>\n</table>\n</div>"
     },
     "execution_count": 87,
     "metadata": {},
     "output_type": "execute_result"
    }
   ],
   "source": [
    "training_times = []\n",
    "prediction_times = []\n",
    "for i in range(0, time_no_iterations):\n",
    "    gd_ext_clf = IsolationForest(random_state=rng)\n",
    "    start_time = time.time()\n",
    "    gd_ext_clf.fit_extended(X_train_bases)\n",
    "    end_time = time.time()\n",
    "    training_time = end_time - start_time\n",
    "    training_times.append(training_time)\n",
    "\n",
    "    start_time = time.time()\n",
    "    y_pred_train = gd_ext_clf.predict_extended(X_train_bases)\n",
    "    y_pred_test = gd_ext_clf.predict_extended(X_test_bases)\n",
    "    end_time = time.time()\n",
    "    prediction_time = end_time - start_time\n",
    "    prediction_times.append(prediction_time)\n",
    "\n",
    "training_times = pd.DataFrame(training_times)\n",
    "prediction_times = pd.DataFrame(prediction_times)\n",
    "training_times = training_times.drop(training_times.nsmallest(time_no_outliers_removed, 0).index).drop(training_times.nlargest(time_no_outliers_removed, 0).index)\n",
    "prediction_times = prediction_times.drop(prediction_times.nsmallest(time_no_outliers_removed, 0).index).drop(prediction_times.nlargest(time_no_outliers_removed, 0).index)\n",
    "\n",
    "\n",
    "performance = performance.append(create_performance_object('Isolation Forest Bases - extended', DEVIATION_BITS, y_pred_train, y_pred_test, training_times[0].mean(), prediction_times[0].mean()), ignore_index=True)\n",
    "\n",
    "gd_ext_df_results['gd_X'] = X_train_bases[:,0]\n",
    "gd_ext_df_results['gd_Y'] = X_train_bases[:,1]\n",
    "gd_ext_df_results['gd_score'] = gd_ext_clf.decision_function_extended(X_train_bases)\n",
    "gd_ext_df_results['gd_anomaly'] = y_pred_train\n",
    "gd_ext_df_results.head()"
   ],
   "metadata": {
    "collapsed": false,
    "pycharm": {
     "name": "#%%\n"
    }
   }
  },
  {
   "cell_type": "markdown",
   "source": [
    "## Isolation Forest Original Data"
   ],
   "metadata": {
    "collapsed": false
   }
  },
  {
   "cell_type": "markdown",
   "source": [],
   "metadata": {
    "collapsed": false
   }
  },
  {
   "cell_type": "code",
   "execution_count": 77,
   "metadata": {
    "collapsed": false,
    "pycharm": {
     "name": "#%%\n"
    }
   },
   "outputs": [
    {
     "name": "stderr",
     "output_type": "stream",
     "text": [
      "/tmp/ipykernel_161519/1599857928.py:24: FutureWarning: The frame.append method is deprecated and will be removed from pandas in a future version. Use pandas.concat instead.\n",
      "  performance = performance.append(create_performance_object('Isolation Forest Original', DEVIATION_BITS, y_pred_train, y_pred_test, training_times[0].mean(), prediction_times[0].mean()), ignore_index=True)\n"
     ]
    },
    {
     "data": {
      "text/plain": "   org_X  org_Y  org_score  org_anomaly\n0     51     99   0.084698            1\n1     98    100   0.082113            1\n2     59     51   0.037980            1\n3     60     48   0.065727            1\n4     60     51   0.065855            1",
      "text/html": "<div>\n<style scoped>\n    .dataframe tbody tr th:only-of-type {\n        vertical-align: middle;\n    }\n\n    .dataframe tbody tr th {\n        vertical-align: top;\n    }\n\n    .dataframe thead th {\n        text-align: right;\n    }\n</style>\n<table border=\"1\" class=\"dataframe\">\n  <thead>\n    <tr style=\"text-align: right;\">\n      <th></th>\n      <th>org_X</th>\n      <th>org_Y</th>\n      <th>org_score</th>\n      <th>org_anomaly</th>\n    </tr>\n  </thead>\n  <tbody>\n    <tr>\n      <th>0</th>\n      <td>51</td>\n      <td>99</td>\n      <td>0.084698</td>\n      <td>1</td>\n    </tr>\n    <tr>\n      <th>1</th>\n      <td>98</td>\n      <td>100</td>\n      <td>0.082113</td>\n      <td>1</td>\n    </tr>\n    <tr>\n      <th>2</th>\n      <td>59</td>\n      <td>51</td>\n      <td>0.037980</td>\n      <td>1</td>\n    </tr>\n    <tr>\n      <th>3</th>\n      <td>60</td>\n      <td>48</td>\n      <td>0.065727</td>\n      <td>1</td>\n    </tr>\n    <tr>\n      <th>4</th>\n      <td>60</td>\n      <td>51</td>\n      <td>0.065855</td>\n      <td>1</td>\n    </tr>\n  </tbody>\n</table>\n</div>"
     },
     "execution_count": 77,
     "metadata": {},
     "output_type": "execute_result"
    }
   ],
   "source": [
    "training_times = []\n",
    "prediction_times = []\n",
    "for i in range(0, time_no_iterations):\n",
    "    org_clf = IsolationForest(random_state=rng)\n",
    "    start_time = time.time()\n",
    "    org_clf.fit(X_train)\n",
    "    end_time = time.time()\n",
    "    training_time = end_time - start_time\n",
    "    training_times.append(training_time)\n",
    "\n",
    "    start_time = time.time()\n",
    "    y_pred_train = org_clf.predict(X_train)\n",
    "    y_pred_test = org_clf.predict(X_test)\n",
    "    y_pred_outliers = org_clf.predict(X_outliers)\n",
    "    end_time = time.time()\n",
    "    prediction_time = end_time - start_time\n",
    "    prediction_times.append(prediction_time)\n",
    "\n",
    "training_times = pd.DataFrame(training_times)\n",
    "prediction_times = pd.DataFrame(prediction_times)\n",
    "training_times = training_times.drop(training_times.nsmallest(time_no_outliers_removed, 0).index).drop(training_times.nlargest(time_no_outliers_removed, 0).index)\n",
    "prediction_times = prediction_times.drop(prediction_times.nsmallest(time_no_outliers_removed, 0).index).drop(prediction_times.nlargest(time_no_outliers_removed, 0).index)\n",
    "\n",
    "performance = performance.append(create_performance_object('Isolation Forest Original', DEVIATION_BITS, y_pred_train, y_pred_test, training_times[0].mean(), prediction_times[0].mean()), ignore_index=True)\n",
    "\n",
    "org_df_results['org_X'] = X_train[:,0]\n",
    "org_df_results['org_Y'] = X_train[:,1]\n",
    "org_df_results['org_score'] = org_clf.decision_function(X_train)\n",
    "org_df_results['org_anomaly'] = org_clf.predict(X_train)\n",
    "org_df_results.head()"
   ]
  },
  {
   "cell_type": "markdown",
   "metadata": {
    "collapsed": false,
    "pycharm": {
     "name": "#%% md\n"
    }
   },
   "source": [
    "# Calculations"
   ]
  },
  {
   "cell_type": "markdown",
   "metadata": {
    "collapsed": false,
    "pycharm": {
     "name": "#%% md\n"
    }
   },
   "source": [
    "### Count amount of base occurences"
   ]
  },
  {
   "cell_type": "code",
   "execution_count": 78,
   "metadata": {
    "collapsed": false,
    "pycharm": {
     "name": "#%%\n"
    }
   },
   "outputs": [
    {
     "data": {
      "text/plain": "   gd_X  gd_Y  gd_counts  gd_org_idx\n0    40    76          1         262\n1    40    80          1         208\n2    44    76          1         288\n3    44    80          1          42\n4    44    96          4          65",
      "text/html": "<div>\n<style scoped>\n    .dataframe tbody tr th:only-of-type {\n        vertical-align: middle;\n    }\n\n    .dataframe tbody tr th {\n        vertical-align: top;\n    }\n\n    .dataframe thead th {\n        text-align: right;\n    }\n</style>\n<table border=\"1\" class=\"dataframe\">\n  <thead>\n    <tr style=\"text-align: right;\">\n      <th></th>\n      <th>gd_X</th>\n      <th>gd_Y</th>\n      <th>gd_counts</th>\n      <th>gd_org_idx</th>\n    </tr>\n  </thead>\n  <tbody>\n    <tr>\n      <th>0</th>\n      <td>40</td>\n      <td>76</td>\n      <td>1</td>\n      <td>262</td>\n    </tr>\n    <tr>\n      <th>1</th>\n      <td>40</td>\n      <td>80</td>\n      <td>1</td>\n      <td>208</td>\n    </tr>\n    <tr>\n      <th>2</th>\n      <td>44</td>\n      <td>76</td>\n      <td>1</td>\n      <td>288</td>\n    </tr>\n    <tr>\n      <th>3</th>\n      <td>44</td>\n      <td>80</td>\n      <td>1</td>\n      <td>42</td>\n    </tr>\n    <tr>\n      <th>4</th>\n      <td>44</td>\n      <td>96</td>\n      <td>4</td>\n      <td>65</td>\n    </tr>\n  </tbody>\n</table>\n</div>"
     },
     "execution_count": 78,
     "metadata": {},
     "output_type": "execute_result"
    }
   ],
   "source": [
    "array = X_train_bases\n",
    "new_array = [tuple(row) for row in array]\n",
    "unique, idx, counts = np.unique(new_array, axis=0, return_index=True, return_counts=True)\n",
    "\n",
    "df_unique = pd.DataFrame()\n",
    "df_unique['gd_X'] = unique[:,0]\n",
    "df_unique['gd_Y'] = unique[:,1]\n",
    "df_unique['gd_counts'] = counts\n",
    "df_unique['gd_org_idx'] = idx\n",
    "df_unique.head()"
   ]
  },
  {
   "cell_type": "markdown",
   "metadata": {
    "collapsed": false,
    "pycharm": {
     "name": "#%% md\n"
    }
   },
   "source": [
    "### Prepare data for calculation"
   ]
  },
  {
   "cell_type": "code",
   "execution_count": 79,
   "metadata": {
    "collapsed": false,
    "pycharm": {
     "name": "#%%\n"
    }
   },
   "outputs": [
    {
     "data": {
      "text/plain": "     org_X  gd_X  org_Y  gd_Y  org_score  gd_score  org_score_converted  \\\n0       51    48     99    96   0.084698  0.057633             0.415302   \n1       98    96    100   100   0.082113  0.047200             0.417887   \n2       59    56     51    48   0.037980  0.044116             0.462020   \n3       60    60     48    48   0.065727  0.096699             0.434273   \n4       60    60     51    48   0.065855  0.096699             0.434145   \n..     ...   ...    ...   ...        ...       ...                  ...   \n371     60    60     49    48   0.084757  0.096699             0.415243   \n372     60    60     49    48   0.084757  0.096699             0.415243   \n373     57    56     55    52  -0.100016 -0.049828             0.600016   \n374    100   100    102   100   0.057092  0.055672             0.442908   \n375    100   100     97    96   0.009990  0.042591             0.490010   \n\n     gd_score_converted  org_anomaly  gd_anomaly  \n0              0.442367            1           1  \n1              0.452800            1           1  \n2              0.455884            1           1  \n3              0.403301            1           1  \n4              0.403301            1           1  \n..                  ...          ...         ...  \n371            0.403301            1           1  \n372            0.403301            1           1  \n373            0.549828           -1          -1  \n374            0.444328            1           1  \n375            0.457409            1           1  \n\n[376 rows x 10 columns]",
      "text/html": "<div>\n<style scoped>\n    .dataframe tbody tr th:only-of-type {\n        vertical-align: middle;\n    }\n\n    .dataframe tbody tr th {\n        vertical-align: top;\n    }\n\n    .dataframe thead th {\n        text-align: right;\n    }\n</style>\n<table border=\"1\" class=\"dataframe\">\n  <thead>\n    <tr style=\"text-align: right;\">\n      <th></th>\n      <th>org_X</th>\n      <th>gd_X</th>\n      <th>org_Y</th>\n      <th>gd_Y</th>\n      <th>org_score</th>\n      <th>gd_score</th>\n      <th>org_score_converted</th>\n      <th>gd_score_converted</th>\n      <th>org_anomaly</th>\n      <th>gd_anomaly</th>\n    </tr>\n  </thead>\n  <tbody>\n    <tr>\n      <th>0</th>\n      <td>51</td>\n      <td>48</td>\n      <td>99</td>\n      <td>96</td>\n      <td>0.084698</td>\n      <td>0.057633</td>\n      <td>0.415302</td>\n      <td>0.442367</td>\n      <td>1</td>\n      <td>1</td>\n    </tr>\n    <tr>\n      <th>1</th>\n      <td>98</td>\n      <td>96</td>\n      <td>100</td>\n      <td>100</td>\n      <td>0.082113</td>\n      <td>0.047200</td>\n      <td>0.417887</td>\n      <td>0.452800</td>\n      <td>1</td>\n      <td>1</td>\n    </tr>\n    <tr>\n      <th>2</th>\n      <td>59</td>\n      <td>56</td>\n      <td>51</td>\n      <td>48</td>\n      <td>0.037980</td>\n      <td>0.044116</td>\n      <td>0.462020</td>\n      <td>0.455884</td>\n      <td>1</td>\n      <td>1</td>\n    </tr>\n    <tr>\n      <th>3</th>\n      <td>60</td>\n      <td>60</td>\n      <td>48</td>\n      <td>48</td>\n      <td>0.065727</td>\n      <td>0.096699</td>\n      <td>0.434273</td>\n      <td>0.403301</td>\n      <td>1</td>\n      <td>1</td>\n    </tr>\n    <tr>\n      <th>4</th>\n      <td>60</td>\n      <td>60</td>\n      <td>51</td>\n      <td>48</td>\n      <td>0.065855</td>\n      <td>0.096699</td>\n      <td>0.434145</td>\n      <td>0.403301</td>\n      <td>1</td>\n      <td>1</td>\n    </tr>\n    <tr>\n      <th>...</th>\n      <td>...</td>\n      <td>...</td>\n      <td>...</td>\n      <td>...</td>\n      <td>...</td>\n      <td>...</td>\n      <td>...</td>\n      <td>...</td>\n      <td>...</td>\n      <td>...</td>\n    </tr>\n    <tr>\n      <th>371</th>\n      <td>60</td>\n      <td>60</td>\n      <td>49</td>\n      <td>48</td>\n      <td>0.084757</td>\n      <td>0.096699</td>\n      <td>0.415243</td>\n      <td>0.403301</td>\n      <td>1</td>\n      <td>1</td>\n    </tr>\n    <tr>\n      <th>372</th>\n      <td>60</td>\n      <td>60</td>\n      <td>49</td>\n      <td>48</td>\n      <td>0.084757</td>\n      <td>0.096699</td>\n      <td>0.415243</td>\n      <td>0.403301</td>\n      <td>1</td>\n      <td>1</td>\n    </tr>\n    <tr>\n      <th>373</th>\n      <td>57</td>\n      <td>56</td>\n      <td>55</td>\n      <td>52</td>\n      <td>-0.100016</td>\n      <td>-0.049828</td>\n      <td>0.600016</td>\n      <td>0.549828</td>\n      <td>-1</td>\n      <td>-1</td>\n    </tr>\n    <tr>\n      <th>374</th>\n      <td>100</td>\n      <td>100</td>\n      <td>102</td>\n      <td>100</td>\n      <td>0.057092</td>\n      <td>0.055672</td>\n      <td>0.442908</td>\n      <td>0.444328</td>\n      <td>1</td>\n      <td>1</td>\n    </tr>\n    <tr>\n      <th>375</th>\n      <td>100</td>\n      <td>100</td>\n      <td>97</td>\n      <td>96</td>\n      <td>0.009990</td>\n      <td>0.042591</td>\n      <td>0.490010</td>\n      <td>0.457409</td>\n      <td>1</td>\n      <td>1</td>\n    </tr>\n  </tbody>\n</table>\n<p>376 rows × 10 columns</p>\n</div>"
     },
     "execution_count": 79,
     "metadata": {},
     "output_type": "execute_result"
    }
   ],
   "source": [
    "# Merge gd results and original results in single dataframe\n",
    "df_results = pd.DataFrame()\n",
    "df_results['org_X'] = org_df_results['org_X']\n",
    "df_results['gd_X'] = gd_df_results['gd_X']\n",
    "df_results['org_Y'] = org_df_results['org_Y']\n",
    "df_results['gd_Y'] = gd_df_results['gd_Y']\n",
    "df_results['org_score'] = org_df_results['org_score']\n",
    "df_results['gd_score'] = gd_df_results['gd_score']\n",
    "df_results['org_score_converted'] = df_results['org_score'].sub(0.5).mul(-1) # Convert sklearn score range to paper score range [-0.5;0.5] -> [0;1]\n",
    "df_results['gd_score_converted'] = df_results['gd_score'].sub(0.5).mul(-1) # Convert sklearn score range to paper score range [-0.5;0.5] -> [0;1]\n",
    "df_results['org_anomaly'] = org_df_results['org_anomaly']\n",
    "df_results['gd_anomaly'] = gd_df_results['gd_anomaly']\n",
    "\n",
    "df_results"
   ]
  },
  {
   "cell_type": "code",
   "execution_count": 80,
   "metadata": {
    "collapsed": false,
    "pycharm": {
     "name": "#%%\n"
    }
   },
   "outputs": [
    {
     "data": {
      "text/plain": "   gd_X  gd_Y  gd_counts  gd_org_idx  gd_anomaly  gd_score  gd_score_converted\n0    40    76          1         262        -1.0 -0.187486            0.687486\n1    40    80          1         208        -1.0 -0.189049            0.689049\n2    44    76          1         288        -1.0 -0.153979            0.653979\n3    44    80          1          42        -1.0 -0.150810            0.650810\n4    44    96          4          65        -1.0 -0.087843            0.587843",
      "text/html": "<div>\n<style scoped>\n    .dataframe tbody tr th:only-of-type {\n        vertical-align: middle;\n    }\n\n    .dataframe tbody tr th {\n        vertical-align: top;\n    }\n\n    .dataframe thead th {\n        text-align: right;\n    }\n</style>\n<table border=\"1\" class=\"dataframe\">\n  <thead>\n    <tr style=\"text-align: right;\">\n      <th></th>\n      <th>gd_X</th>\n      <th>gd_Y</th>\n      <th>gd_counts</th>\n      <th>gd_org_idx</th>\n      <th>gd_anomaly</th>\n      <th>gd_score</th>\n      <th>gd_score_converted</th>\n    </tr>\n  </thead>\n  <tbody>\n    <tr>\n      <th>0</th>\n      <td>40</td>\n      <td>76</td>\n      <td>1</td>\n      <td>262</td>\n      <td>-1.0</td>\n      <td>-0.187486</td>\n      <td>0.687486</td>\n    </tr>\n    <tr>\n      <th>1</th>\n      <td>40</td>\n      <td>80</td>\n      <td>1</td>\n      <td>208</td>\n      <td>-1.0</td>\n      <td>-0.189049</td>\n      <td>0.689049</td>\n    </tr>\n    <tr>\n      <th>2</th>\n      <td>44</td>\n      <td>76</td>\n      <td>1</td>\n      <td>288</td>\n      <td>-1.0</td>\n      <td>-0.153979</td>\n      <td>0.653979</td>\n    </tr>\n    <tr>\n      <th>3</th>\n      <td>44</td>\n      <td>80</td>\n      <td>1</td>\n      <td>42</td>\n      <td>-1.0</td>\n      <td>-0.150810</td>\n      <td>0.650810</td>\n    </tr>\n    <tr>\n      <th>4</th>\n      <td>44</td>\n      <td>96</td>\n      <td>4</td>\n      <td>65</td>\n      <td>-1.0</td>\n      <td>-0.087843</td>\n      <td>0.587843</td>\n    </tr>\n  </tbody>\n</table>\n</div>"
     },
     "execution_count": 80,
     "metadata": {},
     "output_type": "execute_result"
    }
   ],
   "source": [
    "\n",
    "# Add score and anomaly to df_uniques\n",
    "scores = []\n",
    "scores_converted = []\n",
    "anomaly = []\n",
    "for index, row in df_unique.iterrows():\n",
    "    result = df_results[(df_results.gd_X == row.gd_X) & (df_results.gd_Y == row.gd_Y)].iloc[0]\n",
    "    scores.append(result.gd_score)\n",
    "    scores_converted.append(result.gd_score_converted)\n",
    "    anomaly.append(result.gd_anomaly)\n",
    "\n",
    "df_unique['gd_anomaly'] = anomaly\n",
    "df_unique['gd_score'] = scores\n",
    "df_unique['gd_score_converted'] = scores_converted\n",
    "\n",
    "# Define constants\n",
    "n_samples = len(df_results)\n",
    "n_uniques = len(df_unique)\n",
    "df_unique.head()"
   ]
  },
  {
   "cell_type": "markdown",
   "metadata": {
    "collapsed": false,
    "pycharm": {
     "name": "#%% md\n"
    }
   },
   "source": [
    "### Perform calculation"
   ]
  },
  {
   "cell_type": "code",
   "execution_count": 81,
   "metadata": {
    "collapsed": false,
    "pycharm": {
     "name": "#%%\n"
    }
   },
   "outputs": [],
   "source": [
    "def H(i):\n",
    "    return np.log(i) + 0.5772156649 # euler's constant\n",
    "\n",
    "def c(n):\n",
    "    return 2*H(n-1) - ((2*(n-1))/n)"
   ]
  },
  {
   "cell_type": "markdown",
   "metadata": {
    "collapsed": false,
    "pycharm": {
     "name": "#%% md\n"
    }
   },
   "source": [
    "Calculation 1:  $\\log_2(s(x,n)) \\cdot c(n) = E(h(x))$"
   ]
  },
  {
   "cell_type": "code",
   "execution_count": 82,
   "metadata": {
    "collapsed": false,
    "pycharm": {
     "name": "#%%\n"
    }
   },
   "outputs": [
    {
     "data": {
      "text/plain": "   gd_X  gd_Y  gd_counts  gd_org_idx  gd_anomaly  gd_score  \\\n0    40    76          1         262        -1.0 -0.187486   \n1    40    80          1         208        -1.0 -0.189049   \n2    44    76          1         288        -1.0 -0.153979   \n3    44    80          1          42        -1.0 -0.150810   \n4    44    96          4          65        -1.0 -0.087843   \n\n   gd_score_converted  E[H(x)]+log_2[count(x)]  \n0            0.687486                 5.953924  \n1            0.689049                 5.917848  \n2            0.653979                 6.747863  \n3            0.650810                 6.825038  \n4            0.587843                10.441889  ",
      "text/html": "<div>\n<style scoped>\n    .dataframe tbody tr th:only-of-type {\n        vertical-align: middle;\n    }\n\n    .dataframe tbody tr th {\n        vertical-align: top;\n    }\n\n    .dataframe thead th {\n        text-align: right;\n    }\n</style>\n<table border=\"1\" class=\"dataframe\">\n  <thead>\n    <tr style=\"text-align: right;\">\n      <th></th>\n      <th>gd_X</th>\n      <th>gd_Y</th>\n      <th>gd_counts</th>\n      <th>gd_org_idx</th>\n      <th>gd_anomaly</th>\n      <th>gd_score</th>\n      <th>gd_score_converted</th>\n      <th>E[H(x)]+log_2[count(x)]</th>\n    </tr>\n  </thead>\n  <tbody>\n    <tr>\n      <th>0</th>\n      <td>40</td>\n      <td>76</td>\n      <td>1</td>\n      <td>262</td>\n      <td>-1.0</td>\n      <td>-0.187486</td>\n      <td>0.687486</td>\n      <td>5.953924</td>\n    </tr>\n    <tr>\n      <th>1</th>\n      <td>40</td>\n      <td>80</td>\n      <td>1</td>\n      <td>208</td>\n      <td>-1.0</td>\n      <td>-0.189049</td>\n      <td>0.689049</td>\n      <td>5.917848</td>\n    </tr>\n    <tr>\n      <th>2</th>\n      <td>44</td>\n      <td>76</td>\n      <td>1</td>\n      <td>288</td>\n      <td>-1.0</td>\n      <td>-0.153979</td>\n      <td>0.653979</td>\n      <td>6.747863</td>\n    </tr>\n    <tr>\n      <th>3</th>\n      <td>44</td>\n      <td>80</td>\n      <td>1</td>\n      <td>42</td>\n      <td>-1.0</td>\n      <td>-0.150810</td>\n      <td>0.650810</td>\n      <td>6.825038</td>\n    </tr>\n    <tr>\n      <th>4</th>\n      <td>44</td>\n      <td>96</td>\n      <td>4</td>\n      <td>65</td>\n      <td>-1.0</td>\n      <td>-0.087843</td>\n      <td>0.587843</td>\n      <td>10.441889</td>\n    </tr>\n  </tbody>\n</table>\n</div>"
     },
     "execution_count": 82,
     "metadata": {},
     "output_type": "execute_result"
    }
   ],
   "source": [
    "result = []\n",
    "for index, row in df_unique.iterrows():\n",
    "    res = -(np.log2(row.gd_score_converted) * c(n_samples)) + np.log2(row.gd_counts)\n",
    "    result.append(res)\n",
    "df_unique['E[H(x)]+log_2[count(x)]'] = result\n",
    "df_unique.head()"
   ]
  },
  {
   "cell_type": "markdown",
   "metadata": {
    "collapsed": false,
    "pycharm": {
     "name": "#%% md\n"
    }
   },
   "source": [
    "Calculation 2: $S(x, n_{samples})=2^{-\\frac{E(h(x))}{c(n_{samples})}}$"
   ]
  },
  {
   "cell_type": "code",
   "execution_count": 83,
   "metadata": {
    "collapsed": false,
    "pycharm": {
     "name": "#%%\n"
    }
   },
   "outputs": [
    {
     "data": {
      "text/plain": "    gd_X  gd_Y  gd_counts  gd_org_idx  gd_anomaly  gd_score  \\\n0     40    76          1         262        -1.0 -0.187486   \n1     40    80          1         208        -1.0 -0.189049   \n2     44    76          1         288        -1.0 -0.153979   \n3     44    80          1          42        -1.0 -0.150810   \n4     44    96          4          65        -1.0 -0.087843   \n5     44   100          4           7        -1.0 -0.075859   \n6     44   104          1         104        -1.0 -0.169808   \n7     48    68          1          81        -1.0 -0.193332   \n8     48    96         29           0         1.0  0.057633   \n9     48   100         66          10         1.0  0.107430   \n10    48   104          3          88        -1.0 -0.113175   \n11    52    48          2         159        -1.0 -0.142880   \n12    52    76          1         358        -1.0 -0.131508   \n13    52    84          1         360        -1.0 -0.136527   \n14    52    96          5          32        -1.0 -0.059319   \n15    52   100         14          71         1.0  0.012702   \n16    56    44          1         236        -1.0 -0.151339   \n17    56    48         24           2         1.0  0.044116   \n18    56    52          8         102        -1.0 -0.049828   \n19    56    72          1         188        -1.0 -0.142920   \n20    56    80          1         324        -1.0 -0.142346   \n21    56   100          1         118        -1.0 -0.120804   \n22    60    44          3          49        -1.0 -0.157266   \n23    60    48         65           3         1.0  0.096699   \n24    60    52         11         123        -1.0 -0.036515   \n25    64    48          1         351        -1.0 -0.083162   \n26    68    76          1          39        -1.0 -0.178014   \n27    68    84          1         233        -1.0 -0.183451   \n28    96    60          1         119        -1.0 -0.215859   \n29    96    68          1         259        -1.0 -0.207672   \n30    96    96         10          21        -1.0 -0.031389   \n31    96   100         38           1         1.0  0.047200   \n32    96   104          1         235        -1.0 -0.130121   \n33   100    60          1          53        -1.0 -0.224201   \n34   100    84          1         186        -1.0 -0.158983   \n35   100    96         26          22         1.0  0.042591   \n36   100   100         40           6         1.0  0.055672   \n37   100   104          1         245        -1.0 -0.137033   \n38   104    96          2          84        -1.0 -0.133317   \n39   116    80          1         221        -1.0 -0.271926   \n\n    gd_score_converted  E[H(x)]+log_2[count(x)]  S(x,n_samples)  \n0             0.687486                 5.953924        0.687486  \n1             0.689049                 5.917848        0.689049  \n2             0.653979                 6.747863        0.653979  \n3             0.650810                 6.825038        0.650810  \n4             0.587843                10.441889        0.518318  \n5             0.575859                10.769165        0.507751  \n6             0.669808                 6.367839        0.669808  \n7             0.693332                 5.819388        0.693332  \n8             0.442367                17.817524        0.325838  \n9             0.392570                20.901511        0.268354  \n10            0.613175                 9.356479        0.554962  \n11            0.642880                 8.019841        0.603667  \n12            0.631508                 7.303425        0.631508  \n13            0.636527                 7.177641        0.636527  \n14            0.559319                11.554156        0.483276  \n15            0.487298                15.229826        0.383469  \n16            0.651339                 6.812122        0.651339  \n17            0.455884                17.066258        0.341614  \n18            0.549828                12.504176        0.455228  \n19            0.642920                 7.018848        0.642920  \n20            0.642346                 7.033032        0.642346  \n21            0.620804                 7.575039        0.620804  \n22            0.657266                 8.253160        0.594867  \n23            0.403301                20.450972        0.276072  \n24            0.536515                13.353048        0.431546  \n25            0.583162                 8.568926        0.583162  \n26            0.678014                 6.174372        0.678014  \n27            0.683451                 6.047471        0.683451  \n28            0.715859                 5.311345        0.715859  \n29            0.707672                 5.494103        0.707672  \n30            0.531389                13.368100        0.431137  \n31            0.452800                17.837055        0.325437  \n32            0.630121                 7.338343        0.630121  \n33            0.724201                 5.127239        0.724201  \n34            0.658983                 6.626732        0.658983  \n35            0.457409                17.128659        0.340275  \n36            0.444328                18.211184        0.317864  \n37            0.637033                 7.165014        0.637033  \n38            0.633317                 8.257971        0.594687  \n39            0.771926                 4.113195        0.771926  ",
      "text/html": "<div>\n<style scoped>\n    .dataframe tbody tr th:only-of-type {\n        vertical-align: middle;\n    }\n\n    .dataframe tbody tr th {\n        vertical-align: top;\n    }\n\n    .dataframe thead th {\n        text-align: right;\n    }\n</style>\n<table border=\"1\" class=\"dataframe\">\n  <thead>\n    <tr style=\"text-align: right;\">\n      <th></th>\n      <th>gd_X</th>\n      <th>gd_Y</th>\n      <th>gd_counts</th>\n      <th>gd_org_idx</th>\n      <th>gd_anomaly</th>\n      <th>gd_score</th>\n      <th>gd_score_converted</th>\n      <th>E[H(x)]+log_2[count(x)]</th>\n      <th>S(x,n_samples)</th>\n    </tr>\n  </thead>\n  <tbody>\n    <tr>\n      <th>0</th>\n      <td>40</td>\n      <td>76</td>\n      <td>1</td>\n      <td>262</td>\n      <td>-1.0</td>\n      <td>-0.187486</td>\n      <td>0.687486</td>\n      <td>5.953924</td>\n      <td>0.687486</td>\n    </tr>\n    <tr>\n      <th>1</th>\n      <td>40</td>\n      <td>80</td>\n      <td>1</td>\n      <td>208</td>\n      <td>-1.0</td>\n      <td>-0.189049</td>\n      <td>0.689049</td>\n      <td>5.917848</td>\n      <td>0.689049</td>\n    </tr>\n    <tr>\n      <th>2</th>\n      <td>44</td>\n      <td>76</td>\n      <td>1</td>\n      <td>288</td>\n      <td>-1.0</td>\n      <td>-0.153979</td>\n      <td>0.653979</td>\n      <td>6.747863</td>\n      <td>0.653979</td>\n    </tr>\n    <tr>\n      <th>3</th>\n      <td>44</td>\n      <td>80</td>\n      <td>1</td>\n      <td>42</td>\n      <td>-1.0</td>\n      <td>-0.150810</td>\n      <td>0.650810</td>\n      <td>6.825038</td>\n      <td>0.650810</td>\n    </tr>\n    <tr>\n      <th>4</th>\n      <td>44</td>\n      <td>96</td>\n      <td>4</td>\n      <td>65</td>\n      <td>-1.0</td>\n      <td>-0.087843</td>\n      <td>0.587843</td>\n      <td>10.441889</td>\n      <td>0.518318</td>\n    </tr>\n    <tr>\n      <th>5</th>\n      <td>44</td>\n      <td>100</td>\n      <td>4</td>\n      <td>7</td>\n      <td>-1.0</td>\n      <td>-0.075859</td>\n      <td>0.575859</td>\n      <td>10.769165</td>\n      <td>0.507751</td>\n    </tr>\n    <tr>\n      <th>6</th>\n      <td>44</td>\n      <td>104</td>\n      <td>1</td>\n      <td>104</td>\n      <td>-1.0</td>\n      <td>-0.169808</td>\n      <td>0.669808</td>\n      <td>6.367839</td>\n      <td>0.669808</td>\n    </tr>\n    <tr>\n      <th>7</th>\n      <td>48</td>\n      <td>68</td>\n      <td>1</td>\n      <td>81</td>\n      <td>-1.0</td>\n      <td>-0.193332</td>\n      <td>0.693332</td>\n      <td>5.819388</td>\n      <td>0.693332</td>\n    </tr>\n    <tr>\n      <th>8</th>\n      <td>48</td>\n      <td>96</td>\n      <td>29</td>\n      <td>0</td>\n      <td>1.0</td>\n      <td>0.057633</td>\n      <td>0.442367</td>\n      <td>17.817524</td>\n      <td>0.325838</td>\n    </tr>\n    <tr>\n      <th>9</th>\n      <td>48</td>\n      <td>100</td>\n      <td>66</td>\n      <td>10</td>\n      <td>1.0</td>\n      <td>0.107430</td>\n      <td>0.392570</td>\n      <td>20.901511</td>\n      <td>0.268354</td>\n    </tr>\n    <tr>\n      <th>10</th>\n      <td>48</td>\n      <td>104</td>\n      <td>3</td>\n      <td>88</td>\n      <td>-1.0</td>\n      <td>-0.113175</td>\n      <td>0.613175</td>\n      <td>9.356479</td>\n      <td>0.554962</td>\n    </tr>\n    <tr>\n      <th>11</th>\n      <td>52</td>\n      <td>48</td>\n      <td>2</td>\n      <td>159</td>\n      <td>-1.0</td>\n      <td>-0.142880</td>\n      <td>0.642880</td>\n      <td>8.019841</td>\n      <td>0.603667</td>\n    </tr>\n    <tr>\n      <th>12</th>\n      <td>52</td>\n      <td>76</td>\n      <td>1</td>\n      <td>358</td>\n      <td>-1.0</td>\n      <td>-0.131508</td>\n      <td>0.631508</td>\n      <td>7.303425</td>\n      <td>0.631508</td>\n    </tr>\n    <tr>\n      <th>13</th>\n      <td>52</td>\n      <td>84</td>\n      <td>1</td>\n      <td>360</td>\n      <td>-1.0</td>\n      <td>-0.136527</td>\n      <td>0.636527</td>\n      <td>7.177641</td>\n      <td>0.636527</td>\n    </tr>\n    <tr>\n      <th>14</th>\n      <td>52</td>\n      <td>96</td>\n      <td>5</td>\n      <td>32</td>\n      <td>-1.0</td>\n      <td>-0.059319</td>\n      <td>0.559319</td>\n      <td>11.554156</td>\n      <td>0.483276</td>\n    </tr>\n    <tr>\n      <th>15</th>\n      <td>52</td>\n      <td>100</td>\n      <td>14</td>\n      <td>71</td>\n      <td>1.0</td>\n      <td>0.012702</td>\n      <td>0.487298</td>\n      <td>15.229826</td>\n      <td>0.383469</td>\n    </tr>\n    <tr>\n      <th>16</th>\n      <td>56</td>\n      <td>44</td>\n      <td>1</td>\n      <td>236</td>\n      <td>-1.0</td>\n      <td>-0.151339</td>\n      <td>0.651339</td>\n      <td>6.812122</td>\n      <td>0.651339</td>\n    </tr>\n    <tr>\n      <th>17</th>\n      <td>56</td>\n      <td>48</td>\n      <td>24</td>\n      <td>2</td>\n      <td>1.0</td>\n      <td>0.044116</td>\n      <td>0.455884</td>\n      <td>17.066258</td>\n      <td>0.341614</td>\n    </tr>\n    <tr>\n      <th>18</th>\n      <td>56</td>\n      <td>52</td>\n      <td>8</td>\n      <td>102</td>\n      <td>-1.0</td>\n      <td>-0.049828</td>\n      <td>0.549828</td>\n      <td>12.504176</td>\n      <td>0.455228</td>\n    </tr>\n    <tr>\n      <th>19</th>\n      <td>56</td>\n      <td>72</td>\n      <td>1</td>\n      <td>188</td>\n      <td>-1.0</td>\n      <td>-0.142920</td>\n      <td>0.642920</td>\n      <td>7.018848</td>\n      <td>0.642920</td>\n    </tr>\n    <tr>\n      <th>20</th>\n      <td>56</td>\n      <td>80</td>\n      <td>1</td>\n      <td>324</td>\n      <td>-1.0</td>\n      <td>-0.142346</td>\n      <td>0.642346</td>\n      <td>7.033032</td>\n      <td>0.642346</td>\n    </tr>\n    <tr>\n      <th>21</th>\n      <td>56</td>\n      <td>100</td>\n      <td>1</td>\n      <td>118</td>\n      <td>-1.0</td>\n      <td>-0.120804</td>\n      <td>0.620804</td>\n      <td>7.575039</td>\n      <td>0.620804</td>\n    </tr>\n    <tr>\n      <th>22</th>\n      <td>60</td>\n      <td>44</td>\n      <td>3</td>\n      <td>49</td>\n      <td>-1.0</td>\n      <td>-0.157266</td>\n      <td>0.657266</td>\n      <td>8.253160</td>\n      <td>0.594867</td>\n    </tr>\n    <tr>\n      <th>23</th>\n      <td>60</td>\n      <td>48</td>\n      <td>65</td>\n      <td>3</td>\n      <td>1.0</td>\n      <td>0.096699</td>\n      <td>0.403301</td>\n      <td>20.450972</td>\n      <td>0.276072</td>\n    </tr>\n    <tr>\n      <th>24</th>\n      <td>60</td>\n      <td>52</td>\n      <td>11</td>\n      <td>123</td>\n      <td>-1.0</td>\n      <td>-0.036515</td>\n      <td>0.536515</td>\n      <td>13.353048</td>\n      <td>0.431546</td>\n    </tr>\n    <tr>\n      <th>25</th>\n      <td>64</td>\n      <td>48</td>\n      <td>1</td>\n      <td>351</td>\n      <td>-1.0</td>\n      <td>-0.083162</td>\n      <td>0.583162</td>\n      <td>8.568926</td>\n      <td>0.583162</td>\n    </tr>\n    <tr>\n      <th>26</th>\n      <td>68</td>\n      <td>76</td>\n      <td>1</td>\n      <td>39</td>\n      <td>-1.0</td>\n      <td>-0.178014</td>\n      <td>0.678014</td>\n      <td>6.174372</td>\n      <td>0.678014</td>\n    </tr>\n    <tr>\n      <th>27</th>\n      <td>68</td>\n      <td>84</td>\n      <td>1</td>\n      <td>233</td>\n      <td>-1.0</td>\n      <td>-0.183451</td>\n      <td>0.683451</td>\n      <td>6.047471</td>\n      <td>0.683451</td>\n    </tr>\n    <tr>\n      <th>28</th>\n      <td>96</td>\n      <td>60</td>\n      <td>1</td>\n      <td>119</td>\n      <td>-1.0</td>\n      <td>-0.215859</td>\n      <td>0.715859</td>\n      <td>5.311345</td>\n      <td>0.715859</td>\n    </tr>\n    <tr>\n      <th>29</th>\n      <td>96</td>\n      <td>68</td>\n      <td>1</td>\n      <td>259</td>\n      <td>-1.0</td>\n      <td>-0.207672</td>\n      <td>0.707672</td>\n      <td>5.494103</td>\n      <td>0.707672</td>\n    </tr>\n    <tr>\n      <th>30</th>\n      <td>96</td>\n      <td>96</td>\n      <td>10</td>\n      <td>21</td>\n      <td>-1.0</td>\n      <td>-0.031389</td>\n      <td>0.531389</td>\n      <td>13.368100</td>\n      <td>0.431137</td>\n    </tr>\n    <tr>\n      <th>31</th>\n      <td>96</td>\n      <td>100</td>\n      <td>38</td>\n      <td>1</td>\n      <td>1.0</td>\n      <td>0.047200</td>\n      <td>0.452800</td>\n      <td>17.837055</td>\n      <td>0.325437</td>\n    </tr>\n    <tr>\n      <th>32</th>\n      <td>96</td>\n      <td>104</td>\n      <td>1</td>\n      <td>235</td>\n      <td>-1.0</td>\n      <td>-0.130121</td>\n      <td>0.630121</td>\n      <td>7.338343</td>\n      <td>0.630121</td>\n    </tr>\n    <tr>\n      <th>33</th>\n      <td>100</td>\n      <td>60</td>\n      <td>1</td>\n      <td>53</td>\n      <td>-1.0</td>\n      <td>-0.224201</td>\n      <td>0.724201</td>\n      <td>5.127239</td>\n      <td>0.724201</td>\n    </tr>\n    <tr>\n      <th>34</th>\n      <td>100</td>\n      <td>84</td>\n      <td>1</td>\n      <td>186</td>\n      <td>-1.0</td>\n      <td>-0.158983</td>\n      <td>0.658983</td>\n      <td>6.626732</td>\n      <td>0.658983</td>\n    </tr>\n    <tr>\n      <th>35</th>\n      <td>100</td>\n      <td>96</td>\n      <td>26</td>\n      <td>22</td>\n      <td>1.0</td>\n      <td>0.042591</td>\n      <td>0.457409</td>\n      <td>17.128659</td>\n      <td>0.340275</td>\n    </tr>\n    <tr>\n      <th>36</th>\n      <td>100</td>\n      <td>100</td>\n      <td>40</td>\n      <td>6</td>\n      <td>1.0</td>\n      <td>0.055672</td>\n      <td>0.444328</td>\n      <td>18.211184</td>\n      <td>0.317864</td>\n    </tr>\n    <tr>\n      <th>37</th>\n      <td>100</td>\n      <td>104</td>\n      <td>1</td>\n      <td>245</td>\n      <td>-1.0</td>\n      <td>-0.137033</td>\n      <td>0.637033</td>\n      <td>7.165014</td>\n      <td>0.637033</td>\n    </tr>\n    <tr>\n      <th>38</th>\n      <td>104</td>\n      <td>96</td>\n      <td>2</td>\n      <td>84</td>\n      <td>-1.0</td>\n      <td>-0.133317</td>\n      <td>0.633317</td>\n      <td>8.257971</td>\n      <td>0.594687</td>\n    </tr>\n    <tr>\n      <th>39</th>\n      <td>116</td>\n      <td>80</td>\n      <td>1</td>\n      <td>221</td>\n      <td>-1.0</td>\n      <td>-0.271926</td>\n      <td>0.771926</td>\n      <td>4.113195</td>\n      <td>0.771926</td>\n    </tr>\n  </tbody>\n</table>\n</div>"
     },
     "execution_count": 83,
     "metadata": {},
     "output_type": "execute_result"
    }
   ],
   "source": [
    "result = []\n",
    "for index, row in df_unique.iterrows():\n",
    "    res = 2 ** - (row['E[H(x)]+log_2[count(x)]'] / c(n_samples))\n",
    "    result.append(res)\n",
    "df_unique['S(x,n_samples)'] = result\n",
    "df_unique"
   ]
  },
  {
   "cell_type": "markdown",
   "source": [
    "# Performance evaluation"
   ],
   "metadata": {
    "collapsed": false,
    "pycharm": {
     "name": "#%% md\n"
    }
   }
  },
  {
   "cell_type": "markdown",
   "source": [
    "## Overview"
   ],
   "metadata": {
    "collapsed": false,
    "pycharm": {
     "name": "#%% md\n"
    }
   }
  },
  {
   "cell_type": "markdown",
   "source": [],
   "metadata": {
    "collapsed": false
   }
  },
  {
   "cell_type": "code",
   "execution_count": 88,
   "outputs": [
    {
     "data": {
      "text/plain": "                                name deviation_bits train_accuracy_score  \\\n0             Isolation Forest Bases              2             0.845745   \n1  Isolation Forest Bases - extended              2             0.845745   \n2          Isolation Forest Original              2             0.827128   \n3  Isolation Forest Bases - extended              2             0.845745   \n\n  test_accuracy_score train_precision_score test_precision_score  \\\n0            0.851064                   1.0                  1.0   \n1            0.851064                   1.0                  1.0   \n2            0.712766                   1.0                  1.0   \n3            0.851064                   1.0                  1.0   \n\n  train_f1_score test_f1_score train_recall_score test_recall_score  \\\n0       0.912387      0.915663           0.838889          0.844444   \n1       0.912387      0.915663           0.838889          0.844444   \n2       0.900763      0.823529           0.819444               0.7   \n3       0.912387      0.915663           0.838889          0.844444   \n\n  train_roc_auc_score test_roc_auc_score training_time prediction_time  \n0            0.919444           0.922222      0.141682        0.111802  \n1            0.919444           0.922222      0.181758        0.090792  \n2            0.909722               0.85      0.151332        0.123146  \n3            0.919444           0.922222      0.409181        0.196218  ",
      "text/html": "<div>\n<style scoped>\n    .dataframe tbody tr th:only-of-type {\n        vertical-align: middle;\n    }\n\n    .dataframe tbody tr th {\n        vertical-align: top;\n    }\n\n    .dataframe thead th {\n        text-align: right;\n    }\n</style>\n<table border=\"1\" class=\"dataframe\">\n  <thead>\n    <tr style=\"text-align: right;\">\n      <th></th>\n      <th>name</th>\n      <th>deviation_bits</th>\n      <th>train_accuracy_score</th>\n      <th>test_accuracy_score</th>\n      <th>train_precision_score</th>\n      <th>test_precision_score</th>\n      <th>train_f1_score</th>\n      <th>test_f1_score</th>\n      <th>train_recall_score</th>\n      <th>test_recall_score</th>\n      <th>train_roc_auc_score</th>\n      <th>test_roc_auc_score</th>\n      <th>training_time</th>\n      <th>prediction_time</th>\n    </tr>\n  </thead>\n  <tbody>\n    <tr>\n      <th>0</th>\n      <td>Isolation Forest Bases</td>\n      <td>2</td>\n      <td>0.845745</td>\n      <td>0.851064</td>\n      <td>1.0</td>\n      <td>1.0</td>\n      <td>0.912387</td>\n      <td>0.915663</td>\n      <td>0.838889</td>\n      <td>0.844444</td>\n      <td>0.919444</td>\n      <td>0.922222</td>\n      <td>0.141682</td>\n      <td>0.111802</td>\n    </tr>\n    <tr>\n      <th>1</th>\n      <td>Isolation Forest Bases - extended</td>\n      <td>2</td>\n      <td>0.845745</td>\n      <td>0.851064</td>\n      <td>1.0</td>\n      <td>1.0</td>\n      <td>0.912387</td>\n      <td>0.915663</td>\n      <td>0.838889</td>\n      <td>0.844444</td>\n      <td>0.919444</td>\n      <td>0.922222</td>\n      <td>0.181758</td>\n      <td>0.090792</td>\n    </tr>\n    <tr>\n      <th>2</th>\n      <td>Isolation Forest Original</td>\n      <td>2</td>\n      <td>0.827128</td>\n      <td>0.712766</td>\n      <td>1.0</td>\n      <td>1.0</td>\n      <td>0.900763</td>\n      <td>0.823529</td>\n      <td>0.819444</td>\n      <td>0.7</td>\n      <td>0.909722</td>\n      <td>0.85</td>\n      <td>0.151332</td>\n      <td>0.123146</td>\n    </tr>\n    <tr>\n      <th>3</th>\n      <td>Isolation Forest Bases - extended</td>\n      <td>2</td>\n      <td>0.845745</td>\n      <td>0.851064</td>\n      <td>1.0</td>\n      <td>1.0</td>\n      <td>0.912387</td>\n      <td>0.915663</td>\n      <td>0.838889</td>\n      <td>0.844444</td>\n      <td>0.919444</td>\n      <td>0.922222</td>\n      <td>0.409181</td>\n      <td>0.196218</td>\n    </tr>\n  </tbody>\n</table>\n</div>"
     },
     "execution_count": 88,
     "metadata": {},
     "output_type": "execute_result"
    }
   ],
   "source": [
    "performance"
   ],
   "metadata": {
    "collapsed": false,
    "pycharm": {
     "name": "#%%\n"
    }
   }
  },
  {
   "cell_type": "markdown",
   "source": [],
   "metadata": {
    "collapsed": false
   }
  },
  {
   "cell_type": "markdown",
   "source": [
    "## Confusion Matrices"
   ],
   "metadata": {
    "collapsed": false,
    "pycharm": {
     "name": "#%% md\n"
    }
   }
  },
  {
   "cell_type": "code",
   "execution_count": 85,
   "outputs": [
    {
     "name": "stderr",
     "output_type": "stream",
     "text": [
      "/tmp/ipykernel_161519/1834916541.py:20: UserWarning: Matplotlib is currently using module://matplotlib_inline.backend_inline, which is a non-GUI backend, so cannot show the figure.\n",
      "  fig.show()\n",
      "/tmp/ipykernel_161519/1834916541.py:37: UserWarning: Matplotlib is currently using module://matplotlib_inline.backend_inline, which is a non-GUI backend, so cannot show the figure.\n",
      "  fig.show()\n",
      "/tmp/ipykernel_161519/1834916541.py:53: UserWarning: Matplotlib is currently using module://matplotlib_inline.backend_inline, which is a non-GUI backend, so cannot show the figure.\n",
      "  fig.show()\n"
     ]
    },
    {
     "data": {
      "text/plain": "<Figure size 432x288 with 6 Axes>",
      "image/png": "[encoded data removed]"
     },
     "metadata": {
      "needs_background": "light"
     },
     "output_type": "display_data"
    },
    {
     "data": {
      "text/plain": "<Figure size 432x288 with 6 Axes>",
      "image/png": "[encoded data removed]"
     },
     "metadata": {
      "needs_background": "light"
     },
     "output_type": "display_data"
    },
    {
     "data": {
      "text/plain": "<Figure size 432x288 with 6 Axes>",
      "image/png": "[encoded data removed]"
     },
     "metadata": {
      "needs_background": "light"
     },
     "output_type": "display_data"
    }
   ],
   "source": [
    "\n",
    "y_train_clipped = y_train.clip(min=0)\n",
    "y_test_clipped = y_test.clip(min=0)\n",
    "y_outlier_clipped = y_outlier.clip(min=0)\n",
    "\n",
    "# Original\n",
    "fig, (ax1, ax2, ax3) = plt.subplots(1, 3)\n",
    "fig.suptitle(\"Original\")\n",
    "\n",
    "y_train_pred =  org_clf.predict(X_train).clip(min=0)\n",
    "cf_matrix = confusion_matrix(y_train_clipped, y_train_pred)\n",
    "sns.heatmap(cf_matrix, annot=True, ax=ax1)\n",
    "\n",
    "y_test_pred =  org_clf.predict(X_test).clip(min=0)\n",
    "cf_matrix = confusion_matrix(y_test_clipped, y_test_pred)\n",
    "sns.heatmap(cf_matrix, annot=True, ax=ax2)\n",
    "\n",
    "y_outlier_pred =  org_clf.predict(X_outliers).clip(min=0)\n",
    "cf_matrix = confusion_matrix(y_outlier_clipped, y_outlier_pred)\n",
    "sns.heatmap(cf_matrix, annot=True, ax=ax3)\n",
    "fig.show()\n",
    "\n",
    "# GD\n",
    "fig, (ax1, ax2, ax3) = plt.subplots(1, 3)\n",
    "fig.suptitle(\"Bases\")\n",
    "\n",
    "y_train_pred =  gd_clf.predict(X_train_bases).clip(min=0)\n",
    "cf_matrix = confusion_matrix(y_train_clipped, y_train_pred)\n",
    "sns.heatmap(cf_matrix, annot=True, ax=ax1)\n",
    "\n",
    "y_test_pred =  gd_clf.predict(X_test_bases).clip(min=0)\n",
    "cf_matrix = confusion_matrix(y_test_clipped, y_test_pred)\n",
    "sns.heatmap(cf_matrix, annot=True, ax=ax2)\n",
    "\n",
    "y_outlier_pred =  gd_clf.predict(X_outliers_bases).clip(min=0)\n",
    "cf_matrix = confusion_matrix(y_outlier_clipped, y_outlier_pred)\n",
    "sns.heatmap(cf_matrix, annot=True, ax=ax3)\n",
    "fig.show()\n",
    "\n",
    "# GD Extended\n",
    "fig, (ax1, ax2, ax3) = plt.subplots(1, 3)\n",
    "fig.suptitle(\"Bases - extended\")\n",
    "y_train_pred =  gd_ext_clf.predict_extended(X_train_bases).clip(min=0)\n",
    "cf_matrix = confusion_matrix(y_train_clipped, y_train_pred)\n",
    "sns.heatmap(cf_matrix, annot=True, ax=ax1)\n",
    "\n",
    "y_test_pred =  gd_ext_clf.predict_extended(X_test_bases).clip(min=0)\n",
    "cf_matrix = confusion_matrix(y_test_clipped, y_test_pred)\n",
    "sns.heatmap(cf_matrix, annot=True, ax=ax2)\n",
    "\n",
    "y_outlier_pred =  gd_ext_clf.predict_extended(X_outliers_bases).clip(min=0)\n",
    "cf_matrix = confusion_matrix(y_outlier_clipped, y_outlier_pred)\n",
    "sns.heatmap(cf_matrix, annot=True, ax=ax3)\n",
    "fig.show()"
   ],
   "metadata": {
    "collapsed": false,
    "pycharm": {
     "name": "#%%\n"
    }
   }
  },
  {
   "cell_type": "markdown",
   "metadata": {
    "collapsed": false,
    "pycharm": {
     "name": "#%% md\n"
    }
   },
   "source": [
    "# Data Visualization"
   ]
  },
  {
   "cell_type": "markdown",
   "source": [
    "## Decision function (Original, bases, extended) - single cluster"
   ],
   "metadata": {
    "collapsed": false,
    "pycharm": {
     "name": "#%% md\n"
    }
   }
  },
  {
   "cell_type": "code",
   "execution_count": 86,
   "outputs": [
    {
     "name": "stderr",
     "output_type": "stream",
     "text": [
      "/home/mlrosenquist/PycharmProjects/scikit-learn/sklearn/ensemble/_iforest.py:419: FutureWarning: The frame.append method is deprecated and will be removed from pandas in a future version. Use pandas.concat instead.\n",
      "  self.df_unique_ = self.df_unique_.append(pd.DataFrame(unique), ignore_index=True)\n"
     ]
    },
    {
     "ename": "ValueError",
     "evalue": "When changing to a larger dtype, its size must be a divisor of the total size in bytes of the last axis of the array.",
     "output_type": "error",
     "traceback": [
      "\u001B[0;31m---------------------------------------------------------------------------\u001B[0m",
      "\u001B[0;31mValueError\u001B[0m                                Traceback (most recent call last)",
      "Input \u001B[0;32mIn [86]\u001B[0m, in \u001B[0;36m<cell line: 37>\u001B[0;34m()\u001B[0m\n\u001B[1;32m     34\u001B[0m ax2\u001B[38;5;241m.\u001B[39mscatter(X_train_bases_2[:, \u001B[38;5;241m0\u001B[39m], X_train_bases_2[:, \u001B[38;5;241m1\u001B[39m], c\u001B[38;5;241m=\u001B[39m\u001B[38;5;124m\"\u001B[39m\u001B[38;5;124mwhite\u001B[39m\u001B[38;5;124m\"\u001B[39m, s\u001B[38;5;241m=\u001B[39m\u001B[38;5;241m20\u001B[39m, edgecolor\u001B[38;5;241m=\u001B[39m\u001B[38;5;124m\"\u001B[39m\u001B[38;5;124mk\u001B[39m\u001B[38;5;124m\"\u001B[39m)\n\u001B[1;32m     36\u001B[0m \u001B[38;5;66;03m# Bases - extended\u001B[39;00m\n\u001B[0;32m---> 37\u001B[0m Z \u001B[38;5;241m=\u001B[39m \u001B[43mgd_ext_clf_2\u001B[49m\u001B[38;5;241;43m.\u001B[39;49m\u001B[43mdecision_function_extended\u001B[49m\u001B[43m(\u001B[49m\u001B[43mnp\u001B[49m\u001B[38;5;241;43m.\u001B[39;49m\u001B[43mc_\u001B[49m\u001B[43m[\u001B[49m\u001B[43mxx\u001B[49m\u001B[38;5;241;43m.\u001B[39;49m\u001B[43mravel\u001B[49m\u001B[43m(\u001B[49m\u001B[43m)\u001B[49m\u001B[43m,\u001B[49m\u001B[43m \u001B[49m\u001B[43myy\u001B[49m\u001B[38;5;241;43m.\u001B[39;49m\u001B[43mravel\u001B[49m\u001B[43m(\u001B[49m\u001B[43m)\u001B[49m\u001B[43m]\u001B[49m\u001B[43m)\u001B[49m\n\u001B[1;32m     38\u001B[0m Z \u001B[38;5;241m=\u001B[39m Z\u001B[38;5;241m.\u001B[39mreshape(xx\u001B[38;5;241m.\u001B[39mshape)\n\u001B[1;32m     39\u001B[0m ax3\u001B[38;5;241m.\u001B[39mcontourf(xx, yy, Z, cmap\u001B[38;5;241m=\u001B[39mplt\u001B[38;5;241m.\u001B[39mcm\u001B[38;5;241m.\u001B[39mBlues_r)\n",
      "File \u001B[0;32m~/PycharmProjects/scikit-learn/sklearn/ensemble/_iforest.py:563\u001B[0m, in \u001B[0;36mIsolationForest.decision_function_extended\u001B[0;34m(self, X)\u001B[0m\n\u001B[1;32m    559\u001B[0m nrows, ncols \u001B[38;5;241m=\u001B[39m A\u001B[38;5;241m.\u001B[39mshape\n\u001B[1;32m    560\u001B[0m dtype \u001B[38;5;241m=\u001B[39m {\u001B[38;5;124m'\u001B[39m\u001B[38;5;124mnames\u001B[39m\u001B[38;5;124m'\u001B[39m: [\u001B[38;5;124m'\u001B[39m\u001B[38;5;124mf\u001B[39m\u001B[38;5;132;01m{}\u001B[39;00m\u001B[38;5;124m'\u001B[39m\u001B[38;5;241m.\u001B[39mformat(i) \u001B[38;5;28;01mfor\u001B[39;00m i \u001B[38;5;129;01min\u001B[39;00m \u001B[38;5;28mrange\u001B[39m(ncols)],\n\u001B[1;32m    561\u001B[0m          \u001B[38;5;124m'\u001B[39m\u001B[38;5;124mformats\u001B[39m\u001B[38;5;124m'\u001B[39m: ncols \u001B[38;5;241m*\u001B[39m [A\u001B[38;5;241m.\u001B[39mdtype]}\n\u001B[0;32m--> 563\u001B[0m mask \u001B[38;5;241m=\u001B[39m np\u001B[38;5;241m.\u001B[39min1d(B\u001B[38;5;241m.\u001B[39mview(dtype), \u001B[43mA\u001B[49m\u001B[38;5;241;43m.\u001B[39;49m\u001B[43mview\u001B[49m\u001B[43m(\u001B[49m\u001B[43mdtype\u001B[49m\u001B[43m)\u001B[49m)\n\u001B[1;32m    564\u001B[0m \u001B[38;5;28;01mif\u001B[39;00m(\u001B[38;5;129;01mnot\u001B[39;00m np\u001B[38;5;241m.\u001B[39mall(mask \u001B[38;5;241m==\u001B[39m \u001B[38;5;28;01mFalse\u001B[39;00m)):\n\u001B[1;32m    565\u001B[0m     X[mask][:, np\u001B[38;5;241m.\u001B[39mshape(X)[\u001B[38;5;241m1\u001B[39m]\u001B[38;5;241m-\u001B[39m\u001B[38;5;241m1\u001B[39m] \u001B[38;5;241m=\u001B[39m np\u001B[38;5;241m.\u001B[39mapply_along_axis(\u001B[38;5;28mself\u001B[39m\u001B[38;5;241m.\u001B[39mget_new_score, \u001B[38;5;241m1\u001B[39m, X[mask])\n",
      "\u001B[0;31mValueError\u001B[0m: When changing to a larger dtype, its size must be a divisor of the total size in bytes of the last axis of the array."
     ]
    },
    {
     "data": {
      "text/plain": "<Figure size 432x288 with 3 Axes>",
      "image/png": "[encoded data removed]"
     },
     "metadata": {
      "needs_background": "light"
     },
     "output_type": "display_data"
    }
   ],
   "source": [
    "X_train_2, X_test_2, X_outliers_2, y_train_2, y_test_2, y_outlier_2 = generate_data(100, 3, 1)\n",
    "\n",
    "vectorized_func = np.vectorize(gd.compress_int)\n",
    "\n",
    "X_train_bases_2 = vectorized_func(X_train_2, deviation_bits=DEVIATION_BITS, output=\"integer\")\n",
    "X_test_bases_2 = vectorized_func(X_test_2, deviation_bits=DEVIATION_BITS, output=\"integer\")\n",
    "X_outliers_bases_2 = vectorized_func(X_outliers_2, deviation_bits=DEVIATION_BITS, output=\"integer\")\n",
    "\n",
    "org_clf_2 = IsolationForest(random_state=rng)\n",
    "org_clf_2.fit(X_train_2)\n",
    "\n",
    "gd_clf_2 = IsolationForest(random_state=rng)\n",
    "gd_clf_2.fit(X_train_bases_2)\n",
    "\n",
    "gd_ext_clf_2 = IsolationForest(random_state=rng)\n",
    "gd_ext_clf_2.fit_extended(X_train_bases_2)\n",
    "\n",
    "xx, yy = np.meshgrid(np.linspace(0, 100, 50), np.linspace(0, 100, 50))\n",
    "\n",
    "fig, (ax1, ax2, ax3) = plt.subplots(3, 1)\n",
    "\n",
    "#Original\n",
    "Z = org_clf_2.decision_function(np.c_[xx.ravel(), yy.ravel()])\n",
    "Z = Z.reshape(xx.shape)\n",
    "ax1.contourf(xx, yy, Z, cmap=plt.cm.Blues_r)\n",
    "\n",
    "ax1.scatter(X_train_2[:, 0], X_train_2[:, 1], c=\"white\", s=20, edgecolor=\"k\")\n",
    "\n",
    "# Bases\n",
    "Z = gd_clf_2.decision_function(np.c_[xx.ravel(), yy.ravel()])\n",
    "Z = Z.reshape(xx.shape)\n",
    "ax2.contourf(xx, yy, Z, cmap=plt.cm.Blues_r)\n",
    "\n",
    "ax2.scatter(X_train_bases_2[:, 0], X_train_bases_2[:, 1], c=\"white\", s=20, edgecolor=\"k\")\n",
    "\n",
    "# Bases - extended\n",
    "Z = gd_ext_clf_2.decision_function_extended(np.c_[xx.ravel(), yy.ravel()])\n",
    "Z = Z.reshape(xx.shape)\n",
    "ax3.contourf(xx, yy, Z, cmap=plt.cm.Blues_r)\n",
    "\n",
    "ax3.scatter(X_train_bases_2[:, 0], X_train_bases_2[:, 1], c=\"white\", s=20, edgecolor=\"k\")\n",
    "\n",
    "# Plot settings\n",
    "ax1.set_title(\"Original Data\")\n",
    "ax2.set_title(\"Bases Data\")\n",
    "ax3.set_title(\"Bases Data - Extended\")\n",
    "\n",
    "ax1.set_xlim([0,100])\n",
    "ax2.set_xlim([0,100])\n",
    "ax3.set_xlim([0,100])\n",
    "\n",
    "ax1.set_ylim([0,100])\n",
    "ax2.set_ylim([0,100])\n",
    "ax3.set_ylim([0,100])\n",
    "\n",
    "ax1.set_xticklabels([])\n",
    "ax2.set_xticklabels([])\n",
    "\n",
    "ax1.set_ylabel('Y')\n",
    "ax2.set_ylabel('Y')\n",
    "ax2.set_xlabel('X')\n",
    "\n",
    "\n",
    "plt.show()"
   ],
   "metadata": {
    "collapsed": false,
    "pycharm": {
     "name": "#%%\n"
    }
   }
  },
  {
   "cell_type": "markdown",
   "source": [
    "## Data before and after gd - scatter"
   ],
   "metadata": {
    "collapsed": false,
    "pycharm": {
     "name": "#%% md\n"
    }
   }
  },
  {
   "cell_type": "code",
   "execution_count": null,
   "outputs": [],
   "source": [
    "fig, (ax1, ax2) = plt.subplots(2, 1)\n",
    "\n",
    "b1 = ax1.scatter(X_train[:, 0], X_train[:, 1], c=\"white\", s=20, edgecolor=\"k\")\n",
    "b2 = ax1.scatter(X_test[:, 0], X_test[:, 1], c=\"green\", s=20, edgecolor=\"k\")\n",
    "c = ax1.scatter(X_outliers[:, 0], X_outliers[:, 1], c=\"red\", s=20, edgecolor=\"k\")\n",
    "ax1.set_title(\"Original Data\")\n",
    "\n",
    "b1 = ax2.scatter(X_train_bases[:, 0], X_train_bases[:, 1], c=\"white\", s=20, edgecolor=\"k\")\n",
    "b2 = ax2.scatter(X_test_bases[:, 0], X_test_bases[:, 1], c=\"green\", s=20, edgecolor=\"k\")\n",
    "c = ax2.scatter(X_outliers_bases[:, 0], X_outliers_bases[:, 1], c=\"red\", s=20, edgecolor=\"k\")\n",
    "ax1.set_title(\"Original Data\")\n",
    "ax2.set_title(\"Bases Data\")\n",
    "\n",
    "ax1.set_xlim([30,120])\n",
    "ax2.set_xlim([30,120])\n",
    "\n",
    "ax1.set_ylim([30,120])\n",
    "ax2.set_ylim([30,120])\n",
    "\n",
    "ax1.set_xticklabels([])\n",
    "\n",
    "ax1.set_ylabel('Y')\n",
    "ax2.set_ylabel('Y')\n",
    "ax2.set_xlabel('X')\n",
    "plt.show()"
   ],
   "metadata": {
    "collapsed": false,
    "pycharm": {
     "name": "#%%\n"
    }
   }
  },
  {
   "cell_type": "markdown",
   "source": [],
   "metadata": {
    "collapsed": false,
    "pycharm": {
     "name": "#%% md\n"
    }
   }
  },
  {
   "cell_type": "markdown",
   "source": [
    "## Decision Function - scatter/contour"
   ],
   "metadata": {
    "collapsed": false,
    "pycharm": {
     "name": "#%% md\n"
    }
   }
  },
  {
   "cell_type": "code",
   "execution_count": null,
   "outputs": [],
   "source": [
    "xx, yy = np.meshgrid(np.linspace(30, 120, 50), np.linspace(30, 120, 50))\n",
    "\n",
    "fig, (ax1, ax2, ax3) = plt.subplots(3, 1)\n",
    "\n",
    "#Original\n",
    "Z = org_clf.decision_function(np.c_[xx.ravel(), yy.ravel()])\n",
    "Z = Z.reshape(xx.shape)\n",
    "ax1.contourf(xx, yy, Z, cmap=plt.cm.Blues_r)\n",
    "\n",
    "ax1.scatter(X_train[:, 0], X_train[:, 1], c=\"white\", s=20, edgecolor=\"k\")\n",
    "ax1.scatter(X_test[:, 0], X_test[:, 1], c=\"green\", s=20, edgecolor=\"k\")\n",
    "ax1.scatter(X_outliers[:, 0], X_outliers[:, 1], c=\"red\", s=20, edgecolor=\"k\")\n",
    "\n",
    "# Bases\n",
    "Z = gd_clf.decision_function(np.c_[xx.ravel(), yy.ravel()])\n",
    "Z = Z.reshape(xx.shape)\n",
    "ax2.contourf(xx, yy, Z, cmap=plt.cm.Blues_r)\n",
    "\n",
    "ax2.scatter(X_train_bases[:, 0], X_train_bases[:, 1], c=\"white\", s=20, edgecolor=\"k\")\n",
    "ax2.scatter(X_test_bases[:, 0], X_test_bases[:, 1], c=\"green\", s=20, edgecolor=\"k\")\n",
    "ax2.scatter(X_outliers_bases[:, 0], X_outliers_bases[:, 1], c=\"red\", s=20, edgecolor=\"k\")\n",
    "\n",
    "# Bases\n",
    "Z = gd_ext_clf.decision_function_extended(np.c_[xx.ravel(), yy.ravel()])\n",
    "Z = Z.reshape(xx.shape)\n",
    "ax3.contourf(xx, yy, Z, cmap=plt.cm.Blues_r)\n",
    "\n",
    "ax3.scatter(X_train_bases[:, 0], X_train_bases[:, 1], c=\"white\", s=20, edgecolor=\"k\")\n",
    "ax3.scatter(X_test_bases[:, 0], X_test_bases[:, 1], c=\"green\", s=20, edgecolor=\"k\")\n",
    "ax3.scatter(X_outliers_bases[:, 0], X_outliers_bases[:, 1], c=\"red\", s=20, edgecolor=\"k\")\n",
    "\n",
    "# Plot settings\n",
    "ax1.set_title(\"Original Data\")\n",
    "ax2.set_title(\"Bases Data\")\n",
    "ax3.set_title(\"Bases Data - extended\")\n",
    "\n",
    "ax1.set_xlim([30,120])\n",
    "ax2.set_xlim([30,120])\n",
    "ax3.set_xlim([30,120])\n",
    "\n",
    "ax1.set_ylim([30,120])\n",
    "ax2.set_ylim([30,120])\n",
    "ax3.set_ylim([30,120])\n",
    "\n",
    "ax1.set_xticklabels([])\n",
    "ax2.set_xticklabels([])\n",
    "\n",
    "ax1.set_ylabel('Y')\n",
    "ax2.set_ylabel('Y')\n",
    "ax3.set_ylabel('Y')\n",
    "ax3.set_xlabel('X')\n",
    "\n",
    "\n",
    "plt.show()"
   ],
   "metadata": {
    "collapsed": false,
    "pycharm": {
     "name": "#%%\n"
    }
   }
  },
  {
   "cell_type": "markdown",
   "source": [
    "## Bases - density"
   ],
   "metadata": {
    "collapsed": false,
    "pycharm": {
     "name": "#%% md\n"
    }
   }
  },
  {
   "cell_type": "code",
   "execution_count": null,
   "outputs": [],
   "source": [
    "fig, axes = plt.subplots(nrows=3, ncols=1)\n",
    "pd.DataFrame(X_train_bases).plot.density(ax=axes[0])\n",
    "pd.DataFrame(X_test_bases).plot.density(ax=axes[1])\n",
    "pd.DataFrame(X_outliers_bases).plot.density(ax=axes[2])\n",
    "plt.show()"
   ],
   "metadata": {
    "collapsed": false,
    "pycharm": {
     "name": "#%%\n"
    }
   }
  },
  {
   "cell_type": "markdown",
   "metadata": {
    "collapsed": false,
    "pycharm": {
     "name": "#%% md\n"
    }
   },
   "source": [
    "## Calculation - scatter"
   ]
  },
  {
   "cell_type": "code",
   "execution_count": null,
   "metadata": {
    "collapsed": false,
    "pycharm": {
     "name": "#%%\n"
    }
   },
   "outputs": [],
   "source": [
    "fig, axs = plt.subplots(2, 2)\n",
    "ax1 = axs[0,0]\n",
    "ax2 = axs[0,1]\n",
    "ax3 = axs[1,0]\n",
    "ax4 = axs[1,1]\n",
    "\n",
    "points = ax1.scatter(df_unique.gd_X, df_unique.gd_Y, c=df_unique.gd_score_converted,cmap=\"jet\", lw=0)\n",
    "plt.colorbar(points,ax=ax1)\n",
    "ax1.set_title(\"Score Scatter\")\n",
    "\n",
    "points = ax2.scatter(df_unique.gd_X, df_unique.gd_Y, c=df_unique.gd_score_converted,cmap=\"jet\", lw=0)\n",
    "plt.colorbar(points,ax=ax2)\n",
    "ax2.set_title(\"Score Scatter\")\n",
    "\n",
    "points = ax3.scatter(df_unique.gd_X, df_unique.gd_Y, c=df_unique['E[H(x)]+log_2[count(x)]'],cmap=\"jet\", lw=0)\n",
    "plt.colorbar(points,ax=ax3)\n",
    "ax3.set_title(\"E[H(x)]+log_2[count(x)]\")\n",
    "\n",
    "points = ax4.scatter(df_unique.gd_X, df_unique.gd_Y, c=df_unique['S(x,n_samples)'],cmap=\"jet\", lw=0)\n",
    "plt.colorbar(points,ax=ax4)\n",
    "ax4.set_title(\"S(x,n_samples)\")\n",
    "\n",
    "ax1.set_xticklabels([])\n",
    "ax2.set_xticklabels([])\n",
    "\n",
    "ax2.set_yticklabels([])\n",
    "ax4.set_yticklabels([])\n",
    "\n",
    "ax3.set_ylabel('Y')\n",
    "ax1.set_ylabel('Y')\n",
    "plt.show()"
   ]
  },
  {
   "cell_type": "markdown",
   "metadata": {
    "collapsed": false,
    "pycharm": {
     "name": "#%% md\n"
    }
   },
   "source": []
  },
  {
   "cell_type": "markdown",
   "source": [
    "## Deviation / Metrics tradeoffs"
   ],
   "metadata": {
    "collapsed": false
   }
  },
  {
   "cell_type": "markdown",
   "source": [
    "### Setup data"
   ],
   "metadata": {
    "collapsed": false
   }
  },
  {
   "cell_type": "code",
   "execution_count": null,
   "outputs": [],
   "source": [
    "#X_train, X_test, X_outliers, y_train, y_test, y_outlier = generate_data(100, 3, 1)\n",
    "deviation_bits_max = 8\n",
    "gd_performance = pd.DataFrame(columns=['name', 'deviation_bits', 'train_accuracy_score', 'test_accuracy_score', 'outlier_accuracy_score', 'train_precision_score', 'test_precision_score', 'outlier_precision_score','train_f1_score', 'test_f1_score', 'outlier_f1_score', 'train_recall_score', 'test_recall_score', 'outlier_recall_score', 'training_time', 'prediction_time'])\n",
    "\n",
    "gd_ext_performance = pd.DataFrame(columns=['name', 'deviation_bits', 'train_accuracy_score', 'test_accuracy_score', 'outlier_accuracy_score', 'train_precision_score', 'test_precision_score', 'outlier_precision_score','train_f1_score', 'test_f1_score', 'outlier_f1_score', 'train_recall_score', 'test_recall_score', 'outlier_recall_score', 'training_time', 'prediction_time'])"
   ],
   "metadata": {
    "collapsed": false,
    "pycharm": {
     "name": "#%%\n"
    }
   }
  },
  {
   "cell_type": "markdown",
   "source": [
    "### Perform generalized deduplication"
   ],
   "metadata": {
    "collapsed": false
   }
  },
  {
   "cell_type": "code",
   "execution_count": null,
   "outputs": [],
   "source": [
    "vectorized_func = np.vectorize(gd.compress_int)\n",
    "X_train_bases_arr = []\n",
    "X_test_bases_arr = []\n",
    "X_outliers_bases_arr = []\n",
    "\n",
    "for i in range(0, deviation_bits_max + 1):\n",
    "    X_train_bases_arr.append(vectorized_func(X_train, deviation_bits=i, output=\"integer\"))\n",
    "    X_test_bases_arr.append(vectorized_func(X_test, deviation_bits=i, output=\"integer\"))\n",
    "    X_outliers_bases_arr.append(vectorized_func(X_outliers, deviation_bits=i, output=\"integer\"))"
   ],
   "metadata": {
    "collapsed": false,
    "pycharm": {
     "name": "#%%\n"
    }
   }
  },
  {
   "cell_type": "markdown",
   "source": [
    "### Train models"
   ],
   "metadata": {
    "collapsed": false
   }
  },
  {
   "cell_type": "code",
   "execution_count": null,
   "outputs": [],
   "source": [
    "for i in range(0, deviation_bits_max + 1):\n",
    "    # Bases iForest\n",
    "    gd_clf = IsolationForest(random_state=rng)\n",
    "    gd_clf.fit(X_train_bases_arr[i])\n",
    "    y_pred_train = gd_clf.predict(X_train_bases_arr[i])\n",
    "    y_pred_test = gd_clf.predict(X_test_bases_arr[i])\n",
    "    y_pred_outliers = gd_clf.predict(X_outliers_bases_arr[i])\n",
    "    gd_performance = gd_performance.append(create_performance_object(f'Bases', i, y_pred_train, y_pred_test, y_pred_outliers, None, None), ignore_index=True)\n",
    "\n",
    "    # Bases Extended iForest\n",
    "    gd_ext_clf = IsolationForest(random_state=rng)\n",
    "    gd_ext_clf.fit_extended(X_train_bases_arr[i])\n",
    "    y_pred_train = gd_ext_clf.predict_extended(X_train_bases_arr[i])\n",
    "    y_pred_test = gd_ext_clf.predict_extended(X_test_bases_arr[i])\n",
    "    y_pred_outliers = gd_ext_clf.predict_extended(X_outliers_bases_arr[i])\n",
    "    gd_ext_performance = gd_ext_performance.append(create_performance_object(f'Bases extended', i, y_pred_train, y_pred_test, y_pred_outliers, None, None), ignore_index=True)\n",
    "\n",
    "gd_performance"
   ],
   "metadata": {
    "collapsed": false,
    "pycharm": {
     "name": "#%%\n"
    }
   }
  },
  {
   "cell_type": "code",
   "execution_count": null,
   "outputs": [],
   "source": [
    "gd_ext_performance"
   ],
   "metadata": {
    "collapsed": false,
    "pycharm": {
     "name": "#%%\n"
    }
   }
  },
  {
   "cell_type": "markdown",
   "source": [
    "### Visualize"
   ],
   "metadata": {
    "collapsed": false
   }
  },
  {
   "cell_type": "code",
   "execution_count": null,
   "outputs": [],
   "source": [
    "plt.plot(gd_performance['deviation_bits'], gd_performance['test_accuracy_score'], 'o')\n",
    "\n",
    "plt.plot(gd_performance['deviation_bits'], gd_performance['outlier_accuracy_score'], 'o')\n",
    "\n",
    "plt.legend(['Test Data (No outliers)', 'Outlier Data (All outliers)'])\n",
    "plt.xlabel('Deviation Bits')\n",
    "plt.ylabel('Accuracy Score')\n",
    "plt.title('iForest on various amount of deviation bits')\n",
    "plt.show()\n",
    "\n",
    "plt.plot(gd_ext_performance['deviation_bits'], gd_performance['test_accuracy_score'], 'o')\n",
    "\n",
    "plt.plot(gd_ext_performance['deviation_bits'], gd_performance['outlier_accuracy_score'], 'o')\n",
    "\n",
    "plt.legend(['Test Data (No outliers)', 'Outlier Data (All outliers)'])\n",
    "plt.xlabel('Deviation Bits')\n",
    "plt.ylabel('Accuracy Score')\n",
    "plt.title('Extended iForest on various amount of deviation bits')\n",
    "plt.show()"
   ],
   "metadata": {
    "collapsed": false,
    "pycharm": {
     "name": "#%%\n"
    }
   }
  },
  {
   "cell_type": "markdown",
   "source": [
    "# Formulas"
   ],
   "metadata": {
    "collapsed": false,
    "pycharm": {
     "name": "#%% md\n"
    }
   }
  },
  {
   "cell_type": "markdown",
   "metadata": {
    "collapsed": false,
    "pycharm": {
     "name": "#%% md\n"
    }
   },
   "source": [
    "## Definitions\n",
    "\n",
    "$n$: number of samples\n",
    "\n",
    "$c(n)$: average path length of unsuccessfull search - constant given n\n",
    "\n",
    "$H(i)$: harmonic number - estimated by $ln(i) + e$\n",
    "\n",
    "$h(x)$: path length - number of edges x traverses an itree from the root node\n",
    "\n",
    "$n$: amount of instances/nodes - amount of bases in our situation\n",
    "\n",
    "$s$: anomaly score -\n",
    "$s(x,n)=2^{\\frac{-E(h(x))}{c(n)}}$\n",
    "\n",
    "$E(h(x))$: average of $h(x)$ from a collection of isolation trees.\n",
    "\n",
    "$f_{base}=\\log_2(n_{base})$\n",
    "\n",
    "---\n",
    "\n",
    "## Deriving equations\n",
    "1:\n",
    "\n",
    "$\\log_2(s) \\cdot c(n)=-E(h(x))$\n",
    "\n",
    "2:\n",
    "\n",
    "$\\log_2(s)=-\\frac{E(h(x))+\\log_2(f_{base})}{c(n_{samples})}$\n",
    "\n",
    "3:\n",
    "\n",
    "$\\log_2(s) \\cdot c(n) = -E(h(x))$\n",
    "\n",
    "4:\n",
    "\n",
    "$\\log_2(s) = -\\frac{E(h(x))+\\log_2(f_{base})}{c(n_{samples})}$\n",
    "\n",
    "\n",
    "---\n",
    "\n",
    "\n"
   ]
  }
 ],
 "metadata": {
  "kernelspec": {
   "display_name": "Python 3",
   "language": "python",
   "name": "python3"
  },
  "language_info": {
   "codemirror_mode": {
    "name": "ipython",
    "version": 2
   },
   "file_extension": ".py",
   "mimetype": "text/x-python",
   "name": "python",
   "nbconvert_exporter": "python",
   "pygments_lexer": "ipython2",
   "version": "2.7.6"
  }
 },
 "nbformat": 4,
 "nbformat_minor": 0
}