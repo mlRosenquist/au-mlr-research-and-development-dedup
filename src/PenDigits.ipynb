{
 "cells": [
  {
   "cell_type": "markdown",
   "metadata": {
    "collapsed": false,
    "pycharm": {
     "name": "#%% md\n"
    }
   },
   "source": [
    "# Setup"
   ]
  },
  {
   "cell_type": "markdown",
   "source": [
    "## Imports"
   ],
   "metadata": {
    "collapsed": false,
    "pycharm": {
     "name": "#%% md\n"
    }
   }
  },
  {
   "cell_type": "code",
   "execution_count": 1,
   "metadata": {
    "collapsed": false,
    "pycharm": {
     "name": "#%%\n"
    }
   },
   "outputs": [],
   "source": [
    "import time\n",
    "\n",
    "import pandas as pd\n",
    "import numpy as np\n",
    "from matplotlib import pyplot as plt\n",
    "from sklearn.metrics import accuracy_score, confusion_matrix, precision_score, f1_score\n",
    "\n",
    "import gd as gd\n",
    "import math\n",
    "from random import randint\n",
    "from sklearn.ensemble import IsolationForest\n",
    "import seaborn as sns"
   ]
  },
  {
   "cell_type": "markdown",
   "metadata": {
    "collapsed": false,
    "pycharm": {
     "name": "#%% md\n"
    }
   },
   "source": [
    "## Constants"
   ]
  },
  {
   "cell_type": "code",
   "execution_count": 2,
   "metadata": {
    "collapsed": false,
    "pycharm": {
     "name": "#%%\n"
    }
   },
   "outputs": [],
   "source": [
    "# Generalized Deduplication\n",
    "DEVIATION_BITS = 2\n",
    "\n",
    "# Isolation Forest\n",
    "rng = np.random.RandomState(42)\n",
    "\n",
    "# Performance\n",
    "time_no_iterations = 1\n",
    "time_no_outliers_removed = 0"
   ]
  },
  {
   "cell_type": "markdown",
   "metadata": {
    "collapsed": true,
    "pycharm": {
     "name": "#%% md\n"
    }
   },
   "source": [
    "# Load Data"
   ]
  },
  {
   "cell_type": "markdown",
   "source": [
    "## Generate data"
   ],
   "metadata": {
    "collapsed": false,
    "pycharm": {
     "name": "#%% md\n"
    }
   }
  },
  {
   "cell_type": "code",
   "execution_count": 3,
   "metadata": {
    "collapsed": false,
    "pycharm": {
     "name": "#%%\n"
    }
   },
   "outputs": [],
   "source": [
    "from scipy.io import arff\n",
    "from sklearn.model_selection import train_test_split\n",
    "\n",
    "data = arff.loadarff('./data/PenDigits/PenDigits_withoutdupl_norm_v10.arff')\n",
    "df = pd.DataFrame(data[0])\n",
    "df['outlier'].mask(df['outlier'] == b'no', 1, inplace=True)\n",
    "df['outlier'].mask(df['outlier'] == b'yes', -1, inplace=True)\n",
    "y = df.pop('outlier').values.astype(int)\n",
    "id = df.pop('id')\n",
    "df = df.astype(int)\n",
    "X_train, X_test, y_train, y_test = train_test_split(df, y, test_size=0.2, stratify=y)"
   ]
  },
  {
   "cell_type": "markdown",
   "metadata": {
    "collapsed": false,
    "pycharm": {
     "name": "#%% md\n"
    }
   },
   "source": [
    "## Perform Generalized Deduplication"
   ]
  },
  {
   "cell_type": "code",
   "execution_count": 4,
   "metadata": {
    "collapsed": false,
    "pycharm": {
     "name": "#%%\n"
    }
   },
   "outputs": [],
   "source": [
    "vectorized_func = np.vectorize(gd.compress_int)\n",
    "\n",
    "X_train_bases = vectorized_func(X_train, deviation_bits=DEVIATION_BITS, output=\"integer\")\n",
    "X_test_bases = vectorized_func(X_test, deviation_bits=DEVIATION_BITS, output=\"integer\")"
   ]
  },
  {
   "cell_type": "markdown",
   "source": [
    "# Model Training"
   ],
   "metadata": {
    "collapsed": false,
    "pycharm": {
     "name": "#%% md\n"
    }
   }
  },
  {
   "cell_type": "markdown",
   "source": [
    "## Setup"
   ],
   "metadata": {
    "collapsed": false,
    "pycharm": {
     "name": "#%% md\n"
    }
   }
  },
  {
   "cell_type": "code",
   "execution_count": 5,
   "outputs": [],
   "source": [
    "gd_df_results = pd.DataFrame()\n",
    "gd_ext_df_results = pd.DataFrame()\n",
    "org_df_results = pd.DataFrame()\n",
    "performance = pd.DataFrame(columns=['name', 'deviation_bits', 'train_accuracy_score', 'test_accuracy_score', 'outlier_accuracy_score', 'train_precision_score', 'test_precision_score', 'outlier_precision_score','train_f1_score', 'test_f1_score', 'outlier_f1_score', 'train_recall_score', 'test_recall_score', 'outlier_recall_score', 'training_time', 'prediction_time'])\n",
    "\n",
    "\n",
    "def create_performance_object(name, deviation_bits, y_pred_train, y_pred_test, training_time, prediction_time):\n",
    "    return {\n",
    "    'name': name,\n",
    "    'deviation_bits': deviation_bits,\n",
    "    'train_accuracy_score': accuracy_score(y_train, y_pred_train),\n",
    "    'test_accuracy_score': accuracy_score(y_test, y_pred_test),\n",
    "    'train_precision_score': precision_score(y_train, y_pred_train),\n",
    "    'test_precision_score': precision_score(y_test, y_pred_test),\n",
    "    'train_f1_score': f1_score(y_train, y_pred_train),\n",
    "    'test_f1_score': f1_score(y_test, y_pred_test),\n",
    "    'train_recall_score': f1_score(y_train, y_pred_train),\n",
    "    'test_recall_score': f1_score(y_test, y_pred_test),\n",
    "    'training_time': training_time,\n",
    "    'prediction_time': prediction_time,\n",
    "    }"
   ],
   "metadata": {
    "collapsed": false,
    "pycharm": {
     "name": "#%%\n"
    }
   }
  },
  {
   "cell_type": "markdown",
   "metadata": {
    "collapsed": false,
    "pycharm": {
     "name": "#%% md\n"
    }
   },
   "source": [
    "## Isolation Forest - Bases"
   ]
  },
  {
   "cell_type": "code",
   "execution_count": 6,
   "metadata": {
    "collapsed": false,
    "pycharm": {
     "name": "#%%\n"
    }
   },
   "outputs": [
    {
     "name": "stderr",
     "output_type": "stream",
     "text": [
      "/tmp/ipykernel_31356/1321840068.py:24: FutureWarning: The frame.append method is deprecated and will be removed from pandas in a future version. Use pandas.concat instead.\n",
      "  performance = performance.append(create_performance_object('Isolation Forest Bases', DEVIATION_BITS, y_pred_train, y_pred_test, training_times[0].mean(), prediction_times[0].mean()), ignore_index=True)\n"
     ]
    },
    {
     "data": {
      "text/plain": "   gd_X  gd_Y  gd_score  gd_anomaly\n0    16    96 -0.000978          -1\n1    44   100 -0.001402          -1\n2    72    96  0.015085           1\n3     0    44 -0.026655          -1\n4    16    88 -0.011226          -1",
      "text/html": "<div>\n<style scoped>\n    .dataframe tbody tr th:only-of-type {\n        vertical-align: middle;\n    }\n\n    .dataframe tbody tr th {\n        vertical-align: top;\n    }\n\n    .dataframe thead th {\n        text-align: right;\n    }\n</style>\n<table border=\"1\" class=\"dataframe\">\n  <thead>\n    <tr style=\"text-align: right;\">\n      <th></th>\n      <th>gd_X</th>\n      <th>gd_Y</th>\n      <th>gd_score</th>\n      <th>gd_anomaly</th>\n    </tr>\n  </thead>\n  <tbody>\n    <tr>\n      <th>0</th>\n      <td>16</td>\n      <td>96</td>\n      <td>-0.000978</td>\n      <td>-1</td>\n    </tr>\n    <tr>\n      <th>1</th>\n      <td>44</td>\n      <td>100</td>\n      <td>-0.001402</td>\n      <td>-1</td>\n    </tr>\n    <tr>\n      <th>2</th>\n      <td>72</td>\n      <td>96</td>\n      <td>0.015085</td>\n      <td>1</td>\n    </tr>\n    <tr>\n      <th>3</th>\n      <td>0</td>\n      <td>44</td>\n      <td>-0.026655</td>\n      <td>-1</td>\n    </tr>\n    <tr>\n      <th>4</th>\n      <td>16</td>\n      <td>88</td>\n      <td>-0.011226</td>\n      <td>-1</td>\n    </tr>\n  </tbody>\n</table>\n</div>"
     },
     "execution_count": 6,
     "metadata": {},
     "output_type": "execute_result"
    }
   ],
   "source": [
    "training_times = []\n",
    "prediction_times = []\n",
    "for i in range(0, time_no_iterations):\n",
    "    gd_clf = IsolationForest(random_state=rng)\n",
    "    start_time = time.time()\n",
    "    gd_clf.fit(X_train_bases)\n",
    "    end_time = time.time()\n",
    "    training_time = end_time - start_time\n",
    "    training_times.append(training_time)\n",
    "\n",
    "    start_time = time.time()\n",
    "    y_pred_train = gd_clf.predict(X_train_bases)\n",
    "    y_pred_test = gd_clf.predict(X_test_bases)\n",
    "    end_time = time.time()\n",
    "    prediction_time = end_time - start_time\n",
    "    prediction_times.append(prediction_time)\n",
    "\n",
    "training_times = pd.DataFrame(training_times)\n",
    "prediction_times = pd.DataFrame(prediction_times)\n",
    "training_times = training_times.drop(training_times.nsmallest(time_no_outliers_removed, 0).index).drop(training_times.nlargest(time_no_outliers_removed, 0).index)\n",
    "prediction_times = prediction_times.drop(prediction_times.nsmallest(time_no_outliers_removed, 0).index).drop(prediction_times.nlargest(time_no_outliers_removed, 0).index)\n",
    "\n",
    "\n",
    "performance = performance.append(create_performance_object('Isolation Forest Bases', DEVIATION_BITS, y_pred_train, y_pred_test, training_times[0].mean(), prediction_times[0].mean()), ignore_index=True)\n",
    "\n",
    "gd_df_results['gd_X'] = X_train_bases[:,0]\n",
    "gd_df_results['gd_Y'] = X_train_bases[:,1]\n",
    "gd_df_results['gd_score'] = gd_clf.decision_function(X_train_bases)\n",
    "gd_df_results['gd_anomaly'] = gd_clf.predict(X_train_bases)\n",
    "gd_df_results.head()"
   ]
  },
  {
   "cell_type": "markdown",
   "source": [
    "## Isolation Forest - Bases - Extended"
   ],
   "metadata": {
    "collapsed": false,
    "pycharm": {
     "name": "#%% md\n"
    }
   }
  },
  {
   "cell_type": "code",
   "execution_count": null,
   "outputs": [
    {
     "name": "stderr",
     "output_type": "stream",
     "text": [
      "/home/mlrosenquist/PycharmProjects/scikit-learn/sklearn/ensemble/_iforest.py:419: FutureWarning: The frame.append method is deprecated and will be removed from pandas in a future version. Use pandas.concat instead.\n",
      "  self.df_unique_ = self.df_unique_.append(pd.DataFrame(unique), ignore_index=True)\n",
      "/home/mlrosenquist/PycharmProjects/scikit-learn/sklearn/ensemble/_iforest.py:553: FutureWarning: The frame.append method is deprecated and will be removed from pandas in a future version. Use pandas.concat instead.\n",
      "  df_results = df_results.append(pd.DataFrame(X), ignore_index=True)\n"
     ]
    },
    {
     "name": "stdout",
     "output_type": "stream",
     "text": [
      "INFO: Pandarallel will run on 2 workers.\n",
      "INFO: Pandarallel will use Memory file system to transfer data between the main process and workers.\n"
     ]
    }
   ],
   "source": [
    "training_times = []\n",
    "prediction_times = []\n",
    "for i in range(0, time_no_iterations):\n",
    "    gd_ext_clf = IsolationForest(random_state=rng)\n",
    "    start_time = time.time()\n",
    "    gd_ext_clf.fit_extended(X_train_bases)\n",
    "    end_time = time.time()\n",
    "    training_time = end_time - start_time\n",
    "    training_times.append(training_time)\n",
    "\n",
    "    start_time = time.time()\n",
    "    y_pred_train = gd_ext_clf.predict_extended(X_train_bases)\n",
    "    y_pred_test = gd_ext_clf.predict_extended(X_test_bases)\n",
    "    end_time = time.time()\n",
    "    prediction_time = end_time - start_time\n",
    "    prediction_times.append(prediction_time)\n",
    "\n",
    "training_times = pd.DataFrame(training_times)\n",
    "prediction_times = pd.DataFrame(prediction_times)\n",
    "training_times = training_times.drop(training_times.nsmallest(time_no_outliers_removed, 0).index).drop(training_times.nlargest(time_no_outliers_removed, 0).index)\n",
    "prediction_times = prediction_times.drop(prediction_times.nsmallest(time_no_outliers_removed, 0).index).drop(prediction_times.nlargest(time_no_outliers_removed, 0).index)\n",
    "\n",
    "\n",
    "performance = performance.append(create_performance_object('Isolation Forest Bases - extended', DEVIATION_BITS, y_pred_train, y_pred_test, training_times[0].mean(), prediction_times[0].mean()), ignore_index=True)\n",
    "\n",
    "gd_ext_df_results['gd_X'] = X_train_bases[:,0]\n",
    "gd_ext_df_results['gd_Y'] = X_train_bases[:,1]\n",
    "gd_ext_df_results['gd_score'] = gd_ext_clf.decision_function_extended(X_train_bases)\n",
    "gd_ext_df_results['gd_anomaly'] = y_pred_train\n",
    "gd_ext_df_results.head()"
   ],
   "metadata": {
    "collapsed": false,
    "pycharm": {
     "name": "#%%\n",
     "is_executing": true
    }
   }
  },
  {
   "cell_type": "markdown",
   "source": [
    "## Isolation Forest Original Data"
   ],
   "metadata": {
    "collapsed": false
   }
  },
  {
   "cell_type": "markdown",
   "source": [],
   "metadata": {
    "collapsed": false
   }
  },
  {
   "cell_type": "code",
   "execution_count": null,
   "metadata": {
    "collapsed": false,
    "pycharm": {
     "name": "#%%\n",
     "is_executing": true
    }
   },
   "outputs": [],
   "source": [
    "training_times = []\n",
    "prediction_times = []\n",
    "for i in range(0, time_no_iterations):\n",
    "    org_clf = IsolationForest(random_state=rng)\n",
    "    start_time = time.time()\n",
    "    org_clf.fit(X_train)\n",
    "    end_time = time.time()\n",
    "    training_time = end_time - start_time\n",
    "    training_times.append(training_time)\n",
    "\n",
    "    start_time = time.time()\n",
    "    y_pred_train = org_clf.predict(X_train)\n",
    "    y_pred_test = org_clf.predict(X_test)\n",
    "    end_time = time.time()\n",
    "    prediction_time = end_time - start_time\n",
    "    prediction_times.append(prediction_time)\n",
    "\n",
    "training_times = pd.DataFrame(training_times)\n",
    "prediction_times = pd.DataFrame(prediction_times)\n",
    "training_times = training_times.drop(training_times.nsmallest(time_no_outliers_removed, 0).index).drop(training_times.nlargest(time_no_outliers_removed, 0).index)\n",
    "prediction_times = prediction_times.drop(prediction_times.nsmallest(time_no_outliers_removed, 0).index).drop(prediction_times.nlargest(time_no_outliers_removed, 0).index)\n",
    "\n",
    "performance = performance.append(create_performance_object('Isolation Forest Original', DEVIATION_BITS, y_pred_train, y_pred_test, training_times[0].mean(), prediction_times[0].mean()), ignore_index=True)\n",
    "\n",
    "org_df_results['org_score'] = org_clf.decision_function(X_train)\n",
    "org_df_results['org_anomaly'] = org_clf.predict(X_train)\n",
    "org_df_results.head()"
   ]
  },
  {
   "cell_type": "markdown",
   "source": [
    "# Performance evaluation"
   ],
   "metadata": {
    "collapsed": false,
    "pycharm": {
     "name": "#%% md\n"
    }
   }
  },
  {
   "cell_type": "markdown",
   "source": [
    "## Overview"
   ],
   "metadata": {
    "collapsed": false,
    "pycharm": {
     "name": "#%% md\n"
    }
   }
  },
  {
   "cell_type": "markdown",
   "source": [],
   "metadata": {
    "collapsed": false
   }
  },
  {
   "cell_type": "code",
   "execution_count": null,
   "outputs": [],
   "source": [
    "performance"
   ],
   "metadata": {
    "collapsed": false,
    "pycharm": {
     "name": "#%%\n",
     "is_executing": true
    }
   }
  },
  {
   "cell_type": "markdown",
   "source": [
    "## Confusion Matrices"
   ],
   "metadata": {
    "collapsed": false,
    "pycharm": {
     "name": "#%% md\n"
    }
   }
  },
  {
   "cell_type": "code",
   "execution_count": null,
   "outputs": [],
   "source": [
    "\n",
    "y_train_clipped = y_train.clip(min=0)\n",
    "y_test_clipped = y_test.clip(min=0)\n",
    "\n",
    "# Original\n",
    "fig, (ax1, ax2, ax3) = plt.subplots(1, 3)\n",
    "fig.suptitle(\"Original\")\n",
    "\n",
    "y_train_pred =  org_clf.predict(X_train).clip(min=0)\n",
    "cf_matrix = confusion_matrix(y_train_clipped, y_train_pred)\n",
    "sns.heatmap(cf_matrix, annot=True, ax=ax1)\n",
    "\n",
    "y_test_pred =  org_clf.predict(X_test).clip(min=0)\n",
    "cf_matrix = confusion_matrix(y_test_clipped, y_test_pred)\n",
    "sns.heatmap(cf_matrix, annot=True, ax=ax2)\n",
    "\n",
    "# GD\n",
    "fig, (ax1, ax2, ax3) = plt.subplots(1, 3)\n",
    "fig.suptitle(\"Bases\")\n",
    "\n",
    "y_train_pred =  gd_clf.predict(X_train_bases).clip(min=0)\n",
    "cf_matrix = confusion_matrix(y_train_clipped, y_train_pred)\n",
    "sns.heatmap(cf_matrix, annot=True, ax=ax1)\n",
    "\n",
    "y_test_pred =  gd_clf.predict(X_test_bases).clip(min=0)\n",
    "cf_matrix = confusion_matrix(y_test_clipped, y_test_pred)\n",
    "sns.heatmap(cf_matrix, annot=True, ax=ax2)\n",
    "\n",
    "# GD Extended\n",
    "fig, (ax1, ax2, ax3) = plt.subplots(1, 3)\n",
    "fig.suptitle(\"Bases - extended\")\n",
    "y_train_pred =  gd_ext_clf.predict_extended(X_train_bases).clip(min=0)\n",
    "cf_matrix = confusion_matrix(y_train_clipped, y_train_pred)\n",
    "sns.heatmap(cf_matrix, annot=True, ax=ax1)\n",
    "\n",
    "y_test_pred =  gd_ext_clf.predict_extended(X_test_bases).clip(min=0)\n",
    "cf_matrix = confusion_matrix(y_test_clipped, y_test_pred)\n",
    "sns.heatmap(cf_matrix, annot=True, ax=ax2)\n",
    "\n",
    "fig.show()"
   ],
   "metadata": {
    "collapsed": false,
    "pycharm": {
     "name": "#%%\n",
     "is_executing": true
    }
   }
  },
  {
   "cell_type": "markdown",
   "metadata": {
    "collapsed": false,
    "pycharm": {
     "name": "#%% md\n"
    }
   },
   "source": [
    "# Data Visualization"
   ]
  },
  {
   "cell_type": "markdown",
   "source": [],
   "metadata": {
    "collapsed": false,
    "pycharm": {
     "name": "#%% md\n"
    }
   }
  },
  {
   "cell_type": "markdown",
   "source": [
    "## Bases - density"
   ],
   "metadata": {
    "collapsed": false,
    "pycharm": {
     "name": "#%% md\n"
    }
   }
  },
  {
   "cell_type": "code",
   "execution_count": null,
   "outputs": [],
   "source": [
    "fig, axes = plt.subplots(nrows=2, ncols=1)\n",
    "pd.DataFrame(X_train_bases).plot.density(ax=axes[0])\n",
    "pd.DataFrame(X_test_bases).plot.density(ax=axes[1])\n",
    "plt.show()"
   ],
   "metadata": {
    "collapsed": false,
    "pycharm": {
     "name": "#%%\n",
     "is_executing": true
    }
   }
  },
  {
   "cell_type": "markdown",
   "metadata": {
    "collapsed": false,
    "pycharm": {
     "name": "#%% md\n"
    }
   },
   "source": []
  }
 ],
 "metadata": {
  "kernelspec": {
   "display_name": "Python 3",
   "language": "python",
   "name": "python3"
  },
  "language_info": {
   "codemirror_mode": {
    "name": "ipython",
    "version": 2
   },
   "file_extension": ".py",
   "mimetype": "text/x-python",
   "name": "python",
   "nbconvert_exporter": "python",
   "pygments_lexer": "ipython2",
   "version": "2.7.6"
  }
 },
 "nbformat": 4,
 "nbformat_minor": 0
}