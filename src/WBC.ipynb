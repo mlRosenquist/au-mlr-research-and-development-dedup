{
 "cells": [
  {
   "cell_type": "markdown",
   "metadata": {
    "collapsed": false,
    "pycharm": {
     "name": "#%% md\n"
    }
   },
   "source": [
    "# Setup"
   ]
  },
  {
   "cell_type": "markdown",
   "source": [
    "## Imports"
   ],
   "metadata": {
    "collapsed": false,
    "pycharm": {
     "name": "#%% md\n"
    }
   }
  },
  {
   "cell_type": "code",
   "execution_count": 40,
   "metadata": {
    "collapsed": false,
    "pycharm": {
     "name": "#%%\n"
    }
   },
   "outputs": [],
   "source": [
    "import time\n",
    "\n",
    "import pandas as pd\n",
    "import numpy as np\n",
    "from matplotlib import pyplot as plt\n",
    "from sklearn.metrics import accuracy_score, confusion_matrix, precision_score, f1_score, recall_score, roc_auc_score\n",
    "\n",
    "import gd as gd\n",
    "import math\n",
    "from random import randint\n",
    "from sklearn.ensemble import IsolationForest\n",
    "import seaborn as sns"
   ]
  },
  {
   "cell_type": "markdown",
   "metadata": {
    "collapsed": false,
    "pycharm": {
     "name": "#%% md\n"
    }
   },
   "source": [
    "## Constants"
   ]
  },
  {
   "cell_type": "code",
   "execution_count": 41,
   "metadata": {
    "collapsed": false,
    "pycharm": {
     "name": "#%%\n"
    }
   },
   "outputs": [],
   "source": [
    "# Generalized Deduplication\n",
    "DEVIATION_BITS = 6\n",
    "\n",
    "# Isolation Forest\n",
    "rng = np.random.RandomState(42)\n",
    "\n",
    "# Performance\n",
    "time_no_iterations = 10\n",
    "time_no_outliers_removed = 1"
   ]
  },
  {
   "cell_type": "markdown",
   "metadata": {
    "collapsed": true,
    "pycharm": {
     "name": "#%% md\n"
    }
   },
   "source": [
    "# Load Data"
   ]
  },
  {
   "cell_type": "markdown",
   "source": [
    "## Generate data"
   ],
   "metadata": {
    "collapsed": false,
    "pycharm": {
     "name": "#%% md\n"
    }
   }
  },
  {
   "cell_type": "code",
   "execution_count": 42,
   "metadata": {
    "collapsed": false,
    "pycharm": {
     "name": "#%%\n"
    }
   },
   "outputs": [],
   "source": [
    "from scipy.io import arff\n",
    "from sklearn.model_selection import train_test_split\n",
    "\n",
    "data = arff.loadarff('./data/WBC/WBC_v10.arff')\n",
    "df = pd.DataFrame(data[0])\n",
    "df['outlier'].mask(df['outlier'] == b'no', 1, inplace=True)\n",
    "df['outlier'].mask(df['outlier'] == b'yes', -1, inplace=True)\n",
    "y = df.pop('outlier').values.astype(int)\n",
    "id = df.pop('id')\n",
    "df = (df * 10).astype(int)\n",
    "X_train, X_test, y_train, y_test = train_test_split(df, y, test_size=0.2, stratify=y, random_state=rng)"
   ]
  },
  {
   "cell_type": "markdown",
   "metadata": {
    "collapsed": false,
    "pycharm": {
     "name": "#%% md\n"
    }
   },
   "source": [
    "## Perform Generalized Deduplication"
   ]
  },
  {
   "cell_type": "code",
   "execution_count": 43,
   "metadata": {
    "collapsed": false,
    "pycharm": {
     "name": "#%%\n"
    }
   },
   "outputs": [],
   "source": [
    "vectorized_func = np.vectorize(gd.compress_int)\n",
    "\n",
    "X_train_bases = vectorized_func(X_train, deviation_bits=DEVIATION_BITS, output=\"integer\")\n",
    "X_test_bases = vectorized_func(X_test, deviation_bits=DEVIATION_BITS, output=\"integer\")"
   ]
  },
  {
   "cell_type": "markdown",
   "source": [
    "# Model Training"
   ],
   "metadata": {
    "collapsed": false,
    "pycharm": {
     "name": "#%% md\n"
    }
   }
  },
  {
   "cell_type": "markdown",
   "source": [
    "## Setup"
   ],
   "metadata": {
    "collapsed": false,
    "pycharm": {
     "name": "#%% md\n"
    }
   }
  },
  {
   "cell_type": "code",
   "execution_count": 44,
   "outputs": [],
   "source": [
    "gd_df_results = pd.DataFrame()\n",
    "gd_ext_df_results = pd.DataFrame()\n",
    "org_df_results = pd.DataFrame()\n",
    "performance = pd.DataFrame(columns=['name', 'deviation_bits', 'test_accuracy_score', 'test_f1_score', 'test_recall_score', 'test_precision_score',\n",
    "  'test_roc_auc_score', 'training_time', 'prediction_time'])\n",
    "\n",
    "\n",
    "def create_performance_object(name, deviation_bits, y_pred_train, y_pred_test, training_time, prediction_time, test_accuracy_score, test_f1_score, test_recall_score, test_precision_score, test_roc_auc_score):\n",
    "    return {\n",
    "    'name': name,\n",
    "    'deviation_bits': deviation_bits,\n",
    "    #'train_accuracy_score': accuracy_score(y_train, y_pred_train),\n",
    "    'test_accuracy_score': test_accuracy_score,\n",
    "\n",
    "    #'train_f1_score': f1_score(y_train, y_pred_train),\n",
    "    'test_f1_score': test_f1_score,\n",
    "    #'train_recall_score': recall_score(y_train, y_pred_train),\n",
    "    'test_recall_score': test_recall_score,\n",
    "    'test_precision_score': test_precision_score,\n",
    "    #'train_roc_auc_score': roc_auc_score(y_train, y_pred_train),\n",
    "    'test_roc_auc_score': test_roc_auc_score,\n",
    "    'training_time': training_time,\n",
    "    'prediction_time': prediction_time,\n",
    "    }"
   ],
   "metadata": {
    "collapsed": false,
    "pycharm": {
     "name": "#%%\n"
    }
   }
  },
  {
   "cell_type": "markdown",
   "metadata": {
    "collapsed": false,
    "pycharm": {
     "name": "#%% md\n"
    }
   },
   "source": [
    "## Isolation Forest - Bases"
   ]
  },
  {
   "cell_type": "code",
   "execution_count": 45,
   "metadata": {
    "collapsed": false,
    "pycharm": {
     "name": "#%%\n"
    }
   },
   "outputs": [
    {
     "name": "stderr",
     "output_type": "stream",
     "text": [
      "/tmp/ipykernel_19477/419497392.py:39: FutureWarning: The frame.append method is deprecated and will be removed from pandas in a future version. Use pandas.concat instead.\n",
      "  performance = performance.append(create_performance_object('Isolation Forest Bases', DEVIATION_BITS, None, y_pred_test, training_times[0].mean(), prediction_times[0].mean(), accuracies[0].mean(), f1s[0].mean(), recs[0].mean(), precs[0].mean(), rocs[0].mean()), ignore_index=True)\n"
     ]
    }
   ],
   "source": [
    "training_times = []\n",
    "prediction_times = []\n",
    "accuracies = []\n",
    "f1s = []\n",
    "recs = []\n",
    "rocs = []\n",
    "precs = []\n",
    "for i in range(0, time_no_iterations):\n",
    "    gd_clf = IsolationForest()\n",
    "    start_time = time.time()\n",
    "    gd_clf.fit(X_train_bases)\n",
    "    end_time = time.time()\n",
    "    training_time = end_time - start_time\n",
    "    training_times.append(training_time)\n",
    "\n",
    "    start_time = time.time()\n",
    "    y_pred_test = gd_clf.predict(X_test_bases)\n",
    "    end_time = time.time()\n",
    "    prediction_time = end_time - start_time\n",
    "    prediction_times.append(prediction_time)\n",
    "\n",
    "    accuracies.append(accuracy_score(y_test, y_pred_test))\n",
    "    f1s.append(f1_score(y_test, y_pred_test))\n",
    "    recs.append(recall_score(y_test, y_pred_test))\n",
    "    rocs.append(roc_auc_score(y_test, y_pred_test))\n",
    "    precs.append(precision_score(y_test, y_pred_test))\n",
    "\n",
    "training_times = pd.DataFrame(training_times)\n",
    "prediction_times = pd.DataFrame(prediction_times)\n",
    "accuracies = pd.DataFrame(accuracies)\n",
    "f1s = pd.DataFrame(f1s)\n",
    "recs = pd.DataFrame(recs)\n",
    "rocs = pd.DataFrame(rocs)\n",
    "precs = pd.DataFrame(precs)\n",
    "\n",
    "training_times = training_times.drop(training_times.nsmallest(time_no_outliers_removed, 0).index).drop(training_times.nlargest(time_no_outliers_removed, 0).index)\n",
    "prediction_times = prediction_times.drop(prediction_times.nsmallest(time_no_outliers_removed, 0).index).drop(prediction_times.nlargest(time_no_outliers_removed, 0).index)\n",
    "\n",
    "performance = performance.append(create_performance_object('Isolation Forest Bases', DEVIATION_BITS, None, y_pred_test, training_times[0].mean(), prediction_times[0].mean(), accuracies[0].mean(), f1s[0].mean(), recs[0].mean(), precs[0].mean(), rocs[0].mean()), ignore_index=True)"
   ]
  },
  {
   "cell_type": "markdown",
   "source": [
    "## Isolation Forest - Bases - Extended"
   ],
   "metadata": {
    "collapsed": false,
    "pycharm": {
     "name": "#%% md\n"
    }
   }
  },
  {
   "cell_type": "code",
   "execution_count": 46,
   "outputs": [
    {
     "name": "stderr",
     "output_type": "stream",
     "text": [
      "/home/mlrosenquist/repos/scikit-learn/sklearn/ensemble/_iforest.py:419: FutureWarning: The frame.append method is deprecated and will be removed from pandas in a future version. Use pandas.concat instead.\n",
      "  self.df_unique_ = self.df_unique_.append(pd.DataFrame(unique), ignore_index=True)\n",
      "/home/mlrosenquist/repos/scikit-learn/sklearn/ensemble/_iforest.py:419: FutureWarning: The frame.append method is deprecated and will be removed from pandas in a future version. Use pandas.concat instead.\n",
      "  self.df_unique_ = self.df_unique_.append(pd.DataFrame(unique), ignore_index=True)\n",
      "/home/mlrosenquist/repos/scikit-learn/sklearn/ensemble/_iforest.py:419: FutureWarning: The frame.append method is deprecated and will be removed from pandas in a future version. Use pandas.concat instead.\n",
      "  self.df_unique_ = self.df_unique_.append(pd.DataFrame(unique), ignore_index=True)\n",
      "/home/mlrosenquist/repos/scikit-learn/sklearn/ensemble/_iforest.py:419: FutureWarning: The frame.append method is deprecated and will be removed from pandas in a future version. Use pandas.concat instead.\n",
      "  self.df_unique_ = self.df_unique_.append(pd.DataFrame(unique), ignore_index=True)\n",
      "/home/mlrosenquist/repos/scikit-learn/sklearn/ensemble/_iforest.py:419: FutureWarning: The frame.append method is deprecated and will be removed from pandas in a future version. Use pandas.concat instead.\n",
      "  self.df_unique_ = self.df_unique_.append(pd.DataFrame(unique), ignore_index=True)\n",
      "/home/mlrosenquist/repos/scikit-learn/sklearn/ensemble/_iforest.py:419: FutureWarning: The frame.append method is deprecated and will be removed from pandas in a future version. Use pandas.concat instead.\n",
      "  self.df_unique_ = self.df_unique_.append(pd.DataFrame(unique), ignore_index=True)\n",
      "/home/mlrosenquist/repos/scikit-learn/sklearn/ensemble/_iforest.py:419: FutureWarning: The frame.append method is deprecated and will be removed from pandas in a future version. Use pandas.concat instead.\n",
      "  self.df_unique_ = self.df_unique_.append(pd.DataFrame(unique), ignore_index=True)\n",
      "/home/mlrosenquist/repos/scikit-learn/sklearn/ensemble/_iforest.py:419: FutureWarning: The frame.append method is deprecated and will be removed from pandas in a future version. Use pandas.concat instead.\n",
      "  self.df_unique_ = self.df_unique_.append(pd.DataFrame(unique), ignore_index=True)\n",
      "/home/mlrosenquist/repos/scikit-learn/sklearn/ensemble/_iforest.py:419: FutureWarning: The frame.append method is deprecated and will be removed from pandas in a future version. Use pandas.concat instead.\n",
      "  self.df_unique_ = self.df_unique_.append(pd.DataFrame(unique), ignore_index=True)\n",
      "/home/mlrosenquist/repos/scikit-learn/sklearn/ensemble/_iforest.py:419: FutureWarning: The frame.append method is deprecated and will be removed from pandas in a future version. Use pandas.concat instead.\n",
      "  self.df_unique_ = self.df_unique_.append(pd.DataFrame(unique), ignore_index=True)\n",
      "/tmp/ipykernel_19477/3617976735.py:42: FutureWarning: The frame.append method is deprecated and will be removed from pandas in a future version. Use pandas.concat instead.\n",
      "  performance = performance.append(create_performance_object('Isolation Forest Bases - extended', DEVIATION_BITS, None, y_pred_test, training_times[0].mean(), prediction_times[0].mean(), accuracies[0].mean(), f1s[0].mean(), recs[0].mean(), precs[0].mean(), rocs[0].mean()), ignore_index=True)\n"
     ]
    }
   ],
   "source": [
    "training_times = []\n",
    "prediction_times = []\n",
    "accuracies = []\n",
    "f1s = []\n",
    "recs = []\n",
    "rocs = []\n",
    "precs = []\n",
    "\n",
    "for i in range(0, time_no_iterations):\n",
    "    gd_ext_clf = IsolationForest()\n",
    "    start_time = time.time()\n",
    "    gd_ext_clf.fit_extended(X_train_bases)\n",
    "    end_time = time.time()\n",
    "    training_time = end_time - start_time\n",
    "    training_times.append(training_time)\n",
    "\n",
    "    start_time = time.time()\n",
    "    y_pred_test = gd_ext_clf.predict_extended(X_test_bases)\n",
    "    end_time = time.time()\n",
    "    prediction_time = end_time - start_time\n",
    "    prediction_times.append(prediction_time)\n",
    "\n",
    "    accuracies.append(accuracy_score(y_test, y_pred_test))\n",
    "    f1s.append(f1_score(y_test, y_pred_test))\n",
    "    recs.append(recall_score(y_test, y_pred_test))\n",
    "    rocs.append(roc_auc_score(y_test, y_pred_test))\n",
    "    precs.append(precision_score(y_test, y_pred_test))\n",
    "\n",
    "training_times = pd.DataFrame(training_times)\n",
    "prediction_times = pd.DataFrame(prediction_times)\n",
    "accuracies = pd.DataFrame(accuracies)\n",
    "f1s = pd.DataFrame(f1s)\n",
    "recs = pd.DataFrame(recs)\n",
    "rocs = pd.DataFrame(rocs)\n",
    "precs = pd.DataFrame(precs)\n",
    "\n",
    "training_times = training_times.drop(training_times.nsmallest(time_no_outliers_removed, 0).index).drop(training_times.nlargest(time_no_outliers_removed, 0).index)\n",
    "prediction_times = prediction_times.drop(prediction_times.nsmallest(time_no_outliers_removed, 0).index).drop(prediction_times.nlargest(time_no_outliers_removed, 0).index)\n",
    "\n",
    "\n",
    "\n",
    "performance = performance.append(create_performance_object('Isolation Forest Bases - extended', DEVIATION_BITS, None, y_pred_test, training_times[0].mean(), prediction_times[0].mean(), accuracies[0].mean(), f1s[0].mean(), recs[0].mean(), precs[0].mean(), rocs[0].mean()), ignore_index=True)"
   ],
   "metadata": {
    "collapsed": false,
    "pycharm": {
     "name": "#%%\n"
    }
   }
  },
  {
   "cell_type": "markdown",
   "source": [
    "## Isolation Forest Original Data"
   ],
   "metadata": {
    "collapsed": false,
    "pycharm": {
     "name": "#%% md\n"
    }
   }
  },
  {
   "cell_type": "markdown",
   "source": [],
   "metadata": {
    "collapsed": false,
    "pycharm": {
     "name": "#%% md\n"
    }
   }
  },
  {
   "cell_type": "code",
   "execution_count": 47,
   "metadata": {
    "collapsed": false,
    "pycharm": {
     "name": "#%%\n"
    }
   },
   "outputs": [
    {
     "name": "stderr",
     "output_type": "stream",
     "text": [
      "/tmp/ipykernel_19477/3376321955.py:40: FutureWarning: The frame.append method is deprecated and will be removed from pandas in a future version. Use pandas.concat instead.\n",
      "  performance = performance.append(create_performance_object('Isolation Forest Original', DEVIATION_BITS, None, y_pred_test, training_times[0].mean(), prediction_times[0].mean(), accuracies[0].mean(), f1s[0].mean(), recs[0].mean(), precs[0].mean(), rocs[0].mean()), ignore_index=True)\n"
     ]
    }
   ],
   "source": [
    "training_times = []\n",
    "prediction_times = []\n",
    "accuracies = []\n",
    "f1s = []\n",
    "recs = []\n",
    "rocs = []\n",
    "precs = []\n",
    "\n",
    "for i in range(0, time_no_iterations):\n",
    "    org_clf = IsolationForest()\n",
    "    start_time = time.time()\n",
    "    org_clf.fit(X_train)\n",
    "    end_time = time.time()\n",
    "    training_time = end_time - start_time\n",
    "    training_times.append(training_time)\n",
    "\n",
    "    start_time = time.time()\n",
    "    y_pred_test = org_clf.predict(X_test)\n",
    "    end_time = time.time()\n",
    "    prediction_time = end_time - start_time\n",
    "    prediction_times.append(prediction_time)\n",
    "\n",
    "    accuracies.append(accuracy_score(y_test, y_pred_test))\n",
    "    f1s.append(f1_score(y_test, y_pred_test))\n",
    "    recs.append(recall_score(y_test, y_pred_test))\n",
    "    rocs.append(roc_auc_score(y_test, y_pred_test))\n",
    "    precs.append(precision_score(y_test, y_pred_test))\n",
    "\n",
    "training_times = pd.DataFrame(training_times)\n",
    "prediction_times = pd.DataFrame(prediction_times)\n",
    "accuracies = pd.DataFrame(accuracies)\n",
    "f1s = pd.DataFrame(f1s)\n",
    "recs = pd.DataFrame(recs)\n",
    "rocs = pd.DataFrame(rocs)\n",
    "precs = pd.DataFrame(precs)\n",
    "\n",
    "training_times = training_times.drop(training_times.nsmallest(time_no_outliers_removed, 0).index).drop(training_times.nlargest(time_no_outliers_removed, 0).index)\n",
    "prediction_times = prediction_times.drop(prediction_times.nsmallest(time_no_outliers_removed, 0).index).drop(prediction_times.nlargest(time_no_outliers_removed, 0).index)\n",
    "\n",
    "performance = performance.append(create_performance_object('Isolation Forest Original', DEVIATION_BITS, None, y_pred_test, training_times[0].mean(), prediction_times[0].mean(), accuracies[0].mean(), f1s[0].mean(), recs[0].mean(), precs[0].mean(), rocs[0].mean()), ignore_index=True)"
   ]
  },
  {
   "cell_type": "markdown",
   "source": [
    "# Performance evaluation"
   ],
   "metadata": {
    "collapsed": false,
    "pycharm": {
     "name": "#%% md\n"
    }
   }
  },
  {
   "cell_type": "markdown",
   "source": [
    "## Overview"
   ],
   "metadata": {
    "collapsed": false,
    "pycharm": {
     "name": "#%% md\n"
    }
   }
  },
  {
   "cell_type": "markdown",
   "source": [],
   "metadata": {
    "collapsed": false,
    "pycharm": {
     "name": "#%% md\n"
    }
   }
  },
  {
   "cell_type": "code",
   "execution_count": 48,
   "outputs": [
    {
     "data": {
      "text/plain": "                                name deviation_bits test_accuracy_score  \\\n0             Isolation Forest Bases              6            0.945055   \n1  Isolation Forest Bases - extended              6            0.945055   \n2          Isolation Forest Original              6            0.940659   \n\n  test_f1_score test_recall_score test_precision_score test_roc_auc_score  \\\n0      0.971098           0.94382                  1.0            0.97191   \n1      0.971098           0.94382                  1.0            0.97191   \n2      0.968705          0.939326                  1.0           0.969663   \n\n  training_time prediction_time  \n0      0.082765        0.023398  \n1      0.087152        0.024044  \n2       0.07713        0.022567  ",
      "text/html": "<div>\n<style scoped>\n    .dataframe tbody tr th:only-of-type {\n        vertical-align: middle;\n    }\n\n    .dataframe tbody tr th {\n        vertical-align: top;\n    }\n\n    .dataframe thead th {\n        text-align: right;\n    }\n</style>\n<table border=\"1\" class=\"dataframe\">\n  <thead>\n    <tr style=\"text-align: right;\">\n      <th></th>\n      <th>name</th>\n      <th>deviation_bits</th>\n      <th>test_accuracy_score</th>\n      <th>test_f1_score</th>\n      <th>test_recall_score</th>\n      <th>test_precision_score</th>\n      <th>test_roc_auc_score</th>\n      <th>training_time</th>\n      <th>prediction_time</th>\n    </tr>\n  </thead>\n  <tbody>\n    <tr>\n      <th>0</th>\n      <td>Isolation Forest Bases</td>\n      <td>6</td>\n      <td>0.945055</td>\n      <td>0.971098</td>\n      <td>0.94382</td>\n      <td>1.0</td>\n      <td>0.97191</td>\n      <td>0.082765</td>\n      <td>0.023398</td>\n    </tr>\n    <tr>\n      <th>1</th>\n      <td>Isolation Forest Bases - extended</td>\n      <td>6</td>\n      <td>0.945055</td>\n      <td>0.971098</td>\n      <td>0.94382</td>\n      <td>1.0</td>\n      <td>0.97191</td>\n      <td>0.087152</td>\n      <td>0.024044</td>\n    </tr>\n    <tr>\n      <th>2</th>\n      <td>Isolation Forest Original</td>\n      <td>6</td>\n      <td>0.940659</td>\n      <td>0.968705</td>\n      <td>0.939326</td>\n      <td>1.0</td>\n      <td>0.969663</td>\n      <td>0.07713</td>\n      <td>0.022567</td>\n    </tr>\n  </tbody>\n</table>\n</div>"
     },
     "execution_count": 48,
     "metadata": {},
     "output_type": "execute_result"
    }
   ],
   "source": [
    "from pathlib import Path\n",
    "filepath = Path(f'./results/wbc-{DEVIATION_BITS}dev.csv')\n",
    "filepath.parent.mkdir(parents=True, exist_ok=True)\n",
    "\n",
    "performance.to_csv(filepath)\n",
    "performance"
   ],
   "metadata": {
    "collapsed": false,
    "pycharm": {
     "name": "#%%\n"
    }
   }
  },
  {
   "cell_type": "markdown",
   "source": [
    "## Confusion Matrices"
   ],
   "metadata": {
    "collapsed": false,
    "pycharm": {
     "name": "#%% md\n"
    }
   }
  },
  {
   "cell_type": "code",
   "execution_count": 49,
   "outputs": [
    {
     "name": "stderr",
     "output_type": "stream",
     "text": [
      "/tmp/ipykernel_19477/1162717073.py:39: UserWarning: Matplotlib is currently using module://matplotlib_inline.backend_inline, which is a non-GUI backend, so cannot show the figure.\n",
      "  fig.show()\n"
     ]
    },
    {
     "data": {
      "text/plain": "<Figure size 432x288 with 5 Axes>",
      "image/png": "[encoded data removed]"
     },
     "metadata": {
      "needs_background": "light"
     },
     "output_type": "display_data"
    },
    {
     "data": {
      "text/plain": "<Figure size 432x288 with 5 Axes>",
      "image/png": "[encoded data removed]"
     },
     "metadata": {
      "needs_background": "light"
     },
     "output_type": "display_data"
    },
    {
     "data": {
      "text/plain": "<Figure size 432x288 with 5 Axes>",
      "image/png": "[encoded data removed]"
     },
     "metadata": {
      "needs_background": "light"
     },
     "output_type": "display_data"
    }
   ],
   "source": [
    "\n",
    "y_train_clipped = y_train.clip(min=0)\n",
    "y_test_clipped = y_test.clip(min=0)\n",
    "\n",
    "# Original\n",
    "fig, (ax1, ax2, ax3) = plt.subplots(1, 3)\n",
    "fig.suptitle(\"Original\")\n",
    "\n",
    "y_train_pred =  org_clf.predict(X_train).clip(min=0)\n",
    "cf_matrix = confusion_matrix(y_train_clipped, y_train_pred)\n",
    "sns.heatmap(cf_matrix, annot=True, ax=ax1)\n",
    "\n",
    "y_test_pred =  org_clf.predict(X_test).clip(min=0)\n",
    "cf_matrix = confusion_matrix(y_test_clipped, y_test_pred)\n",
    "sns.heatmap(cf_matrix, annot=True, ax=ax2)\n",
    "\n",
    "# GD\n",
    "fig, (ax1, ax2, ax3) = plt.subplots(1, 3)\n",
    "fig.suptitle(\"Bases\")\n",
    "\n",
    "y_train_pred =  gd_clf.predict(X_train_bases).clip(min=0)\n",
    "cf_matrix = confusion_matrix(y_train_clipped, y_train_pred)\n",
    "sns.heatmap(cf_matrix, annot=True, ax=ax1)\n",
    "\n",
    "y_test_pred =  gd_clf.predict(X_test_bases).clip(min=0)\n",
    "cf_matrix = confusion_matrix(y_test_clipped, y_test_pred)\n",
    "sns.heatmap(cf_matrix, annot=True, ax=ax2)\n",
    "\n",
    "# GD Extended\n",
    "fig, (ax1, ax2, ax3) = plt.subplots(1, 3)\n",
    "fig.suptitle(\"Bases - extended\")\n",
    "y_train_pred =  gd_ext_clf.predict_extended(X_train_bases).clip(min=0)\n",
    "cf_matrix = confusion_matrix(y_train_clipped, y_train_pred)\n",
    "sns.heatmap(cf_matrix, annot=True, ax=ax1)\n",
    "\n",
    "y_test_pred =  gd_ext_clf.predict_extended(X_test_bases).clip(min=0)\n",
    "cf_matrix = confusion_matrix(y_test_clipped, y_test_pred)\n",
    "sns.heatmap(cf_matrix, annot=True, ax=ax2)\n",
    "\n",
    "fig.show()"
   ],
   "metadata": {
    "collapsed": false,
    "pycharm": {
     "name": "#%%\n"
    }
   }
  },
  {
   "cell_type": "markdown",
   "metadata": {
    "collapsed": false,
    "pycharm": {
     "name": "#%% md\n"
    }
   },
   "source": [
    "# Data Visualization"
   ]
  },
  {
   "cell_type": "markdown",
   "source": [],
   "metadata": {
    "collapsed": false,
    "pycharm": {
     "name": "#%% md\n"
    }
   }
  },
  {
   "cell_type": "markdown",
   "source": [
    "## Bases - density"
   ],
   "metadata": {
    "collapsed": false,
    "pycharm": {
     "name": "#%% md\n"
    }
   }
  },
  {
   "cell_type": "code",
   "execution_count": 50,
   "outputs": [
    {
     "ename": "LinAlgError",
     "evalue": "singular matrix",
     "output_type": "error",
     "traceback": [
      "\u001B[0;31m---------------------------------------------------------------------------\u001B[0m",
      "\u001B[0;31mLinAlgError\u001B[0m                               Traceback (most recent call last)",
      "Input \u001B[0;32mIn [50]\u001B[0m, in \u001B[0;36m<cell line: 3>\u001B[0;34m()\u001B[0m\n\u001B[1;32m      1\u001B[0m fig, axes \u001B[38;5;241m=\u001B[39m plt\u001B[38;5;241m.\u001B[39msubplots(nrows\u001B[38;5;241m=\u001B[39m\u001B[38;5;241m2\u001B[39m, ncols\u001B[38;5;241m=\u001B[39m\u001B[38;5;241m1\u001B[39m)\n\u001B[1;32m      2\u001B[0m pd\u001B[38;5;241m.\u001B[39mDataFrame(X_train_bases)\u001B[38;5;241m.\u001B[39mplot\u001B[38;5;241m.\u001B[39mdensity(ax\u001B[38;5;241m=\u001B[39maxes[\u001B[38;5;241m0\u001B[39m])\n\u001B[0;32m----> 3\u001B[0m \u001B[43mpd\u001B[49m\u001B[38;5;241;43m.\u001B[39;49m\u001B[43mDataFrame\u001B[49m\u001B[43m(\u001B[49m\u001B[43mX_test_bases\u001B[49m\u001B[43m)\u001B[49m\u001B[38;5;241;43m.\u001B[39;49m\u001B[43mplot\u001B[49m\u001B[38;5;241;43m.\u001B[39;49m\u001B[43mdensity\u001B[49m\u001B[43m(\u001B[49m\u001B[43max\u001B[49m\u001B[38;5;241;43m=\u001B[39;49m\u001B[43maxes\u001B[49m\u001B[43m[\u001B[49m\u001B[38;5;241;43m1\u001B[39;49m\u001B[43m]\u001B[49m\u001B[43m)\u001B[49m\n\u001B[1;32m      4\u001B[0m plt\u001B[38;5;241m.\u001B[39mshow()\n",
      "File \u001B[0;32m~/repos/au-mlr-research-and-development-dedup/src/venv/lib64/python3.9/site-packages/pandas/plotting/_core.py:1454\u001B[0m, in \u001B[0;36mPlotAccessor.kde\u001B[0;34m(self, bw_method, ind, **kwargs)\u001B[0m\n\u001B[1;32m   1348\u001B[0m \u001B[38;5;28;01mdef\u001B[39;00m \u001B[38;5;21mkde\u001B[39m(\u001B[38;5;28mself\u001B[39m, bw_method\u001B[38;5;241m=\u001B[39m\u001B[38;5;28;01mNone\u001B[39;00m, ind\u001B[38;5;241m=\u001B[39m\u001B[38;5;28;01mNone\u001B[39;00m, \u001B[38;5;241m*\u001B[39m\u001B[38;5;241m*\u001B[39mkwargs):\n\u001B[1;32m   1349\u001B[0m     \u001B[38;5;124;03m\"\"\"\u001B[39;00m\n\u001B[1;32m   1350\u001B[0m \u001B[38;5;124;03m    Generate Kernel Density Estimate plot using Gaussian kernels.\u001B[39;00m\n\u001B[1;32m   1351\u001B[0m \n\u001B[0;32m   (...)\u001B[0m\n\u001B[1;32m   1452\u001B[0m \u001B[38;5;124;03m        >>> ax = df.plot.kde(ind=[1, 2, 3, 4, 5, 6])\u001B[39;00m\n\u001B[1;32m   1453\u001B[0m \u001B[38;5;124;03m    \"\"\"\u001B[39;00m\n\u001B[0;32m-> 1454\u001B[0m     \u001B[38;5;28;01mreturn\u001B[39;00m \u001B[38;5;28;43mself\u001B[39;49m\u001B[43m(\u001B[49m\u001B[43mkind\u001B[49m\u001B[38;5;241;43m=\u001B[39;49m\u001B[38;5;124;43m\"\u001B[39;49m\u001B[38;5;124;43mkde\u001B[39;49m\u001B[38;5;124;43m\"\u001B[39;49m\u001B[43m,\u001B[49m\u001B[43m \u001B[49m\u001B[43mbw_method\u001B[49m\u001B[38;5;241;43m=\u001B[39;49m\u001B[43mbw_method\u001B[49m\u001B[43m,\u001B[49m\u001B[43m \u001B[49m\u001B[43mind\u001B[49m\u001B[38;5;241;43m=\u001B[39;49m\u001B[43mind\u001B[49m\u001B[43m,\u001B[49m\u001B[43m \u001B[49m\u001B[38;5;241;43m*\u001B[39;49m\u001B[38;5;241;43m*\u001B[39;49m\u001B[43mkwargs\u001B[49m\u001B[43m)\u001B[49m\n",
      "File \u001B[0;32m~/repos/au-mlr-research-and-development-dedup/src/venv/lib64/python3.9/site-packages/pandas/plotting/_core.py:972\u001B[0m, in \u001B[0;36mPlotAccessor.__call__\u001B[0;34m(self, *args, **kwargs)\u001B[0m\n\u001B[1;32m    969\u001B[0m             label_name \u001B[38;5;241m=\u001B[39m label_kw \u001B[38;5;129;01mor\u001B[39;00m data\u001B[38;5;241m.\u001B[39mcolumns\n\u001B[1;32m    970\u001B[0m             data\u001B[38;5;241m.\u001B[39mcolumns \u001B[38;5;241m=\u001B[39m label_name\n\u001B[0;32m--> 972\u001B[0m \u001B[38;5;28;01mreturn\u001B[39;00m \u001B[43mplot_backend\u001B[49m\u001B[38;5;241;43m.\u001B[39;49m\u001B[43mplot\u001B[49m\u001B[43m(\u001B[49m\u001B[43mdata\u001B[49m\u001B[43m,\u001B[49m\u001B[43m \u001B[49m\u001B[43mkind\u001B[49m\u001B[38;5;241;43m=\u001B[39;49m\u001B[43mkind\u001B[49m\u001B[43m,\u001B[49m\u001B[43m \u001B[49m\u001B[38;5;241;43m*\u001B[39;49m\u001B[38;5;241;43m*\u001B[39;49m\u001B[43mkwargs\u001B[49m\u001B[43m)\u001B[49m\n",
      "File \u001B[0;32m~/repos/au-mlr-research-and-development-dedup/src/venv/lib64/python3.9/site-packages/pandas/plotting/_matplotlib/__init__.py:71\u001B[0m, in \u001B[0;36mplot\u001B[0;34m(data, kind, **kwargs)\u001B[0m\n\u001B[1;32m     69\u001B[0m         kwargs[\u001B[38;5;124m\"\u001B[39m\u001B[38;5;124max\u001B[39m\u001B[38;5;124m\"\u001B[39m] \u001B[38;5;241m=\u001B[39m \u001B[38;5;28mgetattr\u001B[39m(ax, \u001B[38;5;124m\"\u001B[39m\u001B[38;5;124mleft_ax\u001B[39m\u001B[38;5;124m\"\u001B[39m, ax)\n\u001B[1;32m     70\u001B[0m plot_obj \u001B[38;5;241m=\u001B[39m PLOT_CLASSES[kind](data, \u001B[38;5;241m*\u001B[39m\u001B[38;5;241m*\u001B[39mkwargs)\n\u001B[0;32m---> 71\u001B[0m \u001B[43mplot_obj\u001B[49m\u001B[38;5;241;43m.\u001B[39;49m\u001B[43mgenerate\u001B[49m\u001B[43m(\u001B[49m\u001B[43m)\u001B[49m\n\u001B[1;32m     72\u001B[0m plot_obj\u001B[38;5;241m.\u001B[39mdraw()\n\u001B[1;32m     73\u001B[0m \u001B[38;5;28;01mreturn\u001B[39;00m plot_obj\u001B[38;5;241m.\u001B[39mresult\n",
      "File \u001B[0;32m~/repos/au-mlr-research-and-development-dedup/src/venv/lib64/python3.9/site-packages/pandas/plotting/_matplotlib/core.py:329\u001B[0m, in \u001B[0;36mMPLPlot.generate\u001B[0;34m(self)\u001B[0m\n\u001B[1;32m    327\u001B[0m \u001B[38;5;28mself\u001B[39m\u001B[38;5;241m.\u001B[39m_compute_plot_data()\n\u001B[1;32m    328\u001B[0m \u001B[38;5;28mself\u001B[39m\u001B[38;5;241m.\u001B[39m_setup_subplots()\n\u001B[0;32m--> 329\u001B[0m \u001B[38;5;28;43mself\u001B[39;49m\u001B[38;5;241;43m.\u001B[39;49m\u001B[43m_make_plot\u001B[49m\u001B[43m(\u001B[49m\u001B[43m)\u001B[49m\n\u001B[1;32m    330\u001B[0m \u001B[38;5;28mself\u001B[39m\u001B[38;5;241m.\u001B[39m_add_table()\n\u001B[1;32m    331\u001B[0m \u001B[38;5;28mself\u001B[39m\u001B[38;5;241m.\u001B[39m_make_legend()\n",
      "File \u001B[0;32m~/repos/au-mlr-research-and-development-dedup/src/venv/lib64/python3.9/site-packages/pandas/plotting/_matplotlib/hist.py:140\u001B[0m, in \u001B[0;36mHistPlot._make_plot\u001B[0;34m(self)\u001B[0m\n\u001B[1;32m    137\u001B[0m \u001B[38;5;28;01mif\u001B[39;00m weights \u001B[38;5;129;01mis\u001B[39;00m \u001B[38;5;129;01mnot\u001B[39;00m \u001B[38;5;28;01mNone\u001B[39;00m \u001B[38;5;129;01mand\u001B[39;00m np\u001B[38;5;241m.\u001B[39mndim(weights) \u001B[38;5;241m!=\u001B[39m \u001B[38;5;241m1\u001B[39m:\n\u001B[1;32m    138\u001B[0m     kwds[\u001B[38;5;124m\"\u001B[39m\u001B[38;5;124mweights\u001B[39m\u001B[38;5;124m\"\u001B[39m] \u001B[38;5;241m=\u001B[39m weights[:, i]\n\u001B[0;32m--> 140\u001B[0m artists \u001B[38;5;241m=\u001B[39m \u001B[38;5;28;43mself\u001B[39;49m\u001B[38;5;241;43m.\u001B[39;49m\u001B[43m_plot\u001B[49m\u001B[43m(\u001B[49m\u001B[43max\u001B[49m\u001B[43m,\u001B[49m\u001B[43m \u001B[49m\u001B[43my\u001B[49m\u001B[43m,\u001B[49m\u001B[43m \u001B[49m\u001B[43mcolumn_num\u001B[49m\u001B[38;5;241;43m=\u001B[39;49m\u001B[43mi\u001B[49m\u001B[43m,\u001B[49m\u001B[43m \u001B[49m\u001B[43mstacking_id\u001B[49m\u001B[38;5;241;43m=\u001B[39;49m\u001B[43mstacking_id\u001B[49m\u001B[43m,\u001B[49m\u001B[43m \u001B[49m\u001B[38;5;241;43m*\u001B[39;49m\u001B[38;5;241;43m*\u001B[39;49m\u001B[43mkwds\u001B[49m\u001B[43m)\u001B[49m\n\u001B[1;32m    142\u001B[0m \u001B[38;5;66;03m# when by is applied, show title for subplots to know which group it is\u001B[39;00m\n\u001B[1;32m    143\u001B[0m \u001B[38;5;28;01mif\u001B[39;00m \u001B[38;5;28mself\u001B[39m\u001B[38;5;241m.\u001B[39mby \u001B[38;5;129;01mis\u001B[39;00m \u001B[38;5;129;01mnot\u001B[39;00m \u001B[38;5;28;01mNone\u001B[39;00m:\n",
      "File \u001B[0;32m~/repos/au-mlr-research-and-development-dedup/src/venv/lib64/python3.9/site-packages/pandas/plotting/_matplotlib/hist.py:216\u001B[0m, in \u001B[0;36mKdePlot._plot\u001B[0;34m(cls, ax, y, style, bw_method, ind, column_num, stacking_id, **kwds)\u001B[0m\n\u001B[1;32m    213\u001B[0m \u001B[38;5;28;01mfrom\u001B[39;00m \u001B[38;5;21;01mscipy\u001B[39;00m\u001B[38;5;21;01m.\u001B[39;00m\u001B[38;5;21;01mstats\u001B[39;00m \u001B[38;5;28;01mimport\u001B[39;00m gaussian_kde\n\u001B[1;32m    215\u001B[0m y \u001B[38;5;241m=\u001B[39m remove_na_arraylike(y)\n\u001B[0;32m--> 216\u001B[0m gkde \u001B[38;5;241m=\u001B[39m \u001B[43mgaussian_kde\u001B[49m\u001B[43m(\u001B[49m\u001B[43my\u001B[49m\u001B[43m,\u001B[49m\u001B[43m \u001B[49m\u001B[43mbw_method\u001B[49m\u001B[38;5;241;43m=\u001B[39;49m\u001B[43mbw_method\u001B[49m\u001B[43m)\u001B[49m\n\u001B[1;32m    218\u001B[0m y \u001B[38;5;241m=\u001B[39m gkde\u001B[38;5;241m.\u001B[39mevaluate(ind)\n\u001B[1;32m    219\u001B[0m lines \u001B[38;5;241m=\u001B[39m MPLPlot\u001B[38;5;241m.\u001B[39m_plot(ax, ind, y, style\u001B[38;5;241m=\u001B[39mstyle, \u001B[38;5;241m*\u001B[39m\u001B[38;5;241m*\u001B[39mkwds)\n",
      "File \u001B[0;32m~/repos/au-mlr-research-and-development-dedup/src/venv/lib64/python3.9/site-packages/scipy/stats/_kde.py:207\u001B[0m, in \u001B[0;36mgaussian_kde.__init__\u001B[0;34m(self, dataset, bw_method, weights)\u001B[0m\n\u001B[1;32m    204\u001B[0m         \u001B[38;5;28;01mraise\u001B[39;00m \u001B[38;5;167;01mValueError\u001B[39;00m(\u001B[38;5;124m\"\u001B[39m\u001B[38;5;124m`weights` input should be of length n\u001B[39m\u001B[38;5;124m\"\u001B[39m)\n\u001B[1;32m    205\u001B[0m     \u001B[38;5;28mself\u001B[39m\u001B[38;5;241m.\u001B[39m_neff \u001B[38;5;241m=\u001B[39m \u001B[38;5;241m1\u001B[39m\u001B[38;5;241m/\u001B[39m\u001B[38;5;28msum\u001B[39m(\u001B[38;5;28mself\u001B[39m\u001B[38;5;241m.\u001B[39m_weights\u001B[38;5;241m*\u001B[39m\u001B[38;5;241m*\u001B[39m\u001B[38;5;241m2\u001B[39m)\n\u001B[0;32m--> 207\u001B[0m \u001B[38;5;28;43mself\u001B[39;49m\u001B[38;5;241;43m.\u001B[39;49m\u001B[43mset_bandwidth\u001B[49m\u001B[43m(\u001B[49m\u001B[43mbw_method\u001B[49m\u001B[38;5;241;43m=\u001B[39;49m\u001B[43mbw_method\u001B[49m\u001B[43m)\u001B[49m\n",
      "File \u001B[0;32m~/repos/au-mlr-research-and-development-dedup/src/venv/lib64/python3.9/site-packages/scipy/stats/_kde.py:555\u001B[0m, in \u001B[0;36mgaussian_kde.set_bandwidth\u001B[0;34m(self, bw_method)\u001B[0m\n\u001B[1;32m    551\u001B[0m     msg \u001B[38;5;241m=\u001B[39m \u001B[38;5;124m\"\u001B[39m\u001B[38;5;124m`bw_method` should be \u001B[39m\u001B[38;5;124m'\u001B[39m\u001B[38;5;124mscott\u001B[39m\u001B[38;5;124m'\u001B[39m\u001B[38;5;124m, \u001B[39m\u001B[38;5;124m'\u001B[39m\u001B[38;5;124msilverman\u001B[39m\u001B[38;5;124m'\u001B[39m\u001B[38;5;124m, a scalar \u001B[39m\u001B[38;5;124m\"\u001B[39m \\\n\u001B[1;32m    552\u001B[0m           \u001B[38;5;124m\"\u001B[39m\u001B[38;5;124mor a callable.\u001B[39m\u001B[38;5;124m\"\u001B[39m\n\u001B[1;32m    553\u001B[0m     \u001B[38;5;28;01mraise\u001B[39;00m \u001B[38;5;167;01mValueError\u001B[39;00m(msg)\n\u001B[0;32m--> 555\u001B[0m \u001B[38;5;28;43mself\u001B[39;49m\u001B[38;5;241;43m.\u001B[39;49m\u001B[43m_compute_covariance\u001B[49m\u001B[43m(\u001B[49m\u001B[43m)\u001B[49m\n",
      "File \u001B[0;32m~/repos/au-mlr-research-and-development-dedup/src/venv/lib64/python3.9/site-packages/scipy/stats/_kde.py:567\u001B[0m, in \u001B[0;36mgaussian_kde._compute_covariance\u001B[0;34m(self)\u001B[0m\n\u001B[1;32m    563\u001B[0m \u001B[38;5;28;01mif\u001B[39;00m \u001B[38;5;129;01mnot\u001B[39;00m \u001B[38;5;28mhasattr\u001B[39m(\u001B[38;5;28mself\u001B[39m, \u001B[38;5;124m'\u001B[39m\u001B[38;5;124m_data_inv_cov\u001B[39m\u001B[38;5;124m'\u001B[39m):\n\u001B[1;32m    564\u001B[0m     \u001B[38;5;28mself\u001B[39m\u001B[38;5;241m.\u001B[39m_data_covariance \u001B[38;5;241m=\u001B[39m atleast_2d(cov(\u001B[38;5;28mself\u001B[39m\u001B[38;5;241m.\u001B[39mdataset, rowvar\u001B[38;5;241m=\u001B[39m\u001B[38;5;241m1\u001B[39m,\n\u001B[1;32m    565\u001B[0m                                        bias\u001B[38;5;241m=\u001B[39m\u001B[38;5;28;01mFalse\u001B[39;00m,\n\u001B[1;32m    566\u001B[0m                                        aweights\u001B[38;5;241m=\u001B[39m\u001B[38;5;28mself\u001B[39m\u001B[38;5;241m.\u001B[39mweights))\n\u001B[0;32m--> 567\u001B[0m     \u001B[38;5;28mself\u001B[39m\u001B[38;5;241m.\u001B[39m_data_inv_cov \u001B[38;5;241m=\u001B[39m \u001B[43mlinalg\u001B[49m\u001B[38;5;241;43m.\u001B[39;49m\u001B[43minv\u001B[49m\u001B[43m(\u001B[49m\u001B[38;5;28;43mself\u001B[39;49m\u001B[38;5;241;43m.\u001B[39;49m\u001B[43m_data_covariance\u001B[49m\u001B[43m)\u001B[49m\n\u001B[1;32m    569\u001B[0m \u001B[38;5;28mself\u001B[39m\u001B[38;5;241m.\u001B[39mcovariance \u001B[38;5;241m=\u001B[39m \u001B[38;5;28mself\u001B[39m\u001B[38;5;241m.\u001B[39m_data_covariance \u001B[38;5;241m*\u001B[39m \u001B[38;5;28mself\u001B[39m\u001B[38;5;241m.\u001B[39mfactor\u001B[38;5;241m*\u001B[39m\u001B[38;5;241m*\u001B[39m\u001B[38;5;241m2\u001B[39m\n\u001B[1;32m    570\u001B[0m \u001B[38;5;28mself\u001B[39m\u001B[38;5;241m.\u001B[39minv_cov \u001B[38;5;241m=\u001B[39m \u001B[38;5;28mself\u001B[39m\u001B[38;5;241m.\u001B[39m_data_inv_cov \u001B[38;5;241m/\u001B[39m \u001B[38;5;28mself\u001B[39m\u001B[38;5;241m.\u001B[39mfactor\u001B[38;5;241m*\u001B[39m\u001B[38;5;241m*\u001B[39m\u001B[38;5;241m2\u001B[39m\n",
      "File \u001B[0;32m~/repos/au-mlr-research-and-development-dedup/src/venv/lib64/python3.9/site-packages/scipy/linalg/_basic.py:968\u001B[0m, in \u001B[0;36minv\u001B[0;34m(a, overwrite_a, check_finite)\u001B[0m\n\u001B[1;32m    966\u001B[0m     inv_a, info \u001B[38;5;241m=\u001B[39m getri(lu, piv, lwork\u001B[38;5;241m=\u001B[39mlwork, overwrite_lu\u001B[38;5;241m=\u001B[39m\u001B[38;5;241m1\u001B[39m)\n\u001B[1;32m    967\u001B[0m \u001B[38;5;28;01mif\u001B[39;00m info \u001B[38;5;241m>\u001B[39m \u001B[38;5;241m0\u001B[39m:\n\u001B[0;32m--> 968\u001B[0m     \u001B[38;5;28;01mraise\u001B[39;00m LinAlgError(\u001B[38;5;124m\"\u001B[39m\u001B[38;5;124msingular matrix\u001B[39m\u001B[38;5;124m\"\u001B[39m)\n\u001B[1;32m    969\u001B[0m \u001B[38;5;28;01mif\u001B[39;00m info \u001B[38;5;241m<\u001B[39m \u001B[38;5;241m0\u001B[39m:\n\u001B[1;32m    970\u001B[0m     \u001B[38;5;28;01mraise\u001B[39;00m \u001B[38;5;167;01mValueError\u001B[39;00m(\u001B[38;5;124m'\u001B[39m\u001B[38;5;124millegal value in \u001B[39m\u001B[38;5;132;01m%d\u001B[39;00m\u001B[38;5;124m-th argument of internal \u001B[39m\u001B[38;5;124m'\u001B[39m\n\u001B[1;32m    971\u001B[0m                      \u001B[38;5;124m'\u001B[39m\u001B[38;5;124mgetrf|getri\u001B[39m\u001B[38;5;124m'\u001B[39m \u001B[38;5;241m%\u001B[39m \u001B[38;5;241m-\u001B[39minfo)\n",
      "\u001B[0;31mLinAlgError\u001B[0m: singular matrix"
     ]
    },
    {
     "data": {
      "text/plain": "<Figure size 432x288 with 2 Axes>",
      "image/png": "[encoded data removed]"
     },
     "metadata": {
      "needs_background": "light"
     },
     "output_type": "display_data"
    }
   ],
   "source": [
    "fig, axes = plt.subplots(nrows=2, ncols=1)\n",
    "pd.DataFrame(X_train_bases).plot.density(ax=axes[0])\n",
    "pd.DataFrame(X_test_bases).plot.density(ax=axes[1])\n",
    "plt.show()"
   ],
   "metadata": {
    "collapsed": false,
    "pycharm": {
     "name": "#%%\n"
    }
   }
  },
  {
   "cell_type": "markdown",
   "metadata": {
    "collapsed": false,
    "pycharm": {
     "name": "#%% md\n"
    }
   },
   "source": []
  }
 ],
 "metadata": {
  "kernelspec": {
   "display_name": "Python 3",
   "language": "python",
   "name": "python3"
  },
  "language_info": {
   "codemirror_mode": {
    "name": "ipython",
    "version": 2
   },
   "file_extension": ".py",
   "mimetype": "text/x-python",
   "name": "python",
   "nbconvert_exporter": "python",
   "pygments_lexer": "ipython2",
   "version": "2.7.6"
  }
 },
 "nbformat": 4,
 "nbformat_minor": 0
}