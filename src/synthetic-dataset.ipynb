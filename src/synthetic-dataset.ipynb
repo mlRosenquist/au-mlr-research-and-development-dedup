{
 "cells": [
  {
   "cell_type": "markdown",
   "source": [
    "# Imports"
   ],
   "metadata": {
    "collapsed": false
   }
  },
  {
   "cell_type": "code",
   "execution_count": 27,
   "outputs": [],
   "source": [
    "import pandas as pd\n",
    "import numpy as np\n",
    "from matplotlib import pyplot as plt\n",
    "\n",
    "import gd as gd\n",
    "import math\n",
    "from random import randint\n",
    "from sklearn.ensemble import IsolationForest"
   ],
   "metadata": {
    "collapsed": false,
    "pycharm": {
     "name": "#%%\n"
    }
   }
  },
  {
   "cell_type": "markdown",
   "metadata": {
    "collapsed": true,
    "pycharm": {
     "name": "#%% md\n"
    }
   },
   "source": [
    "# Load data"
   ]
  },
  {
   "cell_type": "code",
   "execution_count": 59,
   "outputs": [
    {
     "data": {
      "text/plain": "array([[  2,   0],\n       [  3,   7],\n       [ -1,  -1],\n       [  7,   3],\n       [ -2,   2],\n       [ -2,  -2],\n       [  1,  -9],\n       [ -8,  -2],\n       [ -5,   1],\n       [ -4,  -7],\n       [  7,  -1],\n       [  0,  -7],\n       [ -2,   0],\n       [ -5,   1],\n       [ -3,  -1],\n       [ -3,   9],\n       [  0,  -5],\n       [  4,  -6],\n       [  1,  -9],\n       [ -6,   0],\n       [  3,   0],\n       [  0,  -1],\n       [ -7,  -3],\n       [ -2,   5],\n       [  1,  -8],\n       [  1,  -1],\n       [ -3,   3],\n       [  5,   4],\n       [ -4,  -1],\n       [  1,   4],\n       [ -2,   0],\n       [ -5,  -5],\n       [  4,   6],\n       [  0,   5],\n       [  1,  -3],\n       [  1,   7],\n       [  0,   7],\n       [-13,   4],\n       [  0,  -1],\n       [  0,  -9],\n       [ -1,   1],\n       [  7,  -2],\n       [ -4,  -2],\n       [  4,   1],\n       [ -2,   2],\n       [  0,   4],\n       [ -3,  -1],\n       [ -1,  -7],\n       [  1,   1],\n       [  0,  -1],\n       [ -7,  -2],\n       [ -1,  -4],\n       [  0,   2],\n       [  9,   0],\n       [  1,   0],\n       [ -9,   0],\n       [  0,  12],\n       [  0,   1],\n       [  0,  -5],\n       [  5,   3],\n       [  3,  -4],\n       [  7,  -7],\n       [  2,  10],\n       [ -4,  -2],\n       [  0,  -2],\n       [ -7,   0],\n       [ -5,   2],\n       [ -4,   7],\n       [ -3,  -1],\n       [  4,  -6],\n       [  1,   6],\n       [ -8,   0],\n       [  1,   3],\n       [ -6,  -6],\n       [  2,   1],\n       [  1,   1],\n       [ -3,   1],\n       [  1,  -3],\n       [  9,   2],\n       [ -5,   3],\n       [ -4,   3],\n       [  5,  -4],\n       [  4,   2],\n       [  4,   9],\n       [ -1,  -3],\n       [ -4,  -4],\n       [  0,   1],\n       [  1,   4],\n       [  0,   7],\n       [ -1,  13],\n       [  3,  -4],\n       [ -5,   2],\n       [ -1,   3],\n       [  2,   0],\n       [ -4,  -7],\n       [ -2,   4],\n       [  1,  -6],\n       [  0,   1],\n       [ -4,   0],\n       [  0,  -5]])"
     },
     "execution_count": 59,
     "metadata": {},
     "output_type": "execute_result"
    },
    {
     "data": {
      "text/plain": "<Figure size 432x288 with 1 Axes>",
      "image/png": "[encoded data removed]"
     },
     "metadata": {
      "needs_background": "light"
     },
     "output_type": "display_data"
    }
   ],
   "source": [
    "rng = np.random.RandomState(42)\n",
    "\n",
    "# Generate train data\n",
    "X = 5 * rng.randn(100, 2)\n",
    "X = X.astype(int)\n",
    "X_1 = X + 50\n",
    "X_2 = X + 100\n",
    "X_3 = np.c_[X[:,0] + 50, X[:,1] + 100]\n",
    "X_train = np.r_[(X_1, X_2, X_3)]\n",
    "plt.scatter(X_train[:, 0], X_train[:, 1])\n",
    "X"
   ],
   "metadata": {
    "collapsed": false,
    "pycharm": {
     "name": "#%%\n"
    }
   }
  },
  {
   "cell_type": "code",
   "execution_count": null,
   "outputs": [],
   "source": [
    "rng = np.random.RandomState(42)\n",
    "\n",
    "# Generate train data\n",
    "X = 0.3 * rng.randn(100, 2)\n",
    "X_train = np.r_[X + 2, X - 2]\n",
    "# Generate some regular novel observations\n",
    "X = 0.3 * rng.randn(20, 2)\n",
    "X_test = np.r_[X + 2, X - 2]\n",
    "# Generate some abnormal novel observations\n",
    "X_outliers = rng.uniform(low=-4, high=4, size=(20, 2))\n",
    "\n",
    "# fit the model\n",
    "clf = IsolationForest(max_samples=100, random_state=rng)\n",
    "clf.fit(X_train)\n",
    "y_pred_train = clf.predict(X_train)\n",
    "y_pred_test = clf.predict(X_test)\n",
    "y_pred_outliers = clf.predict(X_outliers)\n",
    "\n",
    "# plot the line, the samples, and the nearest vectors to the plane\n",
    "xx, yy = np.meshgrid(np.linspace(-5, 5, 50), np.linspace(-5, 5, 50))\n",
    "Z = clf.decision_function(np.c_[xx.ravel(), yy.ravel()])\n",
    "Z = Z.reshape(xx.shape)\n",
    "\n",
    "plt.title(\"IsolationForest\")\n",
    "plt.contourf(xx, yy, Z, cmap=plt.cm.Blues_r)\n",
    "\n",
    "b1 = plt.scatter(X_train[:, 0], X_train[:, 1], c=\"white\", s=20, edgecolor=\"k\")\n",
    "b2 = plt.scatter(X_test[:, 0], X_test[:, 1], c=\"green\", s=20, edgecolor=\"k\")\n",
    "c = plt.scatter(X_outliers[:, 0], X_outliers[:, 1], c=\"red\", s=20, edgecolor=\"k\")\n",
    "plt.axis(\"tight\")\n",
    "plt.xlim((-5, 5))\n",
    "plt.ylim((-5, 5))\n",
    "plt.legend(\n",
    "    [b1, b2, c],\n",
    "    [\"training observations\", \"new regular observations\", \"new abnormal observations\"],\n",
    "    loc=\"upper left\",\n",
    ")\n",
    "plt.show()\n",
    "X_train.shape"
   ],
   "metadata": {
    "collapsed": false,
    "pycharm": {
     "name": "#%%\n"
    }
   }
  },
  {
   "cell_type": "code",
   "execution_count": null,
   "outputs": [],
   "source": [],
   "metadata": {
    "collapsed": false,
    "pycharm": {
     "name": "#%%\n"
    }
   }
  }
 ],
 "metadata": {
  "kernelspec": {
   "display_name": "Python 3",
   "language": "python",
   "name": "python3"
  },
  "language_info": {
   "codemirror_mode": {
    "name": "ipython",
    "version": 2
   },
   "file_extension": ".py",
   "mimetype": "text/x-python",
   "name": "python",
   "nbconvert_exporter": "python",
   "pygments_lexer": "ipython2",
   "version": "2.7.6"
  }
 },
 "nbformat": 4,
 "nbformat_minor": 0
}